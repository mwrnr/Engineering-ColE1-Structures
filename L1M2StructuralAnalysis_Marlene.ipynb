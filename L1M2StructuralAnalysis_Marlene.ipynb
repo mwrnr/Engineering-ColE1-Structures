{
 "cells": [
  {
   "cell_type": "markdown",
   "id": "fe382713-b42e-4706-9d56-a877ec4fe9d2",
   "metadata": {
    "tags": []
   },
   "source": [
    "# Structural Analysis pipeline for RNAI libraries\n",
    "#### M. Werner - v.01 (11/23)\n",
    "\n",
    "The loops of the hairpins in the RNAI play a crucial role in binding RNAII. These hairpins were already sampled with different seq lengths, however what influence different sizes of stem or loops have. Therefore this analysis is to filter sequences with interesting stem/loop structures."
   ]
  },
  {
   "cell_type": "markdown",
   "id": "332d8f64-3056-4eed-804a-b22ec7298ab6",
   "metadata": {},
   "source": [
    "<a id='xfg'></a>\n",
    "## Contents\n",
    "__Functions to prepare NGS data__\n",
    "* [Packages needed](#packages)\n",
    "* [functions to prepare data](#preparation)\n",
    "* [LoopI parameters](#LoopI_parameter)\n",
    "* [add RNA structure](#add_structure)\n",
    "* [loop & stem ranges](#ranges)\n",
    "\n",
    "__Starting the Analysis of loop and stem__\n",
    "\n",
    "__-> different length Stem__\n",
    "* [create a search set for the Stem + filter seq that match](#searchset_stem)\n",
    "\n",
    "__-> different length Loop__\n",
    "* [create a search set for the Loop + filter seq that match](#searchset_loop)\n",
    "\n",
    "__-> relative length Hairpin__\n",
    "* [calculating the relative lengths of the WT structure & NGS data + implementing in dataframe](#relative_WTStructure)\n",
    "* [filter the seq that have a similar relative structure as the WT](#relative_filterSimilar)\n",
    "* [mapping the diversity of the structures + assigning the seq_number to the structure accordingly](#relative_structAssign)\n"
   ]
  },
  {
   "cell_type": "markdown",
   "id": "6842faa5-2db5-4705-a574-8ddcb139e163",
   "metadata": {},
   "source": [
    "<a id='packages'></a>"
   ]
  },
  {
   "cell_type": "code",
   "execution_count": 1,
   "id": "2e458af3-a3a7-42a1-ae35-9347b430baaf",
   "metadata": {},
   "outputs": [
    {
     "name": "stderr",
     "output_type": "stream",
     "text": [
      "\u001b[32m\u001b[1m  Activating\u001b[22m\u001b[39m new project at `~/Desktop/Diplom/Code for Analysis/RNA_structure_loops/L1_medium2`\n"
     ]
    }
   ],
   "source": [
    "using Pkg\n",
    "Pkg.activate(\"/Users/marlenewerner/Desktop/Diplom/Code for Analysis/RNA_structure_loops/L1_medium2\")"
   ]
  },
  {
   "cell_type": "code",
   "execution_count": 5,
   "id": "a3e66bb9-3049-42b6-8bb2-f2a3965dcb35",
   "metadata": {},
   "outputs": [],
   "source": [
    "## Packages needed to run the data clean up\n",
    "using DataFrames\n",
    "using CSV\n",
    "using FASTX\n",
    "using BioAlignments\n",
    "using BioSequences\n",
    "using Random\n",
    "using StatsBase\n",
    "using StatsPlots\n",
    "using Combinatorics\n",
    "using ViennaRNA\n",
    "using Unitful\n",
    "using Clustering\n",
    "using PlotRNA\n",
    "using DelimitedFiles"
   ]
  },
  {
   "cell_type": "markdown",
   "id": "0d5980ed-3863-4d55-a1f5-50ecb4ce3c4f",
   "metadata": {},
   "source": [
    "<a id='preparation'></a>"
   ]
  },
  {
   "cell_type": "code",
   "execution_count": 6,
   "id": "e6466de9-8c1a-4c7c-b7d8-4d0d4e0c7048",
   "metadata": {},
   "outputs": [
    {
     "data": {
      "text/plain": [
       "\"Old_medium_Loop1_rc.fasta\""
      ]
     },
     "execution_count": 6,
     "metadata": {},
     "output_type": "execute_result"
    }
   ],
   "source": [
    "file_name = \"Old_medium_Loop1_rc.fasta\""
   ]
  },
  {
   "cell_type": "code",
   "execution_count": 7,
   "id": "758ed4ad-a596-4d03-89ce-ed91afbe4d9c",
   "metadata": {},
   "outputs": [
    {
     "data": {
      "text/plain": [
       "clustering_errors (generic function with 1 method)"
      ]
     },
     "execution_count": 7,
     "metadata": {},
     "output_type": "execute_result"
    }
   ],
   "source": [
    "## All functions are summarised here for clarity and code efficiency\n",
    "\n",
    "# Load FASTA file as an Array of String\n",
    "function load_fasta_file(file_name::String)\n",
    "    R0 = []\n",
    "    reader = FASTA.Reader(open(file_name, \"r\"))\n",
    "    for record in reader\n",
    "        push!(R0, convert(String, FASTA.sequence(record)))\n",
    "    end\n",
    "    close(reader)\n",
    "    return R0\n",
    "end\n",
    "\n",
    "# Uses string patterns to isolate LoopI relevant sequences\n",
    "function isolate_hairpin(File::String, upstream::String, downstream::String)\n",
    "    full_seq = []\n",
    "    all_seq = load_fasta_file(File)\n",
    "\n",
    "    for n = 1:size(all_seq, 1)\n",
    "        if occursin(upstream, all_seq[n]) && occursin(downstream, all_seq[n]) # looks for sequences that have both sequences\n",
    "            edge1 = findfirst(upstream, all_seq[n])[end] # finds the beginning of stem 1\n",
    "            edge2 = findfirst(downstream, all_seq[n])[1] # finds the end of stem 1\n",
    "            # the processing above must always be checked to ensure single base duplication or\n",
    "            # deletion is not being accidentally introduced \n",
    "    \n",
    "            new_seq = all_seq[n][edge1:edge2]\n",
    "            if new_seq != \"\"\n",
    "                push!(full_seq, new_seq) # pushes non-empty sequences into a set\n",
    "            end\n",
    "        end\n",
    "    end\n",
    "\n",
    "    return full_seq\n",
    "end    \n",
    "\n",
    "# used to convert individual NGS reads into a table containing the counts of individual sequences\n",
    "function instance_to_count(library, wild_type)\n",
    "    # Converts the data to a dictionary to allow de-duplication\n",
    "    NGS_processing = Dict{String, Int64}()\n",
    "    NGS_clean = DataFrame([[],[],[],[], []],[\"Sequence_number\", \"LoopI\", \"Loop_length\", \"Count\", \"WT\"])\n",
    "\n",
    "    for i = 1: size(library, 1) # de-duplication process\n",
    "        if haskey(NGS_processing, library[i])\n",
    "            NGS_processing[library[i]] += 1\n",
    "        else\n",
    "            NGS_processing[library[i]] = 1\n",
    "        end\n",
    "    end\n",
    "\n",
    "    # Remaps the dictionary to a DataFrame for subsequent analysis\n",
    "    for (key, value) ∈ NGS_processing   # converts dictionary to DataFrame\n",
    "        entry = DataFrame([[0], [key], [length(key)], [value], [\"false\"]], [\"Sequence_number\", \"LoopI\", \"Loop_length\", \"Count\", \"WT\"])\n",
    "        append!(NGS_clean, entry)\n",
    "    end\n",
    "    \n",
    "    sort!(NGS_clean, :Count, rev=true)\n",
    "    \n",
    "    ## Identifies the WT sequence\n",
    "    for n = 1:size(NGS_clean, 1)\n",
    "    NGS_clean.Sequence_number[n] = n\n",
    "        if NGS_clean.LoopI[n] == wild_type\n",
    "            NGS_clean.WT[n] = \"WT\"\n",
    "        end\n",
    "    end\n",
    "    \n",
    "    return NGS_clean\n",
    "end\n",
    "\n",
    "# Generates all possible variants within a given Hamming distance\n",
    "function hamming(sequence::String, distance::Int)\n",
    "    output = [] # creates a space for output\n",
    "    new_entry = []\n",
    "    bases = ['A', 'C', 'G', 'T']\n",
    "   \n",
    "\n",
    "    # calculating all sequences to be searched\n",
    "    positions = collect(combinations(collect(UnitRange(1, length(sequence))), distance)) # generates all the positions\n",
    "    variants = collect(multiset_permutations(bases, [distance,distance,distance,distance], distance)) # generates all the nucleobase variants\n",
    "\n",
    "    for i = 1: size(positions, 1)\n",
    "        for j = 1: size(variants, 1)\n",
    "            new_entry = collect(sequence)\n",
    "            for x = 1: distance\n",
    "                new_entry[positions[i][x]] = variants[j][x]\n",
    "            end\n",
    "            push!(output, join(new_entry))\n",
    "        end\n",
    "    end\n",
    "\n",
    "\n",
    "    #return output\n",
    "    return unique(output)\n",
    "end\n",
    "\n",
    "# Takes the processed NGS DataFrame and uses a frequency-based algorithm to remove possible sequencing errors\n",
    "# and the wild-type from the DataFrame\n",
    "function clustering_errors(start_library, wildtype, subst_rate)\n",
    "    for i = 1: size(start_library, 1)\n",
    "        if start_library.WT[i] == \"WT\"\n",
    "            seed_seq = start_library.Sequence_number[i]\n",
    "            close_neighbour = hamming(wildtype, 1)\n",
    "        \n",
    "            for j = (seed_seq+1): size(start_library, 1)\n",
    "                if start_library.LoopI[j] ∈ close_neighbour && start_library.Count[j] <= (subst_rate * start_library.Count[seed_seq]) \n",
    "                    start_library.WT[j] = \"counted\"\n",
    "                    start_library.Count[seed_seq] += start_library.Count[j]\n",
    "                end\n",
    "            end\n",
    "        \n",
    "        elseif start_library.WT[i] == \"false\" && start_library.Count[i] * subst_rate >= 1.0\n",
    "            seed_seq = start_library.Sequence_number[i]\n",
    "            close_neighbour = hamming(start_library.LoopI[i], 1)\n",
    "        \n",
    "            for j = seed_seq+1:size(start_library, 1)\n",
    "                if start_library.LoopI[j] ∈ close_neighbour && start_library.Count[j] <= (subst_rate * start_library.Count[seed_seq]) \n",
    "                    start_library.WT[j] = \"counted\"\n",
    "                    start_library.Count[seed_seq] += start_library.Count[j]\n",
    "                end\n",
    "            end\n",
    "        end\n",
    "    end\n",
    "\n",
    "    Clustered = filter(:WT => x -> x == \"false\", start_library)\n",
    "    return Clustered\n",
    "end  "
   ]
  },
  {
   "cell_type": "markdown",
   "id": "21c3fcea-de8f-418a-b0b1-39dd7772810c",
   "metadata": {},
   "source": [
    "<a id='LoopI_parameter'></a>"
   ]
  },
  {
   "cell_type": "code",
   "execution_count": 8,
   "id": "ea1c67a0-1dbd-47da-980f-cf1aa1f7df26",
   "metadata": {},
   "outputs": [
    {
     "data": {
      "text/plain": [
       "\"1-4-1-10-5-10-1-4-1\""
      ]
     },
     "execution_count": 8,
     "metadata": {},
     "output_type": "execute_result"
    }
   ],
   "source": [
    "## Loop1 parameters\n",
    "upstream = \"CGTAATCTGCTGCTTGCAAA\"\n",
    "downstream = \"CGGATCAAGAG\"\n",
    "wildtype = \"ACAAAAAAACCACCGCTACCAGCGGTGGTTTGTTTGCC\"\n",
    "WT_structure = \".((((.((((((((((.....)))))))))).)))).\"\n",
    "wild_type_pattern = \"1-4-1-10-5-10-1-4-1\""
   ]
  },
  {
   "cell_type": "code",
   "execution_count": 9,
   "id": "a688e75d-f8cc-4d5f-ae7d-ba54525a6eb5",
   "metadata": {},
   "outputs": [
    {
     "data": {
      "text/plain": [
       "\"GGATCAAGAGCTACCAACTCTTTTTCCGAAGGTAACTGGCTTCAGCAGAGCGCAGATACCAAATACTGT\""
      ]
     },
     "execution_count": 9,
     "metadata": {},
     "output_type": "execute_result"
    }
   ],
   "source": [
    "## Loading the folding parameters for ViennaRNA\n",
    "ViennaRNA.params_load_RNA_Langdon2018()\n",
    "\n",
    "## Sequence missing from LoopI to generate the full-length RNAI\n",
    "downstream_RNAI = \"GGATCAAGAGCTACCAACTCTTTTTCCGAAGGTAACTGGCTTCAGCAGAGCGCAGATACCAAATACTGT\""
   ]
  },
  {
   "cell_type": "markdown",
   "id": "6108356c-7418-4326-ab0c-95545995905a",
   "metadata": {},
   "source": [
    "<a id='add_structure'></a>"
   ]
  },
  {
   "cell_type": "code",
   "execution_count": 10,
   "id": "3bf099b3-782e-4916-8ce2-311a0b4e5c78",
   "metadata": {},
   "outputs": [
    {
     "data": {
      "text/plain": [
       "rna_details (generic function with 1 method)"
      ]
     },
     "execution_count": 10,
     "metadata": {},
     "output_type": "execute_result"
    }
   ],
   "source": [
    "## All functions are summarised here for clarity and code efficiency\n",
    "\n",
    "# generating structural data \n",
    "function rna_details(dataframe::DataFrame, downstream::String)\n",
    "    Loop_structure = DataFrame([String[],String[], Float32[], Float32[]],[\"LoopI\", \"MFE_structure\",\"MFE_energy\",\"Mbp_dist\"])\n",
    "    for n = 1: size(dataframe, 1)\n",
    "        new_loop = dataframe.LoopI[n] * downstream\n",
    "        new_fold = FoldCompound(new_loop; temperature=37u\"°C\", uniq_ML=false, circular=false);\n",
    "        partfn(new_fold)\n",
    "        new_mfe = mfe(new_fold)\n",
    "        new_bpdis = mean_bp_distance(new_fold)\n",
    "        \n",
    "        push!(Loop_structure, (dataframe.LoopI[n], new_mfe[1], ustrip(new_mfe[2]), new_bpdis))\n",
    "        finalize(new_fold)\n",
    "    end\n",
    "    dataframe = innerjoin(dataframe, Loop_structure, on = :LoopI);\n",
    "    insertcols!(dataframe, :Seq_Cluster => 0, :Str_Cluster => 0)\n",
    "    return dataframe\n",
    "end\n"
   ]
  },
  {
   "cell_type": "markdown",
   "id": "be1bc313-4302-47d0-a043-6555878db62d",
   "metadata": {},
   "source": [
    "<a id='ranges'></a>"
   ]
  },
  {
   "cell_type": "code",
   "execution_count": 11,
   "id": "e82b52ad-e5a0-4e19-98be-2c6cafb47202",
   "metadata": {},
   "outputs": [
    {
     "data": {
      "text/plain": [
       "stem_and_loops (generic function with 1 method)"
      ]
     },
     "execution_count": 11,
     "metadata": {},
     "output_type": "execute_result"
    }
   ],
   "source": [
    "## functions listed here for clarity\n",
    "## function to identify the length of the longest loop and the length of the first stem\n",
    "function loop_ranges(structure::String, minimal_loop::Int64, motif::Char)\n",
    "    result = []\n",
    "    new_range = []\n",
    "    dot = false\n",
    "    ## Runs through a sequence identifying stretches of dots\n",
    "    for n = 1:length(structure)\n",
    "        if n == length(structure) && dot == true && structure[n] == motif\n",
    "            push!(new_range, n)\n",
    "            push!(result, new_range)\n",
    "        elseif n == length(structure) && dot == false && structure[n] == motif\n",
    "            new_range = [n]\n",
    "            push!(new_range, n)\n",
    "            push!(result, new_range)\n",
    "        elseif structure[n] == motif && dot == false\n",
    "            new_range = [n]\n",
    "            dot = true\n",
    "        elseif structure[n] == motif && dot == true\n",
    "            push!(new_range, n)\n",
    "        elseif structure[n] != motif && dot == true\n",
    "            push!(result, new_range)\n",
    "            dot = false\n",
    "            new_range = []\n",
    "        end\n",
    "    end\n",
    "    \n",
    "    ## Removes loops that are too small (e.g. bulges)\n",
    "    for n = size(result, 1):-1:1\n",
    "        if size(result[n], 1) < minimal_loop\n",
    "            deleteat!(result, n)\n",
    "        end\n",
    "    end\n",
    "    \n",
    "    ## Goes through the set of true loops and identifies the underlying ranges of the loops\n",
    "    ranges = []\n",
    "    for n in result\n",
    "        new_seq = []\n",
    "        for i in n\n",
    "            new_seq = n[1]:n[end]\n",
    "        end\n",
    "        push!(ranges, new_seq)\n",
    "    end\n",
    "    \n",
    "    return ranges\n",
    "end  \n",
    "\n",
    "\n",
    "\n",
    "function stem_and_loops(dataset, downstream_RNAI)\n",
    "    key_feature = DataFrame([[],[], []],[\"LoopI\", \"long_stem\", \"long_loop\"])\n",
    "    for n = 1:size(dataset.LoopI, 1)\n",
    "        seq = dataset.MFE_structure[n][1:end-length(downstream_RNAI)]\n",
    "        dots = loop_ranges(seq, 1, '.')\n",
    "    \n",
    "        loop_length = 0\n",
    "        for i in dots\n",
    "            if length(i) > loop_length\n",
    "                loop_length = length(i)\n",
    "            end\n",
    "        end\n",
    "    \n",
    "        stem_open = loop_ranges(seq, 1, '(')\n",
    "        stem_close = loop_ranges(seq, 1, ')')\n",
    "    \n",
    "        stem_length = 0\n",
    "        for j = 1: size(stem_open, 1)\n",
    "            if stem_open != [] && stem_close != []\n",
    "                if stem_open[j][end] < stem_close[1][1]\n",
    "                    stem_length += length(stem_open[j])\n",
    "                end\n",
    "            elseif stem_open != [] && stem_close == []\n",
    "                stem_length += length(stem_open[j])\n",
    "            end\n",
    "        end\n",
    "    \n",
    "        push!(key_feature, (dataset.LoopI[n], stem_length, loop_length))\n",
    "    end\n",
    "    dataset = innerjoin(dataset, key_feature, on = :LoopI)\n",
    "    \n",
    "    return dataset\n",
    "end"
   ]
  },
  {
   "cell_type": "code",
   "execution_count": 12,
   "id": "c61cbcd1-5240-43ea-9792-2471b64113c2",
   "metadata": {},
   "outputs": [
    {
     "data": {
      "text/plain": [
       "find_x_value (generic function with 1 method)"
      ]
     },
     "execution_count": 12,
     "metadata": {},
     "output_type": "execute_result"
    }
   ],
   "source": [
    "# functions to determin the loop (x) or upperStem (y) length in the LoopI description\n",
    "function find_y_range(strings::Vector{String31})\n",
    "    y_values = Set{Int}()\n",
    "\n",
    "    for str in strings\n",
    "        # Extract the y value from the string\n",
    "        match_result = match(r\"1-4-1-\\d+-(\\d+)-\\d+-1-4-1\", str)\n",
    "        \n",
    "        if match_result !== nothing\n",
    "            y_value = parse(Int, match_result.captures[1])\n",
    "            push!(y_values, y_value)\n",
    "        end\n",
    "    end\n",
    "\n",
    "    return y_values\n",
    "end\n",
    "\n",
    "\n",
    "function find_x_values(input::Union{String, Vector{String}})\n",
    "    # Create a set to store unique y values\n",
    "    x_values = Vector{Int}()\n",
    "\n",
    "    if isa(input, String)\n",
    "        # If input is a single string, process it directly\n",
    "        find_x_value(input, x_values)\n",
    "    elseif isa(input, Vector{String})\n",
    "        # If input is a vector of strings, process each string\n",
    "        for str in input\n",
    "            find_x_value(str, x_values)\n",
    "        end\n",
    "    else\n",
    "        throw(ArgumentError(\"Input must be a String or Vector{String}\"))\n",
    "    end\n",
    "\n",
    "    # Return the set of unique x values\n",
    "    return x_values\n",
    "end\n",
    "\n",
    "function find_x_value(str::String, x_values::Vector{Int})\n",
    "    # Extract the x value from the string using a regular expression\n",
    "    match_result = match(r\"1-4-1-(\\d+)-\\d+-\\d+-1-4-1\", str)\n",
    "    \n",
    "    # Check if a match was found\n",
    "    if match_result !== nothing\n",
    "        # Parse the captured y value as an integer\n",
    "        x_value = parse(Int, match_result.captures[1])\n",
    "        if x_value ∉ x_values\n",
    "            # Add the y value to the set\n",
    "            push!(x_values, x_value)\n",
    "        end\n",
    "    end\n",
    "end"
   ]
  },
  {
   "cell_type": "markdown",
   "id": "ca3f973b-cdf9-49eb-b7ae-3b99fa4993bb",
   "metadata": {},
   "source": [
    "## Starting the Analysis of loop and stem\n",
    "\n",
    "__different length Stem__\n",
    "* [create a search set for the Stem + filter seq that match](#searchset_stem)\n",
    "\n",
    "__different length Loop__\n",
    "* [create a search set for the Loop + filter seq that match](#searchset_loop)\n",
    "\n",
    "__relative length hairpin__\n",
    "* [calculating the relative lengths of the WT structure & NGS data + implementing in dataframe](#relative_WTStructure)\n",
    "* [filter the seq that have a similar relative structure as the WT](#relative_filterSimilar)\n",
    "* [mapping the diversity of the structures + assigning the seq_number to the structure accordingly](#relative_structAssign)"
   ]
  },
  {
   "cell_type": "markdown",
   "id": "37957d78-0af0-414e-bb6a-15dd28ebb165",
   "metadata": {},
   "source": [
    "### Taking the structural data of all Sequences without filter of seq length"
   ]
  },
  {
   "cell_type": "code",
   "execution_count": 19,
   "id": "4211ae46-0533-4099-9e12-223874de9469",
   "metadata": {},
   "outputs": [
    {
     "name": "stdout",
     "output_type": "stream",
     "text": [
      "Current Working Directory: /Users/marlenewerner/Desktop/Diplom/Code for Analysis/RNA_structure_loops/L1_medium2\n"
     ]
    }
   ],
   "source": [
    "current_directory = pwd()\n",
    "println(\"Current Working Directory: $current_directory\")"
   ]
  },
  {
   "cell_type": "code",
   "execution_count": 13,
   "id": "1d0f3c55-67b2-4c0f-bc33-34f9babe730a",
   "metadata": {},
   "outputs": [],
   "source": [
    "save_name = \"Processed_\" * file_name[1:end-6] * \".csv\"\n",
    "\n",
    "## Saving results\n",
    "#CSV.write(save_name, lib_analysis)\n",
    "\n",
    "## Opening saved results\n",
    "lib_analysis = CSV.read(save_name, DataFrame);"
   ]
  },
  {
   "cell_type": "code",
   "execution_count": 14,
   "id": "2f1ed313-7e43-4f95-be0c-8d79e970f80d",
   "metadata": {},
   "outputs": [
    {
     "data": {
      "text/plain": [
       "38"
      ]
     },
     "execution_count": 14,
     "metadata": {},
     "output_type": "execute_result"
    }
   ],
   "source": [
    "dfg = \"ACAAAAAAACCACCGCTACCAGCGGTGGTTTGTTTGCC\"\n",
    "length(dfg)"
   ]
  },
  {
   "cell_type": "code",
   "execution_count": 17,
   "id": "a32e7511-1c1b-44ed-a68b-956a242d78c7",
   "metadata": {},
   "outputs": [
    {
     "data": {
      "text/html": [
       "<div><div style = \"float: left;\"><span>1×10 DataFrame</span></div><div style = \"clear: both;\"></div></div><div class = \"data-frame\" style = \"overflow-x: scroll;\"><table class = \"data-frame\" style = \"margin-bottom: 6px;\"><thead><tr class = \"header\"><th class = \"rowNumber\" style = \"font-weight: bold; text-align: right;\">Row</th><th style = \"text-align: left;\">Sequence_number</th><th style = \"text-align: left;\">LoopI</th><th style = \"text-align: left;\">Loop_length</th><th style = \"text-align: left;\">Count</th><th style = \"text-align: left;\">WT</th><th style = \"text-align: left;\">MFE_structure</th><th style = \"text-align: left;\">MFE_energy</th><th style = \"text-align: left;\">Mbp_dist</th><th style = \"text-align: left;\">Seq_Cluster</th><th style = \"text-align: left;\">Str_Cluster</th></tr><tr class = \"subheader headerLastRow\"><th class = \"rowNumber\" style = \"font-weight: bold; text-align: right;\"></th><th title = \"Int64\" style = \"text-align: left;\">Int64</th><th title = \"String\" style = \"text-align: left;\">String</th><th title = \"Int64\" style = \"text-align: left;\">Int64</th><th title = \"Int64\" style = \"text-align: left;\">Int64</th><th title = \"String\" style = \"text-align: left;\">String</th><th title = \"String\" style = \"text-align: left;\">String</th><th title = \"Float32\" style = \"text-align: left;\">Float32</th><th title = \"Float32\" style = \"text-align: left;\">Float32</th><th title = \"Int64\" style = \"text-align: left;\">Int64</th><th title = \"Int64\" style = \"text-align: left;\">Int64</th></tr></thead><tbody><tr><td class = \"rowNumber\" style = \"font-weight: bold; text-align: right;\">1</td><td style = \"text-align: right;\">0</td><td style = \"text-align: left;\">ACAAAAAAACCACCGCTACCAGCGGTGGTTTGTTTGCC</td><td style = \"text-align: right;\">38</td><td style = \"text-align: right;\">47</td><td style = \"text-align: left;\">WT</td><td style = \"text-align: left;\">.((((.((((((((((.....)))))))))).)))).((((..(((((.......)))))..))))..((((.(((((((.....)))).))).)))).........</td><td style = \"text-align: right;\">-41.1</td><td style = \"text-align: right;\">5.30195</td><td style = \"text-align: right;\">0</td><td style = \"text-align: right;\">0</td></tr></tbody></table></div>"
      ],
      "text/latex": [
       "\\begin{tabular}{r|cccccc}\n",
       "\t& Sequence\\_number & LoopI & Loop\\_length & Count & WT & \\\\\n",
       "\t\\hline\n",
       "\t& Int64 & String & Int64 & Int64 & String & \\\\\n",
       "\t\\hline\n",
       "\t1 & 0 & ACAAAAAAACCACCGCTACCAGCGGTGGTTTGTTTGCC & 38 & 47 & WT & $\\dots$ \\\\\n",
       "\\end{tabular}\n"
      ],
      "text/plain": [
       "\u001b[1m1×10 DataFrame\u001b[0m\n",
       "\u001b[1m Row \u001b[0m│\u001b[1m Sequence_number \u001b[0m\u001b[1m LoopI                             \u001b[0m\u001b[1m Loop_length \u001b[0m\u001b[1m Count \u001b[0m\u001b[1m\u001b[0m ⋯\n",
       "     │\u001b[90m Int64           \u001b[0m\u001b[90m String                            \u001b[0m\u001b[90m Int64       \u001b[0m\u001b[90m Int64 \u001b[0m\u001b[90m\u001b[0m ⋯\n",
       "─────┼──────────────────────────────────────────────────────────────────────────\n",
       "   1 │               0  ACAAAAAAACCACCGCTACCAGCGGTGGTTTG…           38     47  ⋯\n",
       "\u001b[36m                                                               6 columns omitted\u001b[0m"
      ]
     },
     "execution_count": 17,
     "metadata": {},
     "output_type": "execute_result"
    }
   ],
   "source": [
    "## Adding structural information to the WT-seq\n",
    "\n",
    "WT_analysis = DataFrame([[0], [wildtype], [length(wildtype)], [47], [\"WT\"]], [\"Sequence_number\", \"LoopI\", \"Loop_length\", \"Count\", \"WT\"])\n",
    "WT_analysis = rna_details(WT_analysis, downstream_RNAI)"
   ]
  },
  {
   "cell_type": "code",
   "execution_count": 22,
   "id": "fc14737b-eca0-4179-8a57-457ad8260a63",
   "metadata": {},
   "outputs": [
    {
     "data": {
      "text/html": [
       "<div><div style = \"float: left;\"><span>44919×10 DataFrame</span></div><div style = \"float: right;\"><span style = \"font-style: italic;\">44894 rows omitted</span></div><div style = \"clear: both;\"></div></div><div class = \"data-frame\" style = \"overflow-x: scroll;\"><table class = \"data-frame\" style = \"margin-bottom: 6px;\"><thead><tr class = \"header\"><th class = \"rowNumber\" style = \"font-weight: bold; text-align: right;\">Row</th><th style = \"text-align: left;\">Sequence_number</th><th style = \"text-align: left;\">LoopI</th><th style = \"text-align: left;\">Loop_length</th><th style = \"text-align: left;\">Count</th><th style = \"text-align: left;\">WT</th><th style = \"text-align: left;\">MFE_structure</th><th style = \"text-align: left;\">MFE_energy</th><th style = \"text-align: left;\">Mbp_dist</th><th style = \"text-align: left;\">Seq_Cluster</th><th style = \"text-align: left;\">Str_Cluster</th></tr><tr class = \"subheader headerLastRow\"><th class = \"rowNumber\" style = \"font-weight: bold; text-align: right;\"></th><th title = \"Int64\" style = \"text-align: left;\">Int64</th><th title = \"String\" style = \"text-align: left;\">String</th><th title = \"Int64\" style = \"text-align: left;\">Int64</th><th title = \"Int64\" style = \"text-align: left;\">Int64</th><th title = \"Any\" style = \"text-align: left;\">Any</th><th title = \"String\" style = \"text-align: left;\">String</th><th title = \"Float64\" style = \"text-align: left;\">Float64</th><th title = \"Float64\" style = \"text-align: left;\">Float64</th><th title = \"Int64\" style = \"text-align: left;\">Int64</th><th title = \"Int64\" style = \"text-align: left;\">Int64</th></tr></thead><tbody><tr><td class = \"rowNumber\" style = \"font-weight: bold; text-align: right;\">1</td><td style = \"text-align: right;\">2</td><td style = \"text-align: left;\">ACAAAAAAACCCGGTGGTTTGTTTGCC</td><td style = \"text-align: right;\">27</td><td style = \"text-align: right;\">115</td><td style = \"text-align: left;\">false</td><td style = \"text-align: left;\">.((((.(((((....))))).)))).((((..(((((.......)))))..))))..((((.(((((((.....)))).))).)))).........</td><td style = \"text-align: right;\">-27.3</td><td style = \"text-align: right;\">5.67717</td><td style = \"text-align: right;\">0</td><td style = \"text-align: right;\">0</td></tr><tr><td class = \"rowNumber\" style = \"font-weight: bold; text-align: right;\">2</td><td style = \"text-align: right;\">3</td><td style = \"text-align: left;\">ACAAAAAAACCTGGTTTGTTTGCC</td><td style = \"text-align: right;\">24</td><td style = \"text-align: right;\">84</td><td style = \"text-align: left;\">false</td><td style = \"text-align: left;\">(((((.........)))))....((((..(((((.......)))))..))))..((((.(((((((.....)))).))).)))).........</td><td style = \"text-align: right;\">-23.6</td><td style = \"text-align: right;\">11.2917</td><td style = \"text-align: right;\">0</td><td style = \"text-align: right;\">0</td></tr><tr><td class = \"rowNumber\" style = \"font-weight: bold; text-align: right;\">3</td><td style = \"text-align: right;\">4</td><td style = \"text-align: left;\">ACAAAAAAACCCGGATGGTTTGTTTGCC</td><td style = \"text-align: right;\">28</td><td style = \"text-align: right;\">70</td><td style = \"text-align: left;\">false</td><td style = \"text-align: left;\">.((((.(((((.....))))).)))).((((..(((((.......)))))..))))..((((.(((((((.....)))).))).)))).........</td><td style = \"text-align: right;\">-27.3</td><td style = \"text-align: right;\">5.19386</td><td style = \"text-align: right;\">0</td><td style = \"text-align: right;\">0</td></tr><tr><td class = \"rowNumber\" style = \"font-weight: bold; text-align: right;\">4</td><td style = \"text-align: right;\">5</td><td style = \"text-align: left;\">ACAAAAAAACCCCTGGTTTGTTTGCC</td><td style = \"text-align: right;\">26</td><td style = \"text-align: right;\">62</td><td style = \"text-align: left;\">false</td><td style = \"text-align: left;\">.((((.(((((...))))).)))).((((..(((((.......)))))..))))..((((.(((((((.....)))).))).)))).........</td><td style = \"text-align: right;\">-25.6</td><td style = \"text-align: right;\">6.13813</td><td style = \"text-align: right;\">0</td><td style = \"text-align: right;\">0</td></tr><tr><td class = \"rowNumber\" style = \"font-weight: bold; text-align: right;\">5</td><td style = \"text-align: right;\">6</td><td style = \"text-align: left;\">ACAAAAAAACCCGGGTGGTTTGTTTGCC</td><td style = \"text-align: right;\">28</td><td style = \"text-align: right;\">61</td><td style = \"text-align: left;\">false</td><td style = \"text-align: left;\">.((((.(((((.....))))).)))).((((..(((((.......)))))..))))..((((.(((((((.....)))).))).)))).........</td><td style = \"text-align: right;\">-27.3</td><td style = \"text-align: right;\">5.46826</td><td style = \"text-align: right;\">0</td><td style = \"text-align: right;\">0</td></tr><tr><td class = \"rowNumber\" style = \"font-weight: bold; text-align: right;\">6</td><td style = \"text-align: right;\">7</td><td style = \"text-align: left;\">ACAAAAAAACCCCCGTGGTTTGTTTGCC</td><td style = \"text-align: right;\">28</td><td style = \"text-align: right;\">37</td><td style = \"text-align: left;\">false</td><td style = \"text-align: left;\">.((((.(((((.....))))).)))).((((..(((((.......)))))..))))..((((.(((((((.....)))).))).)))).........</td><td style = \"text-align: right;\">-27.3</td><td style = \"text-align: right;\">5.12789</td><td style = \"text-align: right;\">0</td><td style = \"text-align: right;\">0</td></tr><tr><td class = \"rowNumber\" style = \"font-weight: bold; text-align: right;\">7</td><td style = \"text-align: right;\">8</td><td style = \"text-align: left;\">ACAAAAAAACCCTGGTTTGTTTGCC</td><td style = \"text-align: right;\">25</td><td style = \"text-align: right;\">34</td><td style = \"text-align: left;\">false</td><td style = \"text-align: left;\">(((((..........)))))....((((..(((((.......)))))..))))..((((.(((((((.....)))).))).)))).........</td><td style = \"text-align: right;\">-23.6</td><td style = \"text-align: right;\">11.761</td><td style = \"text-align: right;\">0</td><td style = \"text-align: right;\">0</td></tr><tr><td class = \"rowNumber\" style = \"font-weight: bold; text-align: right;\">8</td><td style = \"text-align: right;\">9</td><td style = \"text-align: left;\">ACAAAAAAACCGGTTTGTTTGCC</td><td style = \"text-align: right;\">23</td><td style = \"text-align: right;\">25</td><td style = \"text-align: left;\">false</td><td style = \"text-align: left;\">(((((........)))))....((((..(((((.......)))))..))))..((((.(((((((.....)))).))).)))).........</td><td style = \"text-align: right;\">-23.6</td><td style = \"text-align: right;\">11.6461</td><td style = \"text-align: right;\">0</td><td style = \"text-align: right;\">0</td></tr><tr><td class = \"rowNumber\" style = \"font-weight: bold; text-align: right;\">9</td><td style = \"text-align: right;\">10</td><td style = \"text-align: left;\">ACAAAAAAACCCCCGTTGGTTTGTTTGCC</td><td style = \"text-align: right;\">29</td><td style = \"text-align: right;\">22</td><td style = \"text-align: left;\">false</td><td style = \"text-align: left;\">.((((.(((((......))))).)))).((((..(((((.......)))))..))))..((((.(((((((.....)))).))).)))).........</td><td style = \"text-align: right;\">-27.3</td><td style = \"text-align: right;\">7.37865</td><td style = \"text-align: right;\">0</td><td style = \"text-align: right;\">0</td></tr><tr><td class = \"rowNumber\" style = \"font-weight: bold; text-align: right;\">10</td><td style = \"text-align: right;\">11</td><td style = \"text-align: left;\">ACAAAAAAACCTATCATGGTTTGTTTGCC</td><td style = \"text-align: right;\">29</td><td style = \"text-align: right;\">21</td><td style = \"text-align: left;\">false</td><td style = \"text-align: left;\">.((((.(((((......))))).)))).((((..(((((.......)))))..))))..((((.(((((((.....)))).))).)))).........</td><td style = \"text-align: right;\">-28.6</td><td style = \"text-align: right;\">4.91599</td><td style = \"text-align: right;\">0</td><td style = \"text-align: right;\">0</td></tr><tr><td class = \"rowNumber\" style = \"font-weight: bold; text-align: right;\">11</td><td style = \"text-align: right;\">12</td><td style = \"text-align: left;\">ACAAAAAAACCCTCCATGGTTTGTTTGCC</td><td style = \"text-align: right;\">29</td><td style = \"text-align: right;\">20</td><td style = \"text-align: left;\">false</td><td style = \"text-align: left;\">.((((.(((((......))))).)))).((((..(((((.......)))))..))))..((((.(((((((.....)))).))).)))).........</td><td style = \"text-align: right;\">-27.3</td><td style = \"text-align: right;\">5.41005</td><td style = \"text-align: right;\">0</td><td style = \"text-align: right;\">0</td></tr><tr><td class = \"rowNumber\" style = \"font-weight: bold; text-align: right;\">12</td><td style = \"text-align: right;\">13</td><td style = \"text-align: left;\">ACAAAAAACCACCGCTACCAGCGGTGGTTTGTTTGCC</td><td style = \"text-align: right;\">37</td><td style = \"text-align: right;\">18</td><td style = \"text-align: left;\">false</td><td style = \"text-align: left;\">.((((((((((((((.....)))))))))).)))).((((..(((((.......)))))..))))..((((.(((((((.....)))).))).)))).........</td><td style = \"text-align: right;\">-39.8</td><td style = \"text-align: right;\">6.64129</td><td style = \"text-align: right;\">0</td><td style = \"text-align: right;\">0</td></tr><tr><td class = \"rowNumber\" style = \"font-weight: bold; text-align: right;\">13</td><td style = \"text-align: right;\">14</td><td style = \"text-align: left;\">ACAAAAAAACCGATACTGTAAATCAATGGTTTGTTTGCC</td><td style = \"text-align: right;\">39</td><td style = \"text-align: right;\">17</td><td style = \"text-align: left;\">false</td><td style = \"text-align: left;\">.((((.(((((................))))).)))).((((..(((((.......)))))..))))..((((.(((((((.....)))).))).)))).........</td><td style = \"text-align: right;\">-28.0</td><td style = \"text-align: right;\">6.63798</td><td style = \"text-align: right;\">0</td><td style = \"text-align: right;\">0</td></tr><tr><td style = \"text-align: right;\">&vellip;</td><td style = \"text-align: right;\">&vellip;</td><td style = \"text-align: right;\">&vellip;</td><td style = \"text-align: right;\">&vellip;</td><td style = \"text-align: right;\">&vellip;</td><td style = \"text-align: right;\">&vellip;</td><td style = \"text-align: right;\">&vellip;</td><td style = \"text-align: right;\">&vellip;</td><td style = \"text-align: right;\">&vellip;</td><td style = \"text-align: right;\">&vellip;</td><td style = \"text-align: right;\">&vellip;</td></tr><tr><td class = \"rowNumber\" style = \"font-weight: bold; text-align: right;\">44908</td><td style = \"text-align: right;\">44953</td><td style = \"text-align: left;\">ACAAAAAACCCTCCTGTGTCAAACGTGGTTTGTTTGCC</td><td style = \"text-align: right;\">38</td><td style = \"text-align: right;\">1</td><td style = \"text-align: left;\">false</td><td style = \"text-align: left;\">(((..((((...((.((.....))..))...))))..((((..(((((.......)))))..))))..((((.(((((((.....)))).))).))))......)))</td><td style = \"text-align: right;\">-26.8</td><td style = \"text-align: right;\">14.1877</td><td style = \"text-align: right;\">0</td><td style = \"text-align: right;\">0</td></tr><tr><td class = \"rowNumber\" style = \"font-weight: bold; text-align: right;\">44909</td><td style = \"text-align: right;\">44954</td><td style = \"text-align: left;\">ACAAAAAAACCTCTTAGATTGTATAATGGTTTGTTTGCC</td><td style = \"text-align: right;\">39</td><td style = \"text-align: right;\">1</td><td style = \"text-align: left;\">false</td><td style = \"text-align: left;\">.((((.(((((................))))).)))).((((..(((((.......)))))..))))..((((.(((((((.....)))).))).)))).........</td><td style = \"text-align: right;\">-28.6</td><td style = \"text-align: right;\">5.3659</td><td style = \"text-align: right;\">0</td><td style = \"text-align: right;\">0</td></tr><tr><td class = \"rowNumber\" style = \"font-weight: bold; text-align: right;\">44910</td><td style = \"text-align: right;\">44955</td><td style = \"text-align: left;\">ACAAACAAACCCCGGGGCTATGCATTTGGTTTGTTTGCC</td><td style = \"text-align: right;\">39</td><td style = \"text-align: right;\">1</td><td style = \"text-align: left;\">false</td><td style = \"text-align: left;\">.((((((((((................)))))))))).((((..(((((.......)))))..))))..((((.(((((((.....)))).))).)))).........</td><td style = \"text-align: right;\">-33.6</td><td style = \"text-align: right;\">4.24505</td><td style = \"text-align: right;\">0</td><td style = \"text-align: right;\">0</td></tr><tr><td class = \"rowNumber\" style = \"font-weight: bold; text-align: right;\">44911</td><td style = \"text-align: right;\">44956</td><td style = \"text-align: left;\">ACAAAAAAACCCTGTAAAGGGTGTGGTGGTTTGTTTGCC</td><td style = \"text-align: right;\">39</td><td style = \"text-align: right;\">1</td><td style = \"text-align: left;\">false</td><td style = \"text-align: left;\">(((.....(((((....)))))..(((((.....)))))(((..(((((.......)))))..)))...((((.(((((((.....)))).))).))))......)))</td><td style = \"text-align: right;\">-33.3</td><td style = \"text-align: right;\">7.17613</td><td style = \"text-align: right;\">0</td><td style = \"text-align: right;\">0</td></tr><tr><td class = \"rowNumber\" style = \"font-weight: bold; text-align: right;\">44912</td><td style = \"text-align: right;\">44957</td><td style = \"text-align: left;\">ACAAAAAAACCCTACACATTCACCTGTGGTTTGTTTGCC</td><td style = \"text-align: right;\">39</td><td style = \"text-align: right;\">1</td><td style = \"text-align: left;\">false</td><td style = \"text-align: left;\">(((...((((....((((......))))....))))..((((..(((((.......)))))..))))..((((.(((((((.....)))).))).))))......)))</td><td style = \"text-align: right;\">-28.7</td><td style = \"text-align: right;\">11.3692</td><td style = \"text-align: right;\">0</td><td style = \"text-align: right;\">0</td></tr><tr><td class = \"rowNumber\" style = \"font-weight: bold; text-align: right;\">44913</td><td style = \"text-align: right;\">44958</td><td style = \"text-align: left;\">ACAAAAAAACCTCACCAGCAGCAAAATGGTTTGTTTGCC</td><td style = \"text-align: right;\">39</td><td style = \"text-align: right;\">1</td><td style = \"text-align: left;\">false</td><td style = \"text-align: left;\">...............(((..(((((........)))))((((..(((((.......)))))..))))..((((.(((((((.....)))).))).)))).....))).</td><td style = \"text-align: right;\">-28.7</td><td style = \"text-align: right;\">14.7099</td><td style = \"text-align: right;\">0</td><td style = \"text-align: right;\">0</td></tr><tr><td class = \"rowNumber\" style = \"font-weight: bold; text-align: right;\">44914</td><td style = \"text-align: right;\">44959</td><td style = \"text-align: left;\">ACAAAAAAACCCTTACTCGTGCCCGTTGGTTTGTTTGCC</td><td style = \"text-align: right;\">39</td><td style = \"text-align: right;\">1</td><td style = \"text-align: left;\">false</td><td style = \"text-align: left;\">.((((.(((((................))))).)))).((((..(((((.......)))))..))))..((((.(((((((.....)))).))).)))).........</td><td style = \"text-align: right;\">-27.3</td><td style = \"text-align: right;\">9.05139</td><td style = \"text-align: right;\">0</td><td style = \"text-align: right;\">0</td></tr><tr><td class = \"rowNumber\" style = \"font-weight: bold; text-align: right;\">44915</td><td style = \"text-align: right;\">44960</td><td style = \"text-align: left;\">ACAAAAAAACCCCCGATTGTATTGCATGGTTTGTTTGCC</td><td style = \"text-align: right;\">39</td><td style = \"text-align: right;\">1</td><td style = \"text-align: left;\">false</td><td style = \"text-align: left;\">..................((((((((.........)))((((..(((((.......)))))..))))..((((.(((((((.....)))).))).)))).)))))...</td><td style = \"text-align: right;\">-27.8</td><td style = \"text-align: right;\">12.4171</td><td style = \"text-align: right;\">0</td><td style = \"text-align: right;\">0</td></tr><tr><td class = \"rowNumber\" style = \"font-weight: bold; text-align: right;\">44916</td><td style = \"text-align: right;\">44961</td><td style = \"text-align: left;\">ACAAAAAAACCAGGTATGTGTAACCTGGTTTGTTTGCC</td><td style = \"text-align: right;\">38</td><td style = \"text-align: right;\">1</td><td style = \"text-align: left;\">false</td><td style = \"text-align: left;\">.((((.(((((((((.......))))))))).)))).((((..(((((.......)))))..))))..((((.(((((((.....)))).))).)))).........</td><td style = \"text-align: right;\">-36.7</td><td style = \"text-align: right;\">5.09572</td><td style = \"text-align: right;\">0</td><td style = \"text-align: right;\">0</td></tr><tr><td class = \"rowNumber\" style = \"font-weight: bold; text-align: right;\">44917</td><td style = \"text-align: right;\">44962</td><td style = \"text-align: left;\">ACAAAAAAACCACACGTATACCCGTGTGGTTTGTTTGCC</td><td style = \"text-align: right;\">39</td><td style = \"text-align: right;\">1</td><td style = \"text-align: left;\">false</td><td style = \"text-align: left;\">.((((.((((((((((......)))))))))).)))).((((..(((((.......)))))..))))..((((.(((((((.....)))).))).)))).........</td><td style = \"text-align: right;\">-38.5</td><td style = \"text-align: right;\">4.99163</td><td style = \"text-align: right;\">0</td><td style = \"text-align: right;\">0</td></tr><tr><td class = \"rowNumber\" style = \"font-weight: bold; text-align: right;\">44918</td><td style = \"text-align: right;\">44963</td><td style = \"text-align: left;\">ACAAAAAAACCTAAACATAACGGTATTGGTTTGTTTGCC</td><td style = \"text-align: right;\">39</td><td style = \"text-align: right;\">1</td><td style = \"text-align: left;\">false</td><td style = \"text-align: left;\">...................(((((((((((......)))(((..(((((.......)))))..)))...((((.(((((((.....)))).))).)))).))))))))</td><td style = \"text-align: right;\">-29.5</td><td style = \"text-align: right;\">15.8766</td><td style = \"text-align: right;\">0</td><td style = \"text-align: right;\">0</td></tr><tr><td class = \"rowNumber\" style = \"font-weight: bold; text-align: right;\">44919</td><td style = \"text-align: right;\">0</td><td style = \"text-align: left;\">ACAAAAAAACCACCGCTACCAGCGGTGGTTTGTTTGCC</td><td style = \"text-align: right;\">38</td><td style = \"text-align: right;\">47</td><td style = \"text-align: left;\">WT</td><td style = \"text-align: left;\">.((((.((((((((((.....)))))))))).)))).((((..(((((.......)))))..))))..((((.(((((((.....)))).))).)))).........</td><td style = \"text-align: right;\">-41.1</td><td style = \"text-align: right;\">5.30195</td><td style = \"text-align: right;\">0</td><td style = \"text-align: right;\">0</td></tr></tbody></table></div>"
      ],
      "text/latex": [
       "\\begin{tabular}{r|cccccc}\n",
       "\t& Sequence\\_number & LoopI & Loop\\_length & Count & WT & \\\\\n",
       "\t\\hline\n",
       "\t& Int64 & String & Int64 & Int64 & Any & \\\\\n",
       "\t\\hline\n",
       "\t1 & 2 & ACAAAAAAACCCGGTGGTTTGTTTGCC & 27 & 115 & 0 & $\\dots$ \\\\\n",
       "\t2 & 3 & ACAAAAAAACCTGGTTTGTTTGCC & 24 & 84 & 0 & $\\dots$ \\\\\n",
       "\t3 & 4 & ACAAAAAAACCCGGATGGTTTGTTTGCC & 28 & 70 & 0 & $\\dots$ \\\\\n",
       "\t4 & 5 & ACAAAAAAACCCCTGGTTTGTTTGCC & 26 & 62 & 0 & $\\dots$ \\\\\n",
       "\t5 & 6 & ACAAAAAAACCCGGGTGGTTTGTTTGCC & 28 & 61 & 0 & $\\dots$ \\\\\n",
       "\t6 & 7 & ACAAAAAAACCCCCGTGGTTTGTTTGCC & 28 & 37 & 0 & $\\dots$ \\\\\n",
       "\t7 & 8 & ACAAAAAAACCCTGGTTTGTTTGCC & 25 & 34 & 0 & $\\dots$ \\\\\n",
       "\t8 & 9 & ACAAAAAAACCGGTTTGTTTGCC & 23 & 25 & 0 & $\\dots$ \\\\\n",
       "\t9 & 10 & ACAAAAAAACCCCCGTTGGTTTGTTTGCC & 29 & 22 & 0 & $\\dots$ \\\\\n",
       "\t10 & 11 & ACAAAAAAACCTATCATGGTTTGTTTGCC & 29 & 21 & 0 & $\\dots$ \\\\\n",
       "\t11 & 12 & ACAAAAAAACCCTCCATGGTTTGTTTGCC & 29 & 20 & 0 & $\\dots$ \\\\\n",
       "\t12 & 13 & ACAAAAAACCACCGCTACCAGCGGTGGTTTGTTTGCC & 37 & 18 & 0 & $\\dots$ \\\\\n",
       "\t13 & 14 & ACAAAAAAACCGATACTGTAAATCAATGGTTTGTTTGCC & 39 & 17 & 0 & $\\dots$ \\\\\n",
       "\t14 & 15 & ACAAAAAAACCACCGCTACCAGCAGTGGTTTGTTTGCC & 38 & 17 & 0 & $\\dots$ \\\\\n",
       "\t15 & 16 & ACAAAAAAACCCTCCGTGGTTTGTTTGCC & 29 & 17 & 0 & $\\dots$ \\\\\n",
       "\t16 & 17 & ACAAAAAAACCGGCGGTGGTTTGTTTGCC & 29 & 16 & 0 & $\\dots$ \\\\\n",
       "\t17 & 18 & ACAAAAAAACCACTTCCAATCGGAGGTGGTTTGTTTGCC & 39 & 16 & 0 & $\\dots$ \\\\\n",
       "\t18 & 19 & ACAAAAAAACCCCCCATGGTTTGTTTGCC & 29 & 15 & 0 & $\\dots$ \\\\\n",
       "\t19 & 20 & ACAAAAAAACCCTCCTTGGTTTGTTTGCC & 29 & 14 & 0 & $\\dots$ \\\\\n",
       "\t20 & 21 & ACAAAAAAACCGCCACTGGTTTGTTTGCC & 29 & 14 & 0 & $\\dots$ \\\\\n",
       "\t21 & 22 & ACAAAAAAACCTAACATGGTTTGTTTGCC & 29 & 13 & 0 & $\\dots$ \\\\\n",
       "\t22 & 23 & ACAAAAAAACCCTGGTCAGCACGTTATGGTTTGTTTGCC & 39 & 12 & 0 & $\\dots$ \\\\\n",
       "\t23 & 24 & ACAAAAAAACCAGTCTTAGACTGGTTTGTTTGCC & 34 & 12 & 0 & $\\dots$ \\\\\n",
       "\t24 & 26 & ACAAAAAAACCCCCTGGTTTGTTTGCC & 27 & 11 & 0 & $\\dots$ \\\\\n",
       "\t25 & 27 & ACAAAAAAACCCTCTAAGTTAGAGGGTGGTTTGTTTGCC & 39 & 11 & 0 & $\\dots$ \\\\\n",
       "\t26 & 28 & ACAAAAAAACCCTATAGCGAATATGGTTTGTTTGCC & 36 & 11 & 0 & $\\dots$ \\\\\n",
       "\t27 & 29 & ACAAAAAAACCCGGGTTGGTTTGTTTGCC & 29 & 11 & 0 & $\\dots$ \\\\\n",
       "\t28 & 30 & ACAAAAAAACCAGTGCTTTCTCAGACTGGTTTGTTTGCC & 39 & 11 & 0 & $\\dots$ \\\\\n",
       "\t29 & 31 & ACAAAAAAACCCGTGGTTTGTTTGCC & 26 & 10 & 0 & $\\dots$ \\\\\n",
       "\t30 & 32 & ACAAAAAAACCTACCATGGTTTGTTTGCC & 29 & 10 & 0 & $\\dots$ \\\\\n",
       "\t$\\dots$ & $\\dots$ & $\\dots$ & $\\dots$ & $\\dots$ & $\\dots$ &  \\\\\n",
       "\\end{tabular}\n"
      ],
      "text/plain": [
       "\u001b[1m44919×10 DataFrame\u001b[0m\n",
       "\u001b[1m   Row \u001b[0m│\u001b[1m Sequence_number \u001b[0m\u001b[1m LoopI                             \u001b[0m\u001b[1m Loop_length \u001b[0m\u001b[1m Coun\u001b[0m ⋯\n",
       "       │\u001b[90m Int64           \u001b[0m\u001b[90m String                            \u001b[0m\u001b[90m Int64       \u001b[0m\u001b[90m Int6\u001b[0m ⋯\n",
       "───────┼────────────────────────────────────────────────────────────────────────\n",
       "     1 │               2  ACAAAAAAACCCGGTGGTTTGTTTGCC                 27    11 ⋯\n",
       "     2 │               3  ACAAAAAAACCTGGTTTGTTTGCC                    24     8\n",
       "     3 │               4  ACAAAAAAACCCGGATGGTTTGTTTGCC                28     7\n",
       "     4 │               5  ACAAAAAAACCCCTGGTTTGTTTGCC                  26     6\n",
       "     5 │               6  ACAAAAAAACCCGGGTGGTTTGTTTGCC                28     6 ⋯\n",
       "     6 │               7  ACAAAAAAACCCCCGTGGTTTGTTTGCC                28     3\n",
       "     7 │               8  ACAAAAAAACCCTGGTTTGTTTGCC                   25     3\n",
       "     8 │               9  ACAAAAAAACCGGTTTGTTTGCC                     23     2\n",
       "     9 │              10  ACAAAAAAACCCCCGTTGGTTTGTTTGCC               29     2 ⋯\n",
       "    10 │              11  ACAAAAAAACCTATCATGGTTTGTTTGCC               29     2\n",
       "    11 │              12  ACAAAAAAACCCTCCATGGTTTGTTTGCC               29     2\n",
       "   ⋮   │        ⋮                         ⋮                       ⋮         ⋮  ⋱\n",
       " 44910 │           44955  ACAAACAAACCCCGGGGCTATGCATTTGGTTT…           39\n",
       " 44911 │           44956  ACAAAAAAACCCTGTAAAGGGTGTGGTGGTTT…           39       ⋯\n",
       " 44912 │           44957  ACAAAAAAACCCTACACATTCACCTGTGGTTT…           39\n",
       " 44913 │           44958  ACAAAAAAACCTCACCAGCAGCAAAATGGTTT…           39\n",
       " 44914 │           44959  ACAAAAAAACCCTTACTCGTGCCCGTTGGTTT…           39\n",
       " 44915 │           44960  ACAAAAAAACCCCCGATTGTATTGCATGGTTT…           39       ⋯\n",
       " 44916 │           44961  ACAAAAAAACCAGGTATGTGTAACCTGGTTTG…           38\n",
       " 44917 │           44962  ACAAAAAAACCACACGTATACCCGTGTGGTTT…           39\n",
       " 44918 │           44963  ACAAAAAAACCTAAACATAACGGTATTGGTTT…           39\n",
       " 44919 │               0  ACAAAAAAACCACCGCTACCAGCGGTGGTTTG…           38     4 ⋯\n",
       "\u001b[36m                                                7 columns and 44898 rows omitted\u001b[0m"
      ]
     },
     "execution_count": 22,
     "metadata": {},
     "output_type": "execute_result"
    }
   ],
   "source": [
    "## include the WT-seq in the dataframe\n",
    "lib_analysis = vcat(lib_analysis, WT_analysis)"
   ]
  },
  {
   "cell_type": "code",
   "execution_count": 23,
   "id": "7262fa40-99f4-4698-bf92-fa84ede41132",
   "metadata": {},
   "outputs": [
    {
     "data": {
      "text/html": [
       "<div><div style = \"float: left;\"><span>44919×11 DataFrame</span></div><div style = \"float: right;\"><span style = \"font-style: italic;\">44894 rows omitted</span></div><div style = \"clear: both;\"></div></div><div class = \"data-frame\" style = \"overflow-x: scroll;\"><table class = \"data-frame\" style = \"margin-bottom: 6px;\"><thead><tr class = \"header\"><th class = \"rowNumber\" style = \"font-weight: bold; text-align: right;\">Row</th><th style = \"text-align: left;\">Sequence_number</th><th style = \"text-align: left;\">MFE_SUBstructure</th><th style = \"text-align: left;\">LoopI</th><th style = \"text-align: left;\">Loop_length</th><th style = \"text-align: left;\">Count</th><th style = \"text-align: left;\">WT</th><th style = \"text-align: left;\">MFE_structure</th><th style = \"text-align: left;\">MFE_energy</th><th style = \"text-align: left;\">Mbp_dist</th><th style = \"text-align: left;\">Seq_Cluster</th><th style = \"text-align: left;\">Str_Cluster</th></tr><tr class = \"subheader headerLastRow\"><th class = \"rowNumber\" style = \"font-weight: bold; text-align: right;\"></th><th title = \"Any\" style = \"text-align: left;\">Any</th><th title = \"Any\" style = \"text-align: left;\">Any</th><th title = \"String\" style = \"text-align: left;\">String</th><th title = \"Int64\" style = \"text-align: left;\">Int64</th><th title = \"Int64\" style = \"text-align: left;\">Int64</th><th title = \"Any\" style = \"text-align: left;\">Any</th><th title = \"String\" style = \"text-align: left;\">String</th><th title = \"Float64\" style = \"text-align: left;\">Float64</th><th title = \"Float64\" style = \"text-align: left;\">Float64</th><th title = \"Int64\" style = \"text-align: left;\">Int64</th><th title = \"Int64\" style = \"text-align: left;\">Int64</th></tr></thead><tbody><tr><td class = \"rowNumber\" style = \"font-weight: bold; text-align: right;\">1</td><td style = \"text-align: left;\">2</td><td style = \"text-align: left;\">.((((.(((((....))))).)))).</td><td style = \"text-align: left;\">ACAAAAAAACCCGGTGGTTTGTTTGCC</td><td style = \"text-align: right;\">27</td><td style = \"text-align: right;\">115</td><td style = \"text-align: left;\">false</td><td style = \"text-align: left;\">.((((.(((((....))))).)))).((((..(((((.......)))))..))))..((((.(((((((.....)))).))).)))).........</td><td style = \"text-align: right;\">-27.3</td><td style = \"text-align: right;\">5.67717</td><td style = \"text-align: right;\">0</td><td style = \"text-align: right;\">0</td></tr><tr><td class = \"rowNumber\" style = \"font-weight: bold; text-align: right;\">2</td><td style = \"text-align: left;\">3</td><td style = \"text-align: left;\">(((((.........)))))....</td><td style = \"text-align: left;\">ACAAAAAAACCTGGTTTGTTTGCC</td><td style = \"text-align: right;\">24</td><td style = \"text-align: right;\">84</td><td style = \"text-align: left;\">false</td><td style = \"text-align: left;\">(((((.........)))))....((((..(((((.......)))))..))))..((((.(((((((.....)))).))).)))).........</td><td style = \"text-align: right;\">-23.6</td><td style = \"text-align: right;\">11.2917</td><td style = \"text-align: right;\">0</td><td style = \"text-align: right;\">0</td></tr><tr><td class = \"rowNumber\" style = \"font-weight: bold; text-align: right;\">3</td><td style = \"text-align: left;\">4</td><td style = \"text-align: left;\">.((((.(((((.....))))).)))).</td><td style = \"text-align: left;\">ACAAAAAAACCCGGATGGTTTGTTTGCC</td><td style = \"text-align: right;\">28</td><td style = \"text-align: right;\">70</td><td style = \"text-align: left;\">false</td><td style = \"text-align: left;\">.((((.(((((.....))))).)))).((((..(((((.......)))))..))))..((((.(((((((.....)))).))).)))).........</td><td style = \"text-align: right;\">-27.3</td><td style = \"text-align: right;\">5.19386</td><td style = \"text-align: right;\">0</td><td style = \"text-align: right;\">0</td></tr><tr><td class = \"rowNumber\" style = \"font-weight: bold; text-align: right;\">4</td><td style = \"text-align: left;\">5</td><td style = \"text-align: left;\">.((((.(((((...))))).)))).</td><td style = \"text-align: left;\">ACAAAAAAACCCCTGGTTTGTTTGCC</td><td style = \"text-align: right;\">26</td><td style = \"text-align: right;\">62</td><td style = \"text-align: left;\">false</td><td style = \"text-align: left;\">.((((.(((((...))))).)))).((((..(((((.......)))))..))))..((((.(((((((.....)))).))).)))).........</td><td style = \"text-align: right;\">-25.6</td><td style = \"text-align: right;\">6.13813</td><td style = \"text-align: right;\">0</td><td style = \"text-align: right;\">0</td></tr><tr><td class = \"rowNumber\" style = \"font-weight: bold; text-align: right;\">5</td><td style = \"text-align: left;\">6</td><td style = \"text-align: left;\">.((((.(((((.....))))).)))).</td><td style = \"text-align: left;\">ACAAAAAAACCCGGGTGGTTTGTTTGCC</td><td style = \"text-align: right;\">28</td><td style = \"text-align: right;\">61</td><td style = \"text-align: left;\">false</td><td style = \"text-align: left;\">.((((.(((((.....))))).)))).((((..(((((.......)))))..))))..((((.(((((((.....)))).))).)))).........</td><td style = \"text-align: right;\">-27.3</td><td style = \"text-align: right;\">5.46826</td><td style = \"text-align: right;\">0</td><td style = \"text-align: right;\">0</td></tr><tr><td class = \"rowNumber\" style = \"font-weight: bold; text-align: right;\">6</td><td style = \"text-align: left;\">7</td><td style = \"text-align: left;\">.((((.(((((.....))))).)))).</td><td style = \"text-align: left;\">ACAAAAAAACCCCCGTGGTTTGTTTGCC</td><td style = \"text-align: right;\">28</td><td style = \"text-align: right;\">37</td><td style = \"text-align: left;\">false</td><td style = \"text-align: left;\">.((((.(((((.....))))).)))).((((..(((((.......)))))..))))..((((.(((((((.....)))).))).)))).........</td><td style = \"text-align: right;\">-27.3</td><td style = \"text-align: right;\">5.12789</td><td style = \"text-align: right;\">0</td><td style = \"text-align: right;\">0</td></tr><tr><td class = \"rowNumber\" style = \"font-weight: bold; text-align: right;\">7</td><td style = \"text-align: left;\">8</td><td style = \"text-align: left;\">(((((..........)))))....</td><td style = \"text-align: left;\">ACAAAAAAACCCTGGTTTGTTTGCC</td><td style = \"text-align: right;\">25</td><td style = \"text-align: right;\">34</td><td style = \"text-align: left;\">false</td><td style = \"text-align: left;\">(((((..........)))))....((((..(((((.......)))))..))))..((((.(((((((.....)))).))).)))).........</td><td style = \"text-align: right;\">-23.6</td><td style = \"text-align: right;\">11.761</td><td style = \"text-align: right;\">0</td><td style = \"text-align: right;\">0</td></tr><tr><td class = \"rowNumber\" style = \"font-weight: bold; text-align: right;\">8</td><td style = \"text-align: left;\">9</td><td style = \"text-align: left;\">(((((........)))))....</td><td style = \"text-align: left;\">ACAAAAAAACCGGTTTGTTTGCC</td><td style = \"text-align: right;\">23</td><td style = \"text-align: right;\">25</td><td style = \"text-align: left;\">false</td><td style = \"text-align: left;\">(((((........)))))....((((..(((((.......)))))..))))..((((.(((((((.....)))).))).)))).........</td><td style = \"text-align: right;\">-23.6</td><td style = \"text-align: right;\">11.6461</td><td style = \"text-align: right;\">0</td><td style = \"text-align: right;\">0</td></tr><tr><td class = \"rowNumber\" style = \"font-weight: bold; text-align: right;\">9</td><td style = \"text-align: left;\">10</td><td style = \"text-align: left;\">.((((.(((((......))))).)))).</td><td style = \"text-align: left;\">ACAAAAAAACCCCCGTTGGTTTGTTTGCC</td><td style = \"text-align: right;\">29</td><td style = \"text-align: right;\">22</td><td style = \"text-align: left;\">false</td><td style = \"text-align: left;\">.((((.(((((......))))).)))).((((..(((((.......)))))..))))..((((.(((((((.....)))).))).)))).........</td><td style = \"text-align: right;\">-27.3</td><td style = \"text-align: right;\">7.37865</td><td style = \"text-align: right;\">0</td><td style = \"text-align: right;\">0</td></tr><tr><td class = \"rowNumber\" style = \"font-weight: bold; text-align: right;\">10</td><td style = \"text-align: left;\">11</td><td style = \"text-align: left;\">.((((.(((((......))))).)))).</td><td style = \"text-align: left;\">ACAAAAAAACCTATCATGGTTTGTTTGCC</td><td style = \"text-align: right;\">29</td><td style = \"text-align: right;\">21</td><td style = \"text-align: left;\">false</td><td style = \"text-align: left;\">.((((.(((((......))))).)))).((((..(((((.......)))))..))))..((((.(((((((.....)))).))).)))).........</td><td style = \"text-align: right;\">-28.6</td><td style = \"text-align: right;\">4.91599</td><td style = \"text-align: right;\">0</td><td style = \"text-align: right;\">0</td></tr><tr><td class = \"rowNumber\" style = \"font-weight: bold; text-align: right;\">11</td><td style = \"text-align: left;\">12</td><td style = \"text-align: left;\">.((((.(((((......))))).)))).</td><td style = \"text-align: left;\">ACAAAAAAACCCTCCATGGTTTGTTTGCC</td><td style = \"text-align: right;\">29</td><td style = \"text-align: right;\">20</td><td style = \"text-align: left;\">false</td><td style = \"text-align: left;\">.((((.(((((......))))).)))).((((..(((((.......)))))..))))..((((.(((((((.....)))).))).)))).........</td><td style = \"text-align: right;\">-27.3</td><td style = \"text-align: right;\">5.41005</td><td style = \"text-align: right;\">0</td><td style = \"text-align: right;\">0</td></tr><tr><td class = \"rowNumber\" style = \"font-weight: bold; text-align: right;\">12</td><td style = \"text-align: left;\">13</td><td style = \"text-align: left;\">.((((((((((((((.....)))))))))).)))).</td><td style = \"text-align: left;\">ACAAAAAACCACCGCTACCAGCGGTGGTTTGTTTGCC</td><td style = \"text-align: right;\">37</td><td style = \"text-align: right;\">18</td><td style = \"text-align: left;\">false</td><td style = \"text-align: left;\">.((((((((((((((.....)))))))))).)))).((((..(((((.......)))))..))))..((((.(((((((.....)))).))).)))).........</td><td style = \"text-align: right;\">-39.8</td><td style = \"text-align: right;\">6.64129</td><td style = \"text-align: right;\">0</td><td style = \"text-align: right;\">0</td></tr><tr><td class = \"rowNumber\" style = \"font-weight: bold; text-align: right;\">13</td><td style = \"text-align: left;\">14</td><td style = \"text-align: left;\">.((((.(((((................))))).)))).</td><td style = \"text-align: left;\">ACAAAAAAACCGATACTGTAAATCAATGGTTTGTTTGCC</td><td style = \"text-align: right;\">39</td><td style = \"text-align: right;\">17</td><td style = \"text-align: left;\">false</td><td style = \"text-align: left;\">.((((.(((((................))))).)))).((((..(((((.......)))))..))))..((((.(((((((.....)))).))).)))).........</td><td style = \"text-align: right;\">-28.0</td><td style = \"text-align: right;\">6.63798</td><td style = \"text-align: right;\">0</td><td style = \"text-align: right;\">0</td></tr><tr><td style = \"text-align: right;\">&vellip;</td><td style = \"text-align: right;\">&vellip;</td><td style = \"text-align: right;\">&vellip;</td><td style = \"text-align: right;\">&vellip;</td><td style = \"text-align: right;\">&vellip;</td><td style = \"text-align: right;\">&vellip;</td><td style = \"text-align: right;\">&vellip;</td><td style = \"text-align: right;\">&vellip;</td><td style = \"text-align: right;\">&vellip;</td><td style = \"text-align: right;\">&vellip;</td><td style = \"text-align: right;\">&vellip;</td><td style = \"text-align: right;\">&vellip;</td></tr><tr><td class = \"rowNumber\" style = \"font-weight: bold; text-align: right;\">44908</td><td style = \"text-align: left;\">44953</td><td style = \"text-align: left;\">(((..((((...((.((.....))..))...))))..</td><td style = \"text-align: left;\">ACAAAAAACCCTCCTGTGTCAAACGTGGTTTGTTTGCC</td><td style = \"text-align: right;\">38</td><td style = \"text-align: right;\">1</td><td style = \"text-align: left;\">false</td><td style = \"text-align: left;\">(((..((((...((.((.....))..))...))))..((((..(((((.......)))))..))))..((((.(((((((.....)))).))).))))......)))</td><td style = \"text-align: right;\">-26.8</td><td style = \"text-align: right;\">14.1877</td><td style = \"text-align: right;\">0</td><td style = \"text-align: right;\">0</td></tr><tr><td class = \"rowNumber\" style = \"font-weight: bold; text-align: right;\">44909</td><td style = \"text-align: left;\">44954</td><td style = \"text-align: left;\">.((((.(((((................))))).)))).</td><td style = \"text-align: left;\">ACAAAAAAACCTCTTAGATTGTATAATGGTTTGTTTGCC</td><td style = \"text-align: right;\">39</td><td style = \"text-align: right;\">1</td><td style = \"text-align: left;\">false</td><td style = \"text-align: left;\">.((((.(((((................))))).)))).((((..(((((.......)))))..))))..((((.(((((((.....)))).))).)))).........</td><td style = \"text-align: right;\">-28.6</td><td style = \"text-align: right;\">5.3659</td><td style = \"text-align: right;\">0</td><td style = \"text-align: right;\">0</td></tr><tr><td class = \"rowNumber\" style = \"font-weight: bold; text-align: right;\">44910</td><td style = \"text-align: left;\">44955</td><td style = \"text-align: left;\">.((((((((((................)))))))))).</td><td style = \"text-align: left;\">ACAAACAAACCCCGGGGCTATGCATTTGGTTTGTTTGCC</td><td style = \"text-align: right;\">39</td><td style = \"text-align: right;\">1</td><td style = \"text-align: left;\">false</td><td style = \"text-align: left;\">.((((((((((................)))))))))).((((..(((((.......)))))..))))..((((.(((((((.....)))).))).)))).........</td><td style = \"text-align: right;\">-33.6</td><td style = \"text-align: right;\">4.24505</td><td style = \"text-align: right;\">0</td><td style = \"text-align: right;\">0</td></tr><tr><td class = \"rowNumber\" style = \"font-weight: bold; text-align: right;\">44911</td><td style = \"text-align: left;\">44956</td><td style = \"text-align: left;\">(((.....(((((....)))))..(((((.....))))</td><td style = \"text-align: left;\">ACAAAAAAACCCTGTAAAGGGTGTGGTGGTTTGTTTGCC</td><td style = \"text-align: right;\">39</td><td style = \"text-align: right;\">1</td><td style = \"text-align: left;\">false</td><td style = \"text-align: left;\">(((.....(((((....)))))..(((((.....)))))(((..(((((.......)))))..)))...((((.(((((((.....)))).))).))))......)))</td><td style = \"text-align: right;\">-33.3</td><td style = \"text-align: right;\">7.17613</td><td style = \"text-align: right;\">0</td><td style = \"text-align: right;\">0</td></tr><tr><td class = \"rowNumber\" style = \"font-weight: bold; text-align: right;\">44912</td><td style = \"text-align: left;\">44957</td><td style = \"text-align: left;\">(((...((((....((((......))))....))))..</td><td style = \"text-align: left;\">ACAAAAAAACCCTACACATTCACCTGTGGTTTGTTTGCC</td><td style = \"text-align: right;\">39</td><td style = \"text-align: right;\">1</td><td style = \"text-align: left;\">false</td><td style = \"text-align: left;\">(((...((((....((((......))))....))))..((((..(((((.......)))))..))))..((((.(((((((.....)))).))).))))......)))</td><td style = \"text-align: right;\">-28.7</td><td style = \"text-align: right;\">11.3692</td><td style = \"text-align: right;\">0</td><td style = \"text-align: right;\">0</td></tr><tr><td class = \"rowNumber\" style = \"font-weight: bold; text-align: right;\">44913</td><td style = \"text-align: left;\">44958</td><td style = \"text-align: left;\">...............(((..(((((........)))))</td><td style = \"text-align: left;\">ACAAAAAAACCTCACCAGCAGCAAAATGGTTTGTTTGCC</td><td style = \"text-align: right;\">39</td><td style = \"text-align: right;\">1</td><td style = \"text-align: left;\">false</td><td style = \"text-align: left;\">...............(((..(((((........)))))((((..(((((.......)))))..))))..((((.(((((((.....)))).))).)))).....))).</td><td style = \"text-align: right;\">-28.7</td><td style = \"text-align: right;\">14.7099</td><td style = \"text-align: right;\">0</td><td style = \"text-align: right;\">0</td></tr><tr><td class = \"rowNumber\" style = \"font-weight: bold; text-align: right;\">44914</td><td style = \"text-align: left;\">44959</td><td style = \"text-align: left;\">.((((.(((((................))))).)))).</td><td style = \"text-align: left;\">ACAAAAAAACCCTTACTCGTGCCCGTTGGTTTGTTTGCC</td><td style = \"text-align: right;\">39</td><td style = \"text-align: right;\">1</td><td style = \"text-align: left;\">false</td><td style = \"text-align: left;\">.((((.(((((................))))).)))).((((..(((((.......)))))..))))..((((.(((((((.....)))).))).)))).........</td><td style = \"text-align: right;\">-27.3</td><td style = \"text-align: right;\">9.05139</td><td style = \"text-align: right;\">0</td><td style = \"text-align: right;\">0</td></tr><tr><td class = \"rowNumber\" style = \"font-weight: bold; text-align: right;\">44915</td><td style = \"text-align: left;\">44960</td><td style = \"text-align: left;\">..................((((((((.........)))</td><td style = \"text-align: left;\">ACAAAAAAACCCCCGATTGTATTGCATGGTTTGTTTGCC</td><td style = \"text-align: right;\">39</td><td style = \"text-align: right;\">1</td><td style = \"text-align: left;\">false</td><td style = \"text-align: left;\">..................((((((((.........)))((((..(((((.......)))))..))))..((((.(((((((.....)))).))).)))).)))))...</td><td style = \"text-align: right;\">-27.8</td><td style = \"text-align: right;\">12.4171</td><td style = \"text-align: right;\">0</td><td style = \"text-align: right;\">0</td></tr><tr><td class = \"rowNumber\" style = \"font-weight: bold; text-align: right;\">44916</td><td style = \"text-align: left;\">44961</td><td style = \"text-align: left;\">.((((.(((((((((.......))))))))).)))).</td><td style = \"text-align: left;\">ACAAAAAAACCAGGTATGTGTAACCTGGTTTGTTTGCC</td><td style = \"text-align: right;\">38</td><td style = \"text-align: right;\">1</td><td style = \"text-align: left;\">false</td><td style = \"text-align: left;\">.((((.(((((((((.......))))))))).)))).((((..(((((.......)))))..))))..((((.(((((((.....)))).))).)))).........</td><td style = \"text-align: right;\">-36.7</td><td style = \"text-align: right;\">5.09572</td><td style = \"text-align: right;\">0</td><td style = \"text-align: right;\">0</td></tr><tr><td class = \"rowNumber\" style = \"font-weight: bold; text-align: right;\">44917</td><td style = \"text-align: left;\">44962</td><td style = \"text-align: left;\">.((((.((((((((((......)))))))))).)))).</td><td style = \"text-align: left;\">ACAAAAAAACCACACGTATACCCGTGTGGTTTGTTTGCC</td><td style = \"text-align: right;\">39</td><td style = \"text-align: right;\">1</td><td style = \"text-align: left;\">false</td><td style = \"text-align: left;\">.((((.((((((((((......)))))))))).)))).((((..(((((.......)))))..))))..((((.(((((((.....)))).))).)))).........</td><td style = \"text-align: right;\">-38.5</td><td style = \"text-align: right;\">4.99163</td><td style = \"text-align: right;\">0</td><td style = \"text-align: right;\">0</td></tr><tr><td class = \"rowNumber\" style = \"font-weight: bold; text-align: right;\">44918</td><td style = \"text-align: left;\">44963</td><td style = \"text-align: left;\">...................(((((((((((......))</td><td style = \"text-align: left;\">ACAAAAAAACCTAAACATAACGGTATTGGTTTGTTTGCC</td><td style = \"text-align: right;\">39</td><td style = \"text-align: right;\">1</td><td style = \"text-align: left;\">false</td><td style = \"text-align: left;\">...................(((((((((((......)))(((..(((((.......)))))..)))...((((.(((((((.....)))).))).)))).))))))))</td><td style = \"text-align: right;\">-29.5</td><td style = \"text-align: right;\">15.8766</td><td style = \"text-align: right;\">0</td><td style = \"text-align: right;\">0</td></tr><tr><td class = \"rowNumber\" style = \"font-weight: bold; text-align: right;\">44919</td><td style = \"text-align: left;\">0</td><td style = \"text-align: left;\">.((((.((((((((((.....)))))))))).)))).</td><td style = \"text-align: left;\">ACAAAAAAACCACCGCTACCAGCGGTGGTTTGTTTGCC</td><td style = \"text-align: right;\">38</td><td style = \"text-align: right;\">47</td><td style = \"text-align: left;\">WT</td><td style = \"text-align: left;\">.((((.((((((((((.....)))))))))).)))).((((..(((((.......)))))..))))..((((.(((((((.....)))).))).)))).........</td><td style = \"text-align: right;\">-41.1</td><td style = \"text-align: right;\">5.30195</td><td style = \"text-align: right;\">0</td><td style = \"text-align: right;\">0</td></tr></tbody></table></div>"
      ],
      "text/latex": [
       "\\begin{tabular}{r|cccc}\n",
       "\t& Sequence\\_number & MFE\\_SUBstructure & LoopI & \\\\\n",
       "\t\\hline\n",
       "\t& Any & Any & String & \\\\\n",
       "\t\\hline\n",
       "\t1 & 2 & .((((.(((((....))))).)))). & ACAAAAAAACCCGGTGGTTTGTTTGCC & $\\dots$ \\\\\n",
       "\t2 & 3 & (((((.........))))).... & ACAAAAAAACCTGGTTTGTTTGCC & $\\dots$ \\\\\n",
       "\t3 & 4 & .((((.(((((.....))))).)))). & ACAAAAAAACCCGGATGGTTTGTTTGCC & $\\dots$ \\\\\n",
       "\t4 & 5 & .((((.(((((...))))).)))). & ACAAAAAAACCCCTGGTTTGTTTGCC & $\\dots$ \\\\\n",
       "\t5 & 6 & .((((.(((((.....))))).)))). & ACAAAAAAACCCGGGTGGTTTGTTTGCC & $\\dots$ \\\\\n",
       "\t6 & 7 & .((((.(((((.....))))).)))). & ACAAAAAAACCCCCGTGGTTTGTTTGCC & $\\dots$ \\\\\n",
       "\t7 & 8 & (((((..........))))).... & ACAAAAAAACCCTGGTTTGTTTGCC & $\\dots$ \\\\\n",
       "\t8 & 9 & (((((........))))).... & ACAAAAAAACCGGTTTGTTTGCC & $\\dots$ \\\\\n",
       "\t9 & 10 & .((((.(((((......))))).)))). & ACAAAAAAACCCCCGTTGGTTTGTTTGCC & $\\dots$ \\\\\n",
       "\t10 & 11 & .((((.(((((......))))).)))). & ACAAAAAAACCTATCATGGTTTGTTTGCC & $\\dots$ \\\\\n",
       "\t11 & 12 & .((((.(((((......))))).)))). & ACAAAAAAACCCTCCATGGTTTGTTTGCC & $\\dots$ \\\\\n",
       "\t12 & 13 & .((((((((((((((.....)))))))))).)))). & ACAAAAAACCACCGCTACCAGCGGTGGTTTGTTTGCC & $\\dots$ \\\\\n",
       "\t13 & 14 & .((((.(((((................))))).)))). & ACAAAAAAACCGATACTGTAAATCAATGGTTTGTTTGCC & $\\dots$ \\\\\n",
       "\t14 & 15 & .((((.(((((((.((.....)).))))))).)))). & ACAAAAAAACCACCGCTACCAGCAGTGGTTTGTTTGCC & $\\dots$ \\\\\n",
       "\t15 & 16 & .((((.(((((......))))).)))). & ACAAAAAAACCCTCCGTGGTTTGTTTGCC & $\\dots$ \\\\\n",
       "\t16 & 17 & .((((.(((((......))))).)))). & ACAAAAAAACCGGCGGTGGTTTGTTTGCC & $\\dots$ \\\\\n",
       "\t17 & 18 & .((((.(((((((((((....))))))))))).)))). & ACAAAAAAACCACTTCCAATCGGAGGTGGTTTGTTTGCC & $\\dots$ \\\\\n",
       "\t18 & 19 & .((((.(((((......))))).)))). & ACAAAAAAACCCCCCATGGTTTGTTTGCC & $\\dots$ \\\\\n",
       "\t19 & 20 & .((((.(((((......))))).)))). & ACAAAAAAACCCTCCTTGGTTTGTTTGCC & $\\dots$ \\\\\n",
       "\t20 & 21 & .((((.(((((......))))).)))). & ACAAAAAAACCGCCACTGGTTTGTTTGCC & $\\dots$ \\\\\n",
       "\t21 & 22 & .((((.(((((......))))).)))). & ACAAAAAAACCTAACATGGTTTGTTTGCC & $\\dots$ \\\\\n",
       "\t22 & 23 & .((((.(((((................))))).)))). & ACAAAAAAACCCTGGTCAGCACGTTATGGTTTGTTTGCC & $\\dots$ \\\\\n",
       "\t23 & 24 & .((((.(((((((((...))))))))).)))). & ACAAAAAAACCAGTCTTAGACTGGTTTGTTTGCC & $\\dots$ \\\\\n",
       "\t24 & 26 & .((((.(((((....))))).)))). & ACAAAAAAACCCCCTGGTTTGTTTGCC & $\\dots$ \\\\\n",
       "\t25 & 27 & (((.....(((((((.....)))))))(((......)) & ACAAAAAAACCCTCTAAGTTAGAGGGTGGTTTGTTTGCC & $\\dots$ \\\\\n",
       "\t26 & 28 & .((((.(((((.(((.....))).))))).)))). & ACAAAAAAACCCTATAGCGAATATGGTTTGTTTGCC & $\\dots$ \\\\\n",
       "\t27 & 29 & .((((.(((((......))))).)))). & ACAAAAAAACCCGGGTTGGTTTGTTTGCC & $\\dots$ \\\\\n",
       "\t28 & 30 & .((((.((((((((..........)))))))).)))). & ACAAAAAAACCAGTGCTTTCTCAGACTGGTTTGTTTGCC & $\\dots$ \\\\\n",
       "\t29 & 31 & .((((.(((((...))))).)))). & ACAAAAAAACCCGTGGTTTGTTTGCC & $\\dots$ \\\\\n",
       "\t30 & 32 & .((((.(((((......))))).)))). & ACAAAAAAACCTACCATGGTTTGTTTGCC & $\\dots$ \\\\\n",
       "\t$\\dots$ & $\\dots$ & $\\dots$ & $\\dots$ &  \\\\\n",
       "\\end{tabular}\n"
      ],
      "text/plain": [
       "\u001b[1m44919×11 DataFrame\u001b[0m\n",
       "\u001b[1m   Row \u001b[0m│\u001b[1m Sequence_number \u001b[0m\u001b[1m MFE_SUBstructure                  \u001b[0m\u001b[1m LoopI            \u001b[0m ⋯\n",
       "       │\u001b[90m Any             \u001b[0m\u001b[90m Any                               \u001b[0m\u001b[90m String           \u001b[0m ⋯\n",
       "───────┼────────────────────────────────────────────────────────────────────────\n",
       "     1 │ 2                .((((.(((((....))))).)))).         ACAAAAAAACCCGGTGG ⋯\n",
       "     2 │ 3                (((((.........)))))....            ACAAAAAAACCTGGTTT\n",
       "     3 │ 4                .((((.(((((.....))))).)))).        ACAAAAAAACCCGGATG\n",
       "     4 │ 5                .((((.(((((...))))).)))).          ACAAAAAAACCCCTGGT\n",
       "     5 │ 6                .((((.(((((.....))))).)))).        ACAAAAAAACCCGGGTG ⋯\n",
       "     6 │ 7                .((((.(((((.....))))).)))).        ACAAAAAAACCCCCGTG\n",
       "     7 │ 8                (((((..........)))))....           ACAAAAAAACCCTGGTT\n",
       "     8 │ 9                (((((........)))))....             ACAAAAAAACCGGTTTG\n",
       "     9 │ 10               .((((.(((((......))))).)))).       ACAAAAAAACCCCCGTT ⋯\n",
       "    10 │ 11               .((((.(((((......))))).)))).       ACAAAAAAACCTATCAT\n",
       "    11 │ 12               .((((.(((((......))))).)))).       ACAAAAAAACCCTCCAT\n",
       "   ⋮   │        ⋮                         ⋮                                  ⋮ ⋱\n",
       " 44910 │ 44955            .((((((((((................)))))…  ACAAACAAACCCCGGGG\n",
       " 44911 │ 44956            (((.....(((((....)))))..(((((...…  ACAAAAAAACCCTGTAA ⋯\n",
       " 44912 │ 44957            (((...((((....((((......))))....…  ACAAAAAAACCCTACAC\n",
       " 44913 │ 44958            ...............(((..(((((.......…  ACAAAAAAACCTCACCA\n",
       " 44914 │ 44959            .((((.(((((................)))))…  ACAAAAAAACCCTTACT\n",
       " 44915 │ 44960            ..................((((((((......…  ACAAAAAAACCCCCGAT ⋯\n",
       " 44916 │ 44961            .((((.(((((((((.......))))))))).…  ACAAAAAAACCAGGTAT\n",
       " 44917 │ 44962            .((((.((((((((((......))))))))))…  ACAAAAAAACCACACGT\n",
       " 44918 │ 44963            ...................(((((((((((..…  ACAAAAAAACCTAAACA\n",
       " 44919 │ 0                .((((.((((((((((.....)))))))))).…  ACAAAAAAACCACCGCT ⋯\n",
       "\u001b[36m                                                9 columns and 44898 rows omitted\u001b[0m"
      ]
     },
     "execution_count": 23,
     "metadata": {},
     "output_type": "execute_result"
    }
   ],
   "source": [
    "## Including the MFE_Substructure of LoopI into the dataframe\n",
    "\n",
    "Loop1_structure = DataFrame([[],[]],[\"Sequence_number\", \"MFE_SUBstructure\"])\n",
    "\n",
    "for n = 1: size(lib_analysis, 1)\n",
    "    seq_num = lib_analysis.Sequence_number[n]\n",
    "    loop = lib_analysis.Loop_length[n]\n",
    "    mfe_sub = lib_analysis.MFE_structure[n][1:loop-1]\n",
    "    \n",
    "    push!(Loop1_structure, (seq_num, mfe_sub))\n",
    "end\n",
    "\n",
    "lib_analysis = innerjoin(Loop1_structure, lib_analysis, on = :Sequence_number)"
   ]
  },
  {
   "cell_type": "code",
   "execution_count": 24,
   "id": "e23a6092-3f99-451e-a59e-f8fa1243039c",
   "metadata": {},
   "outputs": [
    {
     "data": {
      "text/html": [
       "<div><div style = \"float: left;\"><span>44919×12 DataFrame</span></div><div style = \"float: right;\"><span style = \"font-style: italic;\">44894 rows omitted</span></div><div style = \"clear: both;\"></div></div><div class = \"data-frame\" style = \"overflow-x: scroll;\"><table class = \"data-frame\" style = \"margin-bottom: 6px;\"><thead><tr class = \"header\"><th class = \"rowNumber\" style = \"font-weight: bold; text-align: right;\">Row</th><th style = \"text-align: left;\">Sequence_number</th><th style = \"text-align: left;\">Loop1_description</th><th style = \"text-align: left;\">MFE_SUBstructure</th><th style = \"text-align: left;\">LoopI</th><th style = \"text-align: left;\">Loop_length</th><th style = \"text-align: left;\">Count</th><th style = \"text-align: left;\">WT</th><th style = \"text-align: left;\">MFE_structure</th><th style = \"text-align: left;\">MFE_energy</th><th style = \"text-align: left;\">Mbp_dist</th><th style = \"text-align: left;\">Seq_Cluster</th><th style = \"text-align: left;\">Str_Cluster</th></tr><tr class = \"subheader headerLastRow\"><th class = \"rowNumber\" style = \"font-weight: bold; text-align: right;\"></th><th title = \"Any\" style = \"text-align: left;\">Any</th><th title = \"Any\" style = \"text-align: left;\">Any</th><th title = \"Any\" style = \"text-align: left;\">Any</th><th title = \"String\" style = \"text-align: left;\">String</th><th title = \"Int64\" style = \"text-align: left;\">Int64</th><th title = \"Int64\" style = \"text-align: left;\">Int64</th><th title = \"Any\" style = \"text-align: left;\">Any</th><th title = \"String\" style = \"text-align: left;\">String</th><th title = \"Float64\" style = \"text-align: left;\">Float64</th><th title = \"Float64\" style = \"text-align: left;\">Float64</th><th title = \"Int64\" style = \"text-align: left;\">Int64</th><th title = \"Int64\" style = \"text-align: left;\">Int64</th></tr></thead><tbody><tr><td class = \"rowNumber\" style = \"font-weight: bold; text-align: right;\">1</td><td style = \"text-align: left;\">2</td><td style = \"text-align: left;\">1-4-1-5-4-5-1-4-1</td><td style = \"text-align: left;\">.((((.(((((....))))).)))).</td><td style = \"text-align: left;\">ACAAAAAAACCCGGTGGTTTGTTTGCC</td><td style = \"text-align: right;\">27</td><td style = \"text-align: right;\">115</td><td style = \"text-align: left;\">false</td><td style = \"text-align: left;\">.((((.(((((....))))).)))).((((..(((((.......)))))..))))..((((.(((((((.....)))).))).)))).........</td><td style = \"text-align: right;\">-27.3</td><td style = \"text-align: right;\">5.67717</td><td style = \"text-align: right;\">0</td><td style = \"text-align: right;\">0</td></tr><tr><td class = \"rowNumber\" style = \"font-weight: bold; text-align: right;\">2</td><td style = \"text-align: left;\">3</td><td style = \"text-align: left;\">5-9-5-4</td><td style = \"text-align: left;\">(((((.........)))))....</td><td style = \"text-align: left;\">ACAAAAAAACCTGGTTTGTTTGCC</td><td style = \"text-align: right;\">24</td><td style = \"text-align: right;\">84</td><td style = \"text-align: left;\">false</td><td style = \"text-align: left;\">(((((.........)))))....((((..(((((.......)))))..))))..((((.(((((((.....)))).))).)))).........</td><td style = \"text-align: right;\">-23.6</td><td style = \"text-align: right;\">11.2917</td><td style = \"text-align: right;\">0</td><td style = \"text-align: right;\">0</td></tr><tr><td class = \"rowNumber\" style = \"font-weight: bold; text-align: right;\">3</td><td style = \"text-align: left;\">4</td><td style = \"text-align: left;\">1-4-1-5-5-5-1-4-1</td><td style = \"text-align: left;\">.((((.(((((.....))))).)))).</td><td style = \"text-align: left;\">ACAAAAAAACCCGGATGGTTTGTTTGCC</td><td style = \"text-align: right;\">28</td><td style = \"text-align: right;\">70</td><td style = \"text-align: left;\">false</td><td style = \"text-align: left;\">.((((.(((((.....))))).)))).((((..(((((.......)))))..))))..((((.(((((((.....)))).))).)))).........</td><td style = \"text-align: right;\">-27.3</td><td style = \"text-align: right;\">5.19386</td><td style = \"text-align: right;\">0</td><td style = \"text-align: right;\">0</td></tr><tr><td class = \"rowNumber\" style = \"font-weight: bold; text-align: right;\">4</td><td style = \"text-align: left;\">5</td><td style = \"text-align: left;\">1-4-1-5-3-5-1-4-1</td><td style = \"text-align: left;\">.((((.(((((...))))).)))).</td><td style = \"text-align: left;\">ACAAAAAAACCCCTGGTTTGTTTGCC</td><td style = \"text-align: right;\">26</td><td style = \"text-align: right;\">62</td><td style = \"text-align: left;\">false</td><td style = \"text-align: left;\">.((((.(((((...))))).)))).((((..(((((.......)))))..))))..((((.(((((((.....)))).))).)))).........</td><td style = \"text-align: right;\">-25.6</td><td style = \"text-align: right;\">6.13813</td><td style = \"text-align: right;\">0</td><td style = \"text-align: right;\">0</td></tr><tr><td class = \"rowNumber\" style = \"font-weight: bold; text-align: right;\">5</td><td style = \"text-align: left;\">6</td><td style = \"text-align: left;\">1-4-1-5-5-5-1-4-1</td><td style = \"text-align: left;\">.((((.(((((.....))))).)))).</td><td style = \"text-align: left;\">ACAAAAAAACCCGGGTGGTTTGTTTGCC</td><td style = \"text-align: right;\">28</td><td style = \"text-align: right;\">61</td><td style = \"text-align: left;\">false</td><td style = \"text-align: left;\">.((((.(((((.....))))).)))).((((..(((((.......)))))..))))..((((.(((((((.....)))).))).)))).........</td><td style = \"text-align: right;\">-27.3</td><td style = \"text-align: right;\">5.46826</td><td style = \"text-align: right;\">0</td><td style = \"text-align: right;\">0</td></tr><tr><td class = \"rowNumber\" style = \"font-weight: bold; text-align: right;\">6</td><td style = \"text-align: left;\">7</td><td style = \"text-align: left;\">1-4-1-5-5-5-1-4-1</td><td style = \"text-align: left;\">.((((.(((((.....))))).)))).</td><td style = \"text-align: left;\">ACAAAAAAACCCCCGTGGTTTGTTTGCC</td><td style = \"text-align: right;\">28</td><td style = \"text-align: right;\">37</td><td style = \"text-align: left;\">false</td><td style = \"text-align: left;\">.((((.(((((.....))))).)))).((((..(((((.......)))))..))))..((((.(((((((.....)))).))).)))).........</td><td style = \"text-align: right;\">-27.3</td><td style = \"text-align: right;\">5.12789</td><td style = \"text-align: right;\">0</td><td style = \"text-align: right;\">0</td></tr><tr><td class = \"rowNumber\" style = \"font-weight: bold; text-align: right;\">7</td><td style = \"text-align: left;\">8</td><td style = \"text-align: left;\">5-10-5-4</td><td style = \"text-align: left;\">(((((..........)))))....</td><td style = \"text-align: left;\">ACAAAAAAACCCTGGTTTGTTTGCC</td><td style = \"text-align: right;\">25</td><td style = \"text-align: right;\">34</td><td style = \"text-align: left;\">false</td><td style = \"text-align: left;\">(((((..........)))))....((((..(((((.......)))))..))))..((((.(((((((.....)))).))).)))).........</td><td style = \"text-align: right;\">-23.6</td><td style = \"text-align: right;\">11.761</td><td style = \"text-align: right;\">0</td><td style = \"text-align: right;\">0</td></tr><tr><td class = \"rowNumber\" style = \"font-weight: bold; text-align: right;\">8</td><td style = \"text-align: left;\">9</td><td style = \"text-align: left;\">5-8-5-4</td><td style = \"text-align: left;\">(((((........)))))....</td><td style = \"text-align: left;\">ACAAAAAAACCGGTTTGTTTGCC</td><td style = \"text-align: right;\">23</td><td style = \"text-align: right;\">25</td><td style = \"text-align: left;\">false</td><td style = \"text-align: left;\">(((((........)))))....((((..(((((.......)))))..))))..((((.(((((((.....)))).))).)))).........</td><td style = \"text-align: right;\">-23.6</td><td style = \"text-align: right;\">11.6461</td><td style = \"text-align: right;\">0</td><td style = \"text-align: right;\">0</td></tr><tr><td class = \"rowNumber\" style = \"font-weight: bold; text-align: right;\">9</td><td style = \"text-align: left;\">10</td><td style = \"text-align: left;\">1-4-1-5-6-5-1-4-1</td><td style = \"text-align: left;\">.((((.(((((......))))).)))).</td><td style = \"text-align: left;\">ACAAAAAAACCCCCGTTGGTTTGTTTGCC</td><td style = \"text-align: right;\">29</td><td style = \"text-align: right;\">22</td><td style = \"text-align: left;\">false</td><td style = \"text-align: left;\">.((((.(((((......))))).)))).((((..(((((.......)))))..))))..((((.(((((((.....)))).))).)))).........</td><td style = \"text-align: right;\">-27.3</td><td style = \"text-align: right;\">7.37865</td><td style = \"text-align: right;\">0</td><td style = \"text-align: right;\">0</td></tr><tr><td class = \"rowNumber\" style = \"font-weight: bold; text-align: right;\">10</td><td style = \"text-align: left;\">11</td><td style = \"text-align: left;\">1-4-1-5-6-5-1-4-1</td><td style = \"text-align: left;\">.((((.(((((......))))).)))).</td><td style = \"text-align: left;\">ACAAAAAAACCTATCATGGTTTGTTTGCC</td><td style = \"text-align: right;\">29</td><td style = \"text-align: right;\">21</td><td style = \"text-align: left;\">false</td><td style = \"text-align: left;\">.((((.(((((......))))).)))).((((..(((((.......)))))..))))..((((.(((((((.....)))).))).)))).........</td><td style = \"text-align: right;\">-28.6</td><td style = \"text-align: right;\">4.91599</td><td style = \"text-align: right;\">0</td><td style = \"text-align: right;\">0</td></tr><tr><td class = \"rowNumber\" style = \"font-weight: bold; text-align: right;\">11</td><td style = \"text-align: left;\">12</td><td style = \"text-align: left;\">1-4-1-5-6-5-1-4-1</td><td style = \"text-align: left;\">.((((.(((((......))))).)))).</td><td style = \"text-align: left;\">ACAAAAAAACCCTCCATGGTTTGTTTGCC</td><td style = \"text-align: right;\">29</td><td style = \"text-align: right;\">20</td><td style = \"text-align: left;\">false</td><td style = \"text-align: left;\">.((((.(((((......))))).)))).((((..(((((.......)))))..))))..((((.(((((((.....)))).))).)))).........</td><td style = \"text-align: right;\">-27.3</td><td style = \"text-align: right;\">5.41005</td><td style = \"text-align: right;\">0</td><td style = \"text-align: right;\">0</td></tr><tr><td class = \"rowNumber\" style = \"font-weight: bold; text-align: right;\">12</td><td style = \"text-align: left;\">13</td><td style = \"text-align: left;\">1-14-5-10-1-4-1</td><td style = \"text-align: left;\">.((((((((((((((.....)))))))))).)))).</td><td style = \"text-align: left;\">ACAAAAAACCACCGCTACCAGCGGTGGTTTGTTTGCC</td><td style = \"text-align: right;\">37</td><td style = \"text-align: right;\">18</td><td style = \"text-align: left;\">false</td><td style = \"text-align: left;\">.((((((((((((((.....)))))))))).)))).((((..(((((.......)))))..))))..((((.(((((((.....)))).))).)))).........</td><td style = \"text-align: right;\">-39.8</td><td style = \"text-align: right;\">6.64129</td><td style = \"text-align: right;\">0</td><td style = \"text-align: right;\">0</td></tr><tr><td class = \"rowNumber\" style = \"font-weight: bold; text-align: right;\">13</td><td style = \"text-align: left;\">14</td><td style = \"text-align: left;\">1-4-1-5-16-5-1-4-1</td><td style = \"text-align: left;\">.((((.(((((................))))).)))).</td><td style = \"text-align: left;\">ACAAAAAAACCGATACTGTAAATCAATGGTTTGTTTGCC</td><td style = \"text-align: right;\">39</td><td style = \"text-align: right;\">17</td><td style = \"text-align: left;\">false</td><td style = \"text-align: left;\">.((((.(((((................))))).)))).((((..(((((.......)))))..))))..((((.(((((((.....)))).))).)))).........</td><td style = \"text-align: right;\">-28.0</td><td style = \"text-align: right;\">6.63798</td><td style = \"text-align: right;\">0</td><td style = \"text-align: right;\">0</td></tr><tr><td style = \"text-align: right;\">&vellip;</td><td style = \"text-align: right;\">&vellip;</td><td style = \"text-align: right;\">&vellip;</td><td style = \"text-align: right;\">&vellip;</td><td style = \"text-align: right;\">&vellip;</td><td style = \"text-align: right;\">&vellip;</td><td style = \"text-align: right;\">&vellip;</td><td style = \"text-align: right;\">&vellip;</td><td style = \"text-align: right;\">&vellip;</td><td style = \"text-align: right;\">&vellip;</td><td style = \"text-align: right;\">&vellip;</td><td style = \"text-align: right;\">&vellip;</td><td style = \"text-align: right;\">&vellip;</td></tr><tr><td class = \"rowNumber\" style = \"font-weight: bold; text-align: right;\">44908</td><td style = \"text-align: left;\">44953</td><td style = \"text-align: left;\">3-2-4-3-2-1-2-5-2-2-2-3-4-2</td><td style = \"text-align: left;\">(((..((((...((.((.....))..))...))))..</td><td style = \"text-align: left;\">ACAAAAAACCCTCCTGTGTCAAACGTGGTTTGTTTGCC</td><td style = \"text-align: right;\">38</td><td style = \"text-align: right;\">1</td><td style = \"text-align: left;\">false</td><td style = \"text-align: left;\">(((..((((...((.((.....))..))...))))..((((..(((((.......)))))..))))..((((.(((((((.....)))).))).))))......)))</td><td style = \"text-align: right;\">-26.8</td><td style = \"text-align: right;\">14.1877</td><td style = \"text-align: right;\">0</td><td style = \"text-align: right;\">0</td></tr><tr><td class = \"rowNumber\" style = \"font-weight: bold; text-align: right;\">44909</td><td style = \"text-align: left;\">44954</td><td style = \"text-align: left;\">1-4-1-5-16-5-1-4-1</td><td style = \"text-align: left;\">.((((.(((((................))))).)))).</td><td style = \"text-align: left;\">ACAAAAAAACCTCTTAGATTGTATAATGGTTTGTTTGCC</td><td style = \"text-align: right;\">39</td><td style = \"text-align: right;\">1</td><td style = \"text-align: left;\">false</td><td style = \"text-align: left;\">.((((.(((((................))))).)))).((((..(((((.......)))))..))))..((((.(((((((.....)))).))).)))).........</td><td style = \"text-align: right;\">-28.6</td><td style = \"text-align: right;\">5.3659</td><td style = \"text-align: right;\">0</td><td style = \"text-align: right;\">0</td></tr><tr><td class = \"rowNumber\" style = \"font-weight: bold; text-align: right;\">44910</td><td style = \"text-align: left;\">44955</td><td style = \"text-align: left;\">1-10-16-10-1</td><td style = \"text-align: left;\">.((((((((((................)))))))))).</td><td style = \"text-align: left;\">ACAAACAAACCCCGGGGCTATGCATTTGGTTTGTTTGCC</td><td style = \"text-align: right;\">39</td><td style = \"text-align: right;\">1</td><td style = \"text-align: left;\">false</td><td style = \"text-align: left;\">.((((((((((................)))))))))).((((..(((((.......)))))..))))..((((.(((((((.....)))).))).)))).........</td><td style = \"text-align: right;\">-33.6</td><td style = \"text-align: right;\">4.24505</td><td style = \"text-align: right;\">0</td><td style = \"text-align: right;\">0</td></tr><tr><td class = \"rowNumber\" style = \"font-weight: bold; text-align: right;\">44911</td><td style = \"text-align: left;\">44956</td><td style = \"text-align: left;\">3-5-5-4-5-2-5-5-4</td><td style = \"text-align: left;\">(((.....(((((....)))))..(((((.....))))</td><td style = \"text-align: left;\">ACAAAAAAACCCTGTAAAGGGTGTGGTGGTTTGTTTGCC</td><td style = \"text-align: right;\">39</td><td style = \"text-align: right;\">1</td><td style = \"text-align: left;\">false</td><td style = \"text-align: left;\">(((.....(((((....)))))..(((((.....)))))(((..(((((.......)))))..)))...((((.(((((((.....)))).))).))))......)))</td><td style = \"text-align: right;\">-33.3</td><td style = \"text-align: right;\">7.17613</td><td style = \"text-align: right;\">0</td><td style = \"text-align: right;\">0</td></tr><tr><td class = \"rowNumber\" style = \"font-weight: bold; text-align: right;\">44912</td><td style = \"text-align: left;\">44957</td><td style = \"text-align: left;\">3-3-4-4-4-6-4-4-4-2</td><td style = \"text-align: left;\">(((...((((....((((......))))....))))..</td><td style = \"text-align: left;\">ACAAAAAAACCCTACACATTCACCTGTGGTTTGTTTGCC</td><td style = \"text-align: right;\">39</td><td style = \"text-align: right;\">1</td><td style = \"text-align: left;\">false</td><td style = \"text-align: left;\">(((...((((....((((......))))....))))..((((..(((((.......)))))..))))..((((.(((((((.....)))).))).))))......)))</td><td style = \"text-align: right;\">-28.7</td><td style = \"text-align: right;\">11.3692</td><td style = \"text-align: right;\">0</td><td style = \"text-align: right;\">0</td></tr><tr><td class = \"rowNumber\" style = \"font-weight: bold; text-align: right;\">44913</td><td style = \"text-align: left;\">44958</td><td style = \"text-align: left;\">15-3-2-5-8-5</td><td style = \"text-align: left;\">...............(((..(((((........)))))</td><td style = \"text-align: left;\">ACAAAAAAACCTCACCAGCAGCAAAATGGTTTGTTTGCC</td><td style = \"text-align: right;\">39</td><td style = \"text-align: right;\">1</td><td style = \"text-align: left;\">false</td><td style = \"text-align: left;\">...............(((..(((((........)))))((((..(((((.......)))))..))))..((((.(((((((.....)))).))).)))).....))).</td><td style = \"text-align: right;\">-28.7</td><td style = \"text-align: right;\">14.7099</td><td style = \"text-align: right;\">0</td><td style = \"text-align: right;\">0</td></tr><tr><td class = \"rowNumber\" style = \"font-weight: bold; text-align: right;\">44914</td><td style = \"text-align: left;\">44959</td><td style = \"text-align: left;\">1-4-1-5-16-5-1-4-1</td><td style = \"text-align: left;\">.((((.(((((................))))).)))).</td><td style = \"text-align: left;\">ACAAAAAAACCCTTACTCGTGCCCGTTGGTTTGTTTGCC</td><td style = \"text-align: right;\">39</td><td style = \"text-align: right;\">1</td><td style = \"text-align: left;\">false</td><td style = \"text-align: left;\">.((((.(((((................))))).)))).((((..(((((.......)))))..))))..((((.(((((((.....)))).))).)))).........</td><td style = \"text-align: right;\">-27.3</td><td style = \"text-align: right;\">9.05139</td><td style = \"text-align: right;\">0</td><td style = \"text-align: right;\">0</td></tr><tr><td class = \"rowNumber\" style = \"font-weight: bold; text-align: right;\">44915</td><td style = \"text-align: left;\">44960</td><td style = \"text-align: left;\">18-8-9-3</td><td style = \"text-align: left;\">..................((((((((.........)))</td><td style = \"text-align: left;\">ACAAAAAAACCCCCGATTGTATTGCATGGTTTGTTTGCC</td><td style = \"text-align: right;\">39</td><td style = \"text-align: right;\">1</td><td style = \"text-align: left;\">false</td><td style = \"text-align: left;\">..................((((((((.........)))((((..(((((.......)))))..))))..((((.(((((((.....)))).))).)))).)))))...</td><td style = \"text-align: right;\">-27.8</td><td style = \"text-align: right;\">12.4171</td><td style = \"text-align: right;\">0</td><td style = \"text-align: right;\">0</td></tr><tr><td class = \"rowNumber\" style = \"font-weight: bold; text-align: right;\">44916</td><td style = \"text-align: left;\">44961</td><td style = \"text-align: left;\">1-4-1-9-7-9-1-4-1</td><td style = \"text-align: left;\">.((((.(((((((((.......))))))))).)))).</td><td style = \"text-align: left;\">ACAAAAAAACCAGGTATGTGTAACCTGGTTTGTTTGCC</td><td style = \"text-align: right;\">38</td><td style = \"text-align: right;\">1</td><td style = \"text-align: left;\">false</td><td style = \"text-align: left;\">.((((.(((((((((.......))))))))).)))).((((..(((((.......)))))..))))..((((.(((((((.....)))).))).)))).........</td><td style = \"text-align: right;\">-36.7</td><td style = \"text-align: right;\">5.09572</td><td style = \"text-align: right;\">0</td><td style = \"text-align: right;\">0</td></tr><tr><td class = \"rowNumber\" style = \"font-weight: bold; text-align: right;\">44917</td><td style = \"text-align: left;\">44962</td><td style = \"text-align: left;\">1-4-1-10-6-10-1-4-1</td><td style = \"text-align: left;\">.((((.((((((((((......)))))))))).)))).</td><td style = \"text-align: left;\">ACAAAAAAACCACACGTATACCCGTGTGGTTTGTTTGCC</td><td style = \"text-align: right;\">39</td><td style = \"text-align: right;\">1</td><td style = \"text-align: left;\">false</td><td style = \"text-align: left;\">.((((.((((((((((......)))))))))).)))).((((..(((((.......)))))..))))..((((.(((((((.....)))).))).)))).........</td><td style = \"text-align: right;\">-38.5</td><td style = \"text-align: right;\">4.99163</td><td style = \"text-align: right;\">0</td><td style = \"text-align: right;\">0</td></tr><tr><td class = \"rowNumber\" style = \"font-weight: bold; text-align: right;\">44918</td><td style = \"text-align: left;\">44963</td><td style = \"text-align: left;\">19-11-6-2</td><td style = \"text-align: left;\">...................(((((((((((......))</td><td style = \"text-align: left;\">ACAAAAAAACCTAAACATAACGGTATTGGTTTGTTTGCC</td><td style = \"text-align: right;\">39</td><td style = \"text-align: right;\">1</td><td style = \"text-align: left;\">false</td><td style = \"text-align: left;\">...................(((((((((((......)))(((..(((((.......)))))..)))...((((.(((((((.....)))).))).)))).))))))))</td><td style = \"text-align: right;\">-29.5</td><td style = \"text-align: right;\">15.8766</td><td style = \"text-align: right;\">0</td><td style = \"text-align: right;\">0</td></tr><tr><td class = \"rowNumber\" style = \"font-weight: bold; text-align: right;\">44919</td><td style = \"text-align: left;\">0</td><td style = \"text-align: left;\">1-4-1-10-5-10-1-4-1</td><td style = \"text-align: left;\">.((((.((((((((((.....)))))))))).)))).</td><td style = \"text-align: left;\">ACAAAAAAACCACCGCTACCAGCGGTGGTTTGTTTGCC</td><td style = \"text-align: right;\">38</td><td style = \"text-align: right;\">47</td><td style = \"text-align: left;\">WT</td><td style = \"text-align: left;\">.((((.((((((((((.....)))))))))).)))).((((..(((((.......)))))..))))..((((.(((((((.....)))).))).)))).........</td><td style = \"text-align: right;\">-41.1</td><td style = \"text-align: right;\">5.30195</td><td style = \"text-align: right;\">0</td><td style = \"text-align: right;\">0</td></tr></tbody></table></div>"
      ],
      "text/latex": [
       "\\begin{tabular}{r|cccc}\n",
       "\t& Sequence\\_number & Loop1\\_description & MFE\\_SUBstructure & \\\\\n",
       "\t\\hline\n",
       "\t& Any & Any & Any & \\\\\n",
       "\t\\hline\n",
       "\t1 & 2 & 1-4-1-5-4-5-1-4-1 & .((((.(((((....))))).)))). & $\\dots$ \\\\\n",
       "\t2 & 3 & 5-9-5-4 & (((((.........))))).... & $\\dots$ \\\\\n",
       "\t3 & 4 & 1-4-1-5-5-5-1-4-1 & .((((.(((((.....))))).)))). & $\\dots$ \\\\\n",
       "\t4 & 5 & 1-4-1-5-3-5-1-4-1 & .((((.(((((...))))).)))). & $\\dots$ \\\\\n",
       "\t5 & 6 & 1-4-1-5-5-5-1-4-1 & .((((.(((((.....))))).)))). & $\\dots$ \\\\\n",
       "\t6 & 7 & 1-4-1-5-5-5-1-4-1 & .((((.(((((.....))))).)))). & $\\dots$ \\\\\n",
       "\t7 & 8 & 5-10-5-4 & (((((..........))))).... & $\\dots$ \\\\\n",
       "\t8 & 9 & 5-8-5-4 & (((((........))))).... & $\\dots$ \\\\\n",
       "\t9 & 10 & 1-4-1-5-6-5-1-4-1 & .((((.(((((......))))).)))). & $\\dots$ \\\\\n",
       "\t10 & 11 & 1-4-1-5-6-5-1-4-1 & .((((.(((((......))))).)))). & $\\dots$ \\\\\n",
       "\t11 & 12 & 1-4-1-5-6-5-1-4-1 & .((((.(((((......))))).)))). & $\\dots$ \\\\\n",
       "\t12 & 13 & 1-14-5-10-1-4-1 & .((((((((((((((.....)))))))))).)))). & $\\dots$ \\\\\n",
       "\t13 & 14 & 1-4-1-5-16-5-1-4-1 & .((((.(((((................))))).)))). & $\\dots$ \\\\\n",
       "\t14 & 15 & 1-4-1-7-1-2-5-2-1-7-1-4-1 & .((((.(((((((.((.....)).))))))).)))). & $\\dots$ \\\\\n",
       "\t15 & 16 & 1-4-1-5-6-5-1-4-1 & .((((.(((((......))))).)))). & $\\dots$ \\\\\n",
       "\t16 & 17 & 1-4-1-5-6-5-1-4-1 & .((((.(((((......))))).)))). & $\\dots$ \\\\\n",
       "\t17 & 18 & 1-4-1-11-4-11-1-4-1 & .((((.(((((((((((....))))))))))).)))). & $\\dots$ \\\\\n",
       "\t18 & 19 & 1-4-1-5-6-5-1-4-1 & .((((.(((((......))))).)))). & $\\dots$ \\\\\n",
       "\t19 & 20 & 1-4-1-5-6-5-1-4-1 & .((((.(((((......))))).)))). & $\\dots$ \\\\\n",
       "\t20 & 21 & 1-4-1-5-6-5-1-4-1 & .((((.(((((......))))).)))). & $\\dots$ \\\\\n",
       "\t21 & 22 & 1-4-1-5-6-5-1-4-1 & .((((.(((((......))))).)))). & $\\dots$ \\\\\n",
       "\t22 & 23 & 1-4-1-5-16-5-1-4-1 & .((((.(((((................))))).)))). & $\\dots$ \\\\\n",
       "\t23 & 24 & 1-4-1-9-3-9-1-4-1 & .((((.(((((((((...))))))))).)))). & $\\dots$ \\\\\n",
       "\t24 & 26 & 1-4-1-5-4-5-1-4-1 & .((((.(((((....))))).)))). & $\\dots$ \\\\\n",
       "\t25 & 27 & 3-5-7-5-7-3-6-2 & (((.....(((((((.....)))))))(((......)) & $\\dots$ \\\\\n",
       "\t26 & 28 & 1-4-1-5-1-3-5-3-1-5-1-4-1 & .((((.(((((.(((.....))).))))).)))). & $\\dots$ \\\\\n",
       "\t27 & 29 & 1-4-1-5-6-5-1-4-1 & .((((.(((((......))))).)))). & $\\dots$ \\\\\n",
       "\t28 & 30 & 1-4-1-8-10-8-1-4-1 & .((((.((((((((..........)))))))).)))). & $\\dots$ \\\\\n",
       "\t29 & 31 & 1-4-1-5-3-5-1-4-1 & .((((.(((((...))))).)))). & $\\dots$ \\\\\n",
       "\t30 & 32 & 1-4-1-5-6-5-1-4-1 & .((((.(((((......))))).)))). & $\\dots$ \\\\\n",
       "\t$\\dots$ & $\\dots$ & $\\dots$ & $\\dots$ &  \\\\\n",
       "\\end{tabular}\n"
      ],
      "text/plain": [
       "\u001b[1m44919×12 DataFrame\u001b[0m\n",
       "\u001b[1m   Row \u001b[0m│\u001b[1m Sequence_number \u001b[0m\u001b[1m Loop1_description           \u001b[0m\u001b[1m MFE_SUBstructure       \u001b[0m ⋯\n",
       "       │\u001b[90m Any             \u001b[0m\u001b[90m Any                         \u001b[0m\u001b[90m Any                    \u001b[0m ⋯\n",
       "───────┼────────────────────────────────────────────────────────────────────────\n",
       "     1 │ 2                1-4-1-5-4-5-1-4-1            .((((.(((((....))))).)) ⋯\n",
       "     2 │ 3                5-9-5-4                      (((((.........)))))....\n",
       "     3 │ 4                1-4-1-5-5-5-1-4-1            .((((.(((((.....))))).)\n",
       "     4 │ 5                1-4-1-5-3-5-1-4-1            .((((.(((((...))))).)))\n",
       "     5 │ 6                1-4-1-5-5-5-1-4-1            .((((.(((((.....))))).) ⋯\n",
       "     6 │ 7                1-4-1-5-5-5-1-4-1            .((((.(((((.....))))).)\n",
       "     7 │ 8                5-10-5-4                     (((((..........)))))...\n",
       "     8 │ 9                5-8-5-4                      (((((........)))))....\n",
       "     9 │ 10               1-4-1-5-6-5-1-4-1            .((((.(((((......))))). ⋯\n",
       "    10 │ 11               1-4-1-5-6-5-1-4-1            .((((.(((((......))))).\n",
       "    11 │ 12               1-4-1-5-6-5-1-4-1            .((((.(((((......))))).\n",
       "   ⋮   │        ⋮                      ⋮                               ⋮       ⋱\n",
       " 44910 │ 44955            1-10-16-10-1                 .((((((((((............\n",
       " 44911 │ 44956            3-5-5-4-5-2-5-5-4            (((.....(((((....))))). ⋯\n",
       " 44912 │ 44957            3-3-4-4-4-6-4-4-4-2          (((...((((....((((.....\n",
       " 44913 │ 44958            15-3-2-5-8-5                 ...............(((..(((\n",
       " 44914 │ 44959            1-4-1-5-16-5-1-4-1           .((((.(((((............\n",
       " 44915 │ 44960            18-8-9-3                     ..................((((( ⋯\n",
       " 44916 │ 44961            1-4-1-9-7-9-1-4-1            .((((.(((((((((.......)\n",
       " 44917 │ 44962            1-4-1-10-6-10-1-4-1          .((((.((((((((((......)\n",
       " 44918 │ 44963            19-11-6-2                    ...................((((\n",
       " 44919 │ 0                1-4-1-10-5-10-1-4-1          .((((.((((((((((.....)) ⋯\n",
       "\u001b[36m                                               10 columns and 44898 rows omitted\u001b[0m"
      ]
     },
     "execution_count": 24,
     "metadata": {},
     "output_type": "execute_result"
    }
   ],
   "source": [
    "## creating the detailed LoopI structure-description of every sequence and including it into a dataframe\n",
    "substructure = DataFrame([[],[]],[\"Sequence_number\", \"Loop1_description\"])\n",
    "\n",
    "for n = 1: size(lib_analysis, 1)\n",
    "    sub_struc = lib_analysis.MFE_SUBstructure[n]\n",
    "    seq_num = lib_analysis.Sequence_number[n]\n",
    "\n",
    "    range_structure = vcat(loop_ranges(sub_struc, 1, '('), loop_ranges(sub_struc, 1, ')'), loop_ranges(sub_struc, 1, '.'))\n",
    "    sort!(range_structure)\n",
    "    \n",
    "    structure_sum = \"\"\n",
    "    for i in range_structure\n",
    "        if structure_sum == \"\"\n",
    "            structure_sum = structure_sum * \"$(length(i))\"\n",
    "        else\n",
    "            structure_sum = structure_sum * \"-\" * \"$(length(i))\"\n",
    "        end\n",
    "    end\n",
    "    \n",
    "    push!(substructure, (seq_num, structure_sum))\n",
    "\n",
    "end\n",
    "\n",
    "lib_StructureAnalysis = innerjoin(substructure, lib_analysis, on = :Sequence_number)\n",
    "        "
   ]
  },
  {
   "cell_type": "code",
   "execution_count": 14,
   "id": "559d597b-2be7-4ccc-a4d3-911980689b7d",
   "metadata": {},
   "outputs": [],
   "source": [
    "save_name = \"AllStructureAnalysis_\" * file_name[1:end-6] * \".csv\"\n",
    "\n",
    "\n",
    "## Saving results\n",
    "#CSV.write(save_name, lib_StructureAnalysis)\n",
    "\n",
    "## Opening saved results\n",
    "#save_name = \"StructureAnalysisReady_Old_large_Loop1_rc.csv\"\n",
    "lib_StructureAnalysis = CSV.read(save_name, DataFrame);"
   ]
  },
  {
   "cell_type": "markdown",
   "id": "7f5750d1-c5fc-40f9-b3b5-731d23b00fa3",
   "metadata": {},
   "source": [
    "<a id='searchset_stem'></a>"
   ]
  },
  {
   "cell_type": "markdown",
   "id": "5cc1dddd-4874-439f-9871-5d504c58a1c7",
   "metadata": {
    "tags": []
   },
   "source": [
    "### Different lentgh Stem - Analysis"
   ]
  },
  {
   "cell_type": "code",
   "execution_count": 15,
   "id": "2872e6b6-7945-495e-8d2a-d739ab593412",
   "metadata": {},
   "outputs": [
    {
     "data": {
      "text/plain": [
       "20-element Vector{Any}:\n",
       " \"1-4-1-1-5-1-1-4-1\"\n",
       " \"1-4-1-2-5-2-1-4-1\"\n",
       " \"1-4-1-3-5-3-1-4-1\"\n",
       " \"1-4-1-4-5-4-1-4-1\"\n",
       " \"1-4-1-5-5-5-1-4-1\"\n",
       " \"1-4-1-6-5-6-1-4-1\"\n",
       " \"1-4-1-7-5-7-1-4-1\"\n",
       " \"1-4-1-8-5-8-1-4-1\"\n",
       " \"1-4-1-9-5-9-1-4-1\"\n",
       " \"1-4-1-10-5-10-1-4-1\"\n",
       " \"1-4-1-11-5-11-1-4-1\"\n",
       " \"1-4-1-12-5-12-1-4-1\"\n",
       " \"1-4-1-13-5-13-1-4-1\"\n",
       " \"1-4-1-14-5-14-1-4-1\"\n",
       " \"1-4-1-15-5-15-1-4-1\"\n",
       " \"1-4-1-16-5-16-1-4-1\"\n",
       " \"1-4-1-17-5-17-1-4-1\"\n",
       " \"1-4-1-18-5-18-1-4-1\"\n",
       " \"1-4-1-19-5-19-1-4-1\"\n",
       " \"1-4-1-20-5-20-1-4-1\""
      ]
     },
     "execution_count": 15,
     "metadata": {},
     "output_type": "execute_result"
    }
   ],
   "source": [
    "search_set_stem = []\n",
    "for n = 1: 20\n",
    "    wt_pre = \"1-4-1-\"\n",
    "    wt_loop = \"-5-\"\n",
    "    wt_pos = \"-1-4-1\"\n",
    "    \n",
    "    new_item = wt_pre * \"$(n)\" * wt_loop * \"$(n)\" * wt_pos\n",
    "    push!(search_set_stem, new_item)\n",
    "end\n",
    "search_set_stem"
   ]
  },
  {
   "cell_type": "code",
   "execution_count": 16,
   "id": "a7359e9e-c094-44b3-bb74-2ec6b033faf4",
   "metadata": {},
   "outputs": [
    {
     "data": {
      "text/html": [
       "<div><div style = \"float: left;\"><span>134×12 DataFrame</span></div><div style = \"float: right;\"><span style = \"font-style: italic;\">109 rows omitted</span></div><div style = \"clear: both;\"></div></div><div class = \"data-frame\" style = \"overflow-x: scroll;\"><table class = \"data-frame\" style = \"margin-bottom: 6px;\"><thead><tr class = \"header\"><th class = \"rowNumber\" style = \"font-weight: bold; text-align: right;\">Row</th><th style = \"text-align: left;\">Sequence_number</th><th style = \"text-align: left;\">Loop1_description</th><th style = \"text-align: left;\">MFE_SUBstructure</th><th style = \"text-align: left;\">LoopI</th><th style = \"text-align: left;\">Loop_length</th><th style = \"text-align: left;\">Count</th><th style = \"text-align: left;\">WT</th><th style = \"text-align: left;\">MFE_structure</th><th style = \"text-align: left;\">MFE_energy</th><th style = \"text-align: left;\">Mbp_dist</th><th style = \"text-align: left;\">Seq_Cluster</th><th style = \"text-align: left;\">Str_Cluster</th></tr><tr class = \"subheader headerLastRow\"><th class = \"rowNumber\" style = \"font-weight: bold; text-align: right;\"></th><th title = \"Int64\" style = \"text-align: left;\">Int64</th><th title = \"String\" style = \"text-align: left;\">String</th><th title = \"String\" style = \"text-align: left;\">String</th><th title = \"String\" style = \"text-align: left;\">String</th><th title = \"Int64\" style = \"text-align: left;\">Int64</th><th title = \"Int64\" style = \"text-align: left;\">Int64</th><th title = \"String7\" style = \"text-align: left;\">String7</th><th title = \"String\" style = \"text-align: left;\">String</th><th title = \"Float64\" style = \"text-align: left;\">Float64</th><th title = \"Float64\" style = \"text-align: left;\">Float64</th><th title = \"Int64\" style = \"text-align: left;\">Int64</th><th title = \"Int64\" style = \"text-align: left;\">Int64</th></tr></thead><tbody><tr><td class = \"rowNumber\" style = \"font-weight: bold; text-align: right;\">1</td><td style = \"text-align: right;\">0</td><td style = \"text-align: left;\">1-4-1-10-5-10-1-4-1</td><td style = \"text-align: left;\">.((((.((((((((((.....)))))))))).)))).</td><td style = \"text-align: left;\">ACAAAAAAACCACCGCTACCAGCGGTGGTTTGTTTGCC</td><td style = \"text-align: right;\">38</td><td style = \"text-align: right;\">47</td><td style = \"text-align: left;\">WT</td><td style = \"text-align: left;\">.((((.((((((((((.....)))))))))).)))).((((..(((((.......)))))..))))..((((.(((((((.....)))).))).)))).........</td><td style = \"text-align: right;\">-41.1</td><td style = \"text-align: right;\">5.30195</td><td style = \"text-align: right;\">0</td><td style = \"text-align: right;\">0</td></tr><tr><td class = \"rowNumber\" style = \"font-weight: bold; text-align: right;\">2</td><td style = \"text-align: right;\">116</td><td style = \"text-align: left;\">1-4-1-10-5-10-1-4-1</td><td style = \"text-align: left;\">.((((.((((((((((.....)))))))))).)))).</td><td style = \"text-align: left;\">ACAAAAAAACCACCGCTAATTGTGGTGGTTTGTTTGCC</td><td style = \"text-align: right;\">38</td><td style = \"text-align: right;\">7</td><td style = \"text-align: left;\">false</td><td style = \"text-align: left;\">.((((.((((((((((.....)))))))))).)))).((((..(((((.......)))))..))))..((((.(((((((.....)))).))).)))).........</td><td style = \"text-align: right;\">-39.2</td><td style = \"text-align: right;\">4.91658</td><td style = \"text-align: right;\">0</td><td style = \"text-align: right;\">0</td></tr><tr><td class = \"rowNumber\" style = \"font-weight: bold; text-align: right;\">3</td><td style = \"text-align: right;\">12431</td><td style = \"text-align: left;\">1-4-1-10-5-10-1-4-1</td><td style = \"text-align: left;\">.((((.((((((((((.....)))))))))).)))).</td><td style = \"text-align: left;\">ACAAAAAAACCACCGATAGGATCGGTGGTTTGTTTGCC</td><td style = \"text-align: right;\">38</td><td style = \"text-align: right;\">1</td><td style = \"text-align: left;\">false</td><td style = \"text-align: left;\">.((((.((((((((((.....)))))))))).)))).((((..(((((.......)))))..))))..((((.(((((((.....)))).))).)))).........</td><td style = \"text-align: right;\">-39.0</td><td style = \"text-align: right;\">5.46979</td><td style = \"text-align: right;\">0</td><td style = \"text-align: right;\">0</td></tr><tr><td class = \"rowNumber\" style = \"font-weight: bold; text-align: right;\">4</td><td style = \"text-align: right;\">11910</td><td style = \"text-align: left;\">1-4-1-10-5-10-1-4-1</td><td style = \"text-align: left;\">.((((.((((((((((.....)))))))))).)))).</td><td style = \"text-align: left;\">ACAAAAAAACCACTGTGCGTAGCAGTGGTTTGTTTGCC</td><td style = \"text-align: right;\">38</td><td style = \"text-align: right;\">1</td><td style = \"text-align: left;\">false</td><td style = \"text-align: left;\">.((((.((((((((((.....)))))))))).)))).((((..(((((.......)))))..))))..((((.(((((((.....)))).))).)))).........</td><td style = \"text-align: right;\">-38.4</td><td style = \"text-align: right;\">4.91985</td><td style = \"text-align: right;\">0</td><td style = \"text-align: right;\">0</td></tr><tr><td class = \"rowNumber\" style = \"font-weight: bold; text-align: right;\">5</td><td style = \"text-align: right;\">5090</td><td style = \"text-align: left;\">1-4-1-11-5-11-1-4-1</td><td style = \"text-align: left;\">.((((.(((((((((((.....))))))))))).)))).</td><td style = \"text-align: left;\">ACAAAAAAACCATGCTTAGGCTAGGCATGGTTTGTTTGCC</td><td style = \"text-align: right;\">40</td><td style = \"text-align: right;\">2</td><td style = \"text-align: left;\">false</td><td style = \"text-align: left;\">.((((.(((((((((((.....))))))))))).)))).((((..(((((.......)))))..))))..((((.(((((((.....)))).))).)))).........</td><td style = \"text-align: right;\">-38.3</td><td style = \"text-align: right;\">5.59503</td><td style = \"text-align: right;\">0</td><td style = \"text-align: right;\">0</td></tr><tr><td class = \"rowNumber\" style = \"font-weight: bold; text-align: right;\">6</td><td style = \"text-align: right;\">39052</td><td style = \"text-align: left;\">1-4-1-10-5-10-1-4-1</td><td style = \"text-align: left;\">.((((.((((((((((.....)))))))))).)))).</td><td style = \"text-align: left;\">ACAAAAAAACCAAGCTACCTAAGCTTGGTTTGTTTGCC</td><td style = \"text-align: right;\">38</td><td style = \"text-align: right;\">1</td><td style = \"text-align: left;\">false</td><td style = \"text-align: left;\">.((((.((((((((((.....)))))))))).)))).((((..(((((.......)))))..))))..((((.(((((((.....)))).))).)))).........</td><td style = \"text-align: right;\">-37.8</td><td style = \"text-align: right;\">5.03534</td><td style = \"text-align: right;\">0</td><td style = \"text-align: right;\">0</td></tr><tr><td class = \"rowNumber\" style = \"font-weight: bold; text-align: right;\">7</td><td style = \"text-align: right;\">5158</td><td style = \"text-align: left;\">1-4-1-10-5-10-1-4-1</td><td style = \"text-align: left;\">.((((.((((((((((.....)))))))))).)))).</td><td style = \"text-align: left;\">ACAAAAAAACCAACCTCATTAAGGTTGGTTTGTTTGCC</td><td style = \"text-align: right;\">38</td><td style = \"text-align: right;\">2</td><td style = \"text-align: left;\">false</td><td style = \"text-align: left;\">.((((.((((((((((.....)))))))))).)))).((((..(((((.......)))))..))))..((((.(((((((.....)))).))).)))).........</td><td style = \"text-align: right;\">-37.3</td><td style = \"text-align: right;\">5.09965</td><td style = \"text-align: right;\">0</td><td style = \"text-align: right;\">0</td></tr><tr><td class = \"rowNumber\" style = \"font-weight: bold; text-align: right;\">8</td><td style = \"text-align: right;\">3439</td><td style = \"text-align: left;\">1-4-1-10-5-10-1-4-1</td><td style = \"text-align: left;\">.((((.((((((((((.....)))))))))).)))).</td><td style = \"text-align: left;\">ACAAAAAAACCAACCACTTCTTGGTTGGTTTGTTTGCC</td><td style = \"text-align: right;\">38</td><td style = \"text-align: right;\">2</td><td style = \"text-align: left;\">false</td><td style = \"text-align: left;\">.((((.((((((((((.....)))))))))).)))).((((..(((((.......)))))..))))..((((.(((((((.....)))).))).)))).........</td><td style = \"text-align: right;\">-37.3</td><td style = \"text-align: right;\">5.2487</td><td style = \"text-align: right;\">0</td><td style = \"text-align: right;\">0</td></tr><tr><td class = \"rowNumber\" style = \"font-weight: bold; text-align: right;\">9</td><td style = \"text-align: right;\">33773</td><td style = \"text-align: left;\">1-4-1-10-5-10-1-4-1</td><td style = \"text-align: left;\">.((((.((((((((((.....)))))))))).)))).</td><td style = \"text-align: left;\">ACAAAAAAACCACCTGAAAGTTAGGTGGTTTGTTTGCC</td><td style = \"text-align: right;\">38</td><td style = \"text-align: right;\">1</td><td style = \"text-align: left;\">false</td><td style = \"text-align: left;\">.((((.((((((((((.....)))))))))).)))).((((..(((((.......)))))..))))..((((.(((((((.....)))).))).)))).........</td><td style = \"text-align: right;\">-37.2</td><td style = \"text-align: right;\">5.5554</td><td style = \"text-align: right;\">0</td><td style = \"text-align: right;\">0</td></tr><tr><td class = \"rowNumber\" style = \"font-weight: bold; text-align: right;\">10</td><td style = \"text-align: right;\">38129</td><td style = \"text-align: left;\">1-4-1-9-5-9-1-4-1</td><td style = \"text-align: left;\">.((((.(((((((((.....))))))))).)))).</td><td style = \"text-align: left;\">ACAAAAAAACCACCTTATATAGGTGGTTTGTTTGCC</td><td style = \"text-align: right;\">36</td><td style = \"text-align: right;\">1</td><td style = \"text-align: left;\">false</td><td style = \"text-align: left;\">.((((.(((((((((.....))))))))).)))).((((..(((((.......)))))..))))..((((.(((((((.....)))).))).)))).........</td><td style = \"text-align: right;\">-37.1</td><td style = \"text-align: right;\">4.97605</td><td style = \"text-align: right;\">0</td><td style = \"text-align: right;\">0</td></tr><tr><td class = \"rowNumber\" style = \"font-weight: bold; text-align: right;\">11</td><td style = \"text-align: right;\">629</td><td style = \"text-align: left;\">1-4-1-10-5-10-1-4-1</td><td style = \"text-align: left;\">.((((.((((((((((.....)))))))))).)))).</td><td style = \"text-align: left;\">ACAAAAAAACCACCGAGATCATTGGTGGTTTGTTTGCC</td><td style = \"text-align: right;\">38</td><td style = \"text-align: right;\">4</td><td style = \"text-align: left;\">false</td><td style = \"text-align: left;\">.((((.((((((((((.....)))))))))).)))).((((..(((((.......)))))..))))..((((.(((((((.....)))).))).)))).........</td><td style = \"text-align: right;\">-37.1</td><td style = \"text-align: right;\">5.25516</td><td style = \"text-align: right;\">0</td><td style = \"text-align: right;\">0</td></tr><tr><td class = \"rowNumber\" style = \"font-weight: bold; text-align: right;\">12</td><td style = \"text-align: right;\">30247</td><td style = \"text-align: left;\">1-4-1-10-5-10-1-4-1</td><td style = \"text-align: left;\">.((((.((((((((((.....)))))))))).)))).</td><td style = \"text-align: left;\">ACAAAAAAACCAGCTGCAAAATAGCTGGTTTGTTTGCC</td><td style = \"text-align: right;\">38</td><td style = \"text-align: right;\">1</td><td style = \"text-align: left;\">false</td><td style = \"text-align: left;\">.((((.((((((((((.....)))))))))).)))).((((..(((((.......)))))..))))..((((.(((((((.....)))).))).)))).........</td><td style = \"text-align: right;\">-37.0</td><td style = \"text-align: right;\">5.45796</td><td style = \"text-align: right;\">0</td><td style = \"text-align: right;\">0</td></tr><tr><td class = \"rowNumber\" style = \"font-weight: bold; text-align: right;\">13</td><td style = \"text-align: right;\">18974</td><td style = \"text-align: left;\">1-4-1-9-5-9-1-4-1</td><td style = \"text-align: left;\">.((((.(((((((((.....))))))))).)))).</td><td style = \"text-align: left;\">ACAAAAAAACCACGAGCGAATCGTGGTTTGTTTGCC</td><td style = \"text-align: right;\">36</td><td style = \"text-align: right;\">1</td><td style = \"text-align: left;\">false</td><td style = \"text-align: left;\">.((((.(((((((((.....))))))))).)))).((((..(((((.......)))))..))))..((((.(((((((.....)))).))).)))).........</td><td style = \"text-align: right;\">-36.8</td><td style = \"text-align: right;\">4.96664</td><td style = \"text-align: right;\">0</td><td style = \"text-align: right;\">0</td></tr><tr><td style = \"text-align: right;\">&vellip;</td><td style = \"text-align: right;\">&vellip;</td><td style = \"text-align: right;\">&vellip;</td><td style = \"text-align: right;\">&vellip;</td><td style = \"text-align: right;\">&vellip;</td><td style = \"text-align: right;\">&vellip;</td><td style = \"text-align: right;\">&vellip;</td><td style = \"text-align: right;\">&vellip;</td><td style = \"text-align: right;\">&vellip;</td><td style = \"text-align: right;\">&vellip;</td><td style = \"text-align: right;\">&vellip;</td><td style = \"text-align: right;\">&vellip;</td><td style = \"text-align: right;\">&vellip;</td></tr><tr><td class = \"rowNumber\" style = \"font-weight: bold; text-align: right;\">123</td><td style = \"text-align: right;\">36235</td><td style = \"text-align: left;\">1-4-1-5-5-5-1-4-1</td><td style = \"text-align: left;\">.((((.(((((.....))))).)))).</td><td style = \"text-align: left;\">ACAAAAAAACCCACATGGTTTGTTTGCC</td><td style = \"text-align: right;\">28</td><td style = \"text-align: right;\">1</td><td style = \"text-align: left;\">false</td><td style = \"text-align: left;\">.((((.(((((.....))))).)))).((((..(((((.......)))))..))))..((((.(((((((.....)))).))).)))).........</td><td style = \"text-align: right;\">-27.3</td><td style = \"text-align: right;\">5.18866</td><td style = \"text-align: right;\">0</td><td style = \"text-align: right;\">0</td></tr><tr><td class = \"rowNumber\" style = \"font-weight: bold; text-align: right;\">124</td><td style = \"text-align: right;\">4</td><td style = \"text-align: left;\">1-4-1-5-5-5-1-4-1</td><td style = \"text-align: left;\">.((((.(((((.....))))).)))).</td><td style = \"text-align: left;\">ACAAAAAAACCCGGATGGTTTGTTTGCC</td><td style = \"text-align: right;\">28</td><td style = \"text-align: right;\">70</td><td style = \"text-align: left;\">false</td><td style = \"text-align: left;\">.((((.(((((.....))))).)))).((((..(((((.......)))))..))))..((((.(((((((.....)))).))).)))).........</td><td style = \"text-align: right;\">-27.3</td><td style = \"text-align: right;\">5.19386</td><td style = \"text-align: right;\">0</td><td style = \"text-align: right;\">0</td></tr><tr><td class = \"rowNumber\" style = \"font-weight: bold; text-align: right;\">125</td><td style = \"text-align: right;\">15895</td><td style = \"text-align: left;\">1-4-1-5-5-5-1-4-1</td><td style = \"text-align: left;\">.((((.(((((.....))))).)))).</td><td style = \"text-align: left;\">ACAAAAAAACCCCGTTGGTTTGTTTGCC</td><td style = \"text-align: right;\">28</td><td style = \"text-align: right;\">1</td><td style = \"text-align: left;\">false</td><td style = \"text-align: left;\">.((((.(((((.....))))).)))).((((..(((((.......)))))..))))..((((.(((((((.....)))).))).)))).........</td><td style = \"text-align: right;\">-27.3</td><td style = \"text-align: right;\">5.22882</td><td style = \"text-align: right;\">0</td><td style = \"text-align: right;\">0</td></tr><tr><td class = \"rowNumber\" style = \"font-weight: bold; text-align: right;\">126</td><td style = \"text-align: right;\">44917</td><td style = \"text-align: left;\">1-4-1-5-5-5-1-4-1</td><td style = \"text-align: left;\">.((((.(((((.....))))).)))).</td><td style = \"text-align: left;\">ACAAAAAAACCCCTTTGGTTTGTTTGCC</td><td style = \"text-align: right;\">28</td><td style = \"text-align: right;\">1</td><td style = \"text-align: left;\">false</td><td style = \"text-align: left;\">.((((.(((((.....))))).)))).((((..(((((.......)))))..))))..((((.(((((((.....)))).))).)))).........</td><td style = \"text-align: right;\">-27.3</td><td style = \"text-align: right;\">5.23421</td><td style = \"text-align: right;\">0</td><td style = \"text-align: right;\">0</td></tr><tr><td class = \"rowNumber\" style = \"font-weight: bold; text-align: right;\">127</td><td style = \"text-align: right;\">7521</td><td style = \"text-align: left;\">1-4-1-5-5-5-1-4-1</td><td style = \"text-align: left;\">.((((.(((((.....))))).)))).</td><td style = \"text-align: left;\">ACAAAAAAACCCTAATGGTTTGTTTGCC</td><td style = \"text-align: right;\">28</td><td style = \"text-align: right;\">2</td><td style = \"text-align: left;\">false</td><td style = \"text-align: left;\">.((((.(((((.....))))).)))).((((..(((((.......)))))..))))..((((.(((((((.....)))).))).)))).........</td><td style = \"text-align: right;\">-27.3</td><td style = \"text-align: right;\">5.39813</td><td style = \"text-align: right;\">0</td><td style = \"text-align: right;\">0</td></tr><tr><td class = \"rowNumber\" style = \"font-weight: bold; text-align: right;\">128</td><td style = \"text-align: right;\">21140</td><td style = \"text-align: left;\">1-4-1-5-5-5-1-4-1</td><td style = \"text-align: left;\">.((((.(((((.....))))).)))).</td><td style = \"text-align: left;\">ACAAAAAAACCCTCTTGGTTTGTTTGCC</td><td style = \"text-align: right;\">28</td><td style = \"text-align: right;\">1</td><td style = \"text-align: left;\">false</td><td style = \"text-align: left;\">.((((.(((((.....))))).)))).((((..(((((.......)))))..))))..((((.(((((((.....)))).))).)))).........</td><td style = \"text-align: right;\">-27.3</td><td style = \"text-align: right;\">5.44545</td><td style = \"text-align: right;\">0</td><td style = \"text-align: right;\">0</td></tr><tr><td class = \"rowNumber\" style = \"font-weight: bold; text-align: right;\">129</td><td style = \"text-align: right;\">6</td><td style = \"text-align: left;\">1-4-1-5-5-5-1-4-1</td><td style = \"text-align: left;\">.((((.(((((.....))))).)))).</td><td style = \"text-align: left;\">ACAAAAAAACCCGGGTGGTTTGTTTGCC</td><td style = \"text-align: right;\">28</td><td style = \"text-align: right;\">61</td><td style = \"text-align: left;\">false</td><td style = \"text-align: left;\">.((((.(((((.....))))).)))).((((..(((((.......)))))..))))..((((.(((((((.....)))).))).)))).........</td><td style = \"text-align: right;\">-27.3</td><td style = \"text-align: right;\">5.46826</td><td style = \"text-align: right;\">0</td><td style = \"text-align: right;\">0</td></tr><tr><td class = \"rowNumber\" style = \"font-weight: bold; text-align: right;\">130</td><td style = \"text-align: right;\">3262</td><td style = \"text-align: left;\">1-4-1-5-5-5-1-4-1</td><td style = \"text-align: left;\">.((((.(((((.....))))).)))).</td><td style = \"text-align: left;\">ACAAAAAAACCCGGTTGGTTTGTTTGCC</td><td style = \"text-align: right;\">28</td><td style = \"text-align: right;\">2</td><td style = \"text-align: left;\">false</td><td style = \"text-align: left;\">.((((.(((((.....))))).)))).((((..(((((.......)))))..))))..((((.(((((((.....)))).))).)))).........</td><td style = \"text-align: right;\">-27.3</td><td style = \"text-align: right;\">5.49903</td><td style = \"text-align: right;\">0</td><td style = \"text-align: right;\">0</td></tr><tr><td class = \"rowNumber\" style = \"font-weight: bold; text-align: right;\">131</td><td style = \"text-align: right;\">35922</td><td style = \"text-align: left;\">1-4-1-5-5-5-1-4-1</td><td style = \"text-align: left;\">.((((.(((((.....))))).)))).</td><td style = \"text-align: left;\">ACAAAAAAACCCTGTTGGTTTGTTTGCC</td><td style = \"text-align: right;\">28</td><td style = \"text-align: right;\">1</td><td style = \"text-align: left;\">false</td><td style = \"text-align: left;\">.((((.(((((.....))))).)))).((((..(((((.......)))))..))))..((((.(((((((.....)))).))).)))).........</td><td style = \"text-align: right;\">-27.3</td><td style = \"text-align: right;\">5.57787</td><td style = \"text-align: right;\">0</td><td style = \"text-align: right;\">0</td></tr><tr><td class = \"rowNumber\" style = \"font-weight: bold; text-align: right;\">132</td><td style = \"text-align: right;\">13610</td><td style = \"text-align: left;\">1-4-1-5-5-5-1-4-1</td><td style = \"text-align: left;\">.((((.(((((.....))))).)))).</td><td style = \"text-align: left;\">ACAAAAAAACCCTGGTGGTTTGTTTGCC</td><td style = \"text-align: right;\">28</td><td style = \"text-align: right;\">1</td><td style = \"text-align: left;\">false</td><td style = \"text-align: left;\">.((((.(((((.....))))).)))).((((..(((((.......)))))..))))..((((.(((((((.....)))).))).)))).........</td><td style = \"text-align: right;\">-27.3</td><td style = \"text-align: right;\">5.65211</td><td style = \"text-align: right;\">0</td><td style = \"text-align: right;\">0</td></tr><tr><td class = \"rowNumber\" style = \"font-weight: bold; text-align: right;\">133</td><td style = \"text-align: right;\">17006</td><td style = \"text-align: left;\">1-4-1-4-5-4-1-4-1</td><td style = \"text-align: left;\">.((((.((((.....)))).)))).</td><td style = \"text-align: left;\">ACAAAAAAACCGCTAGTTTGTTTGCC</td><td style = \"text-align: right;\">26</td><td style = \"text-align: right;\">1</td><td style = \"text-align: left;\">false</td><td style = \"text-align: left;\">.((((.((((.....)))).)))).((((..(((((.......)))))..))))..((((.(((((((.....)))).))).)))).........</td><td style = \"text-align: right;\">-24.2</td><td style = \"text-align: right;\">10.3772</td><td style = \"text-align: right;\">0</td><td style = \"text-align: right;\">0</td></tr><tr><td class = \"rowNumber\" style = \"font-weight: bold; text-align: right;\">134</td><td style = \"text-align: right;\">10363</td><td style = \"text-align: left;\">1-4-1-4-5-4-1-4-1</td><td style = \"text-align: left;\">.((((.((((.....)))).)))).</td><td style = \"text-align: left;\">ACAAAAAAACCCCTTGTTTGTTTGCC</td><td style = \"text-align: right;\">26</td><td style = \"text-align: right;\">1</td><td style = \"text-align: left;\">false</td><td style = \"text-align: left;\">.((((.((((.....)))).)))).((((..(((((.......)))))..))))..((((.(((((((.....)))).))).)))).........</td><td style = \"text-align: right;\">-24.0</td><td style = \"text-align: right;\">10.0182</td><td style = \"text-align: right;\">0</td><td style = \"text-align: right;\">0</td></tr></tbody></table></div>"
      ],
      "text/latex": [
       "\\begin{tabular}{r|ccccc}\n",
       "\t& Sequence\\_number & Loop1\\_description & MFE\\_SUBstructure & LoopI & \\\\\n",
       "\t\\hline\n",
       "\t& Int64 & String & String & String & \\\\\n",
       "\t\\hline\n",
       "\t1 & 0 & 1-4-1-10-5-10-1-4-1 & .((((.((((((((((.....)))))))))).)))). & ACAAAAAAACCACCGCTACCAGCGGTGGTTTGTTTGCC & $\\dots$ \\\\\n",
       "\t2 & 116 & 1-4-1-10-5-10-1-4-1 & .((((.((((((((((.....)))))))))).)))). & ACAAAAAAACCACCGCTAATTGTGGTGGTTTGTTTGCC & $\\dots$ \\\\\n",
       "\t3 & 12431 & 1-4-1-10-5-10-1-4-1 & .((((.((((((((((.....)))))))))).)))). & ACAAAAAAACCACCGATAGGATCGGTGGTTTGTTTGCC & $\\dots$ \\\\\n",
       "\t4 & 11910 & 1-4-1-10-5-10-1-4-1 & .((((.((((((((((.....)))))))))).)))). & ACAAAAAAACCACTGTGCGTAGCAGTGGTTTGTTTGCC & $\\dots$ \\\\\n",
       "\t5 & 5090 & 1-4-1-11-5-11-1-4-1 & .((((.(((((((((((.....))))))))))).)))). & ACAAAAAAACCATGCTTAGGCTAGGCATGGTTTGTTTGCC & $\\dots$ \\\\\n",
       "\t6 & 39052 & 1-4-1-10-5-10-1-4-1 & .((((.((((((((((.....)))))))))).)))). & ACAAAAAAACCAAGCTACCTAAGCTTGGTTTGTTTGCC & $\\dots$ \\\\\n",
       "\t7 & 5158 & 1-4-1-10-5-10-1-4-1 & .((((.((((((((((.....)))))))))).)))). & ACAAAAAAACCAACCTCATTAAGGTTGGTTTGTTTGCC & $\\dots$ \\\\\n",
       "\t8 & 3439 & 1-4-1-10-5-10-1-4-1 & .((((.((((((((((.....)))))))))).)))). & ACAAAAAAACCAACCACTTCTTGGTTGGTTTGTTTGCC & $\\dots$ \\\\\n",
       "\t9 & 33773 & 1-4-1-10-5-10-1-4-1 & .((((.((((((((((.....)))))))))).)))). & ACAAAAAAACCACCTGAAAGTTAGGTGGTTTGTTTGCC & $\\dots$ \\\\\n",
       "\t10 & 38129 & 1-4-1-9-5-9-1-4-1 & .((((.(((((((((.....))))))))).)))). & ACAAAAAAACCACCTTATATAGGTGGTTTGTTTGCC & $\\dots$ \\\\\n",
       "\t11 & 629 & 1-4-1-10-5-10-1-4-1 & .((((.((((((((((.....)))))))))).)))). & ACAAAAAAACCACCGAGATCATTGGTGGTTTGTTTGCC & $\\dots$ \\\\\n",
       "\t12 & 30247 & 1-4-1-10-5-10-1-4-1 & .((((.((((((((((.....)))))))))).)))). & ACAAAAAAACCAGCTGCAAAATAGCTGGTTTGTTTGCC & $\\dots$ \\\\\n",
       "\t13 & 18974 & 1-4-1-9-5-9-1-4-1 & .((((.(((((((((.....))))))))).)))). & ACAAAAAAACCACGAGCGAATCGTGGTTTGTTTGCC & $\\dots$ \\\\\n",
       "\t14 & 26632 & 1-4-1-9-5-9-1-4-1 & .((((.(((((((((.....))))))))).)))). & ACAAAAAAACCAGCAACAAGTGCTGGTTTGTTTGCC & $\\dots$ \\\\\n",
       "\t15 & 38504 & 1-4-1-10-5-10-1-4-1 & .((((.((((((((((.....)))))))))).)))). & ACAAAAAAACCACGTTTTACCGACGTGGTTTGTTTGCC & $\\dots$ \\\\\n",
       "\t16 & 29074 & 1-4-1-10-5-10-1-4-1 & .((((.((((((((((.....)))))))))).)))). & ACAAAAAAACCACGGGTAGGCCTCGTGGTTTGTTTGCC & $\\dots$ \\\\\n",
       "\t17 & 11873 & 1-4-1-10-5-10-1-4-1 & .((((.((((((((((.....)))))))))).)))). & ACAAAAAAACCAATCCAGTGGGGATTGGTTTGTTTGCC & $\\dots$ \\\\\n",
       "\t18 & 12039 & 1-4-1-9-5-9-1-4-1 & .((((.(((((((((.....))))))))).)))). & ACAAAAAAACCAGGAATTAATCCTGGTTTGTTTGCC & $\\dots$ \\\\\n",
       "\t19 & 2076 & 1-4-1-10-5-10-1-4-1 & .((((.((((((((((.....)))))))))).)))). & ACAAAAAAACCATCGTCGATTACGATGGTTTGTTTGCC & $\\dots$ \\\\\n",
       "\t20 & 9306 & 1-4-1-10-5-10-1-4-1 & .((((.((((((((((.....)))))))))).)))). & ACAAAAAAACCACGTTAGACAGGCGTGGTTTGTTTGCC & $\\dots$ \\\\\n",
       "\t21 & 5179 & 1-4-1-9-5-9-1-4-1 & .((((.(((((((((.....))))))))).)))). & ACAAAAAAACCAGCTCCAGAAGCTGGTTTGTTTGCC & $\\dots$ \\\\\n",
       "\t22 & 24223 & 1-4-1-9-5-9-1-4-1 & .((((.(((((((((.....))))))))).)))). & ACAAAAAAACCAGCTTCTACAGCTGGTTTGTTTGCC & $\\dots$ \\\\\n",
       "\t23 & 18643 & 1-4-1-8-5-8-1-4-1 & .((((.((((((((.....)))))))).)))). & ACAAAAAAACCACCGACCAGGTGGTTTGTTTGCC & $\\dots$ \\\\\n",
       "\t24 & 814 & 1-4-1-10-5-10-1-4-1 & .((((.((((((((((.....)))))))))).)))). & ACAAAAAAACCAATACGGTAAGTATTGGTTTGTTTGCC & $\\dots$ \\\\\n",
       "\t25 & 20919 & 1-4-1-9-5-9-1-4-1 & .((((.(((((((((.....))))))))).)))). & ACAAAAAAACCAGTCTCCAAGACTGGTTTGTTTGCC & $\\dots$ \\\\\n",
       "\t26 & 12455 & 1-4-1-8-5-8-1-4-1 & .((((.((((((((.....)))))))).)))). & ACAAAAAAACCACCTGTGTGGTGGTTTGTTTGCC & $\\dots$ \\\\\n",
       "\t27 & 955 & 1-4-1-8-5-8-1-4-1 & .((((.((((((((.....)))))))).)))). & ACAAAAAAACCACCTTTGTGGTGGTTTGTTTGCC & $\\dots$ \\\\\n",
       "\t28 & 6717 & 1-4-1-9-5-9-1-4-1 & .((((.(((((((((.....))))))))).)))). & ACAAAAAAACCACGTAGGAAGCGTGGTTTGTTTGCC & $\\dots$ \\\\\n",
       "\t29 & 28509 & 1-4-1-10-5-10-1-4-1 & .((((.((((((((((.....)))))))))).)))). & ACAAAAAAACCACCGAAATAATTGGTGGTTTGTTTGCC & $\\dots$ \\\\\n",
       "\t30 & 8530 & 1-4-1-9-5-9-1-4-1 & .((((.(((((((((.....))))))))).)))). & ACAAAAAAACCACTCCTATTGAGTGGTTTGTTTGCC & $\\dots$ \\\\\n",
       "\t$\\dots$ & $\\dots$ & $\\dots$ & $\\dots$ & $\\dots$ &  \\\\\n",
       "\\end{tabular}\n"
      ],
      "text/plain": [
       "\u001b[1m134×12 DataFrame\u001b[0m\n",
       "\u001b[1m Row \u001b[0m│\u001b[1m Sequence_number \u001b[0m\u001b[1m Loop1_description   \u001b[0m\u001b[1m MFE_SUBstructure                 \u001b[0m ⋯\n",
       "     │\u001b[90m Int64           \u001b[0m\u001b[90m String              \u001b[0m\u001b[90m String                           \u001b[0m ⋯\n",
       "─────┼──────────────────────────────────────────────────────────────────────────\n",
       "   1 │               0  1-4-1-10-5-10-1-4-1  .((((.((((((((((.....)))))))))).… ⋯\n",
       "   2 │             116  1-4-1-10-5-10-1-4-1  .((((.((((((((((.....)))))))))).…\n",
       "   3 │           12431  1-4-1-10-5-10-1-4-1  .((((.((((((((((.....)))))))))).…\n",
       "   4 │           11910  1-4-1-10-5-10-1-4-1  .((((.((((((((((.....)))))))))).…\n",
       "   5 │            5090  1-4-1-11-5-11-1-4-1  .((((.(((((((((((.....))))))))))… ⋯\n",
       "   6 │           39052  1-4-1-10-5-10-1-4-1  .((((.((((((((((.....)))))))))).…\n",
       "   7 │            5158  1-4-1-10-5-10-1-4-1  .((((.((((((((((.....)))))))))).…\n",
       "   8 │            3439  1-4-1-10-5-10-1-4-1  .((((.((((((((((.....)))))))))).…\n",
       "   9 │           33773  1-4-1-10-5-10-1-4-1  .((((.((((((((((.....)))))))))).… ⋯\n",
       "  10 │           38129  1-4-1-9-5-9-1-4-1    .((((.(((((((((.....))))))))).))…\n",
       "  11 │             629  1-4-1-10-5-10-1-4-1  .((((.((((((((((.....)))))))))).…\n",
       "  ⋮  │        ⋮                  ⋮                           ⋮                 ⋱\n",
       " 125 │           15895  1-4-1-5-5-5-1-4-1    .((((.(((((.....))))).)))).\n",
       " 126 │           44917  1-4-1-5-5-5-1-4-1    .((((.(((((.....))))).)))).       ⋯\n",
       " 127 │            7521  1-4-1-5-5-5-1-4-1    .((((.(((((.....))))).)))).\n",
       " 128 │           21140  1-4-1-5-5-5-1-4-1    .((((.(((((.....))))).)))).\n",
       " 129 │               6  1-4-1-5-5-5-1-4-1    .((((.(((((.....))))).)))).\n",
       " 130 │            3262  1-4-1-5-5-5-1-4-1    .((((.(((((.....))))).)))).       ⋯\n",
       " 131 │           35922  1-4-1-5-5-5-1-4-1    .((((.(((((.....))))).)))).\n",
       " 132 │           13610  1-4-1-5-5-5-1-4-1    .((((.(((((.....))))).)))).\n",
       " 133 │           17006  1-4-1-4-5-4-1-4-1    .((((.((((.....)))).)))).\n",
       " 134 │           10363  1-4-1-4-5-4-1-4-1    .((((.((((.....)))).)))).         ⋯\n",
       "\u001b[36m                                                  9 columns and 113 rows omitted\u001b[0m"
      ]
     },
     "execution_count": 16,
     "metadata": {},
     "output_type": "execute_result"
    }
   ],
   "source": [
    "ForStemAnalysis = filter(:Loop1_description => n -> n ∈ search_set_stem, lib_StructureAnalysis)\n",
    "sort!(ForStemAnalysis, [:MFE_energy, :Mbp_dist])"
   ]
  },
  {
   "cell_type": "code",
   "execution_count": 28,
   "id": "f9b9bc13-a2b3-4d61-9e7c-6f449305cee5",
   "metadata": {},
   "outputs": [
    {
     "data": {
      "text/html": [
       "<div><div style = \"float: left;\"><span>2×12 DataFrame</span></div><div style = \"clear: both;\"></div></div><div class = \"data-frame\" style = \"overflow-x: scroll;\"><table class = \"data-frame\" style = \"margin-bottom: 6px;\"><thead><tr class = \"header\"><th class = \"rowNumber\" style = \"font-weight: bold; text-align: right;\">Row</th><th style = \"text-align: left;\">Sequence_number</th><th style = \"text-align: left;\">Loop1_description</th><th style = \"text-align: left;\">MFE_SUBstructure</th><th style = \"text-align: left;\">LoopI</th><th style = \"text-align: left;\">Loop_length</th><th style = \"text-align: left;\">Count</th><th style = \"text-align: left;\">WT</th><th style = \"text-align: left;\">MFE_structure</th><th style = \"text-align: left;\">MFE_energy</th><th style = \"text-align: left;\">Mbp_dist</th><th style = \"text-align: left;\">Seq_Cluster</th><th style = \"text-align: left;\">Str_Cluster</th></tr><tr class = \"subheader headerLastRow\"><th class = \"rowNumber\" style = \"font-weight: bold; text-align: right;\"></th><th title = \"Int64\" style = \"text-align: left;\">Int64</th><th title = \"String\" style = \"text-align: left;\">String</th><th title = \"String\" style = \"text-align: left;\">String</th><th title = \"String\" style = \"text-align: left;\">String</th><th title = \"Int64\" style = \"text-align: left;\">Int64</th><th title = \"Int64\" style = \"text-align: left;\">Int64</th><th title = \"String7\" style = \"text-align: left;\">String7</th><th title = \"String\" style = \"text-align: left;\">String</th><th title = \"Float64\" style = \"text-align: left;\">Float64</th><th title = \"Float64\" style = \"text-align: left;\">Float64</th><th title = \"Int64\" style = \"text-align: left;\">Int64</th><th title = \"Int64\" style = \"text-align: left;\">Int64</th></tr></thead><tbody><tr><td class = \"rowNumber\" style = \"font-weight: bold; text-align: right;\">1</td><td style = \"text-align: right;\">10363</td><td style = \"text-align: left;\">1-4-1-4-5-4-1-4-1</td><td style = \"text-align: left;\">.((((.((((.....)))).)))).</td><td style = \"text-align: left;\">ACAAAAAAACCCCTTGTTTGTTTGCC</td><td style = \"text-align: right;\">26</td><td style = \"text-align: right;\">1</td><td style = \"text-align: left;\">false</td><td style = \"text-align: left;\">.((((.((((.....)))).)))).((((..(((((.......)))))..))))..((((.(((((((.....)))).))).)))).........</td><td style = \"text-align: right;\">-24.0</td><td style = \"text-align: right;\">10.0182</td><td style = \"text-align: right;\">0</td><td style = \"text-align: right;\">0</td></tr><tr><td class = \"rowNumber\" style = \"font-weight: bold; text-align: right;\">2</td><td style = \"text-align: right;\">17006</td><td style = \"text-align: left;\">1-4-1-4-5-4-1-4-1</td><td style = \"text-align: left;\">.((((.((((.....)))).)))).</td><td style = \"text-align: left;\">ACAAAAAAACCGCTAGTTTGTTTGCC</td><td style = \"text-align: right;\">26</td><td style = \"text-align: right;\">1</td><td style = \"text-align: left;\">false</td><td style = \"text-align: left;\">.((((.((((.....)))).)))).((((..(((((.......)))))..))))..((((.(((((((.....)))).))).)))).........</td><td style = \"text-align: right;\">-24.2</td><td style = \"text-align: right;\">10.3772</td><td style = \"text-align: right;\">0</td><td style = \"text-align: right;\">0</td></tr></tbody></table></div>"
      ],
      "text/latex": [
       "\\begin{tabular}{r|ccccc}\n",
       "\t& Sequence\\_number & Loop1\\_description & MFE\\_SUBstructure & LoopI & \\\\\n",
       "\t\\hline\n",
       "\t& Int64 & String & String & String & \\\\\n",
       "\t\\hline\n",
       "\t1 & 10363 & 1-4-1-4-5-4-1-4-1 & .((((.((((.....)))).)))). & ACAAAAAAACCCCTTGTTTGTTTGCC & $\\dots$ \\\\\n",
       "\t2 & 17006 & 1-4-1-4-5-4-1-4-1 & .((((.((((.....)))).)))). & ACAAAAAAACCGCTAGTTTGTTTGCC & $\\dots$ \\\\\n",
       "\\end{tabular}\n"
      ],
      "text/plain": [
       "\u001b[1m2×12 DataFrame\u001b[0m\n",
       "\u001b[1m Row \u001b[0m│\u001b[1m Sequence_number \u001b[0m\u001b[1m Loop1_description \u001b[0m\u001b[1m MFE_SUBstructure          \u001b[0m\u001b[1m LoopI   \u001b[0m ⋯\n",
       "     │\u001b[90m Int64           \u001b[0m\u001b[90m String            \u001b[0m\u001b[90m String                    \u001b[0m\u001b[90m String  \u001b[0m ⋯\n",
       "─────┼──────────────────────────────────────────────────────────────────────────\n",
       "   1 │           10363  1-4-1-4-5-4-1-4-1  .((((.((((.....)))).)))).  ACAAAAAA ⋯\n",
       "   2 │           17006  1-4-1-4-5-4-1-4-1  .((((.((((.....)))).)))).  ACAAAAAA\n",
       "\u001b[36m                                                               9 columns omitted\u001b[0m"
      ]
     },
     "execution_count": 28,
     "metadata": {},
     "output_type": "execute_result"
    }
   ],
   "source": [
    "filter(:Loop1_description=> n -> n == \"1-4-1-4-5-4-1-4-1\", lib_StructureAnalysis)"
   ]
  },
  {
   "cell_type": "code",
   "execution_count": 23,
   "id": "727b3d57-298b-4807-84a4-d9dff216a543",
   "metadata": {},
   "outputs": [
    {
     "data": {
      "text/html": [
       "<div><div style = \"float: left;\"><span>1×12 DataFrame</span></div><div style = \"clear: both;\"></div></div><div class = \"data-frame\" style = \"overflow-x: scroll;\"><table class = \"data-frame\" style = \"margin-bottom: 6px;\"><thead><tr class = \"header\"><th class = \"rowNumber\" style = \"font-weight: bold; text-align: right;\">Row</th><th style = \"text-align: left;\">Sequence_number</th><th style = \"text-align: left;\">Loop1_description</th><th style = \"text-align: left;\">MFE_SUBstructure</th><th style = \"text-align: left;\">LoopI</th><th style = \"text-align: left;\">Loop_length</th><th style = \"text-align: left;\">Count</th><th style = \"text-align: left;\">WT</th><th style = \"text-align: left;\">MFE_structure</th><th style = \"text-align: left;\">MFE_energy</th><th style = \"text-align: left;\">Mbp_dist</th><th style = \"text-align: left;\">Seq_Cluster</th><th style = \"text-align: left;\">Str_Cluster</th></tr><tr class = \"subheader headerLastRow\"><th class = \"rowNumber\" style = \"font-weight: bold; text-align: right;\"></th><th title = \"Int64\" style = \"text-align: left;\">Int64</th><th title = \"String\" style = \"text-align: left;\">String</th><th title = \"String\" style = \"text-align: left;\">String</th><th title = \"String\" style = \"text-align: left;\">String</th><th title = \"Int64\" style = \"text-align: left;\">Int64</th><th title = \"Int64\" style = \"text-align: left;\">Int64</th><th title = \"String7\" style = \"text-align: left;\">String7</th><th title = \"String\" style = \"text-align: left;\">String</th><th title = \"Float64\" style = \"text-align: left;\">Float64</th><th title = \"Float64\" style = \"text-align: left;\">Float64</th><th title = \"Int64\" style = \"text-align: left;\">Int64</th><th title = \"Int64\" style = \"text-align: left;\">Int64</th></tr></thead><tbody><tr><td class = \"rowNumber\" style = \"font-weight: bold; text-align: right;\">1</td><td style = \"text-align: right;\">5090</td><td style = \"text-align: left;\">1-4-1-11-5-11-1-4-1</td><td style = \"text-align: left;\">.((((.(((((((((((.....))))))))))).)))).</td><td style = \"text-align: left;\">ACAAAAAAACCATGCTTAGGCTAGGCATGGTTTGTTTGCC</td><td style = \"text-align: right;\">40</td><td style = \"text-align: right;\">2</td><td style = \"text-align: left;\">false</td><td style = \"text-align: left;\">.((((.(((((((((((.....))))))))))).)))).((((..(((((.......)))))..))))..((((.(((((((.....)))).))).)))).........</td><td style = \"text-align: right;\">-38.3</td><td style = \"text-align: right;\">5.59503</td><td style = \"text-align: right;\">0</td><td style = \"text-align: right;\">0</td></tr></tbody></table></div>"
      ],
      "text/latex": [
       "\\begin{tabular}{r|ccccc}\n",
       "\t& Sequence\\_number & Loop1\\_description & MFE\\_SUBstructure & LoopI & \\\\\n",
       "\t\\hline\n",
       "\t& Int64 & String & String & String & \\\\\n",
       "\t\\hline\n",
       "\t1 & 5090 & 1-4-1-11-5-11-1-4-1 & .((((.(((((((((((.....))))))))))).)))). & ACAAAAAAACCATGCTTAGGCTAGGCATGGTTTGTTTGCC & $\\dots$ \\\\\n",
       "\\end{tabular}\n"
      ],
      "text/plain": [
       "\u001b[1m1×12 DataFrame\u001b[0m\n",
       "\u001b[1m Row \u001b[0m│\u001b[1m Sequence_number \u001b[0m\u001b[1m Loop1_description   \u001b[0m\u001b[1m MFE_SUBstructure                 \u001b[0m ⋯\n",
       "     │\u001b[90m Int64           \u001b[0m\u001b[90m String              \u001b[0m\u001b[90m String                           \u001b[0m ⋯\n",
       "─────┼──────────────────────────────────────────────────────────────────────────\n",
       "   1 │            5090  1-4-1-11-5-11-1-4-1  .((((.(((((((((((.....))))))))))… ⋯\n",
       "\u001b[36m                                                               9 columns omitted\u001b[0m"
      ]
     },
     "execution_count": 23,
     "metadata": {},
     "output_type": "execute_result"
    }
   ],
   "source": [
    "#lib_StructureAnalysis\n",
    "seq = 5090\n",
    "filter(:Sequence_number => n -> n == seq, lib_StructureAnalysis)"
   ]
  },
  {
   "cell_type": "code",
   "execution_count": 29,
   "id": "d98257e8-de41-4af8-b3d3-66b9e4b86c75",
   "metadata": {},
   "outputs": [
    {
     "data": {
      "text/plain": [
       "8-element Vector{Any}:\n",
       " \".((((.((((((((((.....)))))))))).)))).\"\n",
       " \".((((.(((((((((((.....))))))))))).)))).\"\n",
       " \".((((.(((((((((.....))))))))).)))).\"\n",
       " \".((((.((((((((.....)))))))).)))).\"\n",
       " \".((((.(((((((.....))))))).)))).\"\n",
       " \".((((.((((((.....)))))).)))).\"\n",
       " \".((((.(((((.....))))).)))).\"\n",
       " \".((((.((((.....)))).)))).\""
      ]
     },
     "execution_count": 29,
     "metadata": {},
     "output_type": "execute_result"
    }
   ],
   "source": [
    "## sorting the structures with relative similarity by their actual Loop1_description\n",
    "StemSame_structure = []\n",
    "for structure in ForStemAnalysis.MFE_SUBstructure\n",
    "    if structure ∉ StemSame_structure\n",
    "        push!(StemSame_structure, structure)\n",
    "    end\n",
    "end\n",
    "StemSame_structure"
   ]
  },
  {
   "cell_type": "code",
   "execution_count": 32,
   "id": "22520e52-f57b-49d0-8da3-54edddf8edf8",
   "metadata": {},
   "outputs": [
    {
     "name": "stdout",
     "output_type": "stream",
     "text": [
      "Range of Stem bases:\n",
      "[4, 5, 6, 7, 8, 9, 10, 11]\n"
     ]
    }
   ],
   "source": [
    "## getting an overview on the loop sizes of the hairpin structures\n",
    "x_range = find_x_values(ForStemAnalysis.Loop1_description)\n",
    "\n",
    "println(\"Range of Stem bases:\")\n",
    "println(sort!(collect(x_range)))"
   ]
  },
  {
   "cell_type": "code",
   "execution_count": 33,
   "id": "c64eb966-4620-43df-8b1f-47cc67fbbb62",
   "metadata": {},
   "outputs": [
    {
     "data": {
      "text/plain": [
       "Dict{Int64, Int64} with 8 entries:\n",
       "  5  => 31\n",
       "  4  => 2\n",
       "  6  => 6\n",
       "  7  => 1\n",
       "  11 => 1\n",
       "  10 => 28\n",
       "  9  => 34\n",
       "  8  => 31"
      ]
     },
     "execution_count": 33,
     "metadata": {},
     "output_type": "execute_result"
    }
   ],
   "source": [
    "Stem_ranges = Dict{Int64,Int64}()\n",
    "for num in sort!(collect(x_range))\n",
    "    Loop1_desc = \"1-4-1-$(num)-5-$(num)-1-4-1\"\n",
    "    seq_dataframe = filter(:Loop1_description => n -> n == Loop1_desc, lib_StructureAnalysis)\n",
    "    count_seq = nrow(seq_dataframe)\n",
    "    Stem_ranges[num] = count_seq\n",
    "end\n",
    "Stem_ranges"
   ]
  },
  {
   "cell_type": "code",
   "execution_count": 34,
   "id": "34dd604f-17ee-4885-bb22-09464e58ecc5",
   "metadata": {},
   "outputs": [
    {
     "data": {
      "image/png": "[encoded data removed]",
      "image/svg+xml": [
       "<?xml version=\"1.0\" encoding=\"utf-8\"?>\n",
       "<svg xmlns=\"http://www.w3.org/2000/svg\" xmlns:xlink=\"http://www.w3.org/1999/xlink\" width=\"600\" height=\"400\" viewBox=\"0 0 2400 1600\">\n",
       "<defs>\n",
       "  <clipPath id=\"clip820\">\n",
       "    <rect x=\"0\" y=\"0\" width=\"2400\" height=\"1600\"/>\n",
       "  </clipPath>\n",
       "</defs>\n",
       "<path clip-path=\"url(#clip820)\" d=\"M0 1600 L2400 1600 L2400 0 L0 0  Z\" fill=\"#ffffff\" fill-rule=\"evenodd\" fill-opacity=\"1\"/>\n",
       "<defs>\n",
       "  <clipPath id=\"clip821\">\n",
       "    <rect x=\"480\" y=\"0\" width=\"1681\" height=\"1600\"/>\n",
       "  </clipPath>\n",
       "</defs>\n",
       "<path clip-path=\"url(#clip820)\" d=\"M203.964 1423.18 L2352.76 1423.18 L2352.76 47.2441 L203.964 47.2441  Z\" fill=\"#ffffff\" fill-rule=\"evenodd\" fill-opacity=\"1\"/>\n",
       "<defs>\n",
       "  <clipPath id=\"clip822\">\n",
       "    <rect x=\"203\" y=\"47\" width=\"2150\" height=\"1377\"/>\n",
       "  </clipPath>\n",
       "</defs>\n",
       "<polyline clip-path=\"url(#clip822)\" style=\"stroke:#000000; stroke-linecap:round; stroke-linejoin:round; stroke-width:2; stroke-opacity:0.1; fill:none\" points=\"420.224,1423.18 420.224,47.2441 \"/>\n",
       "<polyline clip-path=\"url(#clip822)\" style=\"stroke:#000000; stroke-linecap:round; stroke-linejoin:round; stroke-width:2; stroke-opacity:0.1; fill:none\" points=\"910.587,1423.18 910.587,47.2441 \"/>\n",
       "<polyline clip-path=\"url(#clip822)\" style=\"stroke:#000000; stroke-linecap:round; stroke-linejoin:round; stroke-width:2; stroke-opacity:0.1; fill:none\" points=\"1400.95,1423.18 1400.95,47.2441 \"/>\n",
       "<polyline clip-path=\"url(#clip822)\" style=\"stroke:#000000; stroke-linecap:round; stroke-linejoin:round; stroke-width:2; stroke-opacity:0.1; fill:none\" points=\"1891.31,1423.18 1891.31,47.2441 \"/>\n",
       "<polyline clip-path=\"url(#clip820)\" style=\"stroke:#000000; stroke-linecap:round; stroke-linejoin:round; stroke-width:4; stroke-opacity:1; fill:none\" points=\"203.964,1423.18 2352.76,1423.18 \"/>\n",
       "<polyline clip-path=\"url(#clip820)\" style=\"stroke:#000000; stroke-linecap:round; stroke-linejoin:round; stroke-width:4; stroke-opacity:1; fill:none\" points=\"420.224,1423.18 420.224,1404.28 \"/>\n",
       "<polyline clip-path=\"url(#clip820)\" style=\"stroke:#000000; stroke-linecap:round; stroke-linejoin:round; stroke-width:4; stroke-opacity:1; fill:none\" points=\"910.587,1423.18 910.587,1404.28 \"/>\n",
       "<polyline clip-path=\"url(#clip820)\" style=\"stroke:#000000; stroke-linecap:round; stroke-linejoin:round; stroke-width:4; stroke-opacity:1; fill:none\" points=\"1400.95,1423.18 1400.95,1404.28 \"/>\n",
       "<polyline clip-path=\"url(#clip820)\" style=\"stroke:#000000; stroke-linecap:round; stroke-linejoin:round; stroke-width:4; stroke-opacity:1; fill:none\" points=\"1891.31,1423.18 1891.31,1404.28 \"/>\n",
       "<path clip-path=\"url(#clip820)\" d=\"M423.233 1455.09 L411.427 1473.54 L423.233 1473.54 L423.233 1455.09 M422.006 1451.02 L427.886 1451.02 L427.886 1473.54 L432.816 1473.54 L432.816 1477.43 L427.886 1477.43 L427.886 1485.58 L423.233 1485.58 L423.233 1477.43 L407.631 1477.43 L407.631 1472.92 L422.006 1451.02 Z\" fill=\"#000000\" fill-rule=\"nonzero\" fill-opacity=\"1\" /><path clip-path=\"url(#clip820)\" d=\"M910.992 1466.44 Q907.844 1466.44 905.992 1468.59 Q904.164 1470.74 904.164 1474.49 Q904.164 1478.22 905.992 1480.39 Q907.844 1482.55 910.992 1482.55 Q914.14 1482.55 915.969 1480.39 Q917.821 1478.22 917.821 1474.49 Q917.821 1470.74 915.969 1468.59 Q914.14 1466.44 910.992 1466.44 M920.275 1451.78 L920.275 1456.04 Q918.515 1455.21 916.71 1454.77 Q914.927 1454.33 913.168 1454.33 Q908.539 1454.33 906.085 1457.45 Q903.654 1460.58 903.307 1466.9 Q904.673 1464.89 906.733 1463.82 Q908.793 1462.73 911.27 1462.73 Q916.478 1462.73 919.488 1465.9 Q922.52 1469.05 922.52 1474.49 Q922.52 1479.82 919.372 1483.03 Q916.224 1486.25 910.992 1486.25 Q904.997 1486.25 901.826 1481.67 Q898.654 1477.06 898.654 1468.33 Q898.654 1460.14 902.543 1455.28 Q906.432 1450.39 912.983 1450.39 Q914.742 1450.39 916.525 1450.74 Q918.33 1451.09 920.275 1451.78 Z\" fill=\"#000000\" fill-rule=\"nonzero\" fill-opacity=\"1\" /><path clip-path=\"url(#clip820)\" d=\"M1400.95 1469.17 Q1397.62 1469.17 1395.7 1470.95 Q1393.8 1472.73 1393.8 1475.86 Q1393.8 1478.98 1395.7 1480.77 Q1397.62 1482.55 1400.95 1482.55 Q1404.28 1482.55 1406.21 1480.77 Q1408.13 1478.96 1408.13 1475.86 Q1408.13 1472.73 1406.21 1470.95 Q1404.31 1469.17 1400.95 1469.17 M1396.27 1467.18 Q1393.27 1466.44 1391.58 1464.38 Q1389.91 1462.32 1389.91 1459.35 Q1389.91 1455.21 1392.85 1452.8 Q1395.81 1450.39 1400.95 1450.39 Q1406.11 1450.39 1409.05 1452.8 Q1411.99 1455.21 1411.99 1459.35 Q1411.99 1462.32 1410.3 1464.38 Q1408.64 1466.44 1405.65 1467.18 Q1409.03 1467.96 1410.9 1470.26 Q1412.8 1472.55 1412.8 1475.86 Q1412.8 1480.88 1409.72 1483.57 Q1406.67 1486.25 1400.95 1486.25 Q1395.23 1486.25 1392.15 1483.57 Q1389.1 1480.88 1389.1 1475.86 Q1389.1 1472.55 1391 1470.26 Q1392.9 1467.96 1396.27 1467.18 M1394.56 1459.79 Q1394.56 1462.48 1396.23 1463.98 Q1397.92 1465.49 1400.95 1465.49 Q1403.96 1465.49 1405.65 1463.98 Q1407.36 1462.48 1407.36 1459.79 Q1407.36 1457.11 1405.65 1455.6 Q1403.96 1454.1 1400.95 1454.1 Q1397.92 1454.1 1396.23 1455.6 Q1394.56 1457.11 1394.56 1459.79 Z\" fill=\"#000000\" fill-rule=\"nonzero\" fill-opacity=\"1\" /><path clip-path=\"url(#clip820)\" d=\"M1866 1481.64 L1873.64 1481.64 L1873.64 1455.28 L1865.33 1456.95 L1865.33 1452.69 L1873.59 1451.02 L1878.27 1451.02 L1878.27 1481.64 L1885.91 1481.64 L1885.91 1485.58 L1866 1485.58 L1866 1481.64 Z\" fill=\"#000000\" fill-rule=\"nonzero\" fill-opacity=\"1\" /><path clip-path=\"url(#clip820)\" d=\"M1905.35 1454.1 Q1901.74 1454.1 1899.91 1457.66 Q1898.11 1461.2 1898.11 1468.33 Q1898.11 1475.44 1899.91 1479.01 Q1901.74 1482.55 1905.35 1482.55 Q1908.99 1482.55 1910.79 1479.01 Q1912.62 1475.44 1912.62 1468.33 Q1912.62 1461.2 1910.79 1457.66 Q1908.99 1454.1 1905.35 1454.1 M1905.35 1450.39 Q1911.16 1450.39 1914.22 1455 Q1917.3 1459.58 1917.3 1468.33 Q1917.3 1477.06 1914.22 1481.67 Q1911.16 1486.25 1905.35 1486.25 Q1899.54 1486.25 1896.46 1481.67 Q1893.41 1477.06 1893.41 1468.33 Q1893.41 1459.58 1896.46 1455 Q1899.54 1450.39 1905.35 1450.39 Z\" fill=\"#000000\" fill-rule=\"nonzero\" fill-opacity=\"1\" /><path clip-path=\"url(#clip820)\" d=\"M1099.88 1522.08 L1099.88 1528.35 Q1096.22 1526.6 1092.97 1525.74 Q1089.73 1524.88 1086.7 1524.88 Q1081.45 1524.88 1078.59 1526.92 Q1075.76 1528.96 1075.76 1532.71 Q1075.76 1535.87 1077.63 1537.49 Q1079.54 1539.08 1084.83 1540.07 L1088.71 1540.86 Q1095.9 1542.23 1099.31 1545.7 Q1102.75 1549.14 1102.75 1554.93 Q1102.75 1561.84 1098.1 1565.4 Q1093.48 1568.97 1084.54 1568.97 Q1081.17 1568.97 1077.35 1568.2 Q1073.56 1567.44 1069.48 1565.94 L1069.48 1559.32 Q1073.4 1561.52 1077.16 1562.63 Q1080.91 1563.75 1084.54 1563.75 Q1090.05 1563.75 1093.04 1561.58 Q1096.03 1559.42 1096.03 1555.41 Q1096.03 1551.91 1093.87 1549.93 Q1091.73 1547.96 1086.83 1546.97 L1082.92 1546.21 Q1075.72 1544.78 1072.51 1541.72 Q1069.29 1538.67 1069.29 1533.22 Q1069.29 1526.92 1073.72 1523.29 Q1078.17 1519.66 1085.97 1519.66 Q1089.31 1519.66 1092.78 1520.27 Q1096.25 1520.87 1099.88 1522.08 Z\" fill=\"#000000\" fill-rule=\"nonzero\" fill-opacity=\"1\" /><path clip-path=\"url(#clip820)\" d=\"M1118.31 1522.27 L1118.31 1532.4 L1130.37 1532.4 L1130.37 1536.95 L1118.31 1536.95 L1118.31 1556.3 Q1118.31 1560.66 1119.49 1561.9 Q1120.7 1563.14 1124.36 1563.14 L1130.37 1563.14 L1130.37 1568.04 L1124.36 1568.04 Q1117.58 1568.04 1115 1565.53 Q1112.42 1562.98 1112.42 1556.3 L1112.42 1536.95 L1108.12 1536.95 L1108.12 1532.4 L1112.42 1532.4 L1112.42 1522.27 L1118.31 1522.27 Z\" fill=\"#000000\" fill-rule=\"nonzero\" fill-opacity=\"1\" /><path clip-path=\"url(#clip820)\" d=\"M1168.57 1548.76 L1168.57 1551.62 L1141.64 1551.62 Q1142.02 1557.67 1145.27 1560.85 Q1148.55 1564 1154.37 1564 Q1157.75 1564 1160.9 1563.17 Q1164.08 1562.35 1167.2 1560.69 L1167.2 1566.23 Q1164.05 1567.57 1160.74 1568.27 Q1157.43 1568.97 1154.02 1568.97 Q1145.49 1568.97 1140.49 1564 Q1135.53 1559.04 1135.53 1550.57 Q1135.53 1541.82 1140.24 1536.69 Q1144.98 1531.54 1153 1531.54 Q1160.2 1531.54 1164.37 1536.18 Q1168.57 1540.8 1168.57 1548.76 M1162.71 1547.04 Q1162.65 1542.23 1160.01 1539.37 Q1157.4 1536.5 1153.07 1536.5 Q1148.17 1536.5 1145.21 1539.27 Q1142.28 1542.04 1141.83 1547.07 L1162.71 1547.04 Z\" fill=\"#000000\" fill-rule=\"nonzero\" fill-opacity=\"1\" /><path clip-path=\"url(#clip820)\" d=\"M1205.93 1539.24 Q1208.13 1535.29 1211.19 1533.41 Q1214.24 1531.54 1218.38 1531.54 Q1223.95 1531.54 1226.97 1535.45 Q1230 1539.33 1230 1546.53 L1230 1568.04 L1224.11 1568.04 L1224.11 1546.72 Q1224.11 1541.59 1222.29 1539.11 Q1220.48 1536.63 1216.76 1536.63 Q1212.2 1536.63 1209.56 1539.65 Q1206.92 1542.68 1206.92 1547.9 L1206.92 1568.04 L1201.03 1568.04 L1201.03 1546.72 Q1201.03 1541.56 1199.22 1539.11 Q1197.4 1536.63 1193.62 1536.63 Q1189.13 1536.63 1186.49 1539.68 Q1183.84 1542.71 1183.84 1547.9 L1183.84 1568.04 L1177.96 1568.04 L1177.96 1532.4 L1183.84 1532.4 L1183.84 1537.93 Q1185.85 1534.66 1188.65 1533.1 Q1191.45 1531.54 1195.3 1531.54 Q1199.19 1531.54 1201.89 1533.51 Q1204.63 1535.48 1205.93 1539.24 Z\" fill=\"#000000\" fill-rule=\"nonzero\" fill-opacity=\"1\" /><path clip-path=\"url(#clip820)\" d=\"M1268.76 1578.87 L1268.76 1583.42 L1234.9 1583.42 L1234.9 1578.87 L1268.76 1578.87 Z\" fill=\"#000000\" fill-rule=\"nonzero\" fill-opacity=\"1\" /><path clip-path=\"url(#clip820)\" d=\"M1274.52 1520.52 L1280.95 1520.52 L1280.95 1562.63 L1304.09 1562.63 L1304.09 1568.04 L1274.52 1568.04 L1274.52 1520.52 Z\" fill=\"#000000\" fill-rule=\"nonzero\" fill-opacity=\"1\" /><path clip-path=\"url(#clip820)\" d=\"M1339.93 1548.76 L1339.93 1551.62 L1313.01 1551.62 Q1313.39 1557.67 1316.63 1560.85 Q1319.91 1564 1325.74 1564 Q1329.11 1564 1332.26 1563.17 Q1335.44 1562.35 1338.56 1560.69 L1338.56 1566.23 Q1335.41 1567.57 1332.1 1568.27 Q1328.79 1568.97 1325.39 1568.97 Q1316.86 1568.97 1311.86 1564 Q1306.89 1559.04 1306.89 1550.57 Q1306.89 1541.82 1311.6 1536.69 Q1316.35 1531.54 1324.37 1531.54 Q1331.56 1531.54 1335.73 1536.18 Q1339.93 1540.8 1339.93 1548.76 M1334.08 1547.04 Q1334.01 1542.23 1331.37 1539.37 Q1328.76 1536.5 1324.43 1536.5 Q1319.53 1536.5 1316.57 1539.27 Q1313.64 1542.04 1313.2 1547.07 L1334.08 1547.04 Z\" fill=\"#000000\" fill-rule=\"nonzero\" fill-opacity=\"1\" /><path clip-path=\"url(#clip820)\" d=\"M1379.18 1546.53 L1379.18 1568.04 L1373.32 1568.04 L1373.32 1546.72 Q1373.32 1541.66 1371.35 1539.14 Q1369.37 1536.63 1365.43 1536.63 Q1360.68 1536.63 1357.95 1539.65 Q1355.21 1542.68 1355.21 1547.9 L1355.21 1568.04 L1349.32 1568.04 L1349.32 1532.4 L1355.21 1532.4 L1355.21 1537.93 Q1357.31 1534.72 1360.14 1533.13 Q1363.01 1531.54 1366.73 1531.54 Q1372.87 1531.54 1376.03 1535.36 Q1379.18 1539.14 1379.18 1546.53 Z\" fill=\"#000000\" fill-rule=\"nonzero\" fill-opacity=\"1\" /><path clip-path=\"url(#clip820)\" d=\"M1414.32 1549.81 Q1414.32 1543.44 1411.67 1539.94 Q1409.06 1536.44 1404.32 1536.44 Q1399.61 1536.44 1396.97 1539.94 Q1394.36 1543.44 1394.36 1549.81 Q1394.36 1556.14 1396.97 1559.64 Q1399.61 1563.14 1404.32 1563.14 Q1409.06 1563.14 1411.67 1559.64 Q1414.32 1556.14 1414.32 1549.81 M1420.17 1563.62 Q1420.17 1572.72 1416.13 1577.15 Q1412.09 1581.6 1403.75 1581.6 Q1400.66 1581.6 1397.92 1581.13 Q1395.19 1580.68 1392.61 1579.72 L1392.61 1574.03 Q1395.19 1575.43 1397.7 1576.1 Q1400.22 1576.76 1402.83 1576.76 Q1408.59 1576.76 1411.45 1573.74 Q1414.32 1570.75 1414.32 1564.67 L1414.32 1561.77 Q1412.5 1564.92 1409.67 1566.48 Q1406.84 1568.04 1402.89 1568.04 Q1396.33 1568.04 1392.32 1563.05 Q1388.31 1558.05 1388.31 1549.81 Q1388.31 1541.53 1392.32 1536.53 Q1396.33 1531.54 1402.89 1531.54 Q1406.84 1531.54 1409.67 1533.1 Q1412.5 1534.66 1414.32 1537.81 L1414.32 1532.4 L1420.17 1532.4 L1420.17 1563.62 Z\" fill=\"#000000\" fill-rule=\"nonzero\" fill-opacity=\"1\" /><path clip-path=\"url(#clip820)\" d=\"M1438.03 1522.27 L1438.03 1532.4 L1450.09 1532.4 L1450.09 1536.95 L1438.03 1536.95 L1438.03 1556.3 Q1438.03 1560.66 1439.21 1561.9 Q1440.41 1563.14 1444.07 1563.14 L1450.09 1563.14 L1450.09 1568.04 L1444.07 1568.04 Q1437.3 1568.04 1434.72 1565.53 Q1432.14 1562.98 1432.14 1556.3 L1432.14 1536.95 L1427.84 1536.95 L1427.84 1532.4 L1432.14 1532.4 L1432.14 1522.27 L1438.03 1522.27 Z\" fill=\"#000000\" fill-rule=\"nonzero\" fill-opacity=\"1\" /><path clip-path=\"url(#clip820)\" d=\"M1487.43 1546.53 L1487.43 1568.04 L1481.57 1568.04 L1481.57 1546.72 Q1481.57 1541.66 1479.6 1539.14 Q1477.62 1536.63 1473.68 1536.63 Q1468.93 1536.63 1466.2 1539.65 Q1463.46 1542.68 1463.46 1547.9 L1463.46 1568.04 L1457.57 1568.04 L1457.57 1518.52 L1463.46 1518.52 L1463.46 1537.93 Q1465.56 1534.72 1468.39 1533.13 Q1471.26 1531.54 1474.98 1531.54 Q1481.12 1531.54 1484.27 1535.36 Q1487.43 1539.14 1487.43 1546.53 Z\" fill=\"#000000\" fill-rule=\"nonzero\" fill-opacity=\"1\" /><polyline clip-path=\"url(#clip822)\" style=\"stroke:#000000; stroke-linecap:round; stroke-linejoin:round; stroke-width:2; stroke-opacity:0.1; fill:none\" points=\"203.964,1423.18 2352.76,1423.18 \"/>\n",
       "<polyline clip-path=\"url(#clip822)\" style=\"stroke:#000000; stroke-linecap:round; stroke-linejoin:round; stroke-width:2; stroke-opacity:0.1; fill:none\" points=\"203.964,1018.49 2352.76,1018.49 \"/>\n",
       "<polyline clip-path=\"url(#clip822)\" style=\"stroke:#000000; stroke-linecap:round; stroke-linejoin:round; stroke-width:2; stroke-opacity:0.1; fill:none\" points=\"203.964,613.806 2352.76,613.806 \"/>\n",
       "<polyline clip-path=\"url(#clip822)\" style=\"stroke:#000000; stroke-linecap:round; stroke-linejoin:round; stroke-width:2; stroke-opacity:0.1; fill:none\" points=\"203.964,209.119 2352.76,209.119 \"/>\n",
       "<polyline clip-path=\"url(#clip820)\" style=\"stroke:#000000; stroke-linecap:round; stroke-linejoin:round; stroke-width:4; stroke-opacity:1; fill:none\" points=\"203.964,1423.18 203.964,47.2441 \"/>\n",
       "<polyline clip-path=\"url(#clip820)\" style=\"stroke:#000000; stroke-linecap:round; stroke-linejoin:round; stroke-width:4; stroke-opacity:1; fill:none\" points=\"203.964,1423.18 222.861,1423.18 \"/>\n",
       "<polyline clip-path=\"url(#clip820)\" style=\"stroke:#000000; stroke-linecap:round; stroke-linejoin:round; stroke-width:4; stroke-opacity:1; fill:none\" points=\"203.964,1018.49 222.861,1018.49 \"/>\n",
       "<polyline clip-path=\"url(#clip820)\" style=\"stroke:#000000; stroke-linecap:round; stroke-linejoin:round; stroke-width:4; stroke-opacity:1; fill:none\" points=\"203.964,613.806 222.861,613.806 \"/>\n",
       "<polyline clip-path=\"url(#clip820)\" style=\"stroke:#000000; stroke-linecap:round; stroke-linejoin:round; stroke-width:4; stroke-opacity:1; fill:none\" points=\"203.964,209.119 222.861,209.119 \"/>\n",
       "<path clip-path=\"url(#clip820)\" d=\"M156.019 1408.98 Q152.408 1408.98 150.579 1412.54 Q148.774 1416.08 148.774 1423.21 Q148.774 1430.32 150.579 1433.89 Q152.408 1437.43 156.019 1437.43 Q159.653 1437.43 161.459 1433.89 Q163.288 1430.32 163.288 1423.21 Q163.288 1416.08 161.459 1412.54 Q159.653 1408.98 156.019 1408.98 M156.019 1405.27 Q161.829 1405.27 164.885 1409.88 Q167.964 1414.46 167.964 1423.21 Q167.964 1431.94 164.885 1436.55 Q161.829 1441.13 156.019 1441.13 Q150.209 1441.13 147.13 1436.55 Q144.075 1431.94 144.075 1423.21 Q144.075 1414.46 147.13 1409.88 Q150.209 1405.27 156.019 1405.27 Z\" fill=\"#000000\" fill-rule=\"nonzero\" fill-opacity=\"1\" /><path clip-path=\"url(#clip820)\" d=\"M116.668 1031.84 L124.306 1031.84 L124.306 1005.47 L115.996 1007.14 L115.996 1002.88 L124.26 1001.21 L128.936 1001.21 L128.936 1031.84 L136.575 1031.84 L136.575 1035.77 L116.668 1035.77 L116.668 1031.84 Z\" fill=\"#000000\" fill-rule=\"nonzero\" fill-opacity=\"1\" /><path clip-path=\"url(#clip820)\" d=\"M156.019 1004.29 Q152.408 1004.29 150.579 1007.86 Q148.774 1011.4 148.774 1018.53 Q148.774 1025.63 150.579 1029.2 Q152.408 1032.74 156.019 1032.74 Q159.653 1032.74 161.459 1029.2 Q163.288 1025.63 163.288 1018.53 Q163.288 1011.4 161.459 1007.86 Q159.653 1004.29 156.019 1004.29 M156.019 1000.59 Q161.829 1000.59 164.885 1005.19 Q167.964 1009.78 167.964 1018.53 Q167.964 1027.25 164.885 1031.86 Q161.829 1036.44 156.019 1036.44 Q150.209 1036.44 147.13 1031.86 Q144.075 1027.25 144.075 1018.53 Q144.075 1009.78 147.13 1005.19 Q150.209 1000.59 156.019 1000.59 Z\" fill=\"#000000\" fill-rule=\"nonzero\" fill-opacity=\"1\" /><path clip-path=\"url(#clip820)\" d=\"M119.885 627.151 L136.204 627.151 L136.204 631.086 L114.26 631.086 L114.26 627.151 Q116.922 624.396 121.505 619.766 Q126.112 615.114 127.292 613.771 Q129.538 611.248 130.417 609.512 Q131.32 607.753 131.32 606.063 Q131.32 603.308 129.376 601.572 Q127.455 599.836 124.353 599.836 Q122.154 599.836 119.7 600.6 Q117.269 601.364 114.492 602.915 L114.492 598.193 Q117.316 597.058 119.769 596.48 Q122.223 595.901 124.26 595.901 Q129.63 595.901 132.825 598.586 Q136.019 601.271 136.019 605.762 Q136.019 607.892 135.209 609.813 Q134.422 611.711 132.316 614.304 Q131.737 614.975 128.635 618.192 Q125.533 621.387 119.885 627.151 Z\" fill=\"#000000\" fill-rule=\"nonzero\" fill-opacity=\"1\" /><path clip-path=\"url(#clip820)\" d=\"M156.019 599.605 Q152.408 599.605 150.579 603.169 Q148.774 606.711 148.774 613.841 Q148.774 620.947 150.579 624.512 Q152.408 628.053 156.019 628.053 Q159.653 628.053 161.459 624.512 Q163.288 620.947 163.288 613.841 Q163.288 606.711 161.459 603.169 Q159.653 599.605 156.019 599.605 M156.019 595.901 Q161.829 595.901 164.885 600.507 Q167.964 605.091 167.964 613.841 Q167.964 622.567 164.885 627.174 Q161.829 631.757 156.019 631.757 Q150.209 631.757 147.13 627.174 Q144.075 622.567 144.075 613.841 Q144.075 605.091 147.13 600.507 Q150.209 595.901 156.019 595.901 Z\" fill=\"#000000\" fill-rule=\"nonzero\" fill-opacity=\"1\" /><path clip-path=\"url(#clip820)\" d=\"M130.024 207.765 Q133.38 208.482 135.255 210.751 Q137.154 213.019 137.154 216.353 Q137.154 221.468 133.635 224.269 Q130.117 227.07 123.635 227.07 Q121.459 227.07 119.144 226.63 Q116.853 226.214 114.399 225.357 L114.399 220.843 Q116.343 221.978 118.658 222.556 Q120.973 223.135 123.496 223.135 Q127.894 223.135 130.186 221.399 Q132.501 219.663 132.501 216.353 Q132.501 213.297 130.348 211.584 Q128.218 209.848 124.399 209.848 L120.371 209.848 L120.371 206.005 L124.584 206.005 Q128.033 206.005 129.862 204.64 Q131.691 203.251 131.691 200.658 Q131.691 197.996 129.792 196.584 Q127.917 195.149 124.399 195.149 Q122.478 195.149 120.279 195.566 Q118.08 195.982 115.441 196.862 L115.441 192.695 Q118.103 191.955 120.418 191.584 Q122.755 191.214 124.816 191.214 Q130.14 191.214 133.242 193.644 Q136.343 196.052 136.343 200.172 Q136.343 203.043 134.7 205.033 Q133.056 207.001 130.024 207.765 Z\" fill=\"#000000\" fill-rule=\"nonzero\" fill-opacity=\"1\" /><path clip-path=\"url(#clip820)\" d=\"M156.019 194.918 Q152.408 194.918 150.579 198.482 Q148.774 202.024 148.774 209.154 Q148.774 216.26 150.579 219.825 Q152.408 223.366 156.019 223.366 Q159.653 223.366 161.459 219.825 Q163.288 216.26 163.288 209.154 Q163.288 202.024 161.459 198.482 Q159.653 194.918 156.019 194.918 M156.019 191.214 Q161.829 191.214 164.885 195.82 Q167.964 200.404 167.964 209.154 Q167.964 217.88 164.885 222.487 Q161.829 227.07 156.019 227.07 Q150.209 227.07 147.13 222.487 Q144.075 217.88 144.075 209.154 Q144.075 200.404 147.13 195.82 Q150.209 191.214 156.019 191.214 Z\" fill=\"#000000\" fill-rule=\"nonzero\" fill-opacity=\"1\" /><path clip-path=\"url(#clip820)\" d=\"M18.0438 871.374 L24.314 871.374 Q22.5634 875.035 21.704 878.281 Q20.8447 881.528 20.8447 884.551 Q20.8447 889.803 22.8817 892.668 Q24.9187 895.5 28.6745 895.5 Q31.8255 895.5 33.4488 893.623 Q35.0402 891.713 36.0269 886.429 L36.8226 882.546 Q38.1912 875.353 41.6605 871.947 Q45.098 868.51 50.8908 868.51 Q57.7976 868.51 61.3624 873.157 Q64.9272 877.772 64.9272 886.716 Q64.9272 890.09 64.1633 893.909 Q63.3994 897.697 61.9035 901.771 L55.2831 901.771 Q57.4793 897.856 58.5933 894.1 Q59.7073 890.344 59.7073 886.716 Q59.7073 881.209 57.543 878.218 Q55.3786 875.226 51.3682 875.226 Q47.8671 875.226 45.8937 877.39 Q43.9204 879.523 42.9337 884.424 L42.1698 888.339 Q40.7375 895.532 37.682 898.747 Q34.6264 901.962 29.1837 901.962 Q22.8817 901.962 19.2532 897.537 Q15.6248 893.081 15.6248 885.284 Q15.6248 881.942 16.2295 878.472 Q16.8343 875.003 18.0438 871.374 Z\" fill=\"#000000\" fill-rule=\"nonzero\" fill-opacity=\"1\" /><path clip-path=\"url(#clip820)\" d=\"M44.7161 828.247 L47.5806 828.247 L47.5806 855.174 Q53.6281 854.792 56.8109 851.545 Q59.9619 848.267 59.9619 842.442 Q59.9619 839.068 59.1344 835.917 Q58.3069 832.735 56.6518 829.615 L62.1899 829.615 Q63.5267 832.766 64.227 836.077 Q64.9272 839.387 64.9272 842.792 Q64.9272 851.322 59.9619 856.32 Q54.9967 861.285 46.5303 861.285 Q37.7774 861.285 32.6531 856.574 Q27.4968 851.832 27.4968 843.811 Q27.4968 836.618 32.1438 832.448 Q36.7589 828.247 44.7161 828.247 M42.9973 834.103 Q38.1912 834.167 35.3266 836.809 Q32.4621 839.419 32.4621 843.747 Q32.4621 848.649 35.2312 851.609 Q38.0002 854.537 43.0292 854.983 L42.9973 834.103 Z\" fill=\"#000000\" fill-rule=\"nonzero\" fill-opacity=\"1\" /><path clip-path=\"url(#clip820)\" d=\"M46.212 815.133 Q52.6732 815.133 56.3653 812.492 Q60.0256 809.818 60.0256 805.171 Q60.0256 800.524 56.3653 797.851 Q52.6732 795.177 46.212 795.177 Q39.7508 795.177 36.0905 797.851 Q32.3984 800.524 32.3984 805.171 Q32.3984 809.818 36.0905 812.492 Q39.7508 815.133 46.212 815.133 M58.657 795.177 Q61.8398 797.023 63.3994 799.856 Q64.9272 802.657 64.9272 806.603 Q64.9272 813.065 59.771 817.139 Q54.6147 821.181 46.212 821.181 Q37.8093 821.181 32.6531 817.139 Q27.4968 813.065 27.4968 806.603 Q27.4968 802.657 29.0564 799.856 Q30.5842 797.023 33.7671 795.177 L28.3562 795.177 L28.3562 789.32 L77.5631 789.32 L77.5631 795.177 L58.657 795.177 Z\" fill=\"#000000\" fill-rule=\"nonzero\" fill-opacity=\"1\" /><path clip-path=\"url(#clip820)\" d=\"M74.8259 750.171 L79.3773 750.171 L79.3773 784.037 L74.8259 784.037 L74.8259 750.171 Z\" fill=\"#000000\" fill-rule=\"nonzero\" fill-opacity=\"1\" /><path clip-path=\"url(#clip820)\" d=\"M29.7248 719.011 L35.1993 719.011 Q33.8307 721.494 33.1623 724.008 Q32.4621 726.491 32.4621 729.037 Q32.4621 734.735 36.0905 737.886 Q39.6872 741.037 46.212 741.037 Q52.7369 741.037 56.3653 737.886 Q59.9619 734.735 59.9619 729.037 Q59.9619 726.491 59.2935 724.008 Q58.5933 721.494 57.2247 719.011 L62.6355 719.011 Q63.7814 721.462 64.3543 724.104 Q64.9272 726.714 64.9272 729.674 Q64.9272 737.726 59.8664 742.469 Q54.8057 747.211 46.212 747.211 Q37.491 747.211 32.4939 742.437 Q27.4968 737.631 27.4968 729.292 Q27.4968 726.586 28.0697 724.008 Q28.6108 721.43 29.7248 719.011 Z\" fill=\"#000000\" fill-rule=\"nonzero\" fill-opacity=\"1\" /><path clip-path=\"url(#clip820)\" d=\"M32.4621 695.013 Q32.4621 699.723 36.1542 702.46 Q39.8145 705.198 46.212 705.198 Q52.6095 705.198 56.3017 702.492 Q59.9619 699.755 59.9619 695.013 Q59.9619 690.334 56.2698 687.596 Q52.5777 684.859 46.212 684.859 Q39.8781 684.859 36.186 687.596 Q32.4621 690.334 32.4621 695.013 M27.4968 695.013 Q27.4968 687.374 32.4621 683.013 Q37.4273 678.653 46.212 678.653 Q54.9649 678.653 59.9619 683.013 Q64.9272 687.374 64.9272 695.013 Q64.9272 702.683 59.9619 707.044 Q54.9649 711.372 46.212 711.372 Q37.4273 711.372 32.4621 707.044 Q27.4968 702.683 27.4968 695.013 Z\" fill=\"#000000\" fill-rule=\"nonzero\" fill-opacity=\"1\" /><path clip-path=\"url(#clip820)\" d=\"M49.9359 669.55 L28.3562 669.55 L28.3562 663.693 L49.7131 663.693 Q54.7739 663.693 57.3202 661.72 Q59.8346 659.747 59.8346 655.8 Q59.8346 651.057 56.8109 648.32 Q53.7872 645.551 48.5673 645.551 L28.3562 645.551 L28.3562 639.695 L64.0042 639.695 L64.0042 645.551 L58.5296 645.551 Q61.7762 647.684 63.3676 650.516 Q64.9272 653.317 64.9272 657.041 Q64.9272 663.184 61.1078 666.367 Q57.2883 669.55 49.9359 669.55 M27.4968 654.813 L27.4968 654.813 Z\" fill=\"#000000\" fill-rule=\"nonzero\" fill-opacity=\"1\" /><path clip-path=\"url(#clip820)\" d=\"M42.4881 597.999 L64.0042 597.999 L64.0042 603.856 L42.679 603.856 Q37.6183 603.856 35.1038 605.829 Q32.5894 607.802 32.5894 611.749 Q32.5894 616.492 35.6131 619.229 Q38.6368 621.966 43.8567 621.966 L64.0042 621.966 L64.0042 627.854 L28.3562 627.854 L28.3562 621.966 L33.8944 621.966 Q30.6797 619.865 29.0883 617.033 Q27.4968 614.168 27.4968 610.444 Q27.4968 604.301 31.3163 601.15 Q35.1038 597.999 42.4881 597.999 Z\" fill=\"#000000\" fill-rule=\"nonzero\" fill-opacity=\"1\" /><path clip-path=\"url(#clip820)\" d=\"M18.2347 580.525 L28.3562 580.525 L28.3562 568.462 L32.9077 568.462 L32.9077 580.525 L52.2594 580.525 Q56.6199 580.525 57.8613 579.348 Q59.1026 578.138 59.1026 574.478 L59.1026 568.462 L64.0042 568.462 L64.0042 574.478 Q64.0042 581.257 61.4897 583.835 Q58.9434 586.414 52.2594 586.414 L32.9077 586.414 L32.9077 590.71 L28.3562 590.71 L28.3562 586.414 L18.2347 586.414 L18.2347 580.525 Z\" fill=\"#000000\" fill-rule=\"nonzero\" fill-opacity=\"1\" /><path clip-path=\"url(#clip822)\" d=\"M567.333 168.65 L567.333 1423.18 L763.478 1423.18 L763.478 168.65 L567.333 168.65 L567.333 168.65  Z\" fill=\"#009af9\" fill-rule=\"evenodd\" fill-opacity=\"1\"/>\n",
       "<polyline clip-path=\"url(#clip822)\" style=\"stroke:#000000; stroke-linecap:round; stroke-linejoin:round; stroke-width:4; stroke-opacity:1; fill:none\" points=\"567.333,168.65 567.333,1423.18 763.478,1423.18 763.478,168.65 567.333,168.65 \"/>\n",
       "<path clip-path=\"url(#clip822)\" d=\"M322.151 1342.24 L322.151 1423.18 L518.296 1423.18 L518.296 1342.24 L322.151 1342.24 L322.151 1342.24  Z\" fill=\"#009af9\" fill-rule=\"evenodd\" fill-opacity=\"1\"/>\n",
       "<polyline clip-path=\"url(#clip822)\" style=\"stroke:#000000; stroke-linecap:round; stroke-linejoin:round; stroke-width:4; stroke-opacity:1; fill:none\" points=\"322.151,1342.24 322.151,1423.18 518.296,1423.18 518.296,1342.24 322.151,1342.24 \"/>\n",
       "<path clip-path=\"url(#clip822)\" d=\"M812.514 1180.37 L812.514 1423.18 L1008.66 1423.18 L1008.66 1180.37 L812.514 1180.37 L812.514 1180.37  Z\" fill=\"#009af9\" fill-rule=\"evenodd\" fill-opacity=\"1\"/>\n",
       "<polyline clip-path=\"url(#clip822)\" style=\"stroke:#000000; stroke-linecap:round; stroke-linejoin:round; stroke-width:4; stroke-opacity:1; fill:none\" points=\"812.514,1180.37 812.514,1423.18 1008.66,1423.18 1008.66,1180.37 812.514,1180.37 \"/>\n",
       "<path clip-path=\"url(#clip822)\" d=\"M1057.7 1382.71 L1057.7 1423.18 L1253.84 1423.18 L1253.84 1382.71 L1057.7 1382.71 L1057.7 1382.71  Z\" fill=\"#009af9\" fill-rule=\"evenodd\" fill-opacity=\"1\"/>\n",
       "<polyline clip-path=\"url(#clip822)\" style=\"stroke:#000000; stroke-linecap:round; stroke-linejoin:round; stroke-width:4; stroke-opacity:1; fill:none\" points=\"1057.7,1382.71 1057.7,1423.18 1253.84,1423.18 1253.84,1382.71 1057.7,1382.71 \"/>\n",
       "<path clip-path=\"url(#clip822)\" d=\"M2038.42 1382.71 L2038.42 1423.18 L2234.57 1423.18 L2234.57 1382.71 L2038.42 1382.71 L2038.42 1382.71  Z\" fill=\"#009af9\" fill-rule=\"evenodd\" fill-opacity=\"1\"/>\n",
       "<polyline clip-path=\"url(#clip822)\" style=\"stroke:#000000; stroke-linecap:round; stroke-linejoin:round; stroke-width:4; stroke-opacity:1; fill:none\" points=\"2038.42,1382.71 2038.42,1423.18 2234.57,1423.18 2234.57,1382.71 2038.42,1382.71 \"/>\n",
       "<path clip-path=\"url(#clip822)\" d=\"M1793.24 290.056 L1793.24 1423.18 L1989.39 1423.18 L1989.39 290.056 L1793.24 290.056 L1793.24 290.056  Z\" fill=\"#009af9\" fill-rule=\"evenodd\" fill-opacity=\"1\"/>\n",
       "<polyline clip-path=\"url(#clip822)\" style=\"stroke:#000000; stroke-linecap:round; stroke-linejoin:round; stroke-width:4; stroke-opacity:1; fill:none\" points=\"1793.24,290.056 1793.24,1423.18 1989.39,1423.18 1989.39,290.056 1793.24,290.056 \"/>\n",
       "<path clip-path=\"url(#clip822)\" d=\"M1548.06 47.2441 L1548.06 1423.18 L1744.21 1423.18 L1744.21 47.2441 L1548.06 47.2441 L1548.06 47.2441  Z\" fill=\"#009af9\" fill-rule=\"evenodd\" fill-opacity=\"1\"/>\n",
       "<polyline clip-path=\"url(#clip822)\" style=\"stroke:#000000; stroke-linecap:round; stroke-linejoin:round; stroke-width:4; stroke-opacity:1; fill:none\" points=\"1548.06,47.2441 1548.06,1423.18 1744.21,1423.18 1744.21,47.2441 1548.06,47.2441 \"/>\n",
       "<path clip-path=\"url(#clip822)\" d=\"M1302.88 168.65 L1302.88 1423.18 L1499.02 1423.18 L1499.02 168.65 L1302.88 168.65 L1302.88 168.65  Z\" fill=\"#009af9\" fill-rule=\"evenodd\" fill-opacity=\"1\"/>\n",
       "<polyline clip-path=\"url(#clip822)\" style=\"stroke:#000000; stroke-linecap:round; stroke-linejoin:round; stroke-width:4; stroke-opacity:1; fill:none\" points=\"1302.88,168.65 1302.88,1423.18 1499.02,1423.18 1499.02,168.65 1302.88,168.65 \"/>\n",
       "<circle clip-path=\"url(#clip822)\" style=\"fill:#009af9; stroke:none; fill-opacity:0\" cx=\"665.405\" cy=\"168.65\" r=\"2\"/>\n",
       "<circle clip-path=\"url(#clip822)\" style=\"fill:#009af9; stroke:none; fill-opacity:0\" cx=\"420.224\" cy=\"1342.24\" r=\"2\"/>\n",
       "<circle clip-path=\"url(#clip822)\" style=\"fill:#009af9; stroke:none; fill-opacity:0\" cx=\"910.587\" cy=\"1180.37\" r=\"2\"/>\n",
       "<circle clip-path=\"url(#clip822)\" style=\"fill:#009af9; stroke:none; fill-opacity:0\" cx=\"1155.77\" cy=\"1382.71\" r=\"2\"/>\n",
       "<circle clip-path=\"url(#clip822)\" style=\"fill:#009af9; stroke:none; fill-opacity:0\" cx=\"2136.5\" cy=\"1382.71\" r=\"2\"/>\n",
       "<circle clip-path=\"url(#clip822)\" style=\"fill:#009af9; stroke:none; fill-opacity:0\" cx=\"1891.31\" cy=\"290.056\" r=\"2\"/>\n",
       "<circle clip-path=\"url(#clip822)\" style=\"fill:#009af9; stroke:none; fill-opacity:0\" cx=\"1646.13\" cy=\"47.2441\" r=\"2\"/>\n",
       "<circle clip-path=\"url(#clip822)\" style=\"fill:#009af9; stroke:none; fill-opacity:0\" cx=\"1400.95\" cy=\"168.65\" r=\"2\"/>\n",
       "</svg>\n"
      ],
      "text/html": [
       "<?xml version=\"1.0\" encoding=\"utf-8\"?>\n",
       "<svg xmlns=\"http://www.w3.org/2000/svg\" xmlns:xlink=\"http://www.w3.org/1999/xlink\" width=\"600\" height=\"400\" viewBox=\"0 0 2400 1600\">\n",
       "<defs>\n",
       "  <clipPath id=\"clip870\">\n",
       "    <rect x=\"0\" y=\"0\" width=\"2400\" height=\"1600\"/>\n",
       "  </clipPath>\n",
       "</defs>\n",
       "<path clip-path=\"url(#clip870)\" d=\"M0 1600 L2400 1600 L2400 0 L0 0  Z\" fill=\"#ffffff\" fill-rule=\"evenodd\" fill-opacity=\"1\"/>\n",
       "<defs>\n",
       "  <clipPath id=\"clip871\">\n",
       "    <rect x=\"480\" y=\"0\" width=\"1681\" height=\"1600\"/>\n",
       "  </clipPath>\n",
       "</defs>\n",
       "<path clip-path=\"url(#clip870)\" d=\"M203.964 1423.18 L2352.76 1423.18 L2352.76 47.2441 L203.964 47.2441  Z\" fill=\"#ffffff\" fill-rule=\"evenodd\" fill-opacity=\"1\"/>\n",
       "<defs>\n",
       "  <clipPath id=\"clip872\">\n",
       "    <rect x=\"203\" y=\"47\" width=\"2150\" height=\"1377\"/>\n",
       "  </clipPath>\n",
       "</defs>\n",
       "<polyline clip-path=\"url(#clip872)\" style=\"stroke:#000000; stroke-linecap:round; stroke-linejoin:round; stroke-width:2; stroke-opacity:0.1; fill:none\" points=\"420.224,1423.18 420.224,47.2441 \"/>\n",
       "<polyline clip-path=\"url(#clip872)\" style=\"stroke:#000000; stroke-linecap:round; stroke-linejoin:round; stroke-width:2; stroke-opacity:0.1; fill:none\" points=\"910.587,1423.18 910.587,47.2441 \"/>\n",
       "<polyline clip-path=\"url(#clip872)\" style=\"stroke:#000000; stroke-linecap:round; stroke-linejoin:round; stroke-width:2; stroke-opacity:0.1; fill:none\" points=\"1400.95,1423.18 1400.95,47.2441 \"/>\n",
       "<polyline clip-path=\"url(#clip872)\" style=\"stroke:#000000; stroke-linecap:round; stroke-linejoin:round; stroke-width:2; stroke-opacity:0.1; fill:none\" points=\"1891.31,1423.18 1891.31,47.2441 \"/>\n",
       "<polyline clip-path=\"url(#clip870)\" style=\"stroke:#000000; stroke-linecap:round; stroke-linejoin:round; stroke-width:4; stroke-opacity:1; fill:none\" points=\"203.964,1423.18 2352.76,1423.18 \"/>\n",
       "<polyline clip-path=\"url(#clip870)\" style=\"stroke:#000000; stroke-linecap:round; stroke-linejoin:round; stroke-width:4; stroke-opacity:1; fill:none\" points=\"420.224,1423.18 420.224,1404.28 \"/>\n",
       "<polyline clip-path=\"url(#clip870)\" style=\"stroke:#000000; stroke-linecap:round; stroke-linejoin:round; stroke-width:4; stroke-opacity:1; fill:none\" points=\"910.587,1423.18 910.587,1404.28 \"/>\n",
       "<polyline clip-path=\"url(#clip870)\" style=\"stroke:#000000; stroke-linecap:round; stroke-linejoin:round; stroke-width:4; stroke-opacity:1; fill:none\" points=\"1400.95,1423.18 1400.95,1404.28 \"/>\n",
       "<polyline clip-path=\"url(#clip870)\" style=\"stroke:#000000; stroke-linecap:round; stroke-linejoin:round; stroke-width:4; stroke-opacity:1; fill:none\" points=\"1891.31,1423.18 1891.31,1404.28 \"/>\n",
       "<path clip-path=\"url(#clip870)\" d=\"M423.233 1455.09 L411.427 1473.54 L423.233 1473.54 L423.233 1455.09 M422.006 1451.02 L427.886 1451.02 L427.886 1473.54 L432.816 1473.54 L432.816 1477.43 L427.886 1477.43 L427.886 1485.58 L423.233 1485.58 L423.233 1477.43 L407.631 1477.43 L407.631 1472.92 L422.006 1451.02 Z\" fill=\"#000000\" fill-rule=\"nonzero\" fill-opacity=\"1\" /><path clip-path=\"url(#clip870)\" d=\"M910.992 1466.44 Q907.844 1466.44 905.992 1468.59 Q904.164 1470.74 904.164 1474.49 Q904.164 1478.22 905.992 1480.39 Q907.844 1482.55 910.992 1482.55 Q914.14 1482.55 915.969 1480.39 Q917.821 1478.22 917.821 1474.49 Q917.821 1470.74 915.969 1468.59 Q914.14 1466.44 910.992 1466.44 M920.275 1451.78 L920.275 1456.04 Q918.515 1455.21 916.71 1454.77 Q914.927 1454.33 913.168 1454.33 Q908.539 1454.33 906.085 1457.45 Q903.654 1460.58 903.307 1466.9 Q904.673 1464.89 906.733 1463.82 Q908.793 1462.73 911.27 1462.73 Q916.478 1462.73 919.488 1465.9 Q922.52 1469.05 922.52 1474.49 Q922.52 1479.82 919.372 1483.03 Q916.224 1486.25 910.992 1486.25 Q904.997 1486.25 901.826 1481.67 Q898.654 1477.06 898.654 1468.33 Q898.654 1460.14 902.543 1455.28 Q906.432 1450.39 912.983 1450.39 Q914.742 1450.39 916.525 1450.74 Q918.33 1451.09 920.275 1451.78 Z\" fill=\"#000000\" fill-rule=\"nonzero\" fill-opacity=\"1\" /><path clip-path=\"url(#clip870)\" d=\"M1400.95 1469.17 Q1397.62 1469.17 1395.7 1470.95 Q1393.8 1472.73 1393.8 1475.86 Q1393.8 1478.98 1395.7 1480.77 Q1397.62 1482.55 1400.95 1482.55 Q1404.28 1482.55 1406.21 1480.77 Q1408.13 1478.96 1408.13 1475.86 Q1408.13 1472.73 1406.21 1470.95 Q1404.31 1469.17 1400.95 1469.17 M1396.27 1467.18 Q1393.27 1466.44 1391.58 1464.38 Q1389.91 1462.32 1389.91 1459.35 Q1389.91 1455.21 1392.85 1452.8 Q1395.81 1450.39 1400.95 1450.39 Q1406.11 1450.39 1409.05 1452.8 Q1411.99 1455.21 1411.99 1459.35 Q1411.99 1462.32 1410.3 1464.38 Q1408.64 1466.44 1405.65 1467.18 Q1409.03 1467.96 1410.9 1470.26 Q1412.8 1472.55 1412.8 1475.86 Q1412.8 1480.88 1409.72 1483.57 Q1406.67 1486.25 1400.95 1486.25 Q1395.23 1486.25 1392.15 1483.57 Q1389.1 1480.88 1389.1 1475.86 Q1389.1 1472.55 1391 1470.26 Q1392.9 1467.96 1396.27 1467.18 M1394.56 1459.79 Q1394.56 1462.48 1396.23 1463.98 Q1397.92 1465.49 1400.95 1465.49 Q1403.96 1465.49 1405.65 1463.98 Q1407.36 1462.48 1407.36 1459.79 Q1407.36 1457.11 1405.65 1455.6 Q1403.96 1454.1 1400.95 1454.1 Q1397.92 1454.1 1396.23 1455.6 Q1394.56 1457.11 1394.56 1459.79 Z\" fill=\"#000000\" fill-rule=\"nonzero\" fill-opacity=\"1\" /><path clip-path=\"url(#clip870)\" d=\"M1866 1481.64 L1873.64 1481.64 L1873.64 1455.28 L1865.33 1456.95 L1865.33 1452.69 L1873.59 1451.02 L1878.27 1451.02 L1878.27 1481.64 L1885.91 1481.64 L1885.91 1485.58 L1866 1485.58 L1866 1481.64 Z\" fill=\"#000000\" fill-rule=\"nonzero\" fill-opacity=\"1\" /><path clip-path=\"url(#clip870)\" d=\"M1905.35 1454.1 Q1901.74 1454.1 1899.91 1457.66 Q1898.11 1461.2 1898.11 1468.33 Q1898.11 1475.44 1899.91 1479.01 Q1901.74 1482.55 1905.35 1482.55 Q1908.99 1482.55 1910.79 1479.01 Q1912.62 1475.44 1912.62 1468.33 Q1912.62 1461.2 1910.79 1457.66 Q1908.99 1454.1 1905.35 1454.1 M1905.35 1450.39 Q1911.16 1450.39 1914.22 1455 Q1917.3 1459.58 1917.3 1468.33 Q1917.3 1477.06 1914.22 1481.67 Q1911.16 1486.25 1905.35 1486.25 Q1899.54 1486.25 1896.46 1481.67 Q1893.41 1477.06 1893.41 1468.33 Q1893.41 1459.58 1896.46 1455 Q1899.54 1450.39 1905.35 1450.39 Z\" fill=\"#000000\" fill-rule=\"nonzero\" fill-opacity=\"1\" /><path clip-path=\"url(#clip870)\" d=\"M1099.88 1522.08 L1099.88 1528.35 Q1096.22 1526.6 1092.97 1525.74 Q1089.73 1524.88 1086.7 1524.88 Q1081.45 1524.88 1078.59 1526.92 Q1075.76 1528.96 1075.76 1532.71 Q1075.76 1535.87 1077.63 1537.49 Q1079.54 1539.08 1084.83 1540.07 L1088.71 1540.86 Q1095.9 1542.23 1099.31 1545.7 Q1102.75 1549.14 1102.75 1554.93 Q1102.75 1561.84 1098.1 1565.4 Q1093.48 1568.97 1084.54 1568.97 Q1081.17 1568.97 1077.35 1568.2 Q1073.56 1567.44 1069.48 1565.94 L1069.48 1559.32 Q1073.4 1561.52 1077.16 1562.63 Q1080.91 1563.75 1084.54 1563.75 Q1090.05 1563.75 1093.04 1561.58 Q1096.03 1559.42 1096.03 1555.41 Q1096.03 1551.91 1093.87 1549.93 Q1091.73 1547.96 1086.83 1546.97 L1082.92 1546.21 Q1075.72 1544.78 1072.51 1541.72 Q1069.29 1538.67 1069.29 1533.22 Q1069.29 1526.92 1073.72 1523.29 Q1078.17 1519.66 1085.97 1519.66 Q1089.31 1519.66 1092.78 1520.27 Q1096.25 1520.87 1099.88 1522.08 Z\" fill=\"#000000\" fill-rule=\"nonzero\" fill-opacity=\"1\" /><path clip-path=\"url(#clip870)\" d=\"M1118.31 1522.27 L1118.31 1532.4 L1130.37 1532.4 L1130.37 1536.95 L1118.31 1536.95 L1118.31 1556.3 Q1118.31 1560.66 1119.49 1561.9 Q1120.7 1563.14 1124.36 1563.14 L1130.37 1563.14 L1130.37 1568.04 L1124.36 1568.04 Q1117.58 1568.04 1115 1565.53 Q1112.42 1562.98 1112.42 1556.3 L1112.42 1536.95 L1108.12 1536.95 L1108.12 1532.4 L1112.42 1532.4 L1112.42 1522.27 L1118.31 1522.27 Z\" fill=\"#000000\" fill-rule=\"nonzero\" fill-opacity=\"1\" /><path clip-path=\"url(#clip870)\" d=\"M1168.57 1548.76 L1168.57 1551.62 L1141.64 1551.62 Q1142.02 1557.67 1145.27 1560.85 Q1148.55 1564 1154.37 1564 Q1157.75 1564 1160.9 1563.17 Q1164.08 1562.35 1167.2 1560.69 L1167.2 1566.23 Q1164.05 1567.57 1160.74 1568.27 Q1157.43 1568.97 1154.02 1568.97 Q1145.49 1568.97 1140.49 1564 Q1135.53 1559.04 1135.53 1550.57 Q1135.53 1541.82 1140.24 1536.69 Q1144.98 1531.54 1153 1531.54 Q1160.2 1531.54 1164.37 1536.18 Q1168.57 1540.8 1168.57 1548.76 M1162.71 1547.04 Q1162.65 1542.23 1160.01 1539.37 Q1157.4 1536.5 1153.07 1536.5 Q1148.17 1536.5 1145.21 1539.27 Q1142.28 1542.04 1141.83 1547.07 L1162.71 1547.04 Z\" fill=\"#000000\" fill-rule=\"nonzero\" fill-opacity=\"1\" /><path clip-path=\"url(#clip870)\" d=\"M1205.93 1539.24 Q1208.13 1535.29 1211.19 1533.41 Q1214.24 1531.54 1218.38 1531.54 Q1223.95 1531.54 1226.97 1535.45 Q1230 1539.33 1230 1546.53 L1230 1568.04 L1224.11 1568.04 L1224.11 1546.72 Q1224.11 1541.59 1222.29 1539.11 Q1220.48 1536.63 1216.76 1536.63 Q1212.2 1536.63 1209.56 1539.65 Q1206.92 1542.68 1206.92 1547.9 L1206.92 1568.04 L1201.03 1568.04 L1201.03 1546.72 Q1201.03 1541.56 1199.22 1539.11 Q1197.4 1536.63 1193.62 1536.63 Q1189.13 1536.63 1186.49 1539.68 Q1183.84 1542.71 1183.84 1547.9 L1183.84 1568.04 L1177.96 1568.04 L1177.96 1532.4 L1183.84 1532.4 L1183.84 1537.93 Q1185.85 1534.66 1188.65 1533.1 Q1191.45 1531.54 1195.3 1531.54 Q1199.19 1531.54 1201.89 1533.51 Q1204.63 1535.48 1205.93 1539.24 Z\" fill=\"#000000\" fill-rule=\"nonzero\" fill-opacity=\"1\" /><path clip-path=\"url(#clip870)\" d=\"M1268.76 1578.87 L1268.76 1583.42 L1234.9 1583.42 L1234.9 1578.87 L1268.76 1578.87 Z\" fill=\"#000000\" fill-rule=\"nonzero\" fill-opacity=\"1\" /><path clip-path=\"url(#clip870)\" d=\"M1274.52 1520.52 L1280.95 1520.52 L1280.95 1562.63 L1304.09 1562.63 L1304.09 1568.04 L1274.52 1568.04 L1274.52 1520.52 Z\" fill=\"#000000\" fill-rule=\"nonzero\" fill-opacity=\"1\" /><path clip-path=\"url(#clip870)\" d=\"M1339.93 1548.76 L1339.93 1551.62 L1313.01 1551.62 Q1313.39 1557.67 1316.63 1560.85 Q1319.91 1564 1325.74 1564 Q1329.11 1564 1332.26 1563.17 Q1335.44 1562.35 1338.56 1560.69 L1338.56 1566.23 Q1335.41 1567.57 1332.1 1568.27 Q1328.79 1568.97 1325.39 1568.97 Q1316.86 1568.97 1311.86 1564 Q1306.89 1559.04 1306.89 1550.57 Q1306.89 1541.82 1311.6 1536.69 Q1316.35 1531.54 1324.37 1531.54 Q1331.56 1531.54 1335.73 1536.18 Q1339.93 1540.8 1339.93 1548.76 M1334.08 1547.04 Q1334.01 1542.23 1331.37 1539.37 Q1328.76 1536.5 1324.43 1536.5 Q1319.53 1536.5 1316.57 1539.27 Q1313.64 1542.04 1313.2 1547.07 L1334.08 1547.04 Z\" fill=\"#000000\" fill-rule=\"nonzero\" fill-opacity=\"1\" /><path clip-path=\"url(#clip870)\" d=\"M1379.18 1546.53 L1379.18 1568.04 L1373.32 1568.04 L1373.32 1546.72 Q1373.32 1541.66 1371.35 1539.14 Q1369.37 1536.63 1365.43 1536.63 Q1360.68 1536.63 1357.95 1539.65 Q1355.21 1542.68 1355.21 1547.9 L1355.21 1568.04 L1349.32 1568.04 L1349.32 1532.4 L1355.21 1532.4 L1355.21 1537.93 Q1357.31 1534.72 1360.14 1533.13 Q1363.01 1531.54 1366.73 1531.54 Q1372.87 1531.54 1376.03 1535.36 Q1379.18 1539.14 1379.18 1546.53 Z\" fill=\"#000000\" fill-rule=\"nonzero\" fill-opacity=\"1\" /><path clip-path=\"url(#clip870)\" d=\"M1414.32 1549.81 Q1414.32 1543.44 1411.67 1539.94 Q1409.06 1536.44 1404.32 1536.44 Q1399.61 1536.44 1396.97 1539.94 Q1394.36 1543.44 1394.36 1549.81 Q1394.36 1556.14 1396.97 1559.64 Q1399.61 1563.14 1404.32 1563.14 Q1409.06 1563.14 1411.67 1559.64 Q1414.32 1556.14 1414.32 1549.81 M1420.17 1563.62 Q1420.17 1572.72 1416.13 1577.15 Q1412.09 1581.6 1403.75 1581.6 Q1400.66 1581.6 1397.92 1581.13 Q1395.19 1580.68 1392.61 1579.72 L1392.61 1574.03 Q1395.19 1575.43 1397.7 1576.1 Q1400.22 1576.76 1402.83 1576.76 Q1408.59 1576.76 1411.45 1573.74 Q1414.32 1570.75 1414.32 1564.67 L1414.32 1561.77 Q1412.5 1564.92 1409.67 1566.48 Q1406.84 1568.04 1402.89 1568.04 Q1396.33 1568.04 1392.32 1563.05 Q1388.31 1558.05 1388.31 1549.81 Q1388.31 1541.53 1392.32 1536.53 Q1396.33 1531.54 1402.89 1531.54 Q1406.84 1531.54 1409.67 1533.1 Q1412.5 1534.66 1414.32 1537.81 L1414.32 1532.4 L1420.17 1532.4 L1420.17 1563.62 Z\" fill=\"#000000\" fill-rule=\"nonzero\" fill-opacity=\"1\" /><path clip-path=\"url(#clip870)\" d=\"M1438.03 1522.27 L1438.03 1532.4 L1450.09 1532.4 L1450.09 1536.95 L1438.03 1536.95 L1438.03 1556.3 Q1438.03 1560.66 1439.21 1561.9 Q1440.41 1563.14 1444.07 1563.14 L1450.09 1563.14 L1450.09 1568.04 L1444.07 1568.04 Q1437.3 1568.04 1434.72 1565.53 Q1432.14 1562.98 1432.14 1556.3 L1432.14 1536.95 L1427.84 1536.95 L1427.84 1532.4 L1432.14 1532.4 L1432.14 1522.27 L1438.03 1522.27 Z\" fill=\"#000000\" fill-rule=\"nonzero\" fill-opacity=\"1\" /><path clip-path=\"url(#clip870)\" d=\"M1487.43 1546.53 L1487.43 1568.04 L1481.57 1568.04 L1481.57 1546.72 Q1481.57 1541.66 1479.6 1539.14 Q1477.62 1536.63 1473.68 1536.63 Q1468.93 1536.63 1466.2 1539.65 Q1463.46 1542.68 1463.46 1547.9 L1463.46 1568.04 L1457.57 1568.04 L1457.57 1518.52 L1463.46 1518.52 L1463.46 1537.93 Q1465.56 1534.72 1468.39 1533.13 Q1471.26 1531.54 1474.98 1531.54 Q1481.12 1531.54 1484.27 1535.36 Q1487.43 1539.14 1487.43 1546.53 Z\" fill=\"#000000\" fill-rule=\"nonzero\" fill-opacity=\"1\" /><polyline clip-path=\"url(#clip872)\" style=\"stroke:#000000; stroke-linecap:round; stroke-linejoin:round; stroke-width:2; stroke-opacity:0.1; fill:none\" points=\"203.964,1423.18 2352.76,1423.18 \"/>\n",
       "<polyline clip-path=\"url(#clip872)\" style=\"stroke:#000000; stroke-linecap:round; stroke-linejoin:round; stroke-width:2; stroke-opacity:0.1; fill:none\" points=\"203.964,1018.49 2352.76,1018.49 \"/>\n",
       "<polyline clip-path=\"url(#clip872)\" style=\"stroke:#000000; stroke-linecap:round; stroke-linejoin:round; stroke-width:2; stroke-opacity:0.1; fill:none\" points=\"203.964,613.806 2352.76,613.806 \"/>\n",
       "<polyline clip-path=\"url(#clip872)\" style=\"stroke:#000000; stroke-linecap:round; stroke-linejoin:round; stroke-width:2; stroke-opacity:0.1; fill:none\" points=\"203.964,209.119 2352.76,209.119 \"/>\n",
       "<polyline clip-path=\"url(#clip870)\" style=\"stroke:#000000; stroke-linecap:round; stroke-linejoin:round; stroke-width:4; stroke-opacity:1; fill:none\" points=\"203.964,1423.18 203.964,47.2441 \"/>\n",
       "<polyline clip-path=\"url(#clip870)\" style=\"stroke:#000000; stroke-linecap:round; stroke-linejoin:round; stroke-width:4; stroke-opacity:1; fill:none\" points=\"203.964,1423.18 222.861,1423.18 \"/>\n",
       "<polyline clip-path=\"url(#clip870)\" style=\"stroke:#000000; stroke-linecap:round; stroke-linejoin:round; stroke-width:4; stroke-opacity:1; fill:none\" points=\"203.964,1018.49 222.861,1018.49 \"/>\n",
       "<polyline clip-path=\"url(#clip870)\" style=\"stroke:#000000; stroke-linecap:round; stroke-linejoin:round; stroke-width:4; stroke-opacity:1; fill:none\" points=\"203.964,613.806 222.861,613.806 \"/>\n",
       "<polyline clip-path=\"url(#clip870)\" style=\"stroke:#000000; stroke-linecap:round; stroke-linejoin:round; stroke-width:4; stroke-opacity:1; fill:none\" points=\"203.964,209.119 222.861,209.119 \"/>\n",
       "<path clip-path=\"url(#clip870)\" d=\"M156.019 1408.98 Q152.408 1408.98 150.579 1412.54 Q148.774 1416.08 148.774 1423.21 Q148.774 1430.32 150.579 1433.89 Q152.408 1437.43 156.019 1437.43 Q159.653 1437.43 161.459 1433.89 Q163.288 1430.32 163.288 1423.21 Q163.288 1416.08 161.459 1412.54 Q159.653 1408.98 156.019 1408.98 M156.019 1405.27 Q161.829 1405.27 164.885 1409.88 Q167.964 1414.46 167.964 1423.21 Q167.964 1431.94 164.885 1436.55 Q161.829 1441.13 156.019 1441.13 Q150.209 1441.13 147.13 1436.55 Q144.075 1431.94 144.075 1423.21 Q144.075 1414.46 147.13 1409.88 Q150.209 1405.27 156.019 1405.27 Z\" fill=\"#000000\" fill-rule=\"nonzero\" fill-opacity=\"1\" /><path clip-path=\"url(#clip870)\" d=\"M116.668 1031.84 L124.306 1031.84 L124.306 1005.47 L115.996 1007.14 L115.996 1002.88 L124.26 1001.21 L128.936 1001.21 L128.936 1031.84 L136.575 1031.84 L136.575 1035.77 L116.668 1035.77 L116.668 1031.84 Z\" fill=\"#000000\" fill-rule=\"nonzero\" fill-opacity=\"1\" /><path clip-path=\"url(#clip870)\" d=\"M156.019 1004.29 Q152.408 1004.29 150.579 1007.86 Q148.774 1011.4 148.774 1018.53 Q148.774 1025.63 150.579 1029.2 Q152.408 1032.74 156.019 1032.74 Q159.653 1032.74 161.459 1029.2 Q163.288 1025.63 163.288 1018.53 Q163.288 1011.4 161.459 1007.86 Q159.653 1004.29 156.019 1004.29 M156.019 1000.59 Q161.829 1000.59 164.885 1005.19 Q167.964 1009.78 167.964 1018.53 Q167.964 1027.25 164.885 1031.86 Q161.829 1036.44 156.019 1036.44 Q150.209 1036.44 147.13 1031.86 Q144.075 1027.25 144.075 1018.53 Q144.075 1009.78 147.13 1005.19 Q150.209 1000.59 156.019 1000.59 Z\" fill=\"#000000\" fill-rule=\"nonzero\" fill-opacity=\"1\" /><path clip-path=\"url(#clip870)\" d=\"M119.885 627.151 L136.204 627.151 L136.204 631.086 L114.26 631.086 L114.26 627.151 Q116.922 624.396 121.505 619.766 Q126.112 615.114 127.292 613.771 Q129.538 611.248 130.417 609.512 Q131.32 607.753 131.32 606.063 Q131.32 603.308 129.376 601.572 Q127.455 599.836 124.353 599.836 Q122.154 599.836 119.7 600.6 Q117.269 601.364 114.492 602.915 L114.492 598.193 Q117.316 597.058 119.769 596.48 Q122.223 595.901 124.26 595.901 Q129.63 595.901 132.825 598.586 Q136.019 601.271 136.019 605.762 Q136.019 607.892 135.209 609.813 Q134.422 611.711 132.316 614.304 Q131.737 614.975 128.635 618.192 Q125.533 621.387 119.885 627.151 Z\" fill=\"#000000\" fill-rule=\"nonzero\" fill-opacity=\"1\" /><path clip-path=\"url(#clip870)\" d=\"M156.019 599.605 Q152.408 599.605 150.579 603.169 Q148.774 606.711 148.774 613.841 Q148.774 620.947 150.579 624.512 Q152.408 628.053 156.019 628.053 Q159.653 628.053 161.459 624.512 Q163.288 620.947 163.288 613.841 Q163.288 606.711 161.459 603.169 Q159.653 599.605 156.019 599.605 M156.019 595.901 Q161.829 595.901 164.885 600.507 Q167.964 605.091 167.964 613.841 Q167.964 622.567 164.885 627.174 Q161.829 631.757 156.019 631.757 Q150.209 631.757 147.13 627.174 Q144.075 622.567 144.075 613.841 Q144.075 605.091 147.13 600.507 Q150.209 595.901 156.019 595.901 Z\" fill=\"#000000\" fill-rule=\"nonzero\" fill-opacity=\"1\" /><path clip-path=\"url(#clip870)\" d=\"M130.024 207.765 Q133.38 208.482 135.255 210.751 Q137.154 213.019 137.154 216.353 Q137.154 221.468 133.635 224.269 Q130.117 227.07 123.635 227.07 Q121.459 227.07 119.144 226.63 Q116.853 226.214 114.399 225.357 L114.399 220.843 Q116.343 221.978 118.658 222.556 Q120.973 223.135 123.496 223.135 Q127.894 223.135 130.186 221.399 Q132.501 219.663 132.501 216.353 Q132.501 213.297 130.348 211.584 Q128.218 209.848 124.399 209.848 L120.371 209.848 L120.371 206.005 L124.584 206.005 Q128.033 206.005 129.862 204.64 Q131.691 203.251 131.691 200.658 Q131.691 197.996 129.792 196.584 Q127.917 195.149 124.399 195.149 Q122.478 195.149 120.279 195.566 Q118.08 195.982 115.441 196.862 L115.441 192.695 Q118.103 191.955 120.418 191.584 Q122.755 191.214 124.816 191.214 Q130.14 191.214 133.242 193.644 Q136.343 196.052 136.343 200.172 Q136.343 203.043 134.7 205.033 Q133.056 207.001 130.024 207.765 Z\" fill=\"#000000\" fill-rule=\"nonzero\" fill-opacity=\"1\" /><path clip-path=\"url(#clip870)\" d=\"M156.019 194.918 Q152.408 194.918 150.579 198.482 Q148.774 202.024 148.774 209.154 Q148.774 216.26 150.579 219.825 Q152.408 223.366 156.019 223.366 Q159.653 223.366 161.459 219.825 Q163.288 216.26 163.288 209.154 Q163.288 202.024 161.459 198.482 Q159.653 194.918 156.019 194.918 M156.019 191.214 Q161.829 191.214 164.885 195.82 Q167.964 200.404 167.964 209.154 Q167.964 217.88 164.885 222.487 Q161.829 227.07 156.019 227.07 Q150.209 227.07 147.13 222.487 Q144.075 217.88 144.075 209.154 Q144.075 200.404 147.13 195.82 Q150.209 191.214 156.019 191.214 Z\" fill=\"#000000\" fill-rule=\"nonzero\" fill-opacity=\"1\" /><path clip-path=\"url(#clip870)\" d=\"M18.0438 871.374 L24.314 871.374 Q22.5634 875.035 21.704 878.281 Q20.8447 881.528 20.8447 884.551 Q20.8447 889.803 22.8817 892.668 Q24.9187 895.5 28.6745 895.5 Q31.8255 895.5 33.4488 893.623 Q35.0402 891.713 36.0269 886.429 L36.8226 882.546 Q38.1912 875.353 41.6605 871.947 Q45.098 868.51 50.8908 868.51 Q57.7976 868.51 61.3624 873.157 Q64.9272 877.772 64.9272 886.716 Q64.9272 890.09 64.1633 893.909 Q63.3994 897.697 61.9035 901.771 L55.2831 901.771 Q57.4793 897.856 58.5933 894.1 Q59.7073 890.344 59.7073 886.716 Q59.7073 881.209 57.543 878.218 Q55.3786 875.226 51.3682 875.226 Q47.8671 875.226 45.8937 877.39 Q43.9204 879.523 42.9337 884.424 L42.1698 888.339 Q40.7375 895.532 37.682 898.747 Q34.6264 901.962 29.1837 901.962 Q22.8817 901.962 19.2532 897.537 Q15.6248 893.081 15.6248 885.284 Q15.6248 881.942 16.2295 878.472 Q16.8343 875.003 18.0438 871.374 Z\" fill=\"#000000\" fill-rule=\"nonzero\" fill-opacity=\"1\" /><path clip-path=\"url(#clip870)\" d=\"M44.7161 828.247 L47.5806 828.247 L47.5806 855.174 Q53.6281 854.792 56.8109 851.545 Q59.9619 848.267 59.9619 842.442 Q59.9619 839.068 59.1344 835.917 Q58.3069 832.735 56.6518 829.615 L62.1899 829.615 Q63.5267 832.766 64.227 836.077 Q64.9272 839.387 64.9272 842.792 Q64.9272 851.322 59.9619 856.32 Q54.9967 861.285 46.5303 861.285 Q37.7774 861.285 32.6531 856.574 Q27.4968 851.832 27.4968 843.811 Q27.4968 836.618 32.1438 832.448 Q36.7589 828.247 44.7161 828.247 M42.9973 834.103 Q38.1912 834.167 35.3266 836.809 Q32.4621 839.419 32.4621 843.747 Q32.4621 848.649 35.2312 851.609 Q38.0002 854.537 43.0292 854.983 L42.9973 834.103 Z\" fill=\"#000000\" fill-rule=\"nonzero\" fill-opacity=\"1\" /><path clip-path=\"url(#clip870)\" d=\"M46.212 815.133 Q52.6732 815.133 56.3653 812.492 Q60.0256 809.818 60.0256 805.171 Q60.0256 800.524 56.3653 797.851 Q52.6732 795.177 46.212 795.177 Q39.7508 795.177 36.0905 797.851 Q32.3984 800.524 32.3984 805.171 Q32.3984 809.818 36.0905 812.492 Q39.7508 815.133 46.212 815.133 M58.657 795.177 Q61.8398 797.023 63.3994 799.856 Q64.9272 802.657 64.9272 806.603 Q64.9272 813.065 59.771 817.139 Q54.6147 821.181 46.212 821.181 Q37.8093 821.181 32.6531 817.139 Q27.4968 813.065 27.4968 806.603 Q27.4968 802.657 29.0564 799.856 Q30.5842 797.023 33.7671 795.177 L28.3562 795.177 L28.3562 789.32 L77.5631 789.32 L77.5631 795.177 L58.657 795.177 Z\" fill=\"#000000\" fill-rule=\"nonzero\" fill-opacity=\"1\" /><path clip-path=\"url(#clip870)\" d=\"M74.8259 750.171 L79.3773 750.171 L79.3773 784.037 L74.8259 784.037 L74.8259 750.171 Z\" fill=\"#000000\" fill-rule=\"nonzero\" fill-opacity=\"1\" /><path clip-path=\"url(#clip870)\" d=\"M29.7248 719.011 L35.1993 719.011 Q33.8307 721.494 33.1623 724.008 Q32.4621 726.491 32.4621 729.037 Q32.4621 734.735 36.0905 737.886 Q39.6872 741.037 46.212 741.037 Q52.7369 741.037 56.3653 737.886 Q59.9619 734.735 59.9619 729.037 Q59.9619 726.491 59.2935 724.008 Q58.5933 721.494 57.2247 719.011 L62.6355 719.011 Q63.7814 721.462 64.3543 724.104 Q64.9272 726.714 64.9272 729.674 Q64.9272 737.726 59.8664 742.469 Q54.8057 747.211 46.212 747.211 Q37.491 747.211 32.4939 742.437 Q27.4968 737.631 27.4968 729.292 Q27.4968 726.586 28.0697 724.008 Q28.6108 721.43 29.7248 719.011 Z\" fill=\"#000000\" fill-rule=\"nonzero\" fill-opacity=\"1\" /><path clip-path=\"url(#clip870)\" d=\"M32.4621 695.013 Q32.4621 699.723 36.1542 702.46 Q39.8145 705.198 46.212 705.198 Q52.6095 705.198 56.3017 702.492 Q59.9619 699.755 59.9619 695.013 Q59.9619 690.334 56.2698 687.596 Q52.5777 684.859 46.212 684.859 Q39.8781 684.859 36.186 687.596 Q32.4621 690.334 32.4621 695.013 M27.4968 695.013 Q27.4968 687.374 32.4621 683.013 Q37.4273 678.653 46.212 678.653 Q54.9649 678.653 59.9619 683.013 Q64.9272 687.374 64.9272 695.013 Q64.9272 702.683 59.9619 707.044 Q54.9649 711.372 46.212 711.372 Q37.4273 711.372 32.4621 707.044 Q27.4968 702.683 27.4968 695.013 Z\" fill=\"#000000\" fill-rule=\"nonzero\" fill-opacity=\"1\" /><path clip-path=\"url(#clip870)\" d=\"M49.9359 669.55 L28.3562 669.55 L28.3562 663.693 L49.7131 663.693 Q54.7739 663.693 57.3202 661.72 Q59.8346 659.747 59.8346 655.8 Q59.8346 651.057 56.8109 648.32 Q53.7872 645.551 48.5673 645.551 L28.3562 645.551 L28.3562 639.695 L64.0042 639.695 L64.0042 645.551 L58.5296 645.551 Q61.7762 647.684 63.3676 650.516 Q64.9272 653.317 64.9272 657.041 Q64.9272 663.184 61.1078 666.367 Q57.2883 669.55 49.9359 669.55 M27.4968 654.813 L27.4968 654.813 Z\" fill=\"#000000\" fill-rule=\"nonzero\" fill-opacity=\"1\" /><path clip-path=\"url(#clip870)\" d=\"M42.4881 597.999 L64.0042 597.999 L64.0042 603.856 L42.679 603.856 Q37.6183 603.856 35.1038 605.829 Q32.5894 607.802 32.5894 611.749 Q32.5894 616.492 35.6131 619.229 Q38.6368 621.966 43.8567 621.966 L64.0042 621.966 L64.0042 627.854 L28.3562 627.854 L28.3562 621.966 L33.8944 621.966 Q30.6797 619.865 29.0883 617.033 Q27.4968 614.168 27.4968 610.444 Q27.4968 604.301 31.3163 601.15 Q35.1038 597.999 42.4881 597.999 Z\" fill=\"#000000\" fill-rule=\"nonzero\" fill-opacity=\"1\" /><path clip-path=\"url(#clip870)\" d=\"M18.2347 580.525 L28.3562 580.525 L28.3562 568.462 L32.9077 568.462 L32.9077 580.525 L52.2594 580.525 Q56.6199 580.525 57.8613 579.348 Q59.1026 578.138 59.1026 574.478 L59.1026 568.462 L64.0042 568.462 L64.0042 574.478 Q64.0042 581.257 61.4897 583.835 Q58.9434 586.414 52.2594 586.414 L32.9077 586.414 L32.9077 590.71 L28.3562 590.71 L28.3562 586.414 L18.2347 586.414 L18.2347 580.525 Z\" fill=\"#000000\" fill-rule=\"nonzero\" fill-opacity=\"1\" /><path clip-path=\"url(#clip872)\" d=\"M567.333 168.65 L567.333 1423.18 L763.478 1423.18 L763.478 168.65 L567.333 168.65 L567.333 168.65  Z\" fill=\"#009af9\" fill-rule=\"evenodd\" fill-opacity=\"1\"/>\n",
       "<polyline clip-path=\"url(#clip872)\" style=\"stroke:#000000; stroke-linecap:round; stroke-linejoin:round; stroke-width:4; stroke-opacity:1; fill:none\" points=\"567.333,168.65 567.333,1423.18 763.478,1423.18 763.478,168.65 567.333,168.65 \"/>\n",
       "<path clip-path=\"url(#clip872)\" d=\"M322.151 1342.24 L322.151 1423.18 L518.296 1423.18 L518.296 1342.24 L322.151 1342.24 L322.151 1342.24  Z\" fill=\"#009af9\" fill-rule=\"evenodd\" fill-opacity=\"1\"/>\n",
       "<polyline clip-path=\"url(#clip872)\" style=\"stroke:#000000; stroke-linecap:round; stroke-linejoin:round; stroke-width:4; stroke-opacity:1; fill:none\" points=\"322.151,1342.24 322.151,1423.18 518.296,1423.18 518.296,1342.24 322.151,1342.24 \"/>\n",
       "<path clip-path=\"url(#clip872)\" d=\"M812.514 1180.37 L812.514 1423.18 L1008.66 1423.18 L1008.66 1180.37 L812.514 1180.37 L812.514 1180.37  Z\" fill=\"#009af9\" fill-rule=\"evenodd\" fill-opacity=\"1\"/>\n",
       "<polyline clip-path=\"url(#clip872)\" style=\"stroke:#000000; stroke-linecap:round; stroke-linejoin:round; stroke-width:4; stroke-opacity:1; fill:none\" points=\"812.514,1180.37 812.514,1423.18 1008.66,1423.18 1008.66,1180.37 812.514,1180.37 \"/>\n",
       "<path clip-path=\"url(#clip872)\" d=\"M1057.7 1382.71 L1057.7 1423.18 L1253.84 1423.18 L1253.84 1382.71 L1057.7 1382.71 L1057.7 1382.71  Z\" fill=\"#009af9\" fill-rule=\"evenodd\" fill-opacity=\"1\"/>\n",
       "<polyline clip-path=\"url(#clip872)\" style=\"stroke:#000000; stroke-linecap:round; stroke-linejoin:round; stroke-width:4; stroke-opacity:1; fill:none\" points=\"1057.7,1382.71 1057.7,1423.18 1253.84,1423.18 1253.84,1382.71 1057.7,1382.71 \"/>\n",
       "<path clip-path=\"url(#clip872)\" d=\"M2038.42 1382.71 L2038.42 1423.18 L2234.57 1423.18 L2234.57 1382.71 L2038.42 1382.71 L2038.42 1382.71  Z\" fill=\"#009af9\" fill-rule=\"evenodd\" fill-opacity=\"1\"/>\n",
       "<polyline clip-path=\"url(#clip872)\" style=\"stroke:#000000; stroke-linecap:round; stroke-linejoin:round; stroke-width:4; stroke-opacity:1; fill:none\" points=\"2038.42,1382.71 2038.42,1423.18 2234.57,1423.18 2234.57,1382.71 2038.42,1382.71 \"/>\n",
       "<path clip-path=\"url(#clip872)\" d=\"M1793.24 290.056 L1793.24 1423.18 L1989.39 1423.18 L1989.39 290.056 L1793.24 290.056 L1793.24 290.056  Z\" fill=\"#009af9\" fill-rule=\"evenodd\" fill-opacity=\"1\"/>\n",
       "<polyline clip-path=\"url(#clip872)\" style=\"stroke:#000000; stroke-linecap:round; stroke-linejoin:round; stroke-width:4; stroke-opacity:1; fill:none\" points=\"1793.24,290.056 1793.24,1423.18 1989.39,1423.18 1989.39,290.056 1793.24,290.056 \"/>\n",
       "<path clip-path=\"url(#clip872)\" d=\"M1548.06 47.2441 L1548.06 1423.18 L1744.21 1423.18 L1744.21 47.2441 L1548.06 47.2441 L1548.06 47.2441  Z\" fill=\"#009af9\" fill-rule=\"evenodd\" fill-opacity=\"1\"/>\n",
       "<polyline clip-path=\"url(#clip872)\" style=\"stroke:#000000; stroke-linecap:round; stroke-linejoin:round; stroke-width:4; stroke-opacity:1; fill:none\" points=\"1548.06,47.2441 1548.06,1423.18 1744.21,1423.18 1744.21,47.2441 1548.06,47.2441 \"/>\n",
       "<path clip-path=\"url(#clip872)\" d=\"M1302.88 168.65 L1302.88 1423.18 L1499.02 1423.18 L1499.02 168.65 L1302.88 168.65 L1302.88 168.65  Z\" fill=\"#009af9\" fill-rule=\"evenodd\" fill-opacity=\"1\"/>\n",
       "<polyline clip-path=\"url(#clip872)\" style=\"stroke:#000000; stroke-linecap:round; stroke-linejoin:round; stroke-width:4; stroke-opacity:1; fill:none\" points=\"1302.88,168.65 1302.88,1423.18 1499.02,1423.18 1499.02,168.65 1302.88,168.65 \"/>\n",
       "<circle clip-path=\"url(#clip872)\" style=\"fill:#009af9; stroke:none; fill-opacity:0\" cx=\"665.405\" cy=\"168.65\" r=\"2\"/>\n",
       "<circle clip-path=\"url(#clip872)\" style=\"fill:#009af9; stroke:none; fill-opacity:0\" cx=\"420.224\" cy=\"1342.24\" r=\"2\"/>\n",
       "<circle clip-path=\"url(#clip872)\" style=\"fill:#009af9; stroke:none; fill-opacity:0\" cx=\"910.587\" cy=\"1180.37\" r=\"2\"/>\n",
       "<circle clip-path=\"url(#clip872)\" style=\"fill:#009af9; stroke:none; fill-opacity:0\" cx=\"1155.77\" cy=\"1382.71\" r=\"2\"/>\n",
       "<circle clip-path=\"url(#clip872)\" style=\"fill:#009af9; stroke:none; fill-opacity:0\" cx=\"2136.5\" cy=\"1382.71\" r=\"2\"/>\n",
       "<circle clip-path=\"url(#clip872)\" style=\"fill:#009af9; stroke:none; fill-opacity:0\" cx=\"1891.31\" cy=\"290.056\" r=\"2\"/>\n",
       "<circle clip-path=\"url(#clip872)\" style=\"fill:#009af9; stroke:none; fill-opacity:0\" cx=\"1646.13\" cy=\"47.2441\" r=\"2\"/>\n",
       "<circle clip-path=\"url(#clip872)\" style=\"fill:#009af9; stroke:none; fill-opacity:0\" cx=\"1400.95\" cy=\"168.65\" r=\"2\"/>\n",
       "</svg>\n"
      ]
     },
     "execution_count": 34,
     "metadata": {},
     "output_type": "execute_result"
    }
   ],
   "source": [
    "# Create bar plot indicating the amount of different seq per structure\n",
    "\n",
    "plot(bar(Stem_ranges), \n",
    "    legend = false,\n",
    "    xlabel = \"Stem_Length\",\n",
    "    ylabel = \"Seq_count\")\n"
   ]
  },
  {
   "cell_type": "code",
   "execution_count": 35,
   "id": "a09f124c-2b4b-47b5-bdc4-c73792544d02",
   "metadata": {},
   "outputs": [
    {
     "data": {
      "text/html": [
       "<div><div style = \"float: left;\"><span>31×12 DataFrame</span></div><div style = \"float: right;\"><span style = \"font-style: italic;\">6 rows omitted</span></div><div style = \"clear: both;\"></div></div><div class = \"data-frame\" style = \"overflow-x: scroll;\"><table class = \"data-frame\" style = \"margin-bottom: 6px;\"><thead><tr class = \"header\"><th class = \"rowNumber\" style = \"font-weight: bold; text-align: right;\">Row</th><th style = \"text-align: left;\">Sequence_number</th><th style = \"text-align: left;\">Loop1_description</th><th style = \"text-align: left;\">MFE_SUBstructure</th><th style = \"text-align: left;\">LoopI</th><th style = \"text-align: left;\">Loop_length</th><th style = \"text-align: left;\">Count</th><th style = \"text-align: left;\">WT</th><th style = \"text-align: left;\">MFE_structure</th><th style = \"text-align: left;\">MFE_energy</th><th style = \"text-align: left;\">Mbp_dist</th><th style = \"text-align: left;\">Seq_Cluster</th><th style = \"text-align: left;\">Str_Cluster</th></tr><tr class = \"subheader headerLastRow\"><th class = \"rowNumber\" style = \"font-weight: bold; text-align: right;\"></th><th title = \"Int64\" style = \"text-align: left;\">Int64</th><th title = \"String\" style = \"text-align: left;\">String</th><th title = \"String\" style = \"text-align: left;\">String</th><th title = \"String\" style = \"text-align: left;\">String</th><th title = \"Int64\" style = \"text-align: left;\">Int64</th><th title = \"Int64\" style = \"text-align: left;\">Int64</th><th title = \"String7\" style = \"text-align: left;\">String7</th><th title = \"String\" style = \"text-align: left;\">String</th><th title = \"Float64\" style = \"text-align: left;\">Float64</th><th title = \"Float64\" style = \"text-align: left;\">Float64</th><th title = \"Int64\" style = \"text-align: left;\">Int64</th><th title = \"Int64\" style = \"text-align: left;\">Int64</th></tr></thead><tbody><tr><td class = \"rowNumber\" style = \"font-weight: bold; text-align: right;\">1</td><td style = \"text-align: right;\">35704</td><td style = \"text-align: left;\">1-4-1-5-5-5-1-4-1</td><td style = \"text-align: left;\">.((((.(((((.....))))).)))).</td><td style = \"text-align: left;\">ACAAAAAAACCTAAATGGTTTGTTTGCC</td><td style = \"text-align: right;\">28</td><td style = \"text-align: right;\">1</td><td style = \"text-align: left;\">false</td><td style = \"text-align: left;\">.((((.(((((.....))))).)))).((((..(((((.......)))))..))))..((((.(((((((.....)))).))).)))).........</td><td style = \"text-align: right;\">-28.6</td><td style = \"text-align: right;\">4.91397</td><td style = \"text-align: right;\">0</td><td style = \"text-align: right;\">0</td></tr><tr><td class = \"rowNumber\" style = \"font-weight: bold; text-align: right;\">2</td><td style = \"text-align: right;\">42587</td><td style = \"text-align: left;\">1-4-1-5-5-5-1-4-1</td><td style = \"text-align: left;\">.((((.(((((.....))))).)))).</td><td style = \"text-align: left;\">ACAAAAAAACCTCTCTGGTTTGTTTGCC</td><td style = \"text-align: right;\">28</td><td style = \"text-align: right;\">1</td><td style = \"text-align: left;\">false</td><td style = \"text-align: left;\">.((((.(((((.....))))).)))).((((..(((((.......)))))..))))..((((.(((((((.....)))).))).)))).........</td><td style = \"text-align: right;\">-28.6</td><td style = \"text-align: right;\">4.91399</td><td style = \"text-align: right;\">0</td><td style = \"text-align: right;\">0</td></tr><tr><td class = \"rowNumber\" style = \"font-weight: bold; text-align: right;\">3</td><td style = \"text-align: right;\">20206</td><td style = \"text-align: left;\">1-4-1-5-5-5-1-4-1</td><td style = \"text-align: left;\">.((((.(((((.....))))).)))).</td><td style = \"text-align: left;\">ACAAAAAAACCTCAATGGTTTGTTTGCC</td><td style = \"text-align: right;\">28</td><td style = \"text-align: right;\">1</td><td style = \"text-align: left;\">false</td><td style = \"text-align: left;\">.((((.(((((.....))))).)))).((((..(((((.......)))))..))))..((((.(((((((.....)))).))).)))).........</td><td style = \"text-align: right;\">-28.6</td><td style = \"text-align: right;\">4.91576</td><td style = \"text-align: right;\">0</td><td style = \"text-align: right;\">0</td></tr><tr><td class = \"rowNumber\" style = \"font-weight: bold; text-align: right;\">4</td><td style = \"text-align: right;\">25739</td><td style = \"text-align: left;\">1-4-1-5-5-5-1-4-1</td><td style = \"text-align: left;\">.((((.(((((.....))))).)))).</td><td style = \"text-align: left;\">ACAAAAAAACCTCATTGGTTTGTTTGCC</td><td style = \"text-align: right;\">28</td><td style = \"text-align: right;\">1</td><td style = \"text-align: left;\">false</td><td style = \"text-align: left;\">.((((.(((((.....))))).)))).((((..(((((.......)))))..))))..((((.(((((((.....)))).))).)))).........</td><td style = \"text-align: right;\">-28.6</td><td style = \"text-align: right;\">4.92089</td><td style = \"text-align: right;\">0</td><td style = \"text-align: right;\">0</td></tr><tr><td class = \"rowNumber\" style = \"font-weight: bold; text-align: right;\">5</td><td style = \"text-align: right;\">16154</td><td style = \"text-align: left;\">1-4-1-5-5-5-1-4-1</td><td style = \"text-align: left;\">.((((.(((((.....))))).)))).</td><td style = \"text-align: left;\">ACAAAAAAACCTGTGTGGTTTGTTTGCC</td><td style = \"text-align: right;\">28</td><td style = \"text-align: right;\">1</td><td style = \"text-align: left;\">false</td><td style = \"text-align: left;\">.((((.(((((.....))))).)))).((((..(((((.......)))))..))))..((((.(((((((.....)))).))).)))).........</td><td style = \"text-align: right;\">-28.6</td><td style = \"text-align: right;\">4.93272</td><td style = \"text-align: right;\">0</td><td style = \"text-align: right;\">0</td></tr><tr><td class = \"rowNumber\" style = \"font-weight: bold; text-align: right;\">6</td><td style = \"text-align: right;\">6280</td><td style = \"text-align: left;\">1-4-1-5-5-5-1-4-1</td><td style = \"text-align: left;\">.((((.(((((.....))))).)))).</td><td style = \"text-align: left;\">ACAAAAAAACCGTTATGGTTTGTTTGCC</td><td style = \"text-align: right;\">28</td><td style = \"text-align: right;\">2</td><td style = \"text-align: left;\">false</td><td style = \"text-align: left;\">.((((.(((((.....))))).)))).((((..(((((.......)))))..))))..((((.(((((((.....)))).))).)))).........</td><td style = \"text-align: right;\">-28.0</td><td style = \"text-align: right;\">4.96187</td><td style = \"text-align: right;\">0</td><td style = \"text-align: right;\">0</td></tr><tr><td class = \"rowNumber\" style = \"font-weight: bold; text-align: right;\">7</td><td style = \"text-align: right;\">4032</td><td style = \"text-align: left;\">1-4-1-5-5-5-1-4-1</td><td style = \"text-align: left;\">.((((.(((((.....))))).)))).</td><td style = \"text-align: left;\">ACAAAAAAACCGACCTGGTTTGTTTGCC</td><td style = \"text-align: right;\">28</td><td style = \"text-align: right;\">2</td><td style = \"text-align: left;\">false</td><td style = \"text-align: left;\">.((((.(((((.....))))).)))).((((..(((((.......)))))..))))..((((.(((((((.....)))).))).)))).........</td><td style = \"text-align: right;\">-28.0</td><td style = \"text-align: right;\">4.96292</td><td style = \"text-align: right;\">0</td><td style = \"text-align: right;\">0</td></tr><tr><td class = \"rowNumber\" style = \"font-weight: bold; text-align: right;\">8</td><td style = \"text-align: right;\">42419</td><td style = \"text-align: left;\">1-4-1-5-5-5-1-4-1</td><td style = \"text-align: left;\">.((((.(((((.....))))).)))).</td><td style = \"text-align: left;\">ACAAAAAAACCGGAATGGTTTGTTTGCC</td><td style = \"text-align: right;\">28</td><td style = \"text-align: right;\">1</td><td style = \"text-align: left;\">false</td><td style = \"text-align: left;\">.((((.(((((.....))))).)))).((((..(((((.......)))))..))))..((((.(((((((.....)))).))).)))).........</td><td style = \"text-align: right;\">-28.0</td><td style = \"text-align: right;\">4.97357</td><td style = \"text-align: right;\">0</td><td style = \"text-align: right;\">0</td></tr><tr><td class = \"rowNumber\" style = \"font-weight: bold; text-align: right;\">9</td><td style = \"text-align: right;\">44499</td><td style = \"text-align: left;\">1-4-1-5-5-5-1-4-1</td><td style = \"text-align: left;\">.((((.(((((.....))))).)))).</td><td style = \"text-align: left;\">ACAAAAAAACCACTCTGGTTTGTTTGCC</td><td style = \"text-align: right;\">28</td><td style = \"text-align: right;\">1</td><td style = \"text-align: left;\">false</td><td style = \"text-align: left;\">.((((.(((((.....))))).)))).((((..(((((.......)))))..))))..((((.(((((((.....)))).))).)))).........</td><td style = \"text-align: right;\">-28.0</td><td style = \"text-align: right;\">5.17798</td><td style = \"text-align: right;\">0</td><td style = \"text-align: right;\">0</td></tr><tr><td class = \"rowNumber\" style = \"font-weight: bold; text-align: right;\">10</td><td style = \"text-align: right;\">16135</td><td style = \"text-align: left;\">1-4-1-5-5-5-1-4-1</td><td style = \"text-align: left;\">.((((.(((((.....))))).)))).</td><td style = \"text-align: left;\">ACAAAAAAACCATCATGGTTTGTTTGCC</td><td style = \"text-align: right;\">28</td><td style = \"text-align: right;\">1</td><td style = \"text-align: left;\">false</td><td style = \"text-align: left;\">.((((.(((((.....))))).)))).((((..(((((.......)))))..))))..((((.(((((((.....)))).))).)))).........</td><td style = \"text-align: right;\">-28.0</td><td style = \"text-align: right;\">5.18248</td><td style = \"text-align: right;\">0</td><td style = \"text-align: right;\">0</td></tr><tr><td class = \"rowNumber\" style = \"font-weight: bold; text-align: right;\">11</td><td style = \"text-align: right;\">14882</td><td style = \"text-align: left;\">1-4-1-5-5-5-1-4-1</td><td style = \"text-align: left;\">.((((.(((((.....))))).)))).</td><td style = \"text-align: left;\">ACAAAAAAACCAAAATGGTTTGTTTGCC</td><td style = \"text-align: right;\">28</td><td style = \"text-align: right;\">1</td><td style = \"text-align: left;\">false</td><td style = \"text-align: left;\">.((((.(((((.....))))).)))).((((..(((((.......)))))..))))..((((.(((((((.....)))).))).)))).........</td><td style = \"text-align: right;\">-28.0</td><td style = \"text-align: right;\">5.19407</td><td style = \"text-align: right;\">0</td><td style = \"text-align: right;\">0</td></tr><tr><td class = \"rowNumber\" style = \"font-weight: bold; text-align: right;\">12</td><td style = \"text-align: right;\">25780</td><td style = \"text-align: left;\">1-4-1-5-5-5-1-4-1</td><td style = \"text-align: left;\">.((((.(((((.....))))).)))).</td><td style = \"text-align: left;\">ACAAAAAAACCACCGTGGTTTGTTTGCC</td><td style = \"text-align: right;\">28</td><td style = \"text-align: right;\">1</td><td style = \"text-align: left;\">false</td><td style = \"text-align: left;\">.((((.(((((.....))))).)))).((((..(((((.......)))))..))))..((((.(((((((.....)))).))).)))).........</td><td style = \"text-align: right;\">-28.0</td><td style = \"text-align: right;\">5.19867</td><td style = \"text-align: right;\">0</td><td style = \"text-align: right;\">0</td></tr><tr><td class = \"rowNumber\" style = \"font-weight: bold; text-align: right;\">13</td><td style = \"text-align: right;\">36402</td><td style = \"text-align: left;\">1-4-1-5-5-5-1-4-1</td><td style = \"text-align: left;\">.((((.(((((.....))))).)))).</td><td style = \"text-align: left;\">ACAAAAAAACCATGGTGGTTTGTTTGCC</td><td style = \"text-align: right;\">28</td><td style = \"text-align: right;\">1</td><td style = \"text-align: left;\">false</td><td style = \"text-align: left;\">.((((.(((((.....))))).)))).((((..(((((.......)))))..))))..((((.(((((((.....)))).))).)))).........</td><td style = \"text-align: right;\">-28.0</td><td style = \"text-align: right;\">5.26869</td><td style = \"text-align: right;\">0</td><td style = \"text-align: right;\">0</td></tr><tr><td style = \"text-align: right;\">&vellip;</td><td style = \"text-align: right;\">&vellip;</td><td style = \"text-align: right;\">&vellip;</td><td style = \"text-align: right;\">&vellip;</td><td style = \"text-align: right;\">&vellip;</td><td style = \"text-align: right;\">&vellip;</td><td style = \"text-align: right;\">&vellip;</td><td style = \"text-align: right;\">&vellip;</td><td style = \"text-align: right;\">&vellip;</td><td style = \"text-align: right;\">&vellip;</td><td style = \"text-align: right;\">&vellip;</td><td style = \"text-align: right;\">&vellip;</td><td style = \"text-align: right;\">&vellip;</td></tr><tr><td class = \"rowNumber\" style = \"font-weight: bold; text-align: right;\">20</td><td style = \"text-align: right;\">25813</td><td style = \"text-align: left;\">1-4-1-5-5-5-1-4-1</td><td style = \"text-align: left;\">.((((.(((((.....))))).)))).</td><td style = \"text-align: left;\">ACAAAAAAACCCCATTGGTTTGTTTGCC</td><td style = \"text-align: right;\">28</td><td style = \"text-align: right;\">1</td><td style = \"text-align: left;\">false</td><td style = \"text-align: left;\">.((((.(((((.....))))).)))).((((..(((((.......)))))..))))..((((.(((((((.....)))).))).)))).........</td><td style = \"text-align: right;\">-27.3</td><td style = \"text-align: right;\">5.11197</td><td style = \"text-align: right;\">0</td><td style = \"text-align: right;\">0</td></tr><tr><td class = \"rowNumber\" style = \"font-weight: bold; text-align: right;\">21</td><td style = \"text-align: right;\">7</td><td style = \"text-align: left;\">1-4-1-5-5-5-1-4-1</td><td style = \"text-align: left;\">.((((.(((((.....))))).)))).</td><td style = \"text-align: left;\">ACAAAAAAACCCCCGTGGTTTGTTTGCC</td><td style = \"text-align: right;\">28</td><td style = \"text-align: right;\">37</td><td style = \"text-align: left;\">false</td><td style = \"text-align: left;\">.((((.(((((.....))))).)))).((((..(((((.......)))))..))))..((((.(((((((.....)))).))).)))).........</td><td style = \"text-align: right;\">-27.3</td><td style = \"text-align: right;\">5.12789</td><td style = \"text-align: right;\">0</td><td style = \"text-align: right;\">0</td></tr><tr><td class = \"rowNumber\" style = \"font-weight: bold; text-align: right;\">22</td><td style = \"text-align: right;\">36235</td><td style = \"text-align: left;\">1-4-1-5-5-5-1-4-1</td><td style = \"text-align: left;\">.((((.(((((.....))))).)))).</td><td style = \"text-align: left;\">ACAAAAAAACCCACATGGTTTGTTTGCC</td><td style = \"text-align: right;\">28</td><td style = \"text-align: right;\">1</td><td style = \"text-align: left;\">false</td><td style = \"text-align: left;\">.((((.(((((.....))))).)))).((((..(((((.......)))))..))))..((((.(((((((.....)))).))).)))).........</td><td style = \"text-align: right;\">-27.3</td><td style = \"text-align: right;\">5.18866</td><td style = \"text-align: right;\">0</td><td style = \"text-align: right;\">0</td></tr><tr><td class = \"rowNumber\" style = \"font-weight: bold; text-align: right;\">23</td><td style = \"text-align: right;\">4</td><td style = \"text-align: left;\">1-4-1-5-5-5-1-4-1</td><td style = \"text-align: left;\">.((((.(((((.....))))).)))).</td><td style = \"text-align: left;\">ACAAAAAAACCCGGATGGTTTGTTTGCC</td><td style = \"text-align: right;\">28</td><td style = \"text-align: right;\">70</td><td style = \"text-align: left;\">false</td><td style = \"text-align: left;\">.((((.(((((.....))))).)))).((((..(((((.......)))))..))))..((((.(((((((.....)))).))).)))).........</td><td style = \"text-align: right;\">-27.3</td><td style = \"text-align: right;\">5.19386</td><td style = \"text-align: right;\">0</td><td style = \"text-align: right;\">0</td></tr><tr><td class = \"rowNumber\" style = \"font-weight: bold; text-align: right;\">24</td><td style = \"text-align: right;\">15895</td><td style = \"text-align: left;\">1-4-1-5-5-5-1-4-1</td><td style = \"text-align: left;\">.((((.(((((.....))))).)))).</td><td style = \"text-align: left;\">ACAAAAAAACCCCGTTGGTTTGTTTGCC</td><td style = \"text-align: right;\">28</td><td style = \"text-align: right;\">1</td><td style = \"text-align: left;\">false</td><td style = \"text-align: left;\">.((((.(((((.....))))).)))).((((..(((((.......)))))..))))..((((.(((((((.....)))).))).)))).........</td><td style = \"text-align: right;\">-27.3</td><td style = \"text-align: right;\">5.22882</td><td style = \"text-align: right;\">0</td><td style = \"text-align: right;\">0</td></tr><tr><td class = \"rowNumber\" style = \"font-weight: bold; text-align: right;\">25</td><td style = \"text-align: right;\">44917</td><td style = \"text-align: left;\">1-4-1-5-5-5-1-4-1</td><td style = \"text-align: left;\">.((((.(((((.....))))).)))).</td><td style = \"text-align: left;\">ACAAAAAAACCCCTTTGGTTTGTTTGCC</td><td style = \"text-align: right;\">28</td><td style = \"text-align: right;\">1</td><td style = \"text-align: left;\">false</td><td style = \"text-align: left;\">.((((.(((((.....))))).)))).((((..(((((.......)))))..))))..((((.(((((((.....)))).))).)))).........</td><td style = \"text-align: right;\">-27.3</td><td style = \"text-align: right;\">5.23421</td><td style = \"text-align: right;\">0</td><td style = \"text-align: right;\">0</td></tr><tr><td class = \"rowNumber\" style = \"font-weight: bold; text-align: right;\">26</td><td style = \"text-align: right;\">7521</td><td style = \"text-align: left;\">1-4-1-5-5-5-1-4-1</td><td style = \"text-align: left;\">.((((.(((((.....))))).)))).</td><td style = \"text-align: left;\">ACAAAAAAACCCTAATGGTTTGTTTGCC</td><td style = \"text-align: right;\">28</td><td style = \"text-align: right;\">2</td><td style = \"text-align: left;\">false</td><td style = \"text-align: left;\">.((((.(((((.....))))).)))).((((..(((((.......)))))..))))..((((.(((((((.....)))).))).)))).........</td><td style = \"text-align: right;\">-27.3</td><td style = \"text-align: right;\">5.39813</td><td style = \"text-align: right;\">0</td><td style = \"text-align: right;\">0</td></tr><tr><td class = \"rowNumber\" style = \"font-weight: bold; text-align: right;\">27</td><td style = \"text-align: right;\">21140</td><td style = \"text-align: left;\">1-4-1-5-5-5-1-4-1</td><td style = \"text-align: left;\">.((((.(((((.....))))).)))).</td><td style = \"text-align: left;\">ACAAAAAAACCCTCTTGGTTTGTTTGCC</td><td style = \"text-align: right;\">28</td><td style = \"text-align: right;\">1</td><td style = \"text-align: left;\">false</td><td style = \"text-align: left;\">.((((.(((((.....))))).)))).((((..(((((.......)))))..))))..((((.(((((((.....)))).))).)))).........</td><td style = \"text-align: right;\">-27.3</td><td style = \"text-align: right;\">5.44545</td><td style = \"text-align: right;\">0</td><td style = \"text-align: right;\">0</td></tr><tr><td class = \"rowNumber\" style = \"font-weight: bold; text-align: right;\">28</td><td style = \"text-align: right;\">6</td><td style = \"text-align: left;\">1-4-1-5-5-5-1-4-1</td><td style = \"text-align: left;\">.((((.(((((.....))))).)))).</td><td style = \"text-align: left;\">ACAAAAAAACCCGGGTGGTTTGTTTGCC</td><td style = \"text-align: right;\">28</td><td style = \"text-align: right;\">61</td><td style = \"text-align: left;\">false</td><td style = \"text-align: left;\">.((((.(((((.....))))).)))).((((..(((((.......)))))..))))..((((.(((((((.....)))).))).)))).........</td><td style = \"text-align: right;\">-27.3</td><td style = \"text-align: right;\">5.46826</td><td style = \"text-align: right;\">0</td><td style = \"text-align: right;\">0</td></tr><tr><td class = \"rowNumber\" style = \"font-weight: bold; text-align: right;\">29</td><td style = \"text-align: right;\">3262</td><td style = \"text-align: left;\">1-4-1-5-5-5-1-4-1</td><td style = \"text-align: left;\">.((((.(((((.....))))).)))).</td><td style = \"text-align: left;\">ACAAAAAAACCCGGTTGGTTTGTTTGCC</td><td style = \"text-align: right;\">28</td><td style = \"text-align: right;\">2</td><td style = \"text-align: left;\">false</td><td style = \"text-align: left;\">.((((.(((((.....))))).)))).((((..(((((.......)))))..))))..((((.(((((((.....)))).))).)))).........</td><td style = \"text-align: right;\">-27.3</td><td style = \"text-align: right;\">5.49903</td><td style = \"text-align: right;\">0</td><td style = \"text-align: right;\">0</td></tr><tr><td class = \"rowNumber\" style = \"font-weight: bold; text-align: right;\">30</td><td style = \"text-align: right;\">35922</td><td style = \"text-align: left;\">1-4-1-5-5-5-1-4-1</td><td style = \"text-align: left;\">.((((.(((((.....))))).)))).</td><td style = \"text-align: left;\">ACAAAAAAACCCTGTTGGTTTGTTTGCC</td><td style = \"text-align: right;\">28</td><td style = \"text-align: right;\">1</td><td style = \"text-align: left;\">false</td><td style = \"text-align: left;\">.((((.(((((.....))))).)))).((((..(((((.......)))))..))))..((((.(((((((.....)))).))).)))).........</td><td style = \"text-align: right;\">-27.3</td><td style = \"text-align: right;\">5.57787</td><td style = \"text-align: right;\">0</td><td style = \"text-align: right;\">0</td></tr><tr><td class = \"rowNumber\" style = \"font-weight: bold; text-align: right;\">31</td><td style = \"text-align: right;\">13610</td><td style = \"text-align: left;\">1-4-1-5-5-5-1-4-1</td><td style = \"text-align: left;\">.((((.(((((.....))))).)))).</td><td style = \"text-align: left;\">ACAAAAAAACCCTGGTGGTTTGTTTGCC</td><td style = \"text-align: right;\">28</td><td style = \"text-align: right;\">1</td><td style = \"text-align: left;\">false</td><td style = \"text-align: left;\">.((((.(((((.....))))).)))).((((..(((((.......)))))..))))..((((.(((((((.....)))).))).)))).........</td><td style = \"text-align: right;\">-27.3</td><td style = \"text-align: right;\">5.65211</td><td style = \"text-align: right;\">0</td><td style = \"text-align: right;\">0</td></tr></tbody></table></div>"
      ],
      "text/latex": [
       "\\begin{tabular}{r|ccccc}\n",
       "\t& Sequence\\_number & Loop1\\_description & MFE\\_SUBstructure & LoopI & \\\\\n",
       "\t\\hline\n",
       "\t& Int64 & String & String & String & \\\\\n",
       "\t\\hline\n",
       "\t1 & 35704 & 1-4-1-5-5-5-1-4-1 & .((((.(((((.....))))).)))). & ACAAAAAAACCTAAATGGTTTGTTTGCC & $\\dots$ \\\\\n",
       "\t2 & 42587 & 1-4-1-5-5-5-1-4-1 & .((((.(((((.....))))).)))). & ACAAAAAAACCTCTCTGGTTTGTTTGCC & $\\dots$ \\\\\n",
       "\t3 & 20206 & 1-4-1-5-5-5-1-4-1 & .((((.(((((.....))))).)))). & ACAAAAAAACCTCAATGGTTTGTTTGCC & $\\dots$ \\\\\n",
       "\t4 & 25739 & 1-4-1-5-5-5-1-4-1 & .((((.(((((.....))))).)))). & ACAAAAAAACCTCATTGGTTTGTTTGCC & $\\dots$ \\\\\n",
       "\t5 & 16154 & 1-4-1-5-5-5-1-4-1 & .((((.(((((.....))))).)))). & ACAAAAAAACCTGTGTGGTTTGTTTGCC & $\\dots$ \\\\\n",
       "\t6 & 6280 & 1-4-1-5-5-5-1-4-1 & .((((.(((((.....))))).)))). & ACAAAAAAACCGTTATGGTTTGTTTGCC & $\\dots$ \\\\\n",
       "\t7 & 4032 & 1-4-1-5-5-5-1-4-1 & .((((.(((((.....))))).)))). & ACAAAAAAACCGACCTGGTTTGTTTGCC & $\\dots$ \\\\\n",
       "\t8 & 42419 & 1-4-1-5-5-5-1-4-1 & .((((.(((((.....))))).)))). & ACAAAAAAACCGGAATGGTTTGTTTGCC & $\\dots$ \\\\\n",
       "\t9 & 44499 & 1-4-1-5-5-5-1-4-1 & .((((.(((((.....))))).)))). & ACAAAAAAACCACTCTGGTTTGTTTGCC & $\\dots$ \\\\\n",
       "\t10 & 16135 & 1-4-1-5-5-5-1-4-1 & .((((.(((((.....))))).)))). & ACAAAAAAACCATCATGGTTTGTTTGCC & $\\dots$ \\\\\n",
       "\t11 & 14882 & 1-4-1-5-5-5-1-4-1 & .((((.(((((.....))))).)))). & ACAAAAAAACCAAAATGGTTTGTTTGCC & $\\dots$ \\\\\n",
       "\t12 & 25780 & 1-4-1-5-5-5-1-4-1 & .((((.(((((.....))))).)))). & ACAAAAAAACCACCGTGGTTTGTTTGCC & $\\dots$ \\\\\n",
       "\t13 & 36402 & 1-4-1-5-5-5-1-4-1 & .((((.(((((.....))))).)))). & ACAAAAAAACCATGGTGGTTTGTTTGCC & $\\dots$ \\\\\n",
       "\t14 & 38728 & 1-4-1-5-5-5-1-4-1 & .((((.(((((.....))))).)))). & ACAAAAAAACCAGAGTGGTTTGTTTGCC & $\\dots$ \\\\\n",
       "\t15 & 7262 & 1-4-1-5-5-5-1-4-1 & .((((.(((((.....))))).)))). & ACAAAAAAACCAAGCTGGTTTGTTTGCC & $\\dots$ \\\\\n",
       "\t16 & 644 & 1-4-1-5-5-5-1-4-1 & .((((.(((((.....))))).)))). & ACAAAAAAACCCCCCTGGTTTGTTTGCC & $\\dots$ \\\\\n",
       "\t17 & 27603 & 1-4-1-5-5-5-1-4-1 & .((((.(((((.....))))).)))). & ACAAAAAAACCCCTCTGGTTTGTTTGCC & $\\dots$ \\\\\n",
       "\t18 & 6970 & 1-4-1-5-5-5-1-4-1 & .((((.(((((.....))))).)))). & ACAAAAAAACCCCACTGGTTTGTTTGCC & $\\dots$ \\\\\n",
       "\t19 & 392 & 1-4-1-5-5-5-1-4-1 & .((((.(((((.....))))).)))). & ACAAAAAAACCCCCTTGGTTTGTTTGCC & $\\dots$ \\\\\n",
       "\t20 & 25813 & 1-4-1-5-5-5-1-4-1 & .((((.(((((.....))))).)))). & ACAAAAAAACCCCATTGGTTTGTTTGCC & $\\dots$ \\\\\n",
       "\t21 & 7 & 1-4-1-5-5-5-1-4-1 & .((((.(((((.....))))).)))). & ACAAAAAAACCCCCGTGGTTTGTTTGCC & $\\dots$ \\\\\n",
       "\t22 & 36235 & 1-4-1-5-5-5-1-4-1 & .((((.(((((.....))))).)))). & ACAAAAAAACCCACATGGTTTGTTTGCC & $\\dots$ \\\\\n",
       "\t23 & 4 & 1-4-1-5-5-5-1-4-1 & .((((.(((((.....))))).)))). & ACAAAAAAACCCGGATGGTTTGTTTGCC & $\\dots$ \\\\\n",
       "\t24 & 15895 & 1-4-1-5-5-5-1-4-1 & .((((.(((((.....))))).)))). & ACAAAAAAACCCCGTTGGTTTGTTTGCC & $\\dots$ \\\\\n",
       "\t25 & 44917 & 1-4-1-5-5-5-1-4-1 & .((((.(((((.....))))).)))). & ACAAAAAAACCCCTTTGGTTTGTTTGCC & $\\dots$ \\\\\n",
       "\t26 & 7521 & 1-4-1-5-5-5-1-4-1 & .((((.(((((.....))))).)))). & ACAAAAAAACCCTAATGGTTTGTTTGCC & $\\dots$ \\\\\n",
       "\t27 & 21140 & 1-4-1-5-5-5-1-4-1 & .((((.(((((.....))))).)))). & ACAAAAAAACCCTCTTGGTTTGTTTGCC & $\\dots$ \\\\\n",
       "\t28 & 6 & 1-4-1-5-5-5-1-4-1 & .((((.(((((.....))))).)))). & ACAAAAAAACCCGGGTGGTTTGTTTGCC & $\\dots$ \\\\\n",
       "\t29 & 3262 & 1-4-1-5-5-5-1-4-1 & .((((.(((((.....))))).)))). & ACAAAAAAACCCGGTTGGTTTGTTTGCC & $\\dots$ \\\\\n",
       "\t30 & 35922 & 1-4-1-5-5-5-1-4-1 & .((((.(((((.....))))).)))). & ACAAAAAAACCCTGTTGGTTTGTTTGCC & $\\dots$ \\\\\n",
       "\t$\\dots$ & $\\dots$ & $\\dots$ & $\\dots$ & $\\dots$ &  \\\\\n",
       "\\end{tabular}\n"
      ],
      "text/plain": [
       "\u001b[1m31×12 DataFrame\u001b[0m\n",
       "\u001b[1m Row \u001b[0m│\u001b[1m Sequence_number \u001b[0m\u001b[1m Loop1_description \u001b[0m\u001b[1m MFE_SUBstructure            \u001b[0m\u001b[1m LoopI \u001b[0m ⋯\n",
       "     │\u001b[90m Int64           \u001b[0m\u001b[90m String            \u001b[0m\u001b[90m String                      \u001b[0m\u001b[90m String\u001b[0m ⋯\n",
       "─────┼──────────────────────────────────────────────────────────────────────────\n",
       "   1 │           35704  1-4-1-5-5-5-1-4-1  .((((.(((((.....))))).)))).  ACAAAA ⋯\n",
       "   2 │           42587  1-4-1-5-5-5-1-4-1  .((((.(((((.....))))).)))).  ACAAAA\n",
       "   3 │           20206  1-4-1-5-5-5-1-4-1  .((((.(((((.....))))).)))).  ACAAAA\n",
       "   4 │           25739  1-4-1-5-5-5-1-4-1  .((((.(((((.....))))).)))).  ACAAAA\n",
       "   5 │           16154  1-4-1-5-5-5-1-4-1  .((((.(((((.....))))).)))).  ACAAAA ⋯\n",
       "   6 │            6280  1-4-1-5-5-5-1-4-1  .((((.(((((.....))))).)))).  ACAAAA\n",
       "   7 │            4032  1-4-1-5-5-5-1-4-1  .((((.(((((.....))))).)))).  ACAAAA\n",
       "   8 │           42419  1-4-1-5-5-5-1-4-1  .((((.(((((.....))))).)))).  ACAAAA\n",
       "   9 │           44499  1-4-1-5-5-5-1-4-1  .((((.(((((.....))))).)))).  ACAAAA ⋯\n",
       "  10 │           16135  1-4-1-5-5-5-1-4-1  .((((.(((((.....))))).)))).  ACAAAA\n",
       "  11 │           14882  1-4-1-5-5-5-1-4-1  .((((.(((((.....))))).)))).  ACAAAA\n",
       "  ⋮  │        ⋮                 ⋮                       ⋮                      ⋱\n",
       "  22 │           36235  1-4-1-5-5-5-1-4-1  .((((.(((((.....))))).)))).  ACAAAA\n",
       "  23 │               4  1-4-1-5-5-5-1-4-1  .((((.(((((.....))))).)))).  ACAAAA ⋯\n",
       "  24 │           15895  1-4-1-5-5-5-1-4-1  .((((.(((((.....))))).)))).  ACAAAA\n",
       "  25 │           44917  1-4-1-5-5-5-1-4-1  .((((.(((((.....))))).)))).  ACAAAA\n",
       "  26 │            7521  1-4-1-5-5-5-1-4-1  .((((.(((((.....))))).)))).  ACAAAA\n",
       "  27 │           21140  1-4-1-5-5-5-1-4-1  .((((.(((((.....))))).)))).  ACAAAA ⋯\n",
       "  28 │               6  1-4-1-5-5-5-1-4-1  .((((.(((((.....))))).)))).  ACAAAA\n",
       "  29 │            3262  1-4-1-5-5-5-1-4-1  .((((.(((((.....))))).)))).  ACAAAA\n",
       "  30 │           35922  1-4-1-5-5-5-1-4-1  .((((.(((((.....))))).)))).  ACAAAA\n",
       "  31 │           13610  1-4-1-5-5-5-1-4-1  .((((.(((((.....))))).)))).  ACAAAA ⋯\n",
       "\u001b[36m                                                   9 columns and 10 rows omitted\u001b[0m"
      ]
     },
     "execution_count": 35,
     "metadata": {},
     "output_type": "execute_result"
    }
   ],
   "source": [
    "ShortestStem = \"1-4-1-5-5-5-1-4-1\"\n",
    "ShortestStemAnalysis = filter(:Loop1_description => n -> n == ShortestStem, ForStemAnalysis)\n",
    "sort!(ShortestStemAnalysis, [:MFE_energy, :Mbp_dist])"
   ]
  },
  {
   "cell_type": "code",
   "execution_count": 36,
   "id": "ec52d034-1980-419c-8883-d103da7479d8",
   "metadata": {},
   "outputs": [
    {
     "data": {
      "text/html": [
       "<div><div style = \"float: left;\"><span>77×5 DataFrame</span></div><div style = \"float: right;\"><span style = \"font-style: italic;\">52 rows omitted</span></div><div style = \"clear: both;\"></div></div><div class = \"data-frame\" style = \"overflow-x: scroll;\"><table class = \"data-frame\" style = \"margin-bottom: 6px;\"><thead><tr class = \"header\"><th class = \"rowNumber\" style = \"font-weight: bold; text-align: right;\">Row</th><th style = \"text-align: left;\">Stem_length</th><th style = \"text-align: left;\">Loop_length</th><th style = \"text-align: left;\">Count_different_seq</th><th style = \"text-align: left;\">max_MFE_energy</th><th style = \"text-align: left;\">min_MFE_energy</th></tr><tr class = \"subheader headerLastRow\"><th class = \"rowNumber\" style = \"font-weight: bold; text-align: right;\"></th><th title = \"Any\" style = \"text-align: left;\">Any</th><th title = \"Any\" style = \"text-align: left;\">Any</th><th title = \"Any\" style = \"text-align: left;\">Any</th><th title = \"Any\" style = \"text-align: left;\">Any</th><th title = \"Any\" style = \"text-align: left;\">Any</th></tr></thead><tbody><tr><td class = \"rowNumber\" style = \"font-weight: bold; text-align: right;\">1</td><td style = \"text-align: left;\">5</td><td style = \"text-align: left;\">3</td><td style = \"text-align: left;\">13</td><td style = \"text-align: left;\">-25.6</td><td style = \"text-align: left;\">-25.6</td></tr><tr><td class = \"rowNumber\" style = \"font-weight: bold; text-align: right;\">2</td><td style = \"text-align: left;\">8</td><td style = \"text-align: left;\">3</td><td style = \"text-align: left;\">5</td><td style = \"text-align: left;\">-33.2</td><td style = \"text-align: left;\">-33.2</td></tr><tr><td class = \"rowNumber\" style = \"font-weight: bold; text-align: right;\">3</td><td style = \"text-align: left;\">9</td><td style = \"text-align: left;\">3</td><td style = \"text-align: left;\">3</td><td style = \"text-align: left;\">-34.1</td><td style = \"text-align: left;\">-34.4</td></tr><tr><td class = \"rowNumber\" style = \"font-weight: bold; text-align: right;\">4</td><td style = \"text-align: left;\">10</td><td style = \"text-align: left;\">3</td><td style = \"text-align: left;\">3</td><td style = \"text-align: left;\">-35.1</td><td style = \"text-align: left;\">-35.4</td></tr><tr><td class = \"rowNumber\" style = \"font-weight: bold; text-align: right;\">5</td><td style = \"text-align: left;\">11</td><td style = \"text-align: left;\">3</td><td style = \"text-align: left;\">2</td><td style = \"text-align: left;\">-34.1</td><td style = \"text-align: left;\">-36.2</td></tr><tr><td class = \"rowNumber\" style = \"font-weight: bold; text-align: right;\">6</td><td style = \"text-align: left;\">5</td><td style = \"text-align: left;\">4</td><td style = \"text-align: left;\">25</td><td style = \"text-align: left;\">-25.3</td><td style = \"text-align: left;\">-28.6</td></tr><tr><td class = \"rowNumber\" style = \"font-weight: bold; text-align: right;\">7</td><td style = \"text-align: left;\">6</td><td style = \"text-align: left;\">4</td><td style = \"text-align: left;\">6</td><td style = \"text-align: left;\">-26.2</td><td style = \"text-align: left;\">-29.8</td></tr><tr><td class = \"rowNumber\" style = \"font-weight: bold; text-align: right;\">8</td><td style = \"text-align: left;\">7</td><td style = \"text-align: left;\">4</td><td style = \"text-align: left;\">1</td><td style = \"text-align: left;\">-29.5</td><td style = \"text-align: left;\">-29.5</td></tr><tr><td class = \"rowNumber\" style = \"font-weight: bold; text-align: right;\">9</td><td style = \"text-align: left;\">8</td><td style = \"text-align: left;\">4</td><td style = \"text-align: left;\">21</td><td style = \"text-align: left;\">-30.6</td><td style = \"text-align: left;\">-36.2</td></tr><tr><td class = \"rowNumber\" style = \"font-weight: bold; text-align: right;\">10</td><td style = \"text-align: left;\">9</td><td style = \"text-align: left;\">4</td><td style = \"text-align: left;\">25</td><td style = \"text-align: left;\">-32.3</td><td style = \"text-align: left;\">-38.9</td></tr><tr><td class = \"rowNumber\" style = \"font-weight: bold; text-align: right;\">11</td><td style = \"text-align: left;\">10</td><td style = \"text-align: left;\">4</td><td style = \"text-align: left;\">8</td><td style = \"text-align: left;\">-34.6</td><td style = \"text-align: left;\">-37.8</td></tr><tr><td class = \"rowNumber\" style = \"font-weight: bold; text-align: right;\">12</td><td style = \"text-align: left;\">11</td><td style = \"text-align: left;\">4</td><td style = \"text-align: left;\">426</td><td style = \"text-align: left;\">-30.0</td><td style = \"text-align: left;\">-42.3</td></tr><tr><td class = \"rowNumber\" style = \"font-weight: bold; text-align: right;\">13</td><td style = \"text-align: left;\">4</td><td style = \"text-align: left;\">5</td><td style = \"text-align: left;\">2</td><td style = \"text-align: left;\">-24.0</td><td style = \"text-align: left;\">-24.2</td></tr><tr><td style = \"text-align: right;\">&vellip;</td><td style = \"text-align: right;\">&vellip;</td><td style = \"text-align: right;\">&vellip;</td><td style = \"text-align: right;\">&vellip;</td><td style = \"text-align: right;\">&vellip;</td><td style = \"text-align: right;\">&vellip;</td></tr><tr><td class = \"rowNumber\" style = \"font-weight: bold; text-align: right;\">66</td><td style = \"text-align: left;\">6</td><td style = \"text-align: left;\">16</td><td style = \"text-align: left;\">2</td><td style = \"text-align: left;\">-28.8</td><td style = \"text-align: left;\">-28.9</td></tr><tr><td class = \"rowNumber\" style = \"font-weight: bold; text-align: right;\">67</td><td style = \"text-align: left;\">9</td><td style = \"text-align: left;\">16</td><td style = \"text-align: left;\">1</td><td style = \"text-align: left;\">-36.9</td><td style = \"text-align: left;\">-36.9</td></tr><tr><td class = \"rowNumber\" style = \"font-weight: bold; text-align: right;\">68</td><td style = \"text-align: left;\">4</td><td style = \"text-align: left;\">17</td><td style = \"text-align: left;\">3</td><td style = \"text-align: left;\">-24.0</td><td style = \"text-align: left;\">-24.0</td></tr><tr><td class = \"rowNumber\" style = \"font-weight: bold; text-align: right;\">69</td><td style = \"text-align: left;\">5</td><td style = \"text-align: left;\">17</td><td style = \"text-align: left;\">73</td><td style = \"text-align: left;\">-27.3</td><td style = \"text-align: left;\">-28.6</td></tr><tr><td class = \"rowNumber\" style = \"font-weight: bold; text-align: right;\">70</td><td style = \"text-align: left;\">6</td><td style = \"text-align: left;\">17</td><td style = \"text-align: left;\">2</td><td style = \"text-align: left;\">-28.7</td><td style = \"text-align: left;\">-28.8</td></tr><tr><td class = \"rowNumber\" style = \"font-weight: bold; text-align: right;\">71</td><td style = \"text-align: left;\">4</td><td style = \"text-align: left;\">18</td><td style = \"text-align: left;\">8</td><td style = \"text-align: left;\">-24.0</td><td style = \"text-align: left;\">-24.2</td></tr><tr><td class = \"rowNumber\" style = \"font-weight: bold; text-align: right;\">72</td><td style = \"text-align: left;\">5</td><td style = \"text-align: left;\">18</td><td style = \"text-align: left;\">5</td><td style = \"text-align: left;\">-27.3</td><td style = \"text-align: left;\">-28.6</td></tr><tr><td class = \"rowNumber\" style = \"font-weight: bold; text-align: right;\">73</td><td style = \"text-align: left;\">5</td><td style = \"text-align: left;\">19</td><td style = \"text-align: left;\">3</td><td style = \"text-align: left;\">-27.3</td><td style = \"text-align: left;\">-28.6</td></tr><tr><td class = \"rowNumber\" style = \"font-weight: bold; text-align: right;\">74</td><td style = \"text-align: left;\">5</td><td style = \"text-align: left;\">20</td><td style = \"text-align: left;\">1</td><td style = \"text-align: left;\">-28.6</td><td style = \"text-align: left;\">-28.6</td></tr><tr><td class = \"rowNumber\" style = \"font-weight: bold; text-align: right;\">75</td><td style = \"text-align: left;\">5</td><td style = \"text-align: left;\">21</td><td style = \"text-align: left;\">1</td><td style = \"text-align: left;\">-28.0</td><td style = \"text-align: left;\">-28.0</td></tr><tr><td class = \"rowNumber\" style = \"font-weight: bold; text-align: right;\">76</td><td style = \"text-align: left;\">6</td><td style = \"text-align: left;\">21</td><td style = \"text-align: left;\">1</td><td style = \"text-align: left;\">-28.9</td><td style = \"text-align: left;\">-28.9</td></tr><tr><td class = \"rowNumber\" style = \"font-weight: bold; text-align: right;\">77</td><td style = \"text-align: left;\">6</td><td style = \"text-align: left;\">23</td><td style = \"text-align: left;\">1</td><td style = \"text-align: left;\">-28.5</td><td style = \"text-align: left;\">-28.5</td></tr></tbody></table></div>"
      ],
      "text/latex": [
       "\\begin{tabular}{r|ccccc}\n",
       "\t& Stem\\_length & Loop\\_length & Count\\_different\\_seq & max\\_MFE\\_energy & min\\_MFE\\_energy\\\\\n",
       "\t\\hline\n",
       "\t& Any & Any & Any & Any & Any\\\\\n",
       "\t\\hline\n",
       "\t1 & 5 & 3 & 13 & -25.6 & -25.6 \\\\\n",
       "\t2 & 8 & 3 & 5 & -33.2 & -33.2 \\\\\n",
       "\t3 & 9 & 3 & 3 & -34.1 & -34.4 \\\\\n",
       "\t4 & 10 & 3 & 3 & -35.1 & -35.4 \\\\\n",
       "\t5 & 11 & 3 & 2 & -34.1 & -36.2 \\\\\n",
       "\t6 & 5 & 4 & 25 & -25.3 & -28.6 \\\\\n",
       "\t7 & 6 & 4 & 6 & -26.2 & -29.8 \\\\\n",
       "\t8 & 7 & 4 & 1 & -29.5 & -29.5 \\\\\n",
       "\t9 & 8 & 4 & 21 & -30.6 & -36.2 \\\\\n",
       "\t10 & 9 & 4 & 25 & -32.3 & -38.9 \\\\\n",
       "\t11 & 10 & 4 & 8 & -34.6 & -37.8 \\\\\n",
       "\t12 & 11 & 4 & 426 & -30.0 & -42.3 \\\\\n",
       "\t13 & 4 & 5 & 2 & -24.0 & -24.2 \\\\\n",
       "\t14 & 5 & 5 & 31 & -27.3 & -28.6 \\\\\n",
       "\t15 & 6 & 5 & 6 & -28.7 & -29.0 \\\\\n",
       "\t16 & 7 & 5 & 1 & -31.2 & -31.2 \\\\\n",
       "\t17 & 8 & 5 & 31 & -31.6 & -36.4 \\\\\n",
       "\t18 & 9 & 5 & 34 & -29.3 & -37.1 \\\\\n",
       "\t19 & 11 & 5 & 1 & -38.3 & -38.3 \\\\\n",
       "\t20 & 5 & 6 & 41 & -27.3 & -28.6 \\\\\n",
       "\t21 & 6 & 6 & 4 & -28.9 & -29.0 \\\\\n",
       "\t22 & 7 & 6 & 7 & -29.5 & -33.2 \\\\\n",
       "\t23 & 8 & 6 & 19 & -28.2 & -36.2 \\\\\n",
       "\t24 & 9 & 6 & 15 & -30.2 & -37.4 \\\\\n",
       "\t25 & 10 & 6 & 866 & -28.3 & -41.1 \\\\\n",
       "\t26 & 4 & 7 & 1 & -24.3 & -24.3 \\\\\n",
       "\t27 & 5 & 7 & 44 & -26.9 & -28.6 \\\\\n",
       "\t28 & 6 & 7 & 6 & -28.7 & -29.0 \\\\\n",
       "\t29 & 7 & 7 & 10 & -29.5 & -31.8 \\\\\n",
       "\t30 & 8 & 7 & 55 & -28.6 & -36.2 \\\\\n",
       "\t$\\dots$ & $\\dots$ & $\\dots$ & $\\dots$ & $\\dots$ & $\\dots$ \\\\\n",
       "\\end{tabular}\n"
      ],
      "text/plain": [
       "\u001b[1m77×5 DataFrame\u001b[0m\n",
       "\u001b[1m Row \u001b[0m│\u001b[1m Stem_length \u001b[0m\u001b[1m Loop_length \u001b[0m\u001b[1m Count_different_seq \u001b[0m\u001b[1m max_MFE_energy \u001b[0m\u001b[1m min_MFE_\u001b[0m ⋯\n",
       "     │\u001b[90m Any         \u001b[0m\u001b[90m Any         \u001b[0m\u001b[90m Any                 \u001b[0m\u001b[90m Any            \u001b[0m\u001b[90m Any     \u001b[0m ⋯\n",
       "─────┼──────────────────────────────────────────────────────────────────────────\n",
       "   1 │ 5            3            13                   -25.6           -25.6    ⋯\n",
       "   2 │ 8            3            5                    -33.2           -33.2\n",
       "   3 │ 9            3            3                    -34.1           -34.4\n",
       "   4 │ 10           3            3                    -35.1           -35.4\n",
       "   5 │ 11           3            2                    -34.1           -36.2    ⋯\n",
       "   6 │ 5            4            25                   -25.3           -28.6\n",
       "   7 │ 6            4            6                    -26.2           -29.8\n",
       "   8 │ 7            4            1                    -29.5           -29.5\n",
       "   9 │ 8            4            21                   -30.6           -36.2    ⋯\n",
       "  10 │ 9            4            25                   -32.3           -38.9\n",
       "  11 │ 10           4            8                    -34.6           -37.8\n",
       "  ⋮  │      ⋮            ⋮                ⋮                 ⋮               ⋮  ⋱\n",
       "  68 │ 4            17           3                    -24.0           -24.0\n",
       "  69 │ 5            17           73                   -27.3           -28.6    ⋯\n",
       "  70 │ 6            17           2                    -28.7           -28.8\n",
       "  71 │ 4            18           8                    -24.0           -24.2\n",
       "  72 │ 5            18           5                    -27.3           -28.6\n",
       "  73 │ 5            19           3                    -27.3           -28.6    ⋯\n",
       "  74 │ 5            20           1                    -28.6           -28.6\n",
       "  75 │ 5            21           1                    -28.0           -28.0\n",
       "  76 │ 6            21           1                    -28.9           -28.9\n",
       "  77 │ 6            23           1                    -28.5           -28.5    ⋯\n",
       "\u001b[36m                                                    1 column and 56 rows omitted\u001b[0m"
      ]
     },
     "execution_count": 36,
     "metadata": {},
     "output_type": "execute_result"
    }
   ],
   "source": [
    "Pattern4Structures = DataFrame(Stem_length=[], Loop_length=[], Count_different_seq=[], max_MFE_energy=[], min_MFE_energy=[])\n",
    "for i = 3:50\n",
    "    loop_length = i\n",
    "    search_set_stem = []\n",
    "    for n = 1: 20\n",
    "        wt_pre = \"1-4-1-\"\n",
    "        wt_loop = \"-$(loop_length)-\"\n",
    "        wt_pos = \"-1-4-1\"\n",
    "\n",
    "        new_item = wt_pre * \"$(n)\" * wt_loop * \"$(n)\" * wt_pos\n",
    "        push!(search_set_stem, new_item)\n",
    "    end\n",
    "    search_set_stem\n",
    "\n",
    "    ForStemAnalysis = filter(:Loop1_description => n -> n ∈ search_set_stem, lib_StructureAnalysis)\n",
    "    sort!(ForStemAnalysis, [:MFE_energy, :Mbp_dist])\n",
    "\n",
    "    ## sorting the structures with relative similarity by their actual Loop1_description\n",
    "    StemSame_structure = []\n",
    "    for structure in ForStemAnalysis.MFE_SUBstructure\n",
    "        if structure ∉ StemSame_structure && structure != WT_structure\n",
    "            push!(StemSame_structure, structure)\n",
    "        end\n",
    "    end\n",
    "    StemSame_structure\n",
    "\n",
    "    \n",
    "    count = 0\n",
    "    for structure in StemSame_structure\n",
    "        count += 1\n",
    "        #tuple_struct = (\"Stem_length\" = , \"Loop_length\" = , \"Count_different_seq\" = , \"max_MFE_energy\" = , \"min_MFE_energy\" = )\n",
    "        #loop_length = 4\n",
    "\n",
    "        structureFrame = filter(:MFE_SUBstructure => n -> n == structure, lib_StructureAnalysis)\n",
    "        sort!(structureFrame, [:MFE_energy, :Mbp_dist])\n",
    "        Loop_description = structureFrame.Loop1_description[1]\n",
    "\n",
    "        stem_length = find_x_values(Loop_description)[1]\n",
    "        amount_seq = size(structureFrame)[1]\n",
    "        max_energy = structureFrame.MFE_energy[amount_seq]\n",
    "        min_energy = structureFrame.MFE_energy[1]\n",
    "\n",
    "        tuple_struct = (Stem_length = stem_length, Loop_length = loop_length, Count_different_seq = amount_seq, max_MFE_energy = max_energy, min_MFE_energy = min_energy)\n",
    "        #tuple_struct = (\"Stem_length\" = stem_length, \"Loop_length\" = loop_length, \"Count_different_seq\" = amount_seq, \"max_MFE_energy\" = max_energy, \"min_MFE_energy\" = min_energy)\n",
    "        #push!(tuple_struct, (stem_length, loop_length, amount_seq, max_energy, min_energy))\n",
    "        push!(Pattern4Structures, tuple_struct)\n",
    "    end\n",
    "end\n",
    "\n",
    "sort!(Pattern4Structures, [:Loop_length, :Stem_length])"
   ]
  },
  {
   "cell_type": "markdown",
   "id": "8efeb3de-39db-456a-ba7a-5029ceb62693",
   "metadata": {},
   "source": [
    "### Different length Loop - Analysis"
   ]
  },
  {
   "cell_type": "markdown",
   "id": "ef870e11-368f-4d5b-850e-948cbf715f79",
   "metadata": {},
   "source": [
    "<a id='searchset_loop'></a>"
   ]
  },
  {
   "cell_type": "code",
   "execution_count": 37,
   "id": "72addb50-7a11-4cc6-8b51-596dc6b36837",
   "metadata": {
    "tags": []
   },
   "outputs": [
    {
     "data": {
      "text/plain": [
       "20-element Vector{Any}:\n",
       " \"1-4-1-10-1-10-1-4-1\"\n",
       " \"1-4-1-10-2-10-1-4-1\"\n",
       " \"1-4-1-10-3-10-1-4-1\"\n",
       " \"1-4-1-10-4-10-1-4-1\"\n",
       " \"1-4-1-10-5-10-1-4-1\"\n",
       " \"1-4-1-10-6-10-1-4-1\"\n",
       " \"1-4-1-10-7-10-1-4-1\"\n",
       " \"1-4-1-10-8-10-1-4-1\"\n",
       " \"1-4-1-10-9-10-1-4-1\"\n",
       " \"1-4-1-10-10-10-1-4-1\"\n",
       " \"1-4-1-10-11-10-1-4-1\"\n",
       " \"1-4-1-10-12-10-1-4-1\"\n",
       " \"1-4-1-10-13-10-1-4-1\"\n",
       " \"1-4-1-10-14-10-1-4-1\"\n",
       " \"1-4-1-10-15-10-1-4-1\"\n",
       " \"1-4-1-10-16-10-1-4-1\"\n",
       " \"1-4-1-10-17-10-1-4-1\"\n",
       " \"1-4-1-10-18-10-1-4-1\"\n",
       " \"1-4-1-10-19-10-1-4-1\"\n",
       " \"1-4-1-10-20-10-1-4-1\""
      ]
     },
     "execution_count": 37,
     "metadata": {},
     "output_type": "execute_result"
    }
   ],
   "source": [
    "search_set_loop = []\n",
    "for n = 1: 20\n",
    "    wt_pre = \"1-4-1-10-\"\n",
    "    #wt_loop = \"-5-\"\n",
    "    wt_pos = \"-10-1-4-1\"\n",
    "    \n",
    "    new_item = wt_pre * \"$(n)\" * wt_pos\n",
    "    push!(search_set_loop, new_item)\n",
    "end\n",
    "search_set_loop"
   ]
  },
  {
   "cell_type": "code",
   "execution_count": 38,
   "id": "390528c3-df70-45a0-a908-3c73ce54443b",
   "metadata": {},
   "outputs": [
    {
     "data": {
      "text/html": [
       "<div><div style = \"float: left;\"><span>908×12 DataFrame</span></div><div style = \"float: right;\"><span style = \"font-style: italic;\">883 rows omitted</span></div><div style = \"clear: both;\"></div></div><div class = \"data-frame\" style = \"overflow-x: scroll;\"><table class = \"data-frame\" style = \"margin-bottom: 6px;\"><thead><tr class = \"header\"><th class = \"rowNumber\" style = \"font-weight: bold; text-align: right;\">Row</th><th style = \"text-align: left;\">Sequence_number</th><th style = \"text-align: left;\">Loop1_description</th><th style = \"text-align: left;\">MFE_SUBstructure</th><th style = \"text-align: left;\">LoopI</th><th style = \"text-align: left;\">Loop_length</th><th style = \"text-align: left;\">Count</th><th style = \"text-align: left;\">WT</th><th style = \"text-align: left;\">MFE_structure</th><th style = \"text-align: left;\">MFE_energy</th><th style = \"text-align: left;\">Mbp_dist</th><th style = \"text-align: left;\">Seq_Cluster</th><th style = \"text-align: left;\">Str_Cluster</th></tr><tr class = \"subheader headerLastRow\"><th class = \"rowNumber\" style = \"font-weight: bold; text-align: right;\"></th><th title = \"Int64\" style = \"text-align: left;\">Int64</th><th title = \"String\" style = \"text-align: left;\">String</th><th title = \"String\" style = \"text-align: left;\">String</th><th title = \"String\" style = \"text-align: left;\">String</th><th title = \"Int64\" style = \"text-align: left;\">Int64</th><th title = \"Int64\" style = \"text-align: left;\">Int64</th><th title = \"String7\" style = \"text-align: left;\">String7</th><th title = \"String\" style = \"text-align: left;\">String</th><th title = \"Float64\" style = \"text-align: left;\">Float64</th><th title = \"Float64\" style = \"text-align: left;\">Float64</th><th title = \"Int64\" style = \"text-align: left;\">Int64</th><th title = \"Int64\" style = \"text-align: left;\">Int64</th></tr></thead><tbody><tr><td class = \"rowNumber\" style = \"font-weight: bold; text-align: right;\">1</td><td style = \"text-align: right;\">32146</td><td style = \"text-align: left;\">1-4-1-10-6-10-1-4-1</td><td style = \"text-align: left;\">.((((.((((((((((......)))))))))).)))).</td><td style = \"text-align: left;\">ACAAAAAAACCAGCGGCACTAACCGCTGGTTTGTTTGCC</td><td style = \"text-align: right;\">39</td><td style = \"text-align: right;\">1</td><td style = \"text-align: left;\">false</td><td style = \"text-align: left;\">.((((.((((((((((......)))))))))).)))).((((..(((((.......)))))..))))..((((.(((((((.....)))).))).)))).........</td><td style = \"text-align: right;\">-41.1</td><td style = \"text-align: right;\">4.92077</td><td style = \"text-align: right;\">0</td><td style = \"text-align: right;\">0</td></tr><tr><td class = \"rowNumber\" style = \"font-weight: bold; text-align: right;\">2</td><td style = \"text-align: right;\">7520</td><td style = \"text-align: left;\">1-4-1-10-6-10-1-4-1</td><td style = \"text-align: left;\">.((((.((((((((((......)))))))))).)))).</td><td style = \"text-align: left;\">ACAAAAAAACCAGCCGAAGGTACGGCTGGTTTGTTTGCC</td><td style = \"text-align: right;\">39</td><td style = \"text-align: right;\">2</td><td style = \"text-align: left;\">false</td><td style = \"text-align: left;\">.((((.((((((((((......)))))))))).)))).((((..(((((.......)))))..))))..((((.(((((((.....)))).))).)))).........</td><td style = \"text-align: right;\">-41.1</td><td style = \"text-align: right;\">4.97542</td><td style = \"text-align: right;\">0</td><td style = \"text-align: right;\">0</td></tr><tr><td class = \"rowNumber\" style = \"font-weight: bold; text-align: right;\">3</td><td style = \"text-align: right;\">0</td><td style = \"text-align: left;\">1-4-1-10-5-10-1-4-1</td><td style = \"text-align: left;\">.((((.((((((((((.....)))))))))).)))).</td><td style = \"text-align: left;\">ACAAAAAAACCACCGCTACCAGCGGTGGTTTGTTTGCC</td><td style = \"text-align: right;\">38</td><td style = \"text-align: right;\">47</td><td style = \"text-align: left;\">WT</td><td style = \"text-align: left;\">.((((.((((((((((.....)))))))))).)))).((((..(((((.......)))))..))))..((((.(((((((.....)))).))).)))).........</td><td style = \"text-align: right;\">-41.1</td><td style = \"text-align: right;\">5.30195</td><td style = \"text-align: right;\">0</td><td style = \"text-align: right;\">0</td></tr><tr><td class = \"rowNumber\" style = \"font-weight: bold; text-align: right;\">4</td><td style = \"text-align: right;\">23411</td><td style = \"text-align: left;\">1-4-1-10-6-10-1-4-1</td><td style = \"text-align: left;\">.((((.((((((((((......)))))))))).)))).</td><td style = \"text-align: left;\">ACAAAAAAACCACTCCGCCTTAGGAGTGGTTTGTTTGCC</td><td style = \"text-align: right;\">39</td><td style = \"text-align: right;\">1</td><td style = \"text-align: left;\">false</td><td style = \"text-align: left;\">.((((.((((((((((......)))))))))).)))).((((..(((((.......)))))..))))..((((.(((((((.....)))).))).)))).........</td><td style = \"text-align: right;\">-40.9</td><td style = \"text-align: right;\">4.90256</td><td style = \"text-align: right;\">0</td><td style = \"text-align: right;\">0</td></tr><tr><td class = \"rowNumber\" style = \"font-weight: bold; text-align: right;\">5</td><td style = \"text-align: right;\">15824</td><td style = \"text-align: left;\">1-4-1-10-6-10-1-4-1</td><td style = \"text-align: left;\">.((((.((((((((((......)))))))))).)))).</td><td style = \"text-align: left;\">ACAAAAAAACCAGGCATACTGTTGCCTGGTTTGTTTGCC</td><td style = \"text-align: right;\">39</td><td style = \"text-align: right;\">1</td><td style = \"text-align: left;\">false</td><td style = \"text-align: left;\">.((((.((((((((((......)))))))))).)))).((((..(((((.......)))))..))))..((((.(((((((.....)))).))).)))).........</td><td style = \"text-align: right;\">-40.9</td><td style = \"text-align: right;\">5.00045</td><td style = \"text-align: right;\">0</td><td style = \"text-align: right;\">0</td></tr><tr><td class = \"rowNumber\" style = \"font-weight: bold; text-align: right;\">6</td><td style = \"text-align: right;\">9816</td><td style = \"text-align: left;\">1-4-1-10-6-10-1-4-1</td><td style = \"text-align: left;\">.((((.((((((((((......)))))))))).)))).</td><td style = \"text-align: left;\">ACAAAAAAACCACCGGTTTCTCCCGGTGGTTTGTTTGCC</td><td style = \"text-align: right;\">39</td><td style = \"text-align: right;\">1</td><td style = \"text-align: left;\">false</td><td style = \"text-align: left;\">.((((.((((((((((......)))))))))).)))).((((..(((((.......)))))..))))..((((.(((((((.....)))).))).)))).........</td><td style = \"text-align: right;\">-40.8</td><td style = \"text-align: right;\">4.95773</td><td style = \"text-align: right;\">0</td><td style = \"text-align: right;\">0</td></tr><tr><td class = \"rowNumber\" style = \"font-weight: bold; text-align: right;\">7</td><td style = \"text-align: right;\">14114</td><td style = \"text-align: left;\">1-4-1-10-6-10-1-4-1</td><td style = \"text-align: left;\">.((((.((((((((((......)))))))))).)))).</td><td style = \"text-align: left;\">ACAAAAAAACCACCCATACTGTTGGGTGGTTTGTTTGCC</td><td style = \"text-align: right;\">39</td><td style = \"text-align: right;\">1</td><td style = \"text-align: left;\">false</td><td style = \"text-align: left;\">.((((.((((((((((......)))))))))).)))).((((..(((((.......)))))..))))..((((.(((((((.....)))).))).)))).........</td><td style = \"text-align: right;\">-40.7</td><td style = \"text-align: right;\">5.00055</td><td style = \"text-align: right;\">0</td><td style = \"text-align: right;\">0</td></tr><tr><td class = \"rowNumber\" style = \"font-weight: bold; text-align: right;\">8</td><td style = \"text-align: right;\">4840</td><td style = \"text-align: left;\">1-4-1-10-6-10-1-4-1</td><td style = \"text-align: left;\">.((((.((((((((((......)))))))))).)))).</td><td style = \"text-align: left;\">ACAAAAAAACCAGCCTTAGAGTGGGCTGGTTTGTTTGCC</td><td style = \"text-align: right;\">39</td><td style = \"text-align: right;\">2</td><td style = \"text-align: left;\">false</td><td style = \"text-align: left;\">.((((.((((((((((......)))))))))).)))).((((..(((((.......)))))..))))..((((.(((((((.....)))).))).)))).........</td><td style = \"text-align: right;\">-40.6</td><td style = \"text-align: right;\">4.93715</td><td style = \"text-align: right;\">0</td><td style = \"text-align: right;\">0</td></tr><tr><td class = \"rowNumber\" style = \"font-weight: bold; text-align: right;\">9</td><td style = \"text-align: right;\">31076</td><td style = \"text-align: left;\">1-4-1-10-6-10-1-4-1</td><td style = \"text-align: left;\">.((((.((((((((((......)))))))))).)))).</td><td style = \"text-align: left;\">ACAAAAAAACCACACCTTGAGTGGTGTGGTTTGTTTGCC</td><td style = \"text-align: right;\">39</td><td style = \"text-align: right;\">1</td><td style = \"text-align: left;\">false</td><td style = \"text-align: left;\">.((((.((((((((((......)))))))))).)))).((((..(((((.......)))))..))))..((((.(((((((.....)))).))).)))).........</td><td style = \"text-align: right;\">-40.5</td><td style = \"text-align: right;\">4.90344</td><td style = \"text-align: right;\">0</td><td style = \"text-align: right;\">0</td></tr><tr><td class = \"rowNumber\" style = \"font-weight: bold; text-align: right;\">10</td><td style = \"text-align: right;\">21928</td><td style = \"text-align: left;\">1-4-1-10-6-10-1-4-1</td><td style = \"text-align: left;\">.((((.((((((((((......)))))))))).)))).</td><td style = \"text-align: left;\">ACAAAAAAACCACCCTTGCTTTGGGGTGGTTTGTTTGCC</td><td style = \"text-align: right;\">39</td><td style = \"text-align: right;\">1</td><td style = \"text-align: left;\">false</td><td style = \"text-align: left;\">.((((.((((((((((......)))))))))).)))).((((..(((((.......)))))..))))..((((.(((((((.....)))).))).)))).........</td><td style = \"text-align: right;\">-40.4</td><td style = \"text-align: right;\">4.94102</td><td style = \"text-align: right;\">0</td><td style = \"text-align: right;\">0</td></tr><tr><td class = \"rowNumber\" style = \"font-weight: bold; text-align: right;\">11</td><td style = \"text-align: right;\">16714</td><td style = \"text-align: left;\">1-4-1-10-6-10-1-4-1</td><td style = \"text-align: left;\">.((((.((((((((((......)))))))))).)))).</td><td style = \"text-align: left;\">ACAAAAAAACCACCCTGGTCAAGGGGTGGTTTGTTTGCC</td><td style = \"text-align: right;\">39</td><td style = \"text-align: right;\">1</td><td style = \"text-align: left;\">false</td><td style = \"text-align: left;\">.((((.((((((((((......)))))))))).)))).((((..(((((.......)))))..))))..((((.(((((((.....)))).))).)))).........</td><td style = \"text-align: right;\">-40.4</td><td style = \"text-align: right;\">5.05095</td><td style = \"text-align: right;\">0</td><td style = \"text-align: right;\">0</td></tr><tr><td class = \"rowNumber\" style = \"font-weight: bold; text-align: right;\">12</td><td style = \"text-align: right;\">9413</td><td style = \"text-align: left;\">1-4-1-10-6-10-1-4-1</td><td style = \"text-align: left;\">.((((.((((((((((......)))))))))).)))).</td><td style = \"text-align: left;\">ACAAAAAAACCAGAGCTACACCGCTCTGGTTTGTTTGCC</td><td style = \"text-align: right;\">39</td><td style = \"text-align: right;\">1</td><td style = \"text-align: left;\">false</td><td style = \"text-align: left;\">.((((.((((((((((......)))))))))).)))).((((..(((((.......)))))..))))..((((.(((((((.....)))).))).)))).........</td><td style = \"text-align: right;\">-40.2</td><td style = \"text-align: right;\">4.90337</td><td style = \"text-align: right;\">0</td><td style = \"text-align: right;\">0</td></tr><tr><td class = \"rowNumber\" style = \"font-weight: bold; text-align: right;\">13</td><td style = \"text-align: right;\">31788</td><td style = \"text-align: left;\">1-4-1-10-6-10-1-4-1</td><td style = \"text-align: left;\">.((((.((((((((((......)))))))))).)))).</td><td style = \"text-align: left;\">ACAAAAAAACCATCCCAGTAGAGGGATGGTTTGTTTGCC</td><td style = \"text-align: right;\">39</td><td style = \"text-align: right;\">1</td><td style = \"text-align: left;\">false</td><td style = \"text-align: left;\">.((((.((((((((((......)))))))))).)))).((((..(((((.......)))))..))))..((((.(((((((.....)))).))).)))).........</td><td style = \"text-align: right;\">-40.2</td><td style = \"text-align: right;\">4.90441</td><td style = \"text-align: right;\">0</td><td style = \"text-align: right;\">0</td></tr><tr><td style = \"text-align: right;\">&vellip;</td><td style = \"text-align: right;\">&vellip;</td><td style = \"text-align: right;\">&vellip;</td><td style = \"text-align: right;\">&vellip;</td><td style = \"text-align: right;\">&vellip;</td><td style = \"text-align: right;\">&vellip;</td><td style = \"text-align: right;\">&vellip;</td><td style = \"text-align: right;\">&vellip;</td><td style = \"text-align: right;\">&vellip;</td><td style = \"text-align: right;\">&vellip;</td><td style = \"text-align: right;\">&vellip;</td><td style = \"text-align: right;\">&vellip;</td><td style = \"text-align: right;\">&vellip;</td></tr><tr><td class = \"rowNumber\" style = \"font-weight: bold; text-align: right;\">897</td><td style = \"text-align: right;\">41057</td><td style = \"text-align: left;\">1-4-1-10-6-10-1-4-1</td><td style = \"text-align: left;\">.((((.((((((((((......)))))))))).)))).</td><td style = \"text-align: left;\">ACAAAAAAACCGTTAGAGTGAGCTAATGGTTTGTTTGCC</td><td style = \"text-align: right;\">39</td><td style = \"text-align: right;\">1</td><td style = \"text-align: left;\">false</td><td style = \"text-align: left;\">.((((.((((((((((......)))))))))).)))).((((..(((((.......)))))..))))..((((.(((((((.....)))).))).)))).........</td><td style = \"text-align: right;\">-31.7</td><td style = \"text-align: right;\">5.30112</td><td style = \"text-align: right;\">0</td><td style = \"text-align: right;\">0</td></tr><tr><td class = \"rowNumber\" style = \"font-weight: bold; text-align: right;\">898</td><td style = \"text-align: right;\">7086</td><td style = \"text-align: left;\">1-4-1-10-6-10-1-4-1</td><td style = \"text-align: left;\">.((((.((((((((((......)))))))))).)))).</td><td style = \"text-align: left;\">ACAAAAAAACCGTTGCAAGGAGGTGATGGTTTGTTTGCC</td><td style = \"text-align: right;\">39</td><td style = \"text-align: right;\">2</td><td style = \"text-align: left;\">false</td><td style = \"text-align: left;\">.((((.((((((((((......)))))))))).)))).((((..(((((.......)))))..))))..((((.(((((((.....)))).))).)))).........</td><td style = \"text-align: right;\">-31.7</td><td style = \"text-align: right;\">5.42459</td><td style = \"text-align: right;\">0</td><td style = \"text-align: right;\">0</td></tr><tr><td class = \"rowNumber\" style = \"font-weight: bold; text-align: right;\">899</td><td style = \"text-align: right;\">41523</td><td style = \"text-align: left;\">1-4-1-10-6-10-1-4-1</td><td style = \"text-align: left;\">.((((.((((((((((......)))))))))).)))).</td><td style = \"text-align: left;\">ACAAAAAAACCGAAATGATTATATTTTGGTTTGTTTGCC</td><td style = \"text-align: right;\">39</td><td style = \"text-align: right;\">1</td><td style = \"text-align: left;\">false</td><td style = \"text-align: left;\">.((((.((((((((((......)))))))))).)))).((((..(((((.......)))))..))))..((((.(((((((.....)))).))).)))).........</td><td style = \"text-align: right;\">-31.5</td><td style = \"text-align: right;\">5.6918</td><td style = \"text-align: right;\">0</td><td style = \"text-align: right;\">0</td></tr><tr><td class = \"rowNumber\" style = \"font-weight: bold; text-align: right;\">900</td><td style = \"text-align: right;\">34162</td><td style = \"text-align: left;\">1-4-1-10-6-10-1-4-1</td><td style = \"text-align: left;\">.((((.((((((((((......)))))))))).)))).</td><td style = \"text-align: left;\">ACAAAAAAACCAGTAACTGCGTTTATTGGTTTGTTTGCC</td><td style = \"text-align: right;\">39</td><td style = \"text-align: right;\">1</td><td style = \"text-align: left;\">false</td><td style = \"text-align: left;\">.((((.((((((((((......)))))))))).)))).((((..(((((.......)))))..))))..((((.(((((((.....)))).))).)))).........</td><td style = \"text-align: right;\">-31.5</td><td style = \"text-align: right;\">5.93302</td><td style = \"text-align: right;\">0</td><td style = \"text-align: right;\">0</td></tr><tr><td class = \"rowNumber\" style = \"font-weight: bold; text-align: right;\">901</td><td style = \"text-align: right;\">43569</td><td style = \"text-align: left;\">1-4-1-10-6-10-1-4-1</td><td style = \"text-align: left;\">.((((.((((((((((......)))))))))).)))).</td><td style = \"text-align: left;\">ACAAAAAAACCGAAAATATTTGTTTTTGGTTTGTTTGCC</td><td style = \"text-align: right;\">39</td><td style = \"text-align: right;\">1</td><td style = \"text-align: left;\">false</td><td style = \"text-align: left;\">.((((.((((((((((......)))))))))).)))).((((..(((((.......)))))..))))..((((.(((((((.....)))).))).)))).........</td><td style = \"text-align: right;\">-31.4</td><td style = \"text-align: right;\">5.8657</td><td style = \"text-align: right;\">0</td><td style = \"text-align: right;\">0</td></tr><tr><td class = \"rowNumber\" style = \"font-weight: bold; text-align: right;\">902</td><td style = \"text-align: right;\">13456</td><td style = \"text-align: left;\">1-4-1-10-6-10-1-4-1</td><td style = \"text-align: left;\">.((((.((((((((((......)))))))))).)))).</td><td style = \"text-align: left;\">ACAAAAAAACCGTTCTATGGGGGGGATGGTTTGTTTGCC</td><td style = \"text-align: right;\">39</td><td style = \"text-align: right;\">1</td><td style = \"text-align: left;\">false</td><td style = \"text-align: left;\">.((((.((((((((((......)))))))))).)))).((((..(((((.......)))))..))))..((((.(((((((.....)))).))).)))).........</td><td style = \"text-align: right;\">-31.3</td><td style = \"text-align: right;\">5.34061</td><td style = \"text-align: right;\">0</td><td style = \"text-align: right;\">0</td></tr><tr><td class = \"rowNumber\" style = \"font-weight: bold; text-align: right;\">903</td><td style = \"text-align: right;\">26438</td><td style = \"text-align: left;\">1-4-1-10-6-10-1-4-1</td><td style = \"text-align: left;\">.((((.((((((((((......)))))))))).)))).</td><td style = \"text-align: left;\">ACAAAAAAACCATTTAAGGTGCTAGGTGGTTTGTTTGCC</td><td style = \"text-align: right;\">39</td><td style = \"text-align: right;\">1</td><td style = \"text-align: left;\">false</td><td style = \"text-align: left;\">.((((.((((((((((......)))))))))).)))).((((..(((((.......)))))..))))..((((.(((((((.....)))).))).)))).........</td><td style = \"text-align: right;\">-30.8</td><td style = \"text-align: right;\">6.60091</td><td style = \"text-align: right;\">0</td><td style = \"text-align: right;\">0</td></tr><tr><td class = \"rowNumber\" style = \"font-weight: bold; text-align: right;\">904</td><td style = \"text-align: right;\">33508</td><td style = \"text-align: left;\">1-4-1-10-6-10-1-4-1</td><td style = \"text-align: left;\">.((((.((((((((((......)))))))))).)))).</td><td style = \"text-align: left;\">ACAAAAAAACCATTTTAGAGCAGGGGTGGTTTGTTTGCC</td><td style = \"text-align: right;\">39</td><td style = \"text-align: right;\">1</td><td style = \"text-align: left;\">false</td><td style = \"text-align: left;\">.((((.((((((((((......)))))))))).)))).((((..(((((.......)))))..))))..((((.(((((((.....)))).))).)))).........</td><td style = \"text-align: right;\">-30.6</td><td style = \"text-align: right;\">7.08075</td><td style = \"text-align: right;\">0</td><td style = \"text-align: right;\">0</td></tr><tr><td class = \"rowNumber\" style = \"font-weight: bold; text-align: right;\">905</td><td style = \"text-align: right;\">3907</td><td style = \"text-align: left;\">1-4-1-10-6-10-1-4-1</td><td style = \"text-align: left;\">.((((.((((((((((......)))))))))).)))).</td><td style = \"text-align: left;\">ACAAAAAAACCAGTGTCAGTATACGTTGGTTTGTTTGCC</td><td style = \"text-align: right;\">39</td><td style = \"text-align: right;\">2</td><td style = \"text-align: left;\">false</td><td style = \"text-align: left;\">.((((.((((((((((......)))))))))).)))).((((..(((((.......)))))..))))..((((.(((((((.....)))).))).)))).........</td><td style = \"text-align: right;\">-30.5</td><td style = \"text-align: right;\">8.8843</td><td style = \"text-align: right;\">0</td><td style = \"text-align: right;\">0</td></tr><tr><td class = \"rowNumber\" style = \"font-weight: bold; text-align: right;\">906</td><td style = \"text-align: right;\">43283</td><td style = \"text-align: left;\">1-4-1-10-6-10-1-4-1</td><td style = \"text-align: left;\">.((((.((((((((((......)))))))))).)))).</td><td style = \"text-align: left;\">ACAAAAAAACCGAGGGGGGCAGTTTTTGGTTTGTTTGCC</td><td style = \"text-align: right;\">39</td><td style = \"text-align: right;\">1</td><td style = \"text-align: left;\">false</td><td style = \"text-align: left;\">.((((.((((((((((......)))))))))).)))).((((..(((((.......)))))..))))..((((.(((((((.....)))).))).)))).........</td><td style = \"text-align: right;\">-30.2</td><td style = \"text-align: right;\">23.2483</td><td style = \"text-align: right;\">0</td><td style = \"text-align: right;\">0</td></tr><tr><td class = \"rowNumber\" style = \"font-weight: bold; text-align: right;\">907</td><td style = \"text-align: right;\">5949</td><td style = \"text-align: left;\">1-4-1-10-6-10-1-4-1</td><td style = \"text-align: left;\">.((((.((((((((((......)))))))))).)))).</td><td style = \"text-align: left;\">ACAAAAAAACCGTCTTGGCCGGAAGGTGGTTTGTTTGCC</td><td style = \"text-align: right;\">39</td><td style = \"text-align: right;\">2</td><td style = \"text-align: left;\">false</td><td style = \"text-align: left;\">.((((.((((((((((......)))))))))).)))).((((..(((((.......)))))..))))..((((.(((((((.....)))).))).)))).........</td><td style = \"text-align: right;\">-29.6</td><td style = \"text-align: right;\">13.5294</td><td style = \"text-align: right;\">0</td><td style = \"text-align: right;\">0</td></tr><tr><td class = \"rowNumber\" style = \"font-weight: bold; text-align: right;\">908</td><td style = \"text-align: right;\">15118</td><td style = \"text-align: left;\">1-4-1-10-6-10-1-4-1</td><td style = \"text-align: left;\">.((((.((((((((((......)))))))))).)))).</td><td style = \"text-align: left;\">ACAAAAAAACCGGTGTGAGTATATATTGGTTTGTTTGCC</td><td style = \"text-align: right;\">39</td><td style = \"text-align: right;\">1</td><td style = \"text-align: left;\">false</td><td style = \"text-align: left;\">.((((.((((((((((......)))))))))).)))).((((..(((((.......)))))..))))..((((.(((((((.....)))).))).)))).........</td><td style = \"text-align: right;\">-28.3</td><td style = \"text-align: right;\">8.20695</td><td style = \"text-align: right;\">0</td><td style = \"text-align: right;\">0</td></tr></tbody></table></div>"
      ],
      "text/latex": [
       "\\begin{tabular}{r|ccccc}\n",
       "\t& Sequence\\_number & Loop1\\_description & MFE\\_SUBstructure & LoopI & \\\\\n",
       "\t\\hline\n",
       "\t& Int64 & String & String & String & \\\\\n",
       "\t\\hline\n",
       "\t1 & 32146 & 1-4-1-10-6-10-1-4-1 & .((((.((((((((((......)))))))))).)))). & ACAAAAAAACCAGCGGCACTAACCGCTGGTTTGTTTGCC & $\\dots$ \\\\\n",
       "\t2 & 7520 & 1-4-1-10-6-10-1-4-1 & .((((.((((((((((......)))))))))).)))). & ACAAAAAAACCAGCCGAAGGTACGGCTGGTTTGTTTGCC & $\\dots$ \\\\\n",
       "\t3 & 0 & 1-4-1-10-5-10-1-4-1 & .((((.((((((((((.....)))))))))).)))). & ACAAAAAAACCACCGCTACCAGCGGTGGTTTGTTTGCC & $\\dots$ \\\\\n",
       "\t4 & 23411 & 1-4-1-10-6-10-1-4-1 & .((((.((((((((((......)))))))))).)))). & ACAAAAAAACCACTCCGCCTTAGGAGTGGTTTGTTTGCC & $\\dots$ \\\\\n",
       "\t5 & 15824 & 1-4-1-10-6-10-1-4-1 & .((((.((((((((((......)))))))))).)))). & ACAAAAAAACCAGGCATACTGTTGCCTGGTTTGTTTGCC & $\\dots$ \\\\\n",
       "\t6 & 9816 & 1-4-1-10-6-10-1-4-1 & .((((.((((((((((......)))))))))).)))). & ACAAAAAAACCACCGGTTTCTCCCGGTGGTTTGTTTGCC & $\\dots$ \\\\\n",
       "\t7 & 14114 & 1-4-1-10-6-10-1-4-1 & .((((.((((((((((......)))))))))).)))). & ACAAAAAAACCACCCATACTGTTGGGTGGTTTGTTTGCC & $\\dots$ \\\\\n",
       "\t8 & 4840 & 1-4-1-10-6-10-1-4-1 & .((((.((((((((((......)))))))))).)))). & ACAAAAAAACCAGCCTTAGAGTGGGCTGGTTTGTTTGCC & $\\dots$ \\\\\n",
       "\t9 & 31076 & 1-4-1-10-6-10-1-4-1 & .((((.((((((((((......)))))))))).)))). & ACAAAAAAACCACACCTTGAGTGGTGTGGTTTGTTTGCC & $\\dots$ \\\\\n",
       "\t10 & 21928 & 1-4-1-10-6-10-1-4-1 & .((((.((((((((((......)))))))))).)))). & ACAAAAAAACCACCCTTGCTTTGGGGTGGTTTGTTTGCC & $\\dots$ \\\\\n",
       "\t11 & 16714 & 1-4-1-10-6-10-1-4-1 & .((((.((((((((((......)))))))))).)))). & ACAAAAAAACCACCCTGGTCAAGGGGTGGTTTGTTTGCC & $\\dots$ \\\\\n",
       "\t12 & 9413 & 1-4-1-10-6-10-1-4-1 & .((((.((((((((((......)))))))))).)))). & ACAAAAAAACCAGAGCTACACCGCTCTGGTTTGTTTGCC & $\\dots$ \\\\\n",
       "\t13 & 31788 & 1-4-1-10-6-10-1-4-1 & .((((.((((((((((......)))))))))).)))). & ACAAAAAAACCATCCCAGTAGAGGGATGGTTTGTTTGCC & $\\dots$ \\\\\n",
       "\t14 & 40949 & 1-4-1-10-6-10-1-4-1 & .((((.((((((((((......)))))))))).)))). & ACAAAAAAACCACTCGGGGAAACGAGTGGTTTGTTTGCC & $\\dots$ \\\\\n",
       "\t15 & 14576 & 1-4-1-10-6-10-1-4-1 & .((((.((((((((((......)))))))))).)))). & ACAAAAAAACCACTCCAAACGAGGAGTGGTTTGTTTGCC & $\\dots$ \\\\\n",
       "\t16 & 716 & 1-4-1-10-6-10-1-4-1 & .((((.((((((((((......)))))))))).)))). & ACAAAAAAACCACCTCATTCAAGAGGTGGTTTGTTTGCC & $\\dots$ \\\\\n",
       "\t17 & 8341 & 1-4-1-10-6-10-1-4-1 & .((((.((((((((((......)))))))))).)))). & ACAAAAAAACCAGCACGGTCGTGTGCTGGTTTGTTTGCC & $\\dots$ \\\\\n",
       "\t18 & 19644 & 1-4-1-10-6-10-1-4-1 & .((((.((((((((((......)))))))))).)))). & ACAAAAAAACCAGGGTCAAGCAGCCCTGGTTTGTTTGCC & $\\dots$ \\\\\n",
       "\t19 & 14769 & 1-4-1-10-6-10-1-4-1 & .((((.((((((((((......)))))))))).)))). & ACAAAAAAACCACGTCTTTACTGACGTGGTTTGTTTGCC & $\\dots$ \\\\\n",
       "\t20 & 29097 & 1-4-1-10-6-10-1-4-1 & .((((.((((((((((......)))))))))).)))). & ACAAAAAAACCACCACAAAGTAGTGGTGGTTTGTTTGCC & $\\dots$ \\\\\n",
       "\t21 & 26254 & 1-4-1-10-6-10-1-4-1 & .((((.((((((((((......)))))))))).)))). & ACAAAAAAACCACCCAATTGTGTGGGTGGTTTGTTTGCC & $\\dots$ \\\\\n",
       "\t22 & 13871 & 1-4-1-10-6-10-1-4-1 & .((((.((((((((((......)))))))))).)))). & ACAAAAAAACCATCCCCCGGTCGGGATGGTTTGTTTGCC & $\\dots$ \\\\\n",
       "\t23 & 42670 & 1-4-1-10-6-10-1-4-1 & .((((.((((((((((......)))))))))).)))). & ACAAAAAAACCAGGCTTAAGGCGGCCTGGTTTGTTTGCC & $\\dots$ \\\\\n",
       "\t24 & 37431 & 1-4-1-10-6-10-1-4-1 & .((((.((((((((((......)))))))))).)))). & ACAAAAAAACCAGCCTTTTGTCAGGCTGGTTTGTTTGCC & $\\dots$ \\\\\n",
       "\t25 & 16736 & 1-4-1-10-6-10-1-4-1 & .((((.((((((((((......)))))))))).)))). & ACAAAAAAACCACCCATTGGCCTGGGTGGTTTGTTTGCC & $\\dots$ \\\\\n",
       "\t26 & 6422 & 1-4-1-10-6-10-1-4-1 & .((((.((((((((((......)))))))))).)))). & ACAAAAAAACCACCCATCCGTCTGGGTGGTTTGTTTGCC & $\\dots$ \\\\\n",
       "\t27 & 11497 & 1-4-1-10-6-10-1-4-1 & .((((.((((((((((......)))))))))).)))). & ACAAAAAAACCAACCCTTGGCCGGGTTGGTTTGTTTGCC & $\\dots$ \\\\\n",
       "\t28 & 18442 & 1-4-1-10-6-10-1-4-1 & .((((.((((((((((......)))))))))).)))). & ACAAAAAAACCACCCTTAGGGCAGGGTGGTTTGTTTGCC & $\\dots$ \\\\\n",
       "\t29 & 7331 & 1-4-1-10-6-10-1-4-1 & .((((.((((((((((......)))))))))).)))). & ACAAAAAAACCGCTGGGCCCGACCAGTGGTTTGTTTGCC & $\\dots$ \\\\\n",
       "\t30 & 21215 & 1-4-1-10-6-10-1-4-1 & .((((.((((((((((......)))))))))).)))). & ACAAAAAAACCACCGTATCCAAGCGGTGGTTTGTTTGCC & $\\dots$ \\\\\n",
       "\t$\\dots$ & $\\dots$ & $\\dots$ & $\\dots$ & $\\dots$ &  \\\\\n",
       "\\end{tabular}\n"
      ],
      "text/plain": [
       "\u001b[1m908×12 DataFrame\u001b[0m\n",
       "\u001b[1m Row \u001b[0m│\u001b[1m Sequence_number \u001b[0m\u001b[1m Loop1_description   \u001b[0m\u001b[1m MFE_SUBstructure                 \u001b[0m ⋯\n",
       "     │\u001b[90m Int64           \u001b[0m\u001b[90m String              \u001b[0m\u001b[90m String                           \u001b[0m ⋯\n",
       "─────┼──────────────────────────────────────────────────────────────────────────\n",
       "   1 │           32146  1-4-1-10-6-10-1-4-1  .((((.((((((((((......))))))))))… ⋯\n",
       "   2 │            7520  1-4-1-10-6-10-1-4-1  .((((.((((((((((......))))))))))…\n",
       "   3 │               0  1-4-1-10-5-10-1-4-1  .((((.((((((((((.....)))))))))).…\n",
       "   4 │           23411  1-4-1-10-6-10-1-4-1  .((((.((((((((((......))))))))))…\n",
       "   5 │           15824  1-4-1-10-6-10-1-4-1  .((((.((((((((((......))))))))))… ⋯\n",
       "   6 │            9816  1-4-1-10-6-10-1-4-1  .((((.((((((((((......))))))))))…\n",
       "   7 │           14114  1-4-1-10-6-10-1-4-1  .((((.((((((((((......))))))))))…\n",
       "   8 │            4840  1-4-1-10-6-10-1-4-1  .((((.((((((((((......))))))))))…\n",
       "   9 │           31076  1-4-1-10-6-10-1-4-1  .((((.((((((((((......))))))))))… ⋯\n",
       "  10 │           21928  1-4-1-10-6-10-1-4-1  .((((.((((((((((......))))))))))…\n",
       "  11 │           16714  1-4-1-10-6-10-1-4-1  .((((.((((((((((......))))))))))…\n",
       "  ⋮  │        ⋮                  ⋮                           ⋮                 ⋱\n",
       " 899 │           41523  1-4-1-10-6-10-1-4-1  .((((.((((((((((......))))))))))…\n",
       " 900 │           34162  1-4-1-10-6-10-1-4-1  .((((.((((((((((......))))))))))… ⋯\n",
       " 901 │           43569  1-4-1-10-6-10-1-4-1  .((((.((((((((((......))))))))))…\n",
       " 902 │           13456  1-4-1-10-6-10-1-4-1  .((((.((((((((((......))))))))))…\n",
       " 903 │           26438  1-4-1-10-6-10-1-4-1  .((((.((((((((((......))))))))))…\n",
       " 904 │           33508  1-4-1-10-6-10-1-4-1  .((((.((((((((((......))))))))))… ⋯\n",
       " 905 │            3907  1-4-1-10-6-10-1-4-1  .((((.((((((((((......))))))))))…\n",
       " 906 │           43283  1-4-1-10-6-10-1-4-1  .((((.((((((((((......))))))))))…\n",
       " 907 │            5949  1-4-1-10-6-10-1-4-1  .((((.((((((((((......))))))))))…\n",
       " 908 │           15118  1-4-1-10-6-10-1-4-1  .((((.((((((((((......))))))))))… ⋯\n",
       "\u001b[36m                                                  9 columns and 887 rows omitted\u001b[0m"
      ]
     },
     "execution_count": 38,
     "metadata": {},
     "output_type": "execute_result"
    }
   ],
   "source": [
    "ForLoopAnalysis = filter(:Loop1_description => n -> n ∈ search_set_loop, lib_StructureAnalysis)\n",
    "sort!(ForLoopAnalysis, [:MFE_energy, :Mbp_dist])"
   ]
  },
  {
   "cell_type": "code",
   "execution_count": 39,
   "id": "282d0bda-c7b0-4d05-86c2-0fbc5e841db5",
   "metadata": {},
   "outputs": [
    {
     "data": {
      "text/plain": [
       "5-element Vector{Any}:\n",
       " \".((((.((((((((((......)))))))))).)))).\"\n",
       " \".((((.((((((((((.....)))))))))).)))).\"\n",
       " \".((((.((((((((((....)))))))))).)))).\"\n",
       " \".((((.((((((((((.......)))))))))).)))).\"\n",
       " \".((((.((((((((((...)))))))))).)))).\""
      ]
     },
     "execution_count": 39,
     "metadata": {},
     "output_type": "execute_result"
    }
   ],
   "source": [
    "## sorting the structures with relative similarity by their actual Loop1_description\n",
    "LoopSame_structure = []\n",
    "for structure in ForLoopAnalysis.MFE_SUBstructure\n",
    "    if structure ∉ LoopSame_structure\n",
    "        push!(LoopSame_structure, structure)\n",
    "    end\n",
    "end\n",
    "LoopSame_structure"
   ]
  },
  {
   "cell_type": "code",
   "execution_count": 40,
   "id": "48aea169-d013-41d7-9519-cbdc3f229359",
   "metadata": {},
   "outputs": [
    {
     "ename": "LoadError",
     "evalue": "MethodError: no method matching find_y_range(::Vector{String})\n\n\u001b[0mClosest candidates are:\n\u001b[0m  find_y_range(\u001b[91m::Vector{String31}\u001b[39m)\n\u001b[0m\u001b[90m   @\u001b[39m \u001b[36mMain\u001b[39m \u001b[90m\u001b[4mIn[13]:2\u001b[24m\u001b[39m\n",
     "output_type": "error",
     "traceback": [
      "MethodError: no method matching find_y_range(::Vector{String})\n\n\u001b[0mClosest candidates are:\n\u001b[0m  find_y_range(\u001b[91m::Vector{String31}\u001b[39m)\n\u001b[0m\u001b[90m   @\u001b[39m \u001b[36mMain\u001b[39m \u001b[90m\u001b[4mIn[13]:2\u001b[24m\u001b[39m\n",
      "",
      "Stacktrace:",
      " [1] top-level scope",
      "   @ In[40]:2"
     ]
    }
   ],
   "source": [
    "## getting an overview on the loop sizes of the hairpin structures\n",
    "y_range = find_y_range(ForLoopAnalysis.Loop1_description)\n",
    "\n",
    "println(\"Range of Loop bases:\")\n",
    "println(sort!(collect(y_range)))"
   ]
  },
  {
   "cell_type": "code",
   "execution_count": 41,
   "id": "1b2d7f01-fedc-4749-8ced-59dd17367065",
   "metadata": {},
   "outputs": [
    {
     "ename": "LoadError",
     "evalue": "UndefVarError: `y_range` not defined",
     "output_type": "error",
     "traceback": [
      "UndefVarError: `y_range` not defined",
      "",
      "Stacktrace:",
      " [1] top-level scope",
      "   @ In[41]:2"
     ]
    }
   ],
   "source": [
    "Loop_ranges = Dict{Int64,Int64}()\n",
    "for num in sort!(collect(y_range))\n",
    "    Loop1_desc = \"1-4-1-10-$(num)-10-1-4-1\"\n",
    "    seq_dataframe = filter(:Loop1_description => n -> n == Loop1_desc, lib_StructureAnalysis)\n",
    "    count_seq = nrow(seq_dataframe)\n",
    "    Loop_ranges[num] = count_seq\n",
    "end\n",
    "Loop_ranges"
   ]
  },
  {
   "cell_type": "code",
   "execution_count": 42,
   "id": "6b89f52c-2da2-4944-af31-67667f3ea807",
   "metadata": {},
   "outputs": [
    {
     "data": {
      "image/png": "[encoded data removed]",
      "image/svg+xml": [
       "<?xml version=\"1.0\" encoding=\"utf-8\"?>\n",
       "<svg xmlns=\"http://www.w3.org/2000/svg\" xmlns:xlink=\"http://www.w3.org/1999/xlink\" width=\"600\" height=\"400\" viewBox=\"0 0 2400 1600\">\n",
       "<defs>\n",
       "  <clipPath id=\"clip910\">\n",
       "    <rect x=\"0\" y=\"0\" width=\"2400\" height=\"1600\"/>\n",
       "  </clipPath>\n",
       "</defs>\n",
       "<path clip-path=\"url(#clip910)\" d=\"M0 1600 L2400 1600 L2400 0 L0 0  Z\" fill=\"#ffffff\" fill-rule=\"evenodd\" fill-opacity=\"1\"/>\n",
       "<defs>\n",
       "  <clipPath id=\"clip911\">\n",
       "    <rect x=\"480\" y=\"0\" width=\"1681\" height=\"1600\"/>\n",
       "  </clipPath>\n",
       "</defs>\n",
       "<path clip-path=\"url(#clip910)\" d=\"M219.866 1423.18 L2352.76 1423.18 L2352.76 47.2441 L219.866 47.2441  Z\" fill=\"#ffffff\" fill-rule=\"evenodd\" fill-opacity=\"1\"/>\n",
       "<defs>\n",
       "  <clipPath id=\"clip912\">\n",
       "    <rect x=\"219\" y=\"47\" width=\"2134\" height=\"1377\"/>\n",
       "  </clipPath>\n",
       "</defs>\n",
       "<polyline clip-path=\"url(#clip912)\" style=\"stroke:#000000; stroke-linecap:round; stroke-linejoin:round; stroke-width:2; stroke-opacity:0.1; fill:none\" points=\"280.231,1423.18 280.231,47.2441 \"/>\n",
       "<polyline clip-path=\"url(#clip912)\" style=\"stroke:#000000; stroke-linecap:round; stroke-linejoin:round; stroke-width:2; stroke-opacity:0.1; fill:none\" points=\"783.271,1423.18 783.271,47.2441 \"/>\n",
       "<polyline clip-path=\"url(#clip912)\" style=\"stroke:#000000; stroke-linecap:round; stroke-linejoin:round; stroke-width:2; stroke-opacity:0.1; fill:none\" points=\"1286.31,1423.18 1286.31,47.2441 \"/>\n",
       "<polyline clip-path=\"url(#clip912)\" style=\"stroke:#000000; stroke-linecap:round; stroke-linejoin:round; stroke-width:2; stroke-opacity:0.1; fill:none\" points=\"1789.35,1423.18 1789.35,47.2441 \"/>\n",
       "<polyline clip-path=\"url(#clip912)\" style=\"stroke:#000000; stroke-linecap:round; stroke-linejoin:round; stroke-width:2; stroke-opacity:0.1; fill:none\" points=\"2292.39,1423.18 2292.39,47.2441 \"/>\n",
       "<polyline clip-path=\"url(#clip910)\" style=\"stroke:#000000; stroke-linecap:round; stroke-linejoin:round; stroke-width:4; stroke-opacity:1; fill:none\" points=\"219.866,1423.18 2352.76,1423.18 \"/>\n",
       "<polyline clip-path=\"url(#clip910)\" style=\"stroke:#000000; stroke-linecap:round; stroke-linejoin:round; stroke-width:4; stroke-opacity:1; fill:none\" points=\"280.231,1423.18 280.231,1404.28 \"/>\n",
       "<polyline clip-path=\"url(#clip910)\" style=\"stroke:#000000; stroke-linecap:round; stroke-linejoin:round; stroke-width:4; stroke-opacity:1; fill:none\" points=\"783.271,1423.18 783.271,1404.28 \"/>\n",
       "<polyline clip-path=\"url(#clip910)\" style=\"stroke:#000000; stroke-linecap:round; stroke-linejoin:round; stroke-width:4; stroke-opacity:1; fill:none\" points=\"1286.31,1423.18 1286.31,1404.28 \"/>\n",
       "<polyline clip-path=\"url(#clip910)\" style=\"stroke:#000000; stroke-linecap:round; stroke-linejoin:round; stroke-width:4; stroke-opacity:1; fill:none\" points=\"1789.35,1423.18 1789.35,1404.28 \"/>\n",
       "<polyline clip-path=\"url(#clip910)\" style=\"stroke:#000000; stroke-linecap:round; stroke-linejoin:round; stroke-width:4; stroke-opacity:1; fill:none\" points=\"2292.39,1423.18 2292.39,1404.28 \"/>\n",
       "<path clip-path=\"url(#clip910)\" d=\"M242.535 1454.1 Q238.923 1454.1 237.095 1457.66 Q235.289 1461.2 235.289 1468.33 Q235.289 1475.44 237.095 1479.01 Q238.923 1482.55 242.535 1482.55 Q246.169 1482.55 247.974 1479.01 Q249.803 1475.44 249.803 1468.33 Q249.803 1461.2 247.974 1457.66 Q246.169 1454.1 242.535 1454.1 M242.535 1450.39 Q248.345 1450.39 251.4 1455 Q254.479 1459.58 254.479 1468.33 Q254.479 1477.06 251.4 1481.67 Q248.345 1486.25 242.535 1486.25 Q236.724 1486.25 233.646 1481.67 Q230.59 1477.06 230.59 1468.33 Q230.59 1459.58 233.646 1455 Q236.724 1450.39 242.535 1450.39 Z\" fill=\"#000000\" fill-rule=\"nonzero\" fill-opacity=\"1\" /><path clip-path=\"url(#clip910)\" d=\"M262.696 1479.7 L267.581 1479.7 L267.581 1485.58 L262.696 1485.58 L262.696 1479.7 Z\" fill=\"#000000\" fill-rule=\"nonzero\" fill-opacity=\"1\" /><path clip-path=\"url(#clip910)\" d=\"M287.766 1454.1 Q284.155 1454.1 282.326 1457.66 Q280.52 1461.2 280.52 1468.33 Q280.52 1475.44 282.326 1479.01 Q284.155 1482.55 287.766 1482.55 Q291.4 1482.55 293.206 1479.01 Q295.034 1475.44 295.034 1468.33 Q295.034 1461.2 293.206 1457.66 Q291.4 1454.1 287.766 1454.1 M287.766 1450.39 Q293.576 1450.39 296.631 1455 Q299.71 1459.58 299.71 1468.33 Q299.71 1477.06 296.631 1481.67 Q293.576 1486.25 287.766 1486.25 Q281.956 1486.25 278.877 1481.67 Q275.821 1477.06 275.821 1468.33 Q275.821 1459.58 278.877 1455 Q281.956 1450.39 287.766 1450.39 Z\" fill=\"#000000\" fill-rule=\"nonzero\" fill-opacity=\"1\" /><path clip-path=\"url(#clip910)\" d=\"M317.928 1454.1 Q314.317 1454.1 312.488 1457.66 Q310.682 1461.2 310.682 1468.33 Q310.682 1475.44 312.488 1479.01 Q314.317 1482.55 317.928 1482.55 Q321.562 1482.55 323.367 1479.01 Q325.196 1475.44 325.196 1468.33 Q325.196 1461.2 323.367 1457.66 Q321.562 1454.1 317.928 1454.1 M317.928 1450.39 Q323.738 1450.39 326.793 1455 Q329.872 1459.58 329.872 1468.33 Q329.872 1477.06 326.793 1481.67 Q323.738 1486.25 317.928 1486.25 Q312.117 1486.25 309.039 1481.67 Q305.983 1477.06 305.983 1468.33 Q305.983 1459.58 309.039 1455 Q312.117 1450.39 317.928 1450.39 Z\" fill=\"#000000\" fill-rule=\"nonzero\" fill-opacity=\"1\" /><path clip-path=\"url(#clip910)\" d=\"M746.072 1454.1 Q742.461 1454.1 740.632 1457.66 Q738.827 1461.2 738.827 1468.33 Q738.827 1475.44 740.632 1479.01 Q742.461 1482.55 746.072 1482.55 Q749.706 1482.55 751.512 1479.01 Q753.341 1475.44 753.341 1468.33 Q753.341 1461.2 751.512 1457.66 Q749.706 1454.1 746.072 1454.1 M746.072 1450.39 Q751.882 1450.39 754.938 1455 Q758.017 1459.58 758.017 1468.33 Q758.017 1477.06 754.938 1481.67 Q751.882 1486.25 746.072 1486.25 Q740.262 1486.25 737.183 1481.67 Q734.128 1477.06 734.128 1468.33 Q734.128 1459.58 737.183 1455 Q740.262 1450.39 746.072 1450.39 Z\" fill=\"#000000\" fill-rule=\"nonzero\" fill-opacity=\"1\" /><path clip-path=\"url(#clip910)\" d=\"M766.234 1479.7 L771.118 1479.7 L771.118 1485.58 L766.234 1485.58 L766.234 1479.7 Z\" fill=\"#000000\" fill-rule=\"nonzero\" fill-opacity=\"1\" /><path clip-path=\"url(#clip910)\" d=\"M785.331 1481.64 L801.651 1481.64 L801.651 1485.58 L779.706 1485.58 L779.706 1481.64 Q782.368 1478.89 786.952 1474.26 Q791.558 1469.61 792.739 1468.27 Q794.984 1465.74 795.864 1464.01 Q796.766 1462.25 796.766 1460.56 Q796.766 1457.8 794.822 1456.07 Q792.901 1454.33 789.799 1454.33 Q787.6 1454.33 785.146 1455.09 Q782.716 1455.86 779.938 1457.41 L779.938 1452.69 Q782.762 1451.55 785.216 1450.97 Q787.669 1450.39 789.706 1450.39 Q795.077 1450.39 798.271 1453.08 Q801.465 1455.77 801.465 1460.26 Q801.465 1462.39 800.655 1464.31 Q799.868 1466.2 797.762 1468.8 Q797.183 1469.47 794.081 1472.69 Q790.979 1475.88 785.331 1481.64 Z\" fill=\"#000000\" fill-rule=\"nonzero\" fill-opacity=\"1\" /><path clip-path=\"url(#clip910)\" d=\"M811.512 1451.02 L829.868 1451.02 L829.868 1454.96 L815.794 1454.96 L815.794 1463.43 Q816.813 1463.08 817.831 1462.92 Q818.85 1462.73 819.868 1462.73 Q825.655 1462.73 829.035 1465.9 Q832.414 1469.08 832.414 1474.49 Q832.414 1480.07 828.942 1483.17 Q825.47 1486.25 819.151 1486.25 Q816.975 1486.25 814.706 1485.88 Q812.461 1485.51 810.053 1484.77 L810.053 1480.07 Q812.137 1481.2 814.359 1481.76 Q816.581 1482.32 819.058 1482.32 Q823.063 1482.32 825.4 1480.21 Q827.738 1478.1 827.738 1474.49 Q827.738 1470.88 825.4 1468.77 Q823.063 1466.67 819.058 1466.67 Q817.183 1466.67 815.308 1467.08 Q813.456 1467.5 811.512 1468.38 L811.512 1451.02 Z\" fill=\"#000000\" fill-rule=\"nonzero\" fill-opacity=\"1\" /><path clip-path=\"url(#clip910)\" d=\"M1248.61 1454.1 Q1245 1454.1 1243.17 1457.66 Q1241.37 1461.2 1241.37 1468.33 Q1241.37 1475.44 1243.17 1479.01 Q1245 1482.55 1248.61 1482.55 Q1252.25 1482.55 1254.05 1479.01 Q1255.88 1475.44 1255.88 1468.33 Q1255.88 1461.2 1254.05 1457.66 Q1252.25 1454.1 1248.61 1454.1 M1248.61 1450.39 Q1254.42 1450.39 1257.48 1455 Q1260.56 1459.58 1260.56 1468.33 Q1260.56 1477.06 1257.48 1481.67 Q1254.42 1486.25 1248.61 1486.25 Q1242.8 1486.25 1239.73 1481.67 Q1236.67 1477.06 1236.67 1468.33 Q1236.67 1459.58 1239.73 1455 Q1242.8 1450.39 1248.61 1450.39 Z\" fill=\"#000000\" fill-rule=\"nonzero\" fill-opacity=\"1\" /><path clip-path=\"url(#clip910)\" d=\"M1268.78 1479.7 L1273.66 1479.7 L1273.66 1485.58 L1268.78 1485.58 L1268.78 1479.7 Z\" fill=\"#000000\" fill-rule=\"nonzero\" fill-opacity=\"1\" /><path clip-path=\"url(#clip910)\" d=\"M1283.89 1451.02 L1302.25 1451.02 L1302.25 1454.96 L1288.17 1454.96 L1288.17 1463.43 Q1289.19 1463.08 1290.21 1462.92 Q1291.23 1462.73 1292.25 1462.73 Q1298.04 1462.73 1301.42 1465.9 Q1304.79 1469.08 1304.79 1474.49 Q1304.79 1480.07 1301.32 1483.17 Q1297.85 1486.25 1291.53 1486.25 Q1289.36 1486.25 1287.09 1485.88 Q1284.84 1485.51 1282.43 1484.77 L1282.43 1480.07 Q1284.52 1481.2 1286.74 1481.76 Q1288.96 1482.32 1291.44 1482.32 Q1295.44 1482.32 1297.78 1480.21 Q1300.12 1478.1 1300.12 1474.49 Q1300.12 1470.88 1297.78 1468.77 Q1295.44 1466.67 1291.44 1466.67 Q1289.56 1466.67 1287.69 1467.08 Q1285.84 1467.5 1283.89 1468.38 L1283.89 1451.02 Z\" fill=\"#000000\" fill-rule=\"nonzero\" fill-opacity=\"1\" /><path clip-path=\"url(#clip910)\" d=\"M1324.01 1454.1 Q1320.4 1454.1 1318.57 1457.66 Q1316.76 1461.2 1316.76 1468.33 Q1316.76 1475.44 1318.57 1479.01 Q1320.4 1482.55 1324.01 1482.55 Q1327.64 1482.55 1329.45 1479.01 Q1331.28 1475.44 1331.28 1468.33 Q1331.28 1461.2 1329.45 1457.66 Q1327.64 1454.1 1324.01 1454.1 M1324.01 1450.39 Q1329.82 1450.39 1332.87 1455 Q1335.95 1459.58 1335.95 1468.33 Q1335.95 1477.06 1332.87 1481.67 Q1329.82 1486.25 1324.01 1486.25 Q1318.2 1486.25 1315.12 1481.67 Q1312.06 1477.06 1312.06 1468.33 Q1312.06 1459.58 1315.12 1455 Q1318.2 1450.39 1324.01 1450.39 Z\" fill=\"#000000\" fill-rule=\"nonzero\" fill-opacity=\"1\" /><path clip-path=\"url(#clip910)\" d=\"M1752.15 1454.1 Q1748.54 1454.1 1746.71 1457.66 Q1744.91 1461.2 1744.91 1468.33 Q1744.91 1475.44 1746.71 1479.01 Q1748.54 1482.55 1752.15 1482.55 Q1755.79 1482.55 1757.59 1479.01 Q1759.42 1475.44 1759.42 1468.33 Q1759.42 1461.2 1757.59 1457.66 Q1755.79 1454.1 1752.15 1454.1 M1752.15 1450.39 Q1757.96 1450.39 1761.02 1455 Q1764.1 1459.58 1764.1 1468.33 Q1764.1 1477.06 1761.02 1481.67 Q1757.96 1486.25 1752.15 1486.25 Q1746.34 1486.25 1743.26 1481.67 Q1740.21 1477.06 1740.21 1468.33 Q1740.21 1459.58 1743.26 1455 Q1746.34 1450.39 1752.15 1450.39 Z\" fill=\"#000000\" fill-rule=\"nonzero\" fill-opacity=\"1\" /><path clip-path=\"url(#clip910)\" d=\"M1772.31 1479.7 L1777.2 1479.7 L1777.2 1485.58 L1772.31 1485.58 L1772.31 1479.7 Z\" fill=\"#000000\" fill-rule=\"nonzero\" fill-opacity=\"1\" /><path clip-path=\"url(#clip910)\" d=\"M1786.2 1451.02 L1808.43 1451.02 L1808.43 1453.01 L1795.88 1485.58 L1790.99 1485.58 L1802.8 1454.96 L1786.2 1454.96 L1786.2 1451.02 Z\" fill=\"#000000\" fill-rule=\"nonzero\" fill-opacity=\"1\" /><path clip-path=\"url(#clip910)\" d=\"M1817.59 1451.02 L1835.95 1451.02 L1835.95 1454.96 L1821.87 1454.96 L1821.87 1463.43 Q1822.89 1463.08 1823.91 1462.92 Q1824.93 1462.73 1825.95 1462.73 Q1831.74 1462.73 1835.11 1465.9 Q1838.49 1469.08 1838.49 1474.49 Q1838.49 1480.07 1835.02 1483.17 Q1831.55 1486.25 1825.23 1486.25 Q1823.05 1486.25 1820.79 1485.88 Q1818.54 1485.51 1816.13 1484.77 L1816.13 1480.07 Q1818.22 1481.2 1820.44 1481.76 Q1822.66 1482.32 1825.14 1482.32 Q1829.14 1482.32 1831.48 1480.21 Q1833.82 1478.1 1833.82 1474.49 Q1833.82 1470.88 1831.48 1468.77 Q1829.14 1466.67 1825.14 1466.67 Q1823.26 1466.67 1821.39 1467.08 Q1819.54 1467.5 1817.59 1468.38 L1817.59 1451.02 Z\" fill=\"#000000\" fill-rule=\"nonzero\" fill-opacity=\"1\" /><path clip-path=\"url(#clip910)\" d=\"M2244.46 1481.64 L2252.1 1481.64 L2252.1 1455.28 L2243.79 1456.95 L2243.79 1452.69 L2252.06 1451.02 L2256.73 1451.02 L2256.73 1481.64 L2264.37 1481.64 L2264.37 1485.58 L2244.46 1485.58 L2244.46 1481.64 Z\" fill=\"#000000\" fill-rule=\"nonzero\" fill-opacity=\"1\" /><path clip-path=\"url(#clip910)\" d=\"M2273.81 1479.7 L2278.7 1479.7 L2278.7 1485.58 L2273.81 1485.58 L2273.81 1479.7 Z\" fill=\"#000000\" fill-rule=\"nonzero\" fill-opacity=\"1\" /><path clip-path=\"url(#clip910)\" d=\"M2298.88 1454.1 Q2295.27 1454.1 2293.44 1457.66 Q2291.64 1461.2 2291.64 1468.33 Q2291.64 1475.44 2293.44 1479.01 Q2295.27 1482.55 2298.88 1482.55 Q2302.52 1482.55 2304.32 1479.01 Q2306.15 1475.44 2306.15 1468.33 Q2306.15 1461.2 2304.32 1457.66 Q2302.52 1454.1 2298.88 1454.1 M2298.88 1450.39 Q2304.69 1450.39 2307.75 1455 Q2310.83 1459.58 2310.83 1468.33 Q2310.83 1477.06 2307.75 1481.67 Q2304.69 1486.25 2298.88 1486.25 Q2293.07 1486.25 2290 1481.67 Q2286.94 1477.06 2286.94 1468.33 Q2286.94 1459.58 2290 1455 Q2293.07 1450.39 2298.88 1450.39 Z\" fill=\"#000000\" fill-rule=\"nonzero\" fill-opacity=\"1\" /><path clip-path=\"url(#clip910)\" d=\"M2329.05 1454.1 Q2325.43 1454.1 2323.61 1457.66 Q2321.8 1461.2 2321.8 1468.33 Q2321.8 1475.44 2323.61 1479.01 Q2325.43 1482.55 2329.05 1482.55 Q2332.68 1482.55 2334.49 1479.01 Q2336.31 1475.44 2336.31 1468.33 Q2336.31 1461.2 2334.49 1457.66 Q2332.68 1454.1 2329.05 1454.1 M2329.05 1450.39 Q2334.86 1450.39 2337.91 1455 Q2340.99 1459.58 2340.99 1468.33 Q2340.99 1477.06 2337.91 1481.67 Q2334.86 1486.25 2329.05 1486.25 Q2323.24 1486.25 2320.16 1481.67 Q2317.1 1477.06 2317.1 1468.33 Q2317.1 1459.58 2320.16 1455 Q2323.24 1450.39 2329.05 1450.39 Z\" fill=\"#000000\" fill-rule=\"nonzero\" fill-opacity=\"1\" /><path clip-path=\"url(#clip910)\" d=\"M1085.41 1520.52 L1091.84 1520.52 L1091.84 1562.63 L1114.98 1562.63 L1114.98 1568.04 L1085.41 1568.04 L1085.41 1520.52 Z\" fill=\"#000000\" fill-rule=\"nonzero\" fill-opacity=\"1\" /><path clip-path=\"url(#clip910)\" d=\"M1134.14 1536.5 Q1129.43 1536.5 1126.69 1540.19 Q1123.95 1543.85 1123.95 1550.25 Q1123.95 1556.65 1126.66 1560.34 Q1129.4 1564 1134.14 1564 Q1138.82 1564 1141.55 1560.31 Q1144.29 1556.62 1144.29 1550.25 Q1144.29 1543.92 1141.55 1540.23 Q1138.82 1536.5 1134.14 1536.5 M1134.14 1531.54 Q1141.78 1531.54 1146.14 1536.5 Q1150.5 1541.47 1150.5 1550.25 Q1150.5 1559 1146.14 1564 Q1141.78 1568.97 1134.14 1568.97 Q1126.47 1568.97 1122.11 1564 Q1117.78 1559 1117.78 1550.25 Q1117.78 1541.47 1122.11 1536.5 Q1126.47 1531.54 1134.14 1531.54 Z\" fill=\"#000000\" fill-rule=\"nonzero\" fill-opacity=\"1\" /><path clip-path=\"url(#clip910)\" d=\"M1174.02 1536.5 Q1169.31 1536.5 1166.57 1540.19 Q1163.83 1543.85 1163.83 1550.25 Q1163.83 1556.65 1166.54 1560.34 Q1169.28 1564 1174.02 1564 Q1178.7 1564 1181.44 1560.31 Q1184.17 1556.62 1184.17 1550.25 Q1184.17 1543.92 1181.44 1540.23 Q1178.7 1536.5 1174.02 1536.5 M1174.02 1531.54 Q1181.66 1531.54 1186.02 1536.5 Q1190.38 1541.47 1190.38 1550.25 Q1190.38 1559 1186.02 1564 Q1181.66 1568.97 1174.02 1568.97 Q1166.35 1568.97 1161.99 1564 Q1157.66 1559 1157.66 1550.25 Q1157.66 1541.47 1161.99 1536.5 Q1166.35 1531.54 1174.02 1531.54 Z\" fill=\"#000000\" fill-rule=\"nonzero\" fill-opacity=\"1\" /><path clip-path=\"url(#clip910)\" d=\"M1205.75 1562.7 L1205.75 1581.6 L1199.86 1581.6 L1199.86 1532.4 L1205.75 1532.4 L1205.75 1537.81 Q1207.6 1534.62 1210.4 1533.1 Q1213.23 1531.54 1217.15 1531.54 Q1223.64 1531.54 1227.68 1536.69 Q1231.76 1541.85 1231.76 1550.25 Q1231.76 1558.65 1227.68 1563.81 Q1223.64 1568.97 1217.15 1568.97 Q1213.23 1568.97 1210.4 1567.44 Q1207.6 1565.88 1205.75 1562.7 M1225.68 1550.25 Q1225.68 1543.79 1223 1540.13 Q1220.36 1536.44 1215.72 1536.44 Q1211.07 1536.44 1208.39 1540.13 Q1205.75 1543.79 1205.75 1550.25 Q1205.75 1556.71 1208.39 1560.4 Q1211.07 1564.07 1215.72 1564.07 Q1220.36 1564.07 1223 1560.4 Q1225.68 1556.71 1225.68 1550.25 Z\" fill=\"#000000\" fill-rule=\"nonzero\" fill-opacity=\"1\" /><path clip-path=\"url(#clip910)\" d=\"M1268.55 1578.87 L1268.55 1583.42 L1234.69 1583.42 L1234.69 1578.87 L1268.55 1578.87 Z\" fill=\"#000000\" fill-rule=\"nonzero\" fill-opacity=\"1\" /><path clip-path=\"url(#clip910)\" d=\"M1274.31 1520.52 L1280.74 1520.52 L1280.74 1562.63 L1303.88 1562.63 L1303.88 1568.04 L1274.31 1568.04 L1274.31 1520.52 Z\" fill=\"#000000\" fill-rule=\"nonzero\" fill-opacity=\"1\" /><path clip-path=\"url(#clip910)\" d=\"M1339.72 1548.76 L1339.72 1551.62 L1312.79 1551.62 Q1313.17 1557.67 1316.42 1560.85 Q1319.7 1564 1325.52 1564 Q1328.9 1564 1332.05 1563.17 Q1335.23 1562.35 1338.35 1560.69 L1338.35 1566.23 Q1335.2 1567.57 1331.89 1568.27 Q1328.58 1568.97 1325.17 1568.97 Q1316.64 1568.97 1311.65 1564 Q1306.68 1559.04 1306.68 1550.57 Q1306.68 1541.82 1311.39 1536.69 Q1316.13 1531.54 1324.16 1531.54 Q1331.35 1531.54 1335.52 1536.18 Q1339.72 1540.8 1339.72 1548.76 M1333.86 1547.04 Q1333.8 1542.23 1331.16 1539.37 Q1328.55 1536.5 1324.22 1536.5 Q1319.32 1536.5 1316.36 1539.27 Q1313.43 1542.04 1312.98 1547.07 L1333.86 1547.04 Z\" fill=\"#000000\" fill-rule=\"nonzero\" fill-opacity=\"1\" /><path clip-path=\"url(#clip910)\" d=\"M1378.96 1546.53 L1378.96 1568.04 L1373.11 1568.04 L1373.11 1546.72 Q1373.11 1541.66 1371.13 1539.14 Q1369.16 1536.63 1365.21 1536.63 Q1360.47 1536.63 1357.73 1539.65 Q1355 1542.68 1355 1547.9 L1355 1568.04 L1349.11 1568.04 L1349.11 1532.4 L1355 1532.4 L1355 1537.93 Q1357.1 1534.72 1359.93 1533.13 Q1362.8 1531.54 1366.52 1531.54 Q1372.66 1531.54 1375.81 1535.36 Q1378.96 1539.14 1378.96 1546.53 Z\" fill=\"#000000\" fill-rule=\"nonzero\" fill-opacity=\"1\" /><path clip-path=\"url(#clip910)\" d=\"M1414.1 1549.81 Q1414.1 1543.44 1411.46 1539.94 Q1408.85 1536.44 1404.11 1536.44 Q1399.4 1536.44 1396.76 1539.94 Q1394.15 1543.44 1394.15 1549.81 Q1394.15 1556.14 1396.76 1559.64 Q1399.4 1563.14 1404.11 1563.14 Q1408.85 1563.14 1411.46 1559.64 Q1414.1 1556.14 1414.1 1549.81 M1419.96 1563.62 Q1419.96 1572.72 1415.92 1577.15 Q1411.87 1581.6 1403.54 1581.6 Q1400.45 1581.6 1397.71 1581.13 Q1394.97 1580.68 1392.4 1579.72 L1392.4 1574.03 Q1394.97 1575.43 1397.49 1576.1 Q1400 1576.76 1402.61 1576.76 Q1408.37 1576.76 1411.24 1573.74 Q1414.1 1570.75 1414.1 1564.67 L1414.1 1561.77 Q1412.29 1564.92 1409.46 1566.48 Q1406.62 1568.04 1402.68 1568.04 Q1396.12 1568.04 1392.11 1563.05 Q1388.1 1558.05 1388.1 1549.81 Q1388.1 1541.53 1392.11 1536.53 Q1396.12 1531.54 1402.68 1531.54 Q1406.62 1531.54 1409.46 1533.1 Q1412.29 1534.66 1414.1 1537.81 L1414.1 1532.4 L1419.96 1532.4 L1419.96 1563.62 Z\" fill=\"#000000\" fill-rule=\"nonzero\" fill-opacity=\"1\" /><path clip-path=\"url(#clip910)\" d=\"M1437.81 1522.27 L1437.81 1532.4 L1449.88 1532.4 L1449.88 1536.95 L1437.81 1536.95 L1437.81 1556.3 Q1437.81 1560.66 1438.99 1561.9 Q1440.2 1563.14 1443.86 1563.14 L1449.88 1563.14 L1449.88 1568.04 L1443.86 1568.04 Q1437.08 1568.04 1434.5 1565.53 Q1431.93 1562.98 1431.93 1556.3 L1431.93 1536.95 L1427.63 1536.95 L1427.63 1532.4 L1431.93 1532.4 L1431.93 1522.27 L1437.81 1522.27 Z\" fill=\"#000000\" fill-rule=\"nonzero\" fill-opacity=\"1\" /><path clip-path=\"url(#clip910)\" d=\"M1487.21 1546.53 L1487.21 1568.04 L1481.36 1568.04 L1481.36 1546.72 Q1481.36 1541.66 1479.38 1539.14 Q1477.41 1536.63 1473.46 1536.63 Q1468.72 1536.63 1465.98 1539.65 Q1463.25 1542.68 1463.25 1547.9 L1463.25 1568.04 L1457.36 1568.04 L1457.36 1518.52 L1463.25 1518.52 L1463.25 1537.93 Q1465.35 1534.72 1468.18 1533.13 Q1471.04 1531.54 1474.77 1531.54 Q1480.91 1531.54 1484.06 1535.36 Q1487.21 1539.14 1487.21 1546.53 Z\" fill=\"#000000\" fill-rule=\"nonzero\" fill-opacity=\"1\" /><polyline clip-path=\"url(#clip912)\" style=\"stroke:#000000; stroke-linecap:round; stroke-linejoin:round; stroke-width:2; stroke-opacity:0.1; fill:none\" points=\"219.866,1423.18 2352.76,1423.18 \"/>\n",
       "<polyline clip-path=\"url(#clip912)\" style=\"stroke:#000000; stroke-linecap:round; stroke-linejoin:round; stroke-width:2; stroke-opacity:0.1; fill:none\" points=\"219.866,1147.99 2352.76,1147.99 \"/>\n",
       "<polyline clip-path=\"url(#clip912)\" style=\"stroke:#000000; stroke-linecap:round; stroke-linejoin:round; stroke-width:2; stroke-opacity:0.1; fill:none\" points=\"219.866,872.806 2352.76,872.806 \"/>\n",
       "<polyline clip-path=\"url(#clip912)\" style=\"stroke:#000000; stroke-linecap:round; stroke-linejoin:round; stroke-width:2; stroke-opacity:0.1; fill:none\" points=\"219.866,597.618 2352.76,597.618 \"/>\n",
       "<polyline clip-path=\"url(#clip912)\" style=\"stroke:#000000; stroke-linecap:round; stroke-linejoin:round; stroke-width:2; stroke-opacity:0.1; fill:none\" points=\"219.866,322.431 2352.76,322.431 \"/>\n",
       "<polyline clip-path=\"url(#clip912)\" style=\"stroke:#000000; stroke-linecap:round; stroke-linejoin:round; stroke-width:2; stroke-opacity:0.1; fill:none\" points=\"219.866,47.2441 2352.76,47.2441 \"/>\n",
       "<polyline clip-path=\"url(#clip910)\" style=\"stroke:#000000; stroke-linecap:round; stroke-linejoin:round; stroke-width:4; stroke-opacity:1; fill:none\" points=\"219.866,1423.18 219.866,47.2441 \"/>\n",
       "<polyline clip-path=\"url(#clip910)\" style=\"stroke:#000000; stroke-linecap:round; stroke-linejoin:round; stroke-width:4; stroke-opacity:1; fill:none\" points=\"219.866,1423.18 238.764,1423.18 \"/>\n",
       "<polyline clip-path=\"url(#clip910)\" style=\"stroke:#000000; stroke-linecap:round; stroke-linejoin:round; stroke-width:4; stroke-opacity:1; fill:none\" points=\"219.866,1147.99 238.764,1147.99 \"/>\n",
       "<polyline clip-path=\"url(#clip910)\" style=\"stroke:#000000; stroke-linecap:round; stroke-linejoin:round; stroke-width:4; stroke-opacity:1; fill:none\" points=\"219.866,872.806 238.764,872.806 \"/>\n",
       "<polyline clip-path=\"url(#clip910)\" style=\"stroke:#000000; stroke-linecap:round; stroke-linejoin:round; stroke-width:4; stroke-opacity:1; fill:none\" points=\"219.866,597.618 238.764,597.618 \"/>\n",
       "<polyline clip-path=\"url(#clip910)\" style=\"stroke:#000000; stroke-linecap:round; stroke-linejoin:round; stroke-width:4; stroke-opacity:1; fill:none\" points=\"219.866,322.431 238.764,322.431 \"/>\n",
       "<polyline clip-path=\"url(#clip910)\" style=\"stroke:#000000; stroke-linecap:round; stroke-linejoin:round; stroke-width:4; stroke-opacity:1; fill:none\" points=\"219.866,47.2441 238.764,47.2441 \"/>\n",
       "<path clip-path=\"url(#clip910)\" d=\"M126.691 1408.98 Q123.08 1408.98 121.251 1412.54 Q119.445 1416.08 119.445 1423.21 Q119.445 1430.32 121.251 1433.89 Q123.08 1437.43 126.691 1437.43 Q130.325 1437.43 132.13 1433.89 Q133.959 1430.32 133.959 1423.21 Q133.959 1416.08 132.13 1412.54 Q130.325 1408.98 126.691 1408.98 M126.691 1405.27 Q132.501 1405.27 135.556 1409.88 Q138.635 1414.46 138.635 1423.21 Q138.635 1431.94 135.556 1436.55 Q132.501 1441.13 126.691 1441.13 Q120.88 1441.13 117.802 1436.55 Q114.746 1431.94 114.746 1423.21 Q114.746 1414.46 117.802 1409.88 Q120.88 1405.27 126.691 1405.27 Z\" fill=\"#000000\" fill-rule=\"nonzero\" fill-opacity=\"1\" /><path clip-path=\"url(#clip910)\" d=\"M146.853 1434.58 L151.737 1434.58 L151.737 1440.46 L146.853 1440.46 L146.853 1434.58 Z\" fill=\"#000000\" fill-rule=\"nonzero\" fill-opacity=\"1\" /><path clip-path=\"url(#clip910)\" d=\"M171.922 1408.98 Q168.311 1408.98 166.482 1412.54 Q164.677 1416.08 164.677 1423.21 Q164.677 1430.32 166.482 1433.89 Q168.311 1437.43 171.922 1437.43 Q175.556 1437.43 177.362 1433.89 Q179.19 1430.32 179.19 1423.21 Q179.19 1416.08 177.362 1412.54 Q175.556 1408.98 171.922 1408.98 M171.922 1405.27 Q177.732 1405.27 180.788 1409.88 Q183.866 1414.46 183.866 1423.21 Q183.866 1431.94 180.788 1436.55 Q177.732 1441.13 171.922 1441.13 Q166.112 1441.13 163.033 1436.55 Q159.978 1431.94 159.978 1423.21 Q159.978 1414.46 163.033 1409.88 Q166.112 1405.27 171.922 1405.27 Z\" fill=\"#000000\" fill-rule=\"nonzero\" fill-opacity=\"1\" /><path clip-path=\"url(#clip910)\" d=\"M128.288 1133.79 Q124.677 1133.79 122.848 1137.36 Q121.043 1140.9 121.043 1148.03 Q121.043 1155.13 122.848 1158.7 Q124.677 1162.24 128.288 1162.24 Q131.922 1162.24 133.728 1158.7 Q135.556 1155.13 135.556 1148.03 Q135.556 1140.9 133.728 1137.36 Q131.922 1133.79 128.288 1133.79 M128.288 1130.09 Q134.098 1130.09 137.154 1134.69 Q140.232 1139.28 140.232 1148.03 Q140.232 1156.75 137.154 1161.36 Q134.098 1165.94 128.288 1165.94 Q122.478 1165.94 119.399 1161.36 Q116.343 1156.75 116.343 1148.03 Q116.343 1139.28 119.399 1134.69 Q122.478 1130.09 128.288 1130.09 Z\" fill=\"#000000\" fill-rule=\"nonzero\" fill-opacity=\"1\" /><path clip-path=\"url(#clip910)\" d=\"M148.45 1159.39 L153.334 1159.39 L153.334 1165.27 L148.45 1165.27 L148.45 1159.39 Z\" fill=\"#000000\" fill-rule=\"nonzero\" fill-opacity=\"1\" /><path clip-path=\"url(#clip910)\" d=\"M167.547 1161.34 L183.866 1161.34 L183.866 1165.27 L161.922 1165.27 L161.922 1161.34 Q164.584 1158.58 169.167 1153.95 Q173.774 1149.3 174.954 1147.96 Q177.2 1145.43 178.079 1143.7 Q178.982 1141.94 178.982 1140.25 Q178.982 1137.5 177.038 1135.76 Q175.116 1134.02 172.014 1134.02 Q169.815 1134.02 167.362 1134.79 Q164.931 1135.55 162.153 1137.1 L162.153 1132.38 Q164.977 1131.25 167.431 1130.67 Q169.885 1130.09 171.922 1130.09 Q177.292 1130.09 180.487 1132.77 Q183.681 1135.46 183.681 1139.95 Q183.681 1142.08 182.871 1144 Q182.084 1145.9 179.977 1148.49 Q179.399 1149.16 176.297 1152.38 Q173.195 1155.57 167.547 1161.34 Z\" fill=\"#000000\" fill-rule=\"nonzero\" fill-opacity=\"1\" /><path clip-path=\"url(#clip910)\" d=\"M126.205 858.604 Q122.593 858.604 120.765 862.169 Q118.959 865.711 118.959 872.84 Q118.959 879.947 120.765 883.512 Q122.593 887.053 126.205 887.053 Q129.839 887.053 131.644 883.512 Q133.473 879.947 133.473 872.84 Q133.473 865.711 131.644 862.169 Q129.839 858.604 126.205 858.604 M126.205 854.901 Q132.015 854.901 135.07 859.507 Q138.149 864.09 138.149 872.84 Q138.149 881.567 135.07 886.174 Q132.015 890.757 126.205 890.757 Q120.394 890.757 117.316 886.174 Q114.26 881.567 114.26 872.84 Q114.26 864.09 117.316 859.507 Q120.394 854.901 126.205 854.901 Z\" fill=\"#000000\" fill-rule=\"nonzero\" fill-opacity=\"1\" /><path clip-path=\"url(#clip910)\" d=\"M146.366 884.206 L151.251 884.206 L151.251 890.086 L146.366 890.086 L146.366 884.206 Z\" fill=\"#000000\" fill-rule=\"nonzero\" fill-opacity=\"1\" /><path clip-path=\"url(#clip910)\" d=\"M174.283 859.6 L162.477 878.049 L174.283 878.049 L174.283 859.6 M173.056 855.526 L178.936 855.526 L178.936 878.049 L183.866 878.049 L183.866 881.937 L178.936 881.937 L178.936 890.086 L174.283 890.086 L174.283 881.937 L158.681 881.937 L158.681 877.424 L173.056 855.526 Z\" fill=\"#000000\" fill-rule=\"nonzero\" fill-opacity=\"1\" /><path clip-path=\"url(#clip910)\" d=\"M126.529 583.417 Q122.918 583.417 121.089 586.982 Q119.283 590.524 119.283 597.653 Q119.283 604.76 121.089 608.324 Q122.918 611.866 126.529 611.866 Q130.163 611.866 131.968 608.324 Q133.797 604.76 133.797 597.653 Q133.797 590.524 131.968 586.982 Q130.163 583.417 126.529 583.417 M126.529 579.713 Q132.339 579.713 135.394 584.32 Q138.473 588.903 138.473 597.653 Q138.473 606.38 135.394 610.986 Q132.339 615.57 126.529 615.57 Q120.718 615.57 117.64 610.986 Q114.584 606.38 114.584 597.653 Q114.584 588.903 117.64 584.32 Q120.718 579.713 126.529 579.713 Z\" fill=\"#000000\" fill-rule=\"nonzero\" fill-opacity=\"1\" /><path clip-path=\"url(#clip910)\" d=\"M146.691 609.019 L151.575 609.019 L151.575 614.898 L146.691 614.898 L146.691 609.019 Z\" fill=\"#000000\" fill-rule=\"nonzero\" fill-opacity=\"1\" /><path clip-path=\"url(#clip910)\" d=\"M172.339 595.755 Q169.19 595.755 167.339 597.908 Q165.51 600.061 165.51 603.81 Q165.51 607.537 167.339 609.713 Q169.19 611.866 172.339 611.866 Q175.487 611.866 177.315 609.713 Q179.167 607.537 179.167 603.81 Q179.167 600.061 177.315 597.908 Q175.487 595.755 172.339 595.755 M181.621 581.102 L181.621 585.362 Q179.862 584.528 178.056 584.088 Q176.274 583.649 174.514 583.649 Q169.885 583.649 167.431 586.774 Q165.001 589.899 164.653 596.218 Q166.019 594.204 168.079 593.139 Q170.139 592.051 172.616 592.051 Q177.825 592.051 180.834 595.223 Q183.866 598.371 183.866 603.81 Q183.866 609.135 180.718 612.352 Q177.57 615.57 172.339 615.57 Q166.343 615.57 163.172 610.986 Q160.001 606.38 160.001 597.653 Q160.001 589.459 163.89 584.598 Q167.778 579.713 174.329 579.713 Q176.089 579.713 177.871 580.061 Q179.676 580.408 181.621 581.102 Z\" fill=\"#000000\" fill-rule=\"nonzero\" fill-opacity=\"1\" /><path clip-path=\"url(#clip910)\" d=\"M126.783 308.23 Q123.172 308.23 121.343 311.795 Q119.538 315.336 119.538 322.466 Q119.538 329.572 121.343 333.137 Q123.172 336.679 126.783 336.679 Q130.417 336.679 132.223 333.137 Q134.052 329.572 134.052 322.466 Q134.052 315.336 132.223 311.795 Q130.417 308.23 126.783 308.23 M126.783 304.526 Q132.593 304.526 135.649 309.133 Q138.728 313.716 138.728 322.466 Q138.728 331.193 135.649 335.799 Q132.593 340.383 126.783 340.383 Q120.973 340.383 117.894 335.799 Q114.839 331.193 114.839 322.466 Q114.839 313.716 117.894 309.133 Q120.973 304.526 126.783 304.526 Z\" fill=\"#000000\" fill-rule=\"nonzero\" fill-opacity=\"1\" /><path clip-path=\"url(#clip910)\" d=\"M146.945 333.832 L151.829 333.832 L151.829 339.711 L146.945 339.711 L146.945 333.832 Z\" fill=\"#000000\" fill-rule=\"nonzero\" fill-opacity=\"1\" /><path clip-path=\"url(#clip910)\" d=\"M172.014 323.299 Q168.681 323.299 166.76 325.082 Q164.862 326.864 164.862 329.989 Q164.862 333.114 166.76 334.896 Q168.681 336.679 172.014 336.679 Q175.348 336.679 177.269 334.896 Q179.19 333.091 179.19 329.989 Q179.19 326.864 177.269 325.082 Q175.371 323.299 172.014 323.299 M167.339 321.309 Q164.329 320.568 162.64 318.508 Q160.973 316.447 160.973 313.485 Q160.973 309.341 163.913 306.934 Q166.876 304.526 172.014 304.526 Q177.176 304.526 180.116 306.934 Q183.056 309.341 183.056 313.485 Q183.056 316.447 181.366 318.508 Q179.7 320.568 176.714 321.309 Q180.093 322.096 181.968 324.387 Q183.866 326.679 183.866 329.989 Q183.866 335.012 180.788 337.697 Q177.732 340.383 172.014 340.383 Q166.297 340.383 163.218 337.697 Q160.163 335.012 160.163 329.989 Q160.163 326.679 162.061 324.387 Q163.959 322.096 167.339 321.309 M165.626 313.924 Q165.626 316.61 167.292 318.114 Q168.982 319.619 172.014 319.619 Q175.024 319.619 176.714 318.114 Q178.426 316.61 178.426 313.924 Q178.426 311.239 176.714 309.735 Q175.024 308.23 172.014 308.23 Q168.982 308.23 167.292 309.735 Q165.626 311.239 165.626 313.924 Z\" fill=\"#000000\" fill-rule=\"nonzero\" fill-opacity=\"1\" /><path clip-path=\"url(#clip910)\" d=\"M117.501 60.5889 L125.14 60.5889 L125.14 34.2233 L116.83 35.89 L116.83 31.6308 L125.093 29.9641 L129.769 29.9641 L129.769 60.5889 L137.408 60.5889 L137.408 64.5241 L117.501 64.5241 L117.501 60.5889 Z\" fill=\"#000000\" fill-rule=\"nonzero\" fill-opacity=\"1\" /><path clip-path=\"url(#clip910)\" d=\"M146.853 58.6445 L151.737 58.6445 L151.737 64.5241 L146.853 64.5241 L146.853 58.6445 Z\" fill=\"#000000\" fill-rule=\"nonzero\" fill-opacity=\"1\" /><path clip-path=\"url(#clip910)\" d=\"M171.922 33.0428 Q168.311 33.0428 166.482 36.6076 Q164.677 40.1492 164.677 47.2788 Q164.677 54.3853 166.482 57.9501 Q168.311 61.4917 171.922 61.4917 Q175.556 61.4917 177.362 57.9501 Q179.19 54.3853 179.19 47.2788 Q179.19 40.1492 177.362 36.6076 Q175.556 33.0428 171.922 33.0428 M171.922 29.3391 Q177.732 29.3391 180.788 33.9456 Q183.866 38.5289 183.866 47.2788 Q183.866 56.0056 180.788 60.6121 Q177.732 65.1954 171.922 65.1954 Q166.112 65.1954 163.033 60.6121 Q159.978 56.0056 159.978 47.2788 Q159.978 38.5289 163.033 33.9456 Q166.112 29.3391 171.922 29.3391 Z\" fill=\"#000000\" fill-rule=\"nonzero\" fill-opacity=\"1\" /><path clip-path=\"url(#clip910)\" d=\"M18.0438 871.374 L24.314 871.374 Q22.5634 875.035 21.704 878.281 Q20.8447 881.528 20.8447 884.551 Q20.8447 889.803 22.8817 892.668 Q24.9187 895.5 28.6745 895.5 Q31.8255 895.5 33.4488 893.623 Q35.0402 891.713 36.0269 886.429 L36.8226 882.546 Q38.1912 875.353 41.6605 871.947 Q45.098 868.51 50.8908 868.51 Q57.7976 868.51 61.3624 873.157 Q64.9272 877.772 64.9272 886.716 Q64.9272 890.09 64.1633 893.909 Q63.3994 897.697 61.9035 901.771 L55.2831 901.771 Q57.4793 897.856 58.5933 894.1 Q59.7073 890.344 59.7073 886.716 Q59.7073 881.209 57.543 878.218 Q55.3786 875.226 51.3682 875.226 Q47.8671 875.226 45.8937 877.39 Q43.9204 879.523 42.9337 884.424 L42.1698 888.339 Q40.7375 895.532 37.682 898.747 Q34.6264 901.962 29.1837 901.962 Q22.8817 901.962 19.2532 897.537 Q15.6248 893.081 15.6248 885.284 Q15.6248 881.942 16.2295 878.472 Q16.8343 875.003 18.0438 871.374 Z\" fill=\"#000000\" fill-rule=\"nonzero\" fill-opacity=\"1\" /><path clip-path=\"url(#clip910)\" d=\"M44.7161 828.247 L47.5806 828.247 L47.5806 855.174 Q53.6281 854.792 56.8109 851.545 Q59.9619 848.267 59.9619 842.442 Q59.9619 839.068 59.1344 835.917 Q58.3069 832.735 56.6518 829.615 L62.1899 829.615 Q63.5267 832.766 64.227 836.077 Q64.9272 839.387 64.9272 842.792 Q64.9272 851.322 59.9619 856.32 Q54.9967 861.285 46.5303 861.285 Q37.7774 861.285 32.6531 856.574 Q27.4968 851.832 27.4968 843.811 Q27.4968 836.618 32.1438 832.448 Q36.7589 828.247 44.7161 828.247 M42.9973 834.103 Q38.1912 834.167 35.3266 836.809 Q32.4621 839.419 32.4621 843.747 Q32.4621 848.649 35.2312 851.609 Q38.0002 854.537 43.0292 854.983 L42.9973 834.103 Z\" fill=\"#000000\" fill-rule=\"nonzero\" fill-opacity=\"1\" /><path clip-path=\"url(#clip910)\" d=\"M46.212 815.133 Q52.6732 815.133 56.3653 812.492 Q60.0256 809.818 60.0256 805.171 Q60.0256 800.524 56.3653 797.851 Q52.6732 795.177 46.212 795.177 Q39.7508 795.177 36.0905 797.851 Q32.3984 800.524 32.3984 805.171 Q32.3984 809.818 36.0905 812.492 Q39.7508 815.133 46.212 815.133 M58.657 795.177 Q61.8398 797.023 63.3994 799.856 Q64.9272 802.657 64.9272 806.603 Q64.9272 813.065 59.771 817.139 Q54.6147 821.181 46.212 821.181 Q37.8093 821.181 32.6531 817.139 Q27.4968 813.065 27.4968 806.603 Q27.4968 802.657 29.0564 799.856 Q30.5842 797.023 33.7671 795.177 L28.3562 795.177 L28.3562 789.32 L77.5631 789.32 L77.5631 795.177 L58.657 795.177 Z\" fill=\"#000000\" fill-rule=\"nonzero\" fill-opacity=\"1\" /><path clip-path=\"url(#clip910)\" d=\"M74.8259 750.171 L79.3773 750.171 L79.3773 784.037 L74.8259 784.037 L74.8259 750.171 Z\" fill=\"#000000\" fill-rule=\"nonzero\" fill-opacity=\"1\" /><path clip-path=\"url(#clip910)\" d=\"M29.7248 719.011 L35.1993 719.011 Q33.8307 721.494 33.1623 724.008 Q32.4621 726.491 32.4621 729.037 Q32.4621 734.735 36.0905 737.886 Q39.6872 741.037 46.212 741.037 Q52.7369 741.037 56.3653 737.886 Q59.9619 734.735 59.9619 729.037 Q59.9619 726.491 59.2935 724.008 Q58.5933 721.494 57.2247 719.011 L62.6355 719.011 Q63.7814 721.462 64.3543 724.104 Q64.9272 726.714 64.9272 729.674 Q64.9272 737.726 59.8664 742.469 Q54.8057 747.211 46.212 747.211 Q37.491 747.211 32.4939 742.437 Q27.4968 737.631 27.4968 729.292 Q27.4968 726.586 28.0697 724.008 Q28.6108 721.43 29.7248 719.011 Z\" fill=\"#000000\" fill-rule=\"nonzero\" fill-opacity=\"1\" /><path clip-path=\"url(#clip910)\" d=\"M32.4621 695.013 Q32.4621 699.723 36.1542 702.46 Q39.8145 705.198 46.212 705.198 Q52.6095 705.198 56.3017 702.492 Q59.9619 699.755 59.9619 695.013 Q59.9619 690.334 56.2698 687.596 Q52.5777 684.859 46.212 684.859 Q39.8781 684.859 36.186 687.596 Q32.4621 690.334 32.4621 695.013 M27.4968 695.013 Q27.4968 687.374 32.4621 683.013 Q37.4273 678.653 46.212 678.653 Q54.9649 678.653 59.9619 683.013 Q64.9272 687.374 64.9272 695.013 Q64.9272 702.683 59.9619 707.044 Q54.9649 711.372 46.212 711.372 Q37.4273 711.372 32.4621 707.044 Q27.4968 702.683 27.4968 695.013 Z\" fill=\"#000000\" fill-rule=\"nonzero\" fill-opacity=\"1\" /><path clip-path=\"url(#clip910)\" d=\"M49.9359 669.55 L28.3562 669.55 L28.3562 663.693 L49.7131 663.693 Q54.7739 663.693 57.3202 661.72 Q59.8346 659.747 59.8346 655.8 Q59.8346 651.057 56.8109 648.32 Q53.7872 645.551 48.5673 645.551 L28.3562 645.551 L28.3562 639.695 L64.0042 639.695 L64.0042 645.551 L58.5296 645.551 Q61.7762 647.684 63.3676 650.516 Q64.9272 653.317 64.9272 657.041 Q64.9272 663.184 61.1078 666.367 Q57.2883 669.55 49.9359 669.55 M27.4968 654.813 L27.4968 654.813 Z\" fill=\"#000000\" fill-rule=\"nonzero\" fill-opacity=\"1\" /><path clip-path=\"url(#clip910)\" d=\"M42.4881 597.999 L64.0042 597.999 L64.0042 603.856 L42.679 603.856 Q37.6183 603.856 35.1038 605.829 Q32.5894 607.802 32.5894 611.749 Q32.5894 616.492 35.6131 619.229 Q38.6368 621.966 43.8567 621.966 L64.0042 621.966 L64.0042 627.854 L28.3562 627.854 L28.3562 621.966 L33.8944 621.966 Q30.6797 619.865 29.0883 617.033 Q27.4968 614.168 27.4968 610.444 Q27.4968 604.301 31.3163 601.15 Q35.1038 597.999 42.4881 597.999 Z\" fill=\"#000000\" fill-rule=\"nonzero\" fill-opacity=\"1\" /><path clip-path=\"url(#clip910)\" d=\"M18.2347 580.525 L28.3562 580.525 L28.3562 568.462 L32.9077 568.462 L32.9077 580.525 L52.2594 580.525 Q56.6199 580.525 57.8613 579.348 Q59.1026 578.138 59.1026 574.478 L59.1026 568.462 L64.0042 568.462 L64.0042 574.478 Q64.0042 581.257 61.4897 583.835 Q58.9434 586.414 52.2594 586.414 L32.9077 586.414 L32.9077 590.71 L28.3562 590.71 L28.3562 586.414 L18.2347 586.414 L18.2347 580.525 Z\" fill=\"#000000\" fill-rule=\"nonzero\" fill-opacity=\"1\" /></svg>\n"
      ],
      "text/html": [
       "<?xml version=\"1.0\" encoding=\"utf-8\"?>\n",
       "<svg xmlns=\"http://www.w3.org/2000/svg\" xmlns:xlink=\"http://www.w3.org/1999/xlink\" width=\"600\" height=\"400\" viewBox=\"0 0 2400 1600\">\n",
       "<defs>\n",
       "  <clipPath id=\"clip960\">\n",
       "    <rect x=\"0\" y=\"0\" width=\"2400\" height=\"1600\"/>\n",
       "  </clipPath>\n",
       "</defs>\n",
       "<path clip-path=\"url(#clip960)\" d=\"M0 1600 L2400 1600 L2400 0 L0 0  Z\" fill=\"#ffffff\" fill-rule=\"evenodd\" fill-opacity=\"1\"/>\n",
       "<defs>\n",
       "  <clipPath id=\"clip961\">\n",
       "    <rect x=\"480\" y=\"0\" width=\"1681\" height=\"1600\"/>\n",
       "  </clipPath>\n",
       "</defs>\n",
       "<path clip-path=\"url(#clip960)\" d=\"M219.866 1423.18 L2352.76 1423.18 L2352.76 47.2441 L219.866 47.2441  Z\" fill=\"#ffffff\" fill-rule=\"evenodd\" fill-opacity=\"1\"/>\n",
       "<defs>\n",
       "  <clipPath id=\"clip962\">\n",
       "    <rect x=\"219\" y=\"47\" width=\"2134\" height=\"1377\"/>\n",
       "  </clipPath>\n",
       "</defs>\n",
       "<polyline clip-path=\"url(#clip962)\" style=\"stroke:#000000; stroke-linecap:round; stroke-linejoin:round; stroke-width:2; stroke-opacity:0.1; fill:none\" points=\"280.231,1423.18 280.231,47.2441 \"/>\n",
       "<polyline clip-path=\"url(#clip962)\" style=\"stroke:#000000; stroke-linecap:round; stroke-linejoin:round; stroke-width:2; stroke-opacity:0.1; fill:none\" points=\"783.271,1423.18 783.271,47.2441 \"/>\n",
       "<polyline clip-path=\"url(#clip962)\" style=\"stroke:#000000; stroke-linecap:round; stroke-linejoin:round; stroke-width:2; stroke-opacity:0.1; fill:none\" points=\"1286.31,1423.18 1286.31,47.2441 \"/>\n",
       "<polyline clip-path=\"url(#clip962)\" style=\"stroke:#000000; stroke-linecap:round; stroke-linejoin:round; stroke-width:2; stroke-opacity:0.1; fill:none\" points=\"1789.35,1423.18 1789.35,47.2441 \"/>\n",
       "<polyline clip-path=\"url(#clip962)\" style=\"stroke:#000000; stroke-linecap:round; stroke-linejoin:round; stroke-width:2; stroke-opacity:0.1; fill:none\" points=\"2292.39,1423.18 2292.39,47.2441 \"/>\n",
       "<polyline clip-path=\"url(#clip960)\" style=\"stroke:#000000; stroke-linecap:round; stroke-linejoin:round; stroke-width:4; stroke-opacity:1; fill:none\" points=\"219.866,1423.18 2352.76,1423.18 \"/>\n",
       "<polyline clip-path=\"url(#clip960)\" style=\"stroke:#000000; stroke-linecap:round; stroke-linejoin:round; stroke-width:4; stroke-opacity:1; fill:none\" points=\"280.231,1423.18 280.231,1404.28 \"/>\n",
       "<polyline clip-path=\"url(#clip960)\" style=\"stroke:#000000; stroke-linecap:round; stroke-linejoin:round; stroke-width:4; stroke-opacity:1; fill:none\" points=\"783.271,1423.18 783.271,1404.28 \"/>\n",
       "<polyline clip-path=\"url(#clip960)\" style=\"stroke:#000000; stroke-linecap:round; stroke-linejoin:round; stroke-width:4; stroke-opacity:1; fill:none\" points=\"1286.31,1423.18 1286.31,1404.28 \"/>\n",
       "<polyline clip-path=\"url(#clip960)\" style=\"stroke:#000000; stroke-linecap:round; stroke-linejoin:round; stroke-width:4; stroke-opacity:1; fill:none\" points=\"1789.35,1423.18 1789.35,1404.28 \"/>\n",
       "<polyline clip-path=\"url(#clip960)\" style=\"stroke:#000000; stroke-linecap:round; stroke-linejoin:round; stroke-width:4; stroke-opacity:1; fill:none\" points=\"2292.39,1423.18 2292.39,1404.28 \"/>\n",
       "<path clip-path=\"url(#clip960)\" d=\"M242.535 1454.1 Q238.923 1454.1 237.095 1457.66 Q235.289 1461.2 235.289 1468.33 Q235.289 1475.44 237.095 1479.01 Q238.923 1482.55 242.535 1482.55 Q246.169 1482.55 247.974 1479.01 Q249.803 1475.44 249.803 1468.33 Q249.803 1461.2 247.974 1457.66 Q246.169 1454.1 242.535 1454.1 M242.535 1450.39 Q248.345 1450.39 251.4 1455 Q254.479 1459.58 254.479 1468.33 Q254.479 1477.06 251.4 1481.67 Q248.345 1486.25 242.535 1486.25 Q236.724 1486.25 233.646 1481.67 Q230.59 1477.06 230.59 1468.33 Q230.59 1459.58 233.646 1455 Q236.724 1450.39 242.535 1450.39 Z\" fill=\"#000000\" fill-rule=\"nonzero\" fill-opacity=\"1\" /><path clip-path=\"url(#clip960)\" d=\"M262.696 1479.7 L267.581 1479.7 L267.581 1485.58 L262.696 1485.58 L262.696 1479.7 Z\" fill=\"#000000\" fill-rule=\"nonzero\" fill-opacity=\"1\" /><path clip-path=\"url(#clip960)\" d=\"M287.766 1454.1 Q284.155 1454.1 282.326 1457.66 Q280.52 1461.2 280.52 1468.33 Q280.52 1475.44 282.326 1479.01 Q284.155 1482.55 287.766 1482.55 Q291.4 1482.55 293.206 1479.01 Q295.034 1475.44 295.034 1468.33 Q295.034 1461.2 293.206 1457.66 Q291.4 1454.1 287.766 1454.1 M287.766 1450.39 Q293.576 1450.39 296.631 1455 Q299.71 1459.58 299.71 1468.33 Q299.71 1477.06 296.631 1481.67 Q293.576 1486.25 287.766 1486.25 Q281.956 1486.25 278.877 1481.67 Q275.821 1477.06 275.821 1468.33 Q275.821 1459.58 278.877 1455 Q281.956 1450.39 287.766 1450.39 Z\" fill=\"#000000\" fill-rule=\"nonzero\" fill-opacity=\"1\" /><path clip-path=\"url(#clip960)\" d=\"M317.928 1454.1 Q314.317 1454.1 312.488 1457.66 Q310.682 1461.2 310.682 1468.33 Q310.682 1475.44 312.488 1479.01 Q314.317 1482.55 317.928 1482.55 Q321.562 1482.55 323.367 1479.01 Q325.196 1475.44 325.196 1468.33 Q325.196 1461.2 323.367 1457.66 Q321.562 1454.1 317.928 1454.1 M317.928 1450.39 Q323.738 1450.39 326.793 1455 Q329.872 1459.58 329.872 1468.33 Q329.872 1477.06 326.793 1481.67 Q323.738 1486.25 317.928 1486.25 Q312.117 1486.25 309.039 1481.67 Q305.983 1477.06 305.983 1468.33 Q305.983 1459.58 309.039 1455 Q312.117 1450.39 317.928 1450.39 Z\" fill=\"#000000\" fill-rule=\"nonzero\" fill-opacity=\"1\" /><path clip-path=\"url(#clip960)\" d=\"M746.072 1454.1 Q742.461 1454.1 740.632 1457.66 Q738.827 1461.2 738.827 1468.33 Q738.827 1475.44 740.632 1479.01 Q742.461 1482.55 746.072 1482.55 Q749.706 1482.55 751.512 1479.01 Q753.341 1475.44 753.341 1468.33 Q753.341 1461.2 751.512 1457.66 Q749.706 1454.1 746.072 1454.1 M746.072 1450.39 Q751.882 1450.39 754.938 1455 Q758.017 1459.58 758.017 1468.33 Q758.017 1477.06 754.938 1481.67 Q751.882 1486.25 746.072 1486.25 Q740.262 1486.25 737.183 1481.67 Q734.128 1477.06 734.128 1468.33 Q734.128 1459.58 737.183 1455 Q740.262 1450.39 746.072 1450.39 Z\" fill=\"#000000\" fill-rule=\"nonzero\" fill-opacity=\"1\" /><path clip-path=\"url(#clip960)\" d=\"M766.234 1479.7 L771.118 1479.7 L771.118 1485.58 L766.234 1485.58 L766.234 1479.7 Z\" fill=\"#000000\" fill-rule=\"nonzero\" fill-opacity=\"1\" /><path clip-path=\"url(#clip960)\" d=\"M785.331 1481.64 L801.651 1481.64 L801.651 1485.58 L779.706 1485.58 L779.706 1481.64 Q782.368 1478.89 786.952 1474.26 Q791.558 1469.61 792.739 1468.27 Q794.984 1465.74 795.864 1464.01 Q796.766 1462.25 796.766 1460.56 Q796.766 1457.8 794.822 1456.07 Q792.901 1454.33 789.799 1454.33 Q787.6 1454.33 785.146 1455.09 Q782.716 1455.86 779.938 1457.41 L779.938 1452.69 Q782.762 1451.55 785.216 1450.97 Q787.669 1450.39 789.706 1450.39 Q795.077 1450.39 798.271 1453.08 Q801.465 1455.77 801.465 1460.26 Q801.465 1462.39 800.655 1464.31 Q799.868 1466.2 797.762 1468.8 Q797.183 1469.47 794.081 1472.69 Q790.979 1475.88 785.331 1481.64 Z\" fill=\"#000000\" fill-rule=\"nonzero\" fill-opacity=\"1\" /><path clip-path=\"url(#clip960)\" d=\"M811.512 1451.02 L829.868 1451.02 L829.868 1454.96 L815.794 1454.96 L815.794 1463.43 Q816.813 1463.08 817.831 1462.92 Q818.85 1462.73 819.868 1462.73 Q825.655 1462.73 829.035 1465.9 Q832.414 1469.08 832.414 1474.49 Q832.414 1480.07 828.942 1483.17 Q825.47 1486.25 819.151 1486.25 Q816.975 1486.25 814.706 1485.88 Q812.461 1485.51 810.053 1484.77 L810.053 1480.07 Q812.137 1481.2 814.359 1481.76 Q816.581 1482.32 819.058 1482.32 Q823.063 1482.32 825.4 1480.21 Q827.738 1478.1 827.738 1474.49 Q827.738 1470.88 825.4 1468.77 Q823.063 1466.67 819.058 1466.67 Q817.183 1466.67 815.308 1467.08 Q813.456 1467.5 811.512 1468.38 L811.512 1451.02 Z\" fill=\"#000000\" fill-rule=\"nonzero\" fill-opacity=\"1\" /><path clip-path=\"url(#clip960)\" d=\"M1248.61 1454.1 Q1245 1454.1 1243.17 1457.66 Q1241.37 1461.2 1241.37 1468.33 Q1241.37 1475.44 1243.17 1479.01 Q1245 1482.55 1248.61 1482.55 Q1252.25 1482.55 1254.05 1479.01 Q1255.88 1475.44 1255.88 1468.33 Q1255.88 1461.2 1254.05 1457.66 Q1252.25 1454.1 1248.61 1454.1 M1248.61 1450.39 Q1254.42 1450.39 1257.48 1455 Q1260.56 1459.58 1260.56 1468.33 Q1260.56 1477.06 1257.48 1481.67 Q1254.42 1486.25 1248.61 1486.25 Q1242.8 1486.25 1239.73 1481.67 Q1236.67 1477.06 1236.67 1468.33 Q1236.67 1459.58 1239.73 1455 Q1242.8 1450.39 1248.61 1450.39 Z\" fill=\"#000000\" fill-rule=\"nonzero\" fill-opacity=\"1\" /><path clip-path=\"url(#clip960)\" d=\"M1268.78 1479.7 L1273.66 1479.7 L1273.66 1485.58 L1268.78 1485.58 L1268.78 1479.7 Z\" fill=\"#000000\" fill-rule=\"nonzero\" fill-opacity=\"1\" /><path clip-path=\"url(#clip960)\" d=\"M1283.89 1451.02 L1302.25 1451.02 L1302.25 1454.96 L1288.17 1454.96 L1288.17 1463.43 Q1289.19 1463.08 1290.21 1462.92 Q1291.23 1462.73 1292.25 1462.73 Q1298.04 1462.73 1301.42 1465.9 Q1304.79 1469.08 1304.79 1474.49 Q1304.79 1480.07 1301.32 1483.17 Q1297.85 1486.25 1291.53 1486.25 Q1289.36 1486.25 1287.09 1485.88 Q1284.84 1485.51 1282.43 1484.77 L1282.43 1480.07 Q1284.52 1481.2 1286.74 1481.76 Q1288.96 1482.32 1291.44 1482.32 Q1295.44 1482.32 1297.78 1480.21 Q1300.12 1478.1 1300.12 1474.49 Q1300.12 1470.88 1297.78 1468.77 Q1295.44 1466.67 1291.44 1466.67 Q1289.56 1466.67 1287.69 1467.08 Q1285.84 1467.5 1283.89 1468.38 L1283.89 1451.02 Z\" fill=\"#000000\" fill-rule=\"nonzero\" fill-opacity=\"1\" /><path clip-path=\"url(#clip960)\" d=\"M1324.01 1454.1 Q1320.4 1454.1 1318.57 1457.66 Q1316.76 1461.2 1316.76 1468.33 Q1316.76 1475.44 1318.57 1479.01 Q1320.4 1482.55 1324.01 1482.55 Q1327.64 1482.55 1329.45 1479.01 Q1331.28 1475.44 1331.28 1468.33 Q1331.28 1461.2 1329.45 1457.66 Q1327.64 1454.1 1324.01 1454.1 M1324.01 1450.39 Q1329.82 1450.39 1332.87 1455 Q1335.95 1459.58 1335.95 1468.33 Q1335.95 1477.06 1332.87 1481.67 Q1329.82 1486.25 1324.01 1486.25 Q1318.2 1486.25 1315.12 1481.67 Q1312.06 1477.06 1312.06 1468.33 Q1312.06 1459.58 1315.12 1455 Q1318.2 1450.39 1324.01 1450.39 Z\" fill=\"#000000\" fill-rule=\"nonzero\" fill-opacity=\"1\" /><path clip-path=\"url(#clip960)\" d=\"M1752.15 1454.1 Q1748.54 1454.1 1746.71 1457.66 Q1744.91 1461.2 1744.91 1468.33 Q1744.91 1475.44 1746.71 1479.01 Q1748.54 1482.55 1752.15 1482.55 Q1755.79 1482.55 1757.59 1479.01 Q1759.42 1475.44 1759.42 1468.33 Q1759.42 1461.2 1757.59 1457.66 Q1755.79 1454.1 1752.15 1454.1 M1752.15 1450.39 Q1757.96 1450.39 1761.02 1455 Q1764.1 1459.58 1764.1 1468.33 Q1764.1 1477.06 1761.02 1481.67 Q1757.96 1486.25 1752.15 1486.25 Q1746.34 1486.25 1743.26 1481.67 Q1740.21 1477.06 1740.21 1468.33 Q1740.21 1459.58 1743.26 1455 Q1746.34 1450.39 1752.15 1450.39 Z\" fill=\"#000000\" fill-rule=\"nonzero\" fill-opacity=\"1\" /><path clip-path=\"url(#clip960)\" d=\"M1772.31 1479.7 L1777.2 1479.7 L1777.2 1485.58 L1772.31 1485.58 L1772.31 1479.7 Z\" fill=\"#000000\" fill-rule=\"nonzero\" fill-opacity=\"1\" /><path clip-path=\"url(#clip960)\" d=\"M1786.2 1451.02 L1808.43 1451.02 L1808.43 1453.01 L1795.88 1485.58 L1790.99 1485.58 L1802.8 1454.96 L1786.2 1454.96 L1786.2 1451.02 Z\" fill=\"#000000\" fill-rule=\"nonzero\" fill-opacity=\"1\" /><path clip-path=\"url(#clip960)\" d=\"M1817.59 1451.02 L1835.95 1451.02 L1835.95 1454.96 L1821.87 1454.96 L1821.87 1463.43 Q1822.89 1463.08 1823.91 1462.92 Q1824.93 1462.73 1825.95 1462.73 Q1831.74 1462.73 1835.11 1465.9 Q1838.49 1469.08 1838.49 1474.49 Q1838.49 1480.07 1835.02 1483.17 Q1831.55 1486.25 1825.23 1486.25 Q1823.05 1486.25 1820.79 1485.88 Q1818.54 1485.51 1816.13 1484.77 L1816.13 1480.07 Q1818.22 1481.2 1820.44 1481.76 Q1822.66 1482.32 1825.14 1482.32 Q1829.14 1482.32 1831.48 1480.21 Q1833.82 1478.1 1833.82 1474.49 Q1833.82 1470.88 1831.48 1468.77 Q1829.14 1466.67 1825.14 1466.67 Q1823.26 1466.67 1821.39 1467.08 Q1819.54 1467.5 1817.59 1468.38 L1817.59 1451.02 Z\" fill=\"#000000\" fill-rule=\"nonzero\" fill-opacity=\"1\" /><path clip-path=\"url(#clip960)\" d=\"M2244.46 1481.64 L2252.1 1481.64 L2252.1 1455.28 L2243.79 1456.95 L2243.79 1452.69 L2252.06 1451.02 L2256.73 1451.02 L2256.73 1481.64 L2264.37 1481.64 L2264.37 1485.58 L2244.46 1485.58 L2244.46 1481.64 Z\" fill=\"#000000\" fill-rule=\"nonzero\" fill-opacity=\"1\" /><path clip-path=\"url(#clip960)\" d=\"M2273.81 1479.7 L2278.7 1479.7 L2278.7 1485.58 L2273.81 1485.58 L2273.81 1479.7 Z\" fill=\"#000000\" fill-rule=\"nonzero\" fill-opacity=\"1\" /><path clip-path=\"url(#clip960)\" d=\"M2298.88 1454.1 Q2295.27 1454.1 2293.44 1457.66 Q2291.64 1461.2 2291.64 1468.33 Q2291.64 1475.44 2293.44 1479.01 Q2295.27 1482.55 2298.88 1482.55 Q2302.52 1482.55 2304.32 1479.01 Q2306.15 1475.44 2306.15 1468.33 Q2306.15 1461.2 2304.32 1457.66 Q2302.52 1454.1 2298.88 1454.1 M2298.88 1450.39 Q2304.69 1450.39 2307.75 1455 Q2310.83 1459.58 2310.83 1468.33 Q2310.83 1477.06 2307.75 1481.67 Q2304.69 1486.25 2298.88 1486.25 Q2293.07 1486.25 2290 1481.67 Q2286.94 1477.06 2286.94 1468.33 Q2286.94 1459.58 2290 1455 Q2293.07 1450.39 2298.88 1450.39 Z\" fill=\"#000000\" fill-rule=\"nonzero\" fill-opacity=\"1\" /><path clip-path=\"url(#clip960)\" d=\"M2329.05 1454.1 Q2325.43 1454.1 2323.61 1457.66 Q2321.8 1461.2 2321.8 1468.33 Q2321.8 1475.44 2323.61 1479.01 Q2325.43 1482.55 2329.05 1482.55 Q2332.68 1482.55 2334.49 1479.01 Q2336.31 1475.44 2336.31 1468.33 Q2336.31 1461.2 2334.49 1457.66 Q2332.68 1454.1 2329.05 1454.1 M2329.05 1450.39 Q2334.86 1450.39 2337.91 1455 Q2340.99 1459.58 2340.99 1468.33 Q2340.99 1477.06 2337.91 1481.67 Q2334.86 1486.25 2329.05 1486.25 Q2323.24 1486.25 2320.16 1481.67 Q2317.1 1477.06 2317.1 1468.33 Q2317.1 1459.58 2320.16 1455 Q2323.24 1450.39 2329.05 1450.39 Z\" fill=\"#000000\" fill-rule=\"nonzero\" fill-opacity=\"1\" /><path clip-path=\"url(#clip960)\" d=\"M1085.41 1520.52 L1091.84 1520.52 L1091.84 1562.63 L1114.98 1562.63 L1114.98 1568.04 L1085.41 1568.04 L1085.41 1520.52 Z\" fill=\"#000000\" fill-rule=\"nonzero\" fill-opacity=\"1\" /><path clip-path=\"url(#clip960)\" d=\"M1134.14 1536.5 Q1129.43 1536.5 1126.69 1540.19 Q1123.95 1543.85 1123.95 1550.25 Q1123.95 1556.65 1126.66 1560.34 Q1129.4 1564 1134.14 1564 Q1138.82 1564 1141.55 1560.31 Q1144.29 1556.62 1144.29 1550.25 Q1144.29 1543.92 1141.55 1540.23 Q1138.82 1536.5 1134.14 1536.5 M1134.14 1531.54 Q1141.78 1531.54 1146.14 1536.5 Q1150.5 1541.47 1150.5 1550.25 Q1150.5 1559 1146.14 1564 Q1141.78 1568.97 1134.14 1568.97 Q1126.47 1568.97 1122.11 1564 Q1117.78 1559 1117.78 1550.25 Q1117.78 1541.47 1122.11 1536.5 Q1126.47 1531.54 1134.14 1531.54 Z\" fill=\"#000000\" fill-rule=\"nonzero\" fill-opacity=\"1\" /><path clip-path=\"url(#clip960)\" d=\"M1174.02 1536.5 Q1169.31 1536.5 1166.57 1540.19 Q1163.83 1543.85 1163.83 1550.25 Q1163.83 1556.65 1166.54 1560.34 Q1169.28 1564 1174.02 1564 Q1178.7 1564 1181.44 1560.31 Q1184.17 1556.62 1184.17 1550.25 Q1184.17 1543.92 1181.44 1540.23 Q1178.7 1536.5 1174.02 1536.5 M1174.02 1531.54 Q1181.66 1531.54 1186.02 1536.5 Q1190.38 1541.47 1190.38 1550.25 Q1190.38 1559 1186.02 1564 Q1181.66 1568.97 1174.02 1568.97 Q1166.35 1568.97 1161.99 1564 Q1157.66 1559 1157.66 1550.25 Q1157.66 1541.47 1161.99 1536.5 Q1166.35 1531.54 1174.02 1531.54 Z\" fill=\"#000000\" fill-rule=\"nonzero\" fill-opacity=\"1\" /><path clip-path=\"url(#clip960)\" d=\"M1205.75 1562.7 L1205.75 1581.6 L1199.86 1581.6 L1199.86 1532.4 L1205.75 1532.4 L1205.75 1537.81 Q1207.6 1534.62 1210.4 1533.1 Q1213.23 1531.54 1217.15 1531.54 Q1223.64 1531.54 1227.68 1536.69 Q1231.76 1541.85 1231.76 1550.25 Q1231.76 1558.65 1227.68 1563.81 Q1223.64 1568.97 1217.15 1568.97 Q1213.23 1568.97 1210.4 1567.44 Q1207.6 1565.88 1205.75 1562.7 M1225.68 1550.25 Q1225.68 1543.79 1223 1540.13 Q1220.36 1536.44 1215.72 1536.44 Q1211.07 1536.44 1208.39 1540.13 Q1205.75 1543.79 1205.75 1550.25 Q1205.75 1556.71 1208.39 1560.4 Q1211.07 1564.07 1215.72 1564.07 Q1220.36 1564.07 1223 1560.4 Q1225.68 1556.71 1225.68 1550.25 Z\" fill=\"#000000\" fill-rule=\"nonzero\" fill-opacity=\"1\" /><path clip-path=\"url(#clip960)\" d=\"M1268.55 1578.87 L1268.55 1583.42 L1234.69 1583.42 L1234.69 1578.87 L1268.55 1578.87 Z\" fill=\"#000000\" fill-rule=\"nonzero\" fill-opacity=\"1\" /><path clip-path=\"url(#clip960)\" d=\"M1274.31 1520.52 L1280.74 1520.52 L1280.74 1562.63 L1303.88 1562.63 L1303.88 1568.04 L1274.31 1568.04 L1274.31 1520.52 Z\" fill=\"#000000\" fill-rule=\"nonzero\" fill-opacity=\"1\" /><path clip-path=\"url(#clip960)\" d=\"M1339.72 1548.76 L1339.72 1551.62 L1312.79 1551.62 Q1313.17 1557.67 1316.42 1560.85 Q1319.7 1564 1325.52 1564 Q1328.9 1564 1332.05 1563.17 Q1335.23 1562.35 1338.35 1560.69 L1338.35 1566.23 Q1335.2 1567.57 1331.89 1568.27 Q1328.58 1568.97 1325.17 1568.97 Q1316.64 1568.97 1311.65 1564 Q1306.68 1559.04 1306.68 1550.57 Q1306.68 1541.82 1311.39 1536.69 Q1316.13 1531.54 1324.16 1531.54 Q1331.35 1531.54 1335.52 1536.18 Q1339.72 1540.8 1339.72 1548.76 M1333.86 1547.04 Q1333.8 1542.23 1331.16 1539.37 Q1328.55 1536.5 1324.22 1536.5 Q1319.32 1536.5 1316.36 1539.27 Q1313.43 1542.04 1312.98 1547.07 L1333.86 1547.04 Z\" fill=\"#000000\" fill-rule=\"nonzero\" fill-opacity=\"1\" /><path clip-path=\"url(#clip960)\" d=\"M1378.96 1546.53 L1378.96 1568.04 L1373.11 1568.04 L1373.11 1546.72 Q1373.11 1541.66 1371.13 1539.14 Q1369.16 1536.63 1365.21 1536.63 Q1360.47 1536.63 1357.73 1539.65 Q1355 1542.68 1355 1547.9 L1355 1568.04 L1349.11 1568.04 L1349.11 1532.4 L1355 1532.4 L1355 1537.93 Q1357.1 1534.72 1359.93 1533.13 Q1362.8 1531.54 1366.52 1531.54 Q1372.66 1531.54 1375.81 1535.36 Q1378.96 1539.14 1378.96 1546.53 Z\" fill=\"#000000\" fill-rule=\"nonzero\" fill-opacity=\"1\" /><path clip-path=\"url(#clip960)\" d=\"M1414.1 1549.81 Q1414.1 1543.44 1411.46 1539.94 Q1408.85 1536.44 1404.11 1536.44 Q1399.4 1536.44 1396.76 1539.94 Q1394.15 1543.44 1394.15 1549.81 Q1394.15 1556.14 1396.76 1559.64 Q1399.4 1563.14 1404.11 1563.14 Q1408.85 1563.14 1411.46 1559.64 Q1414.1 1556.14 1414.1 1549.81 M1419.96 1563.62 Q1419.96 1572.72 1415.92 1577.15 Q1411.87 1581.6 1403.54 1581.6 Q1400.45 1581.6 1397.71 1581.13 Q1394.97 1580.68 1392.4 1579.72 L1392.4 1574.03 Q1394.97 1575.43 1397.49 1576.1 Q1400 1576.76 1402.61 1576.76 Q1408.37 1576.76 1411.24 1573.74 Q1414.1 1570.75 1414.1 1564.67 L1414.1 1561.77 Q1412.29 1564.92 1409.46 1566.48 Q1406.62 1568.04 1402.68 1568.04 Q1396.12 1568.04 1392.11 1563.05 Q1388.1 1558.05 1388.1 1549.81 Q1388.1 1541.53 1392.11 1536.53 Q1396.12 1531.54 1402.68 1531.54 Q1406.62 1531.54 1409.46 1533.1 Q1412.29 1534.66 1414.1 1537.81 L1414.1 1532.4 L1419.96 1532.4 L1419.96 1563.62 Z\" fill=\"#000000\" fill-rule=\"nonzero\" fill-opacity=\"1\" /><path clip-path=\"url(#clip960)\" d=\"M1437.81 1522.27 L1437.81 1532.4 L1449.88 1532.4 L1449.88 1536.95 L1437.81 1536.95 L1437.81 1556.3 Q1437.81 1560.66 1438.99 1561.9 Q1440.2 1563.14 1443.86 1563.14 L1449.88 1563.14 L1449.88 1568.04 L1443.86 1568.04 Q1437.08 1568.04 1434.5 1565.53 Q1431.93 1562.98 1431.93 1556.3 L1431.93 1536.95 L1427.63 1536.95 L1427.63 1532.4 L1431.93 1532.4 L1431.93 1522.27 L1437.81 1522.27 Z\" fill=\"#000000\" fill-rule=\"nonzero\" fill-opacity=\"1\" /><path clip-path=\"url(#clip960)\" d=\"M1487.21 1546.53 L1487.21 1568.04 L1481.36 1568.04 L1481.36 1546.72 Q1481.36 1541.66 1479.38 1539.14 Q1477.41 1536.63 1473.46 1536.63 Q1468.72 1536.63 1465.98 1539.65 Q1463.25 1542.68 1463.25 1547.9 L1463.25 1568.04 L1457.36 1568.04 L1457.36 1518.52 L1463.25 1518.52 L1463.25 1537.93 Q1465.35 1534.72 1468.18 1533.13 Q1471.04 1531.54 1474.77 1531.54 Q1480.91 1531.54 1484.06 1535.36 Q1487.21 1539.14 1487.21 1546.53 Z\" fill=\"#000000\" fill-rule=\"nonzero\" fill-opacity=\"1\" /><polyline clip-path=\"url(#clip962)\" style=\"stroke:#000000; stroke-linecap:round; stroke-linejoin:round; stroke-width:2; stroke-opacity:0.1; fill:none\" points=\"219.866,1423.18 2352.76,1423.18 \"/>\n",
       "<polyline clip-path=\"url(#clip962)\" style=\"stroke:#000000; stroke-linecap:round; stroke-linejoin:round; stroke-width:2; stroke-opacity:0.1; fill:none\" points=\"219.866,1147.99 2352.76,1147.99 \"/>\n",
       "<polyline clip-path=\"url(#clip962)\" style=\"stroke:#000000; stroke-linecap:round; stroke-linejoin:round; stroke-width:2; stroke-opacity:0.1; fill:none\" points=\"219.866,872.806 2352.76,872.806 \"/>\n",
       "<polyline clip-path=\"url(#clip962)\" style=\"stroke:#000000; stroke-linecap:round; stroke-linejoin:round; stroke-width:2; stroke-opacity:0.1; fill:none\" points=\"219.866,597.618 2352.76,597.618 \"/>\n",
       "<polyline clip-path=\"url(#clip962)\" style=\"stroke:#000000; stroke-linecap:round; stroke-linejoin:round; stroke-width:2; stroke-opacity:0.1; fill:none\" points=\"219.866,322.431 2352.76,322.431 \"/>\n",
       "<polyline clip-path=\"url(#clip962)\" style=\"stroke:#000000; stroke-linecap:round; stroke-linejoin:round; stroke-width:2; stroke-opacity:0.1; fill:none\" points=\"219.866,47.2441 2352.76,47.2441 \"/>\n",
       "<polyline clip-path=\"url(#clip960)\" style=\"stroke:#000000; stroke-linecap:round; stroke-linejoin:round; stroke-width:4; stroke-opacity:1; fill:none\" points=\"219.866,1423.18 219.866,47.2441 \"/>\n",
       "<polyline clip-path=\"url(#clip960)\" style=\"stroke:#000000; stroke-linecap:round; stroke-linejoin:round; stroke-width:4; stroke-opacity:1; fill:none\" points=\"219.866,1423.18 238.764,1423.18 \"/>\n",
       "<polyline clip-path=\"url(#clip960)\" style=\"stroke:#000000; stroke-linecap:round; stroke-linejoin:round; stroke-width:4; stroke-opacity:1; fill:none\" points=\"219.866,1147.99 238.764,1147.99 \"/>\n",
       "<polyline clip-path=\"url(#clip960)\" style=\"stroke:#000000; stroke-linecap:round; stroke-linejoin:round; stroke-width:4; stroke-opacity:1; fill:none\" points=\"219.866,872.806 238.764,872.806 \"/>\n",
       "<polyline clip-path=\"url(#clip960)\" style=\"stroke:#000000; stroke-linecap:round; stroke-linejoin:round; stroke-width:4; stroke-opacity:1; fill:none\" points=\"219.866,597.618 238.764,597.618 \"/>\n",
       "<polyline clip-path=\"url(#clip960)\" style=\"stroke:#000000; stroke-linecap:round; stroke-linejoin:round; stroke-width:4; stroke-opacity:1; fill:none\" points=\"219.866,322.431 238.764,322.431 \"/>\n",
       "<polyline clip-path=\"url(#clip960)\" style=\"stroke:#000000; stroke-linecap:round; stroke-linejoin:round; stroke-width:4; stroke-opacity:1; fill:none\" points=\"219.866,47.2441 238.764,47.2441 \"/>\n",
       "<path clip-path=\"url(#clip960)\" d=\"M126.691 1408.98 Q123.08 1408.98 121.251 1412.54 Q119.445 1416.08 119.445 1423.21 Q119.445 1430.32 121.251 1433.89 Q123.08 1437.43 126.691 1437.43 Q130.325 1437.43 132.13 1433.89 Q133.959 1430.32 133.959 1423.21 Q133.959 1416.08 132.13 1412.54 Q130.325 1408.98 126.691 1408.98 M126.691 1405.27 Q132.501 1405.27 135.556 1409.88 Q138.635 1414.46 138.635 1423.21 Q138.635 1431.94 135.556 1436.55 Q132.501 1441.13 126.691 1441.13 Q120.88 1441.13 117.802 1436.55 Q114.746 1431.94 114.746 1423.21 Q114.746 1414.46 117.802 1409.88 Q120.88 1405.27 126.691 1405.27 Z\" fill=\"#000000\" fill-rule=\"nonzero\" fill-opacity=\"1\" /><path clip-path=\"url(#clip960)\" d=\"M146.853 1434.58 L151.737 1434.58 L151.737 1440.46 L146.853 1440.46 L146.853 1434.58 Z\" fill=\"#000000\" fill-rule=\"nonzero\" fill-opacity=\"1\" /><path clip-path=\"url(#clip960)\" d=\"M171.922 1408.98 Q168.311 1408.98 166.482 1412.54 Q164.677 1416.08 164.677 1423.21 Q164.677 1430.32 166.482 1433.89 Q168.311 1437.43 171.922 1437.43 Q175.556 1437.43 177.362 1433.89 Q179.19 1430.32 179.19 1423.21 Q179.19 1416.08 177.362 1412.54 Q175.556 1408.98 171.922 1408.98 M171.922 1405.27 Q177.732 1405.27 180.788 1409.88 Q183.866 1414.46 183.866 1423.21 Q183.866 1431.94 180.788 1436.55 Q177.732 1441.13 171.922 1441.13 Q166.112 1441.13 163.033 1436.55 Q159.978 1431.94 159.978 1423.21 Q159.978 1414.46 163.033 1409.88 Q166.112 1405.27 171.922 1405.27 Z\" fill=\"#000000\" fill-rule=\"nonzero\" fill-opacity=\"1\" /><path clip-path=\"url(#clip960)\" d=\"M128.288 1133.79 Q124.677 1133.79 122.848 1137.36 Q121.043 1140.9 121.043 1148.03 Q121.043 1155.13 122.848 1158.7 Q124.677 1162.24 128.288 1162.24 Q131.922 1162.24 133.728 1158.7 Q135.556 1155.13 135.556 1148.03 Q135.556 1140.9 133.728 1137.36 Q131.922 1133.79 128.288 1133.79 M128.288 1130.09 Q134.098 1130.09 137.154 1134.69 Q140.232 1139.28 140.232 1148.03 Q140.232 1156.75 137.154 1161.36 Q134.098 1165.94 128.288 1165.94 Q122.478 1165.94 119.399 1161.36 Q116.343 1156.75 116.343 1148.03 Q116.343 1139.28 119.399 1134.69 Q122.478 1130.09 128.288 1130.09 Z\" fill=\"#000000\" fill-rule=\"nonzero\" fill-opacity=\"1\" /><path clip-path=\"url(#clip960)\" d=\"M148.45 1159.39 L153.334 1159.39 L153.334 1165.27 L148.45 1165.27 L148.45 1159.39 Z\" fill=\"#000000\" fill-rule=\"nonzero\" fill-opacity=\"1\" /><path clip-path=\"url(#clip960)\" d=\"M167.547 1161.34 L183.866 1161.34 L183.866 1165.27 L161.922 1165.27 L161.922 1161.34 Q164.584 1158.58 169.167 1153.95 Q173.774 1149.3 174.954 1147.96 Q177.2 1145.43 178.079 1143.7 Q178.982 1141.94 178.982 1140.25 Q178.982 1137.5 177.038 1135.76 Q175.116 1134.02 172.014 1134.02 Q169.815 1134.02 167.362 1134.79 Q164.931 1135.55 162.153 1137.1 L162.153 1132.38 Q164.977 1131.25 167.431 1130.67 Q169.885 1130.09 171.922 1130.09 Q177.292 1130.09 180.487 1132.77 Q183.681 1135.46 183.681 1139.95 Q183.681 1142.08 182.871 1144 Q182.084 1145.9 179.977 1148.49 Q179.399 1149.16 176.297 1152.38 Q173.195 1155.57 167.547 1161.34 Z\" fill=\"#000000\" fill-rule=\"nonzero\" fill-opacity=\"1\" /><path clip-path=\"url(#clip960)\" d=\"M126.205 858.604 Q122.593 858.604 120.765 862.169 Q118.959 865.711 118.959 872.84 Q118.959 879.947 120.765 883.512 Q122.593 887.053 126.205 887.053 Q129.839 887.053 131.644 883.512 Q133.473 879.947 133.473 872.84 Q133.473 865.711 131.644 862.169 Q129.839 858.604 126.205 858.604 M126.205 854.901 Q132.015 854.901 135.07 859.507 Q138.149 864.09 138.149 872.84 Q138.149 881.567 135.07 886.174 Q132.015 890.757 126.205 890.757 Q120.394 890.757 117.316 886.174 Q114.26 881.567 114.26 872.84 Q114.26 864.09 117.316 859.507 Q120.394 854.901 126.205 854.901 Z\" fill=\"#000000\" fill-rule=\"nonzero\" fill-opacity=\"1\" /><path clip-path=\"url(#clip960)\" d=\"M146.366 884.206 L151.251 884.206 L151.251 890.086 L146.366 890.086 L146.366 884.206 Z\" fill=\"#000000\" fill-rule=\"nonzero\" fill-opacity=\"1\" /><path clip-path=\"url(#clip960)\" d=\"M174.283 859.6 L162.477 878.049 L174.283 878.049 L174.283 859.6 M173.056 855.526 L178.936 855.526 L178.936 878.049 L183.866 878.049 L183.866 881.937 L178.936 881.937 L178.936 890.086 L174.283 890.086 L174.283 881.937 L158.681 881.937 L158.681 877.424 L173.056 855.526 Z\" fill=\"#000000\" fill-rule=\"nonzero\" fill-opacity=\"1\" /><path clip-path=\"url(#clip960)\" d=\"M126.529 583.417 Q122.918 583.417 121.089 586.982 Q119.283 590.524 119.283 597.653 Q119.283 604.76 121.089 608.324 Q122.918 611.866 126.529 611.866 Q130.163 611.866 131.968 608.324 Q133.797 604.76 133.797 597.653 Q133.797 590.524 131.968 586.982 Q130.163 583.417 126.529 583.417 M126.529 579.713 Q132.339 579.713 135.394 584.32 Q138.473 588.903 138.473 597.653 Q138.473 606.38 135.394 610.986 Q132.339 615.57 126.529 615.57 Q120.718 615.57 117.64 610.986 Q114.584 606.38 114.584 597.653 Q114.584 588.903 117.64 584.32 Q120.718 579.713 126.529 579.713 Z\" fill=\"#000000\" fill-rule=\"nonzero\" fill-opacity=\"1\" /><path clip-path=\"url(#clip960)\" d=\"M146.691 609.019 L151.575 609.019 L151.575 614.898 L146.691 614.898 L146.691 609.019 Z\" fill=\"#000000\" fill-rule=\"nonzero\" fill-opacity=\"1\" /><path clip-path=\"url(#clip960)\" d=\"M172.339 595.755 Q169.19 595.755 167.339 597.908 Q165.51 600.061 165.51 603.81 Q165.51 607.537 167.339 609.713 Q169.19 611.866 172.339 611.866 Q175.487 611.866 177.315 609.713 Q179.167 607.537 179.167 603.81 Q179.167 600.061 177.315 597.908 Q175.487 595.755 172.339 595.755 M181.621 581.102 L181.621 585.362 Q179.862 584.528 178.056 584.088 Q176.274 583.649 174.514 583.649 Q169.885 583.649 167.431 586.774 Q165.001 589.899 164.653 596.218 Q166.019 594.204 168.079 593.139 Q170.139 592.051 172.616 592.051 Q177.825 592.051 180.834 595.223 Q183.866 598.371 183.866 603.81 Q183.866 609.135 180.718 612.352 Q177.57 615.57 172.339 615.57 Q166.343 615.57 163.172 610.986 Q160.001 606.38 160.001 597.653 Q160.001 589.459 163.89 584.598 Q167.778 579.713 174.329 579.713 Q176.089 579.713 177.871 580.061 Q179.676 580.408 181.621 581.102 Z\" fill=\"#000000\" fill-rule=\"nonzero\" fill-opacity=\"1\" /><path clip-path=\"url(#clip960)\" d=\"M126.783 308.23 Q123.172 308.23 121.343 311.795 Q119.538 315.336 119.538 322.466 Q119.538 329.572 121.343 333.137 Q123.172 336.679 126.783 336.679 Q130.417 336.679 132.223 333.137 Q134.052 329.572 134.052 322.466 Q134.052 315.336 132.223 311.795 Q130.417 308.23 126.783 308.23 M126.783 304.526 Q132.593 304.526 135.649 309.133 Q138.728 313.716 138.728 322.466 Q138.728 331.193 135.649 335.799 Q132.593 340.383 126.783 340.383 Q120.973 340.383 117.894 335.799 Q114.839 331.193 114.839 322.466 Q114.839 313.716 117.894 309.133 Q120.973 304.526 126.783 304.526 Z\" fill=\"#000000\" fill-rule=\"nonzero\" fill-opacity=\"1\" /><path clip-path=\"url(#clip960)\" d=\"M146.945 333.832 L151.829 333.832 L151.829 339.711 L146.945 339.711 L146.945 333.832 Z\" fill=\"#000000\" fill-rule=\"nonzero\" fill-opacity=\"1\" /><path clip-path=\"url(#clip960)\" d=\"M172.014 323.299 Q168.681 323.299 166.76 325.082 Q164.862 326.864 164.862 329.989 Q164.862 333.114 166.76 334.896 Q168.681 336.679 172.014 336.679 Q175.348 336.679 177.269 334.896 Q179.19 333.091 179.19 329.989 Q179.19 326.864 177.269 325.082 Q175.371 323.299 172.014 323.299 M167.339 321.309 Q164.329 320.568 162.64 318.508 Q160.973 316.447 160.973 313.485 Q160.973 309.341 163.913 306.934 Q166.876 304.526 172.014 304.526 Q177.176 304.526 180.116 306.934 Q183.056 309.341 183.056 313.485 Q183.056 316.447 181.366 318.508 Q179.7 320.568 176.714 321.309 Q180.093 322.096 181.968 324.387 Q183.866 326.679 183.866 329.989 Q183.866 335.012 180.788 337.697 Q177.732 340.383 172.014 340.383 Q166.297 340.383 163.218 337.697 Q160.163 335.012 160.163 329.989 Q160.163 326.679 162.061 324.387 Q163.959 322.096 167.339 321.309 M165.626 313.924 Q165.626 316.61 167.292 318.114 Q168.982 319.619 172.014 319.619 Q175.024 319.619 176.714 318.114 Q178.426 316.61 178.426 313.924 Q178.426 311.239 176.714 309.735 Q175.024 308.23 172.014 308.23 Q168.982 308.23 167.292 309.735 Q165.626 311.239 165.626 313.924 Z\" fill=\"#000000\" fill-rule=\"nonzero\" fill-opacity=\"1\" /><path clip-path=\"url(#clip960)\" d=\"M117.501 60.5889 L125.14 60.5889 L125.14 34.2233 L116.83 35.89 L116.83 31.6308 L125.093 29.9641 L129.769 29.9641 L129.769 60.5889 L137.408 60.5889 L137.408 64.5241 L117.501 64.5241 L117.501 60.5889 Z\" fill=\"#000000\" fill-rule=\"nonzero\" fill-opacity=\"1\" /><path clip-path=\"url(#clip960)\" d=\"M146.853 58.6445 L151.737 58.6445 L151.737 64.5241 L146.853 64.5241 L146.853 58.6445 Z\" fill=\"#000000\" fill-rule=\"nonzero\" fill-opacity=\"1\" /><path clip-path=\"url(#clip960)\" d=\"M171.922 33.0428 Q168.311 33.0428 166.482 36.6076 Q164.677 40.1492 164.677 47.2788 Q164.677 54.3853 166.482 57.9501 Q168.311 61.4917 171.922 61.4917 Q175.556 61.4917 177.362 57.9501 Q179.19 54.3853 179.19 47.2788 Q179.19 40.1492 177.362 36.6076 Q175.556 33.0428 171.922 33.0428 M171.922 29.3391 Q177.732 29.3391 180.788 33.9456 Q183.866 38.5289 183.866 47.2788 Q183.866 56.0056 180.788 60.6121 Q177.732 65.1954 171.922 65.1954 Q166.112 65.1954 163.033 60.6121 Q159.978 56.0056 159.978 47.2788 Q159.978 38.5289 163.033 33.9456 Q166.112 29.3391 171.922 29.3391 Z\" fill=\"#000000\" fill-rule=\"nonzero\" fill-opacity=\"1\" /><path clip-path=\"url(#clip960)\" d=\"M18.0438 871.374 L24.314 871.374 Q22.5634 875.035 21.704 878.281 Q20.8447 881.528 20.8447 884.551 Q20.8447 889.803 22.8817 892.668 Q24.9187 895.5 28.6745 895.5 Q31.8255 895.5 33.4488 893.623 Q35.0402 891.713 36.0269 886.429 L36.8226 882.546 Q38.1912 875.353 41.6605 871.947 Q45.098 868.51 50.8908 868.51 Q57.7976 868.51 61.3624 873.157 Q64.9272 877.772 64.9272 886.716 Q64.9272 890.09 64.1633 893.909 Q63.3994 897.697 61.9035 901.771 L55.2831 901.771 Q57.4793 897.856 58.5933 894.1 Q59.7073 890.344 59.7073 886.716 Q59.7073 881.209 57.543 878.218 Q55.3786 875.226 51.3682 875.226 Q47.8671 875.226 45.8937 877.39 Q43.9204 879.523 42.9337 884.424 L42.1698 888.339 Q40.7375 895.532 37.682 898.747 Q34.6264 901.962 29.1837 901.962 Q22.8817 901.962 19.2532 897.537 Q15.6248 893.081 15.6248 885.284 Q15.6248 881.942 16.2295 878.472 Q16.8343 875.003 18.0438 871.374 Z\" fill=\"#000000\" fill-rule=\"nonzero\" fill-opacity=\"1\" /><path clip-path=\"url(#clip960)\" d=\"M44.7161 828.247 L47.5806 828.247 L47.5806 855.174 Q53.6281 854.792 56.8109 851.545 Q59.9619 848.267 59.9619 842.442 Q59.9619 839.068 59.1344 835.917 Q58.3069 832.735 56.6518 829.615 L62.1899 829.615 Q63.5267 832.766 64.227 836.077 Q64.9272 839.387 64.9272 842.792 Q64.9272 851.322 59.9619 856.32 Q54.9967 861.285 46.5303 861.285 Q37.7774 861.285 32.6531 856.574 Q27.4968 851.832 27.4968 843.811 Q27.4968 836.618 32.1438 832.448 Q36.7589 828.247 44.7161 828.247 M42.9973 834.103 Q38.1912 834.167 35.3266 836.809 Q32.4621 839.419 32.4621 843.747 Q32.4621 848.649 35.2312 851.609 Q38.0002 854.537 43.0292 854.983 L42.9973 834.103 Z\" fill=\"#000000\" fill-rule=\"nonzero\" fill-opacity=\"1\" /><path clip-path=\"url(#clip960)\" d=\"M46.212 815.133 Q52.6732 815.133 56.3653 812.492 Q60.0256 809.818 60.0256 805.171 Q60.0256 800.524 56.3653 797.851 Q52.6732 795.177 46.212 795.177 Q39.7508 795.177 36.0905 797.851 Q32.3984 800.524 32.3984 805.171 Q32.3984 809.818 36.0905 812.492 Q39.7508 815.133 46.212 815.133 M58.657 795.177 Q61.8398 797.023 63.3994 799.856 Q64.9272 802.657 64.9272 806.603 Q64.9272 813.065 59.771 817.139 Q54.6147 821.181 46.212 821.181 Q37.8093 821.181 32.6531 817.139 Q27.4968 813.065 27.4968 806.603 Q27.4968 802.657 29.0564 799.856 Q30.5842 797.023 33.7671 795.177 L28.3562 795.177 L28.3562 789.32 L77.5631 789.32 L77.5631 795.177 L58.657 795.177 Z\" fill=\"#000000\" fill-rule=\"nonzero\" fill-opacity=\"1\" /><path clip-path=\"url(#clip960)\" d=\"M74.8259 750.171 L79.3773 750.171 L79.3773 784.037 L74.8259 784.037 L74.8259 750.171 Z\" fill=\"#000000\" fill-rule=\"nonzero\" fill-opacity=\"1\" /><path clip-path=\"url(#clip960)\" d=\"M29.7248 719.011 L35.1993 719.011 Q33.8307 721.494 33.1623 724.008 Q32.4621 726.491 32.4621 729.037 Q32.4621 734.735 36.0905 737.886 Q39.6872 741.037 46.212 741.037 Q52.7369 741.037 56.3653 737.886 Q59.9619 734.735 59.9619 729.037 Q59.9619 726.491 59.2935 724.008 Q58.5933 721.494 57.2247 719.011 L62.6355 719.011 Q63.7814 721.462 64.3543 724.104 Q64.9272 726.714 64.9272 729.674 Q64.9272 737.726 59.8664 742.469 Q54.8057 747.211 46.212 747.211 Q37.491 747.211 32.4939 742.437 Q27.4968 737.631 27.4968 729.292 Q27.4968 726.586 28.0697 724.008 Q28.6108 721.43 29.7248 719.011 Z\" fill=\"#000000\" fill-rule=\"nonzero\" fill-opacity=\"1\" /><path clip-path=\"url(#clip960)\" d=\"M32.4621 695.013 Q32.4621 699.723 36.1542 702.46 Q39.8145 705.198 46.212 705.198 Q52.6095 705.198 56.3017 702.492 Q59.9619 699.755 59.9619 695.013 Q59.9619 690.334 56.2698 687.596 Q52.5777 684.859 46.212 684.859 Q39.8781 684.859 36.186 687.596 Q32.4621 690.334 32.4621 695.013 M27.4968 695.013 Q27.4968 687.374 32.4621 683.013 Q37.4273 678.653 46.212 678.653 Q54.9649 678.653 59.9619 683.013 Q64.9272 687.374 64.9272 695.013 Q64.9272 702.683 59.9619 707.044 Q54.9649 711.372 46.212 711.372 Q37.4273 711.372 32.4621 707.044 Q27.4968 702.683 27.4968 695.013 Z\" fill=\"#000000\" fill-rule=\"nonzero\" fill-opacity=\"1\" /><path clip-path=\"url(#clip960)\" d=\"M49.9359 669.55 L28.3562 669.55 L28.3562 663.693 L49.7131 663.693 Q54.7739 663.693 57.3202 661.72 Q59.8346 659.747 59.8346 655.8 Q59.8346 651.057 56.8109 648.32 Q53.7872 645.551 48.5673 645.551 L28.3562 645.551 L28.3562 639.695 L64.0042 639.695 L64.0042 645.551 L58.5296 645.551 Q61.7762 647.684 63.3676 650.516 Q64.9272 653.317 64.9272 657.041 Q64.9272 663.184 61.1078 666.367 Q57.2883 669.55 49.9359 669.55 M27.4968 654.813 L27.4968 654.813 Z\" fill=\"#000000\" fill-rule=\"nonzero\" fill-opacity=\"1\" /><path clip-path=\"url(#clip960)\" d=\"M42.4881 597.999 L64.0042 597.999 L64.0042 603.856 L42.679 603.856 Q37.6183 603.856 35.1038 605.829 Q32.5894 607.802 32.5894 611.749 Q32.5894 616.492 35.6131 619.229 Q38.6368 621.966 43.8567 621.966 L64.0042 621.966 L64.0042 627.854 L28.3562 627.854 L28.3562 621.966 L33.8944 621.966 Q30.6797 619.865 29.0883 617.033 Q27.4968 614.168 27.4968 610.444 Q27.4968 604.301 31.3163 601.15 Q35.1038 597.999 42.4881 597.999 Z\" fill=\"#000000\" fill-rule=\"nonzero\" fill-opacity=\"1\" /><path clip-path=\"url(#clip960)\" d=\"M18.2347 580.525 L28.3562 580.525 L28.3562 568.462 L32.9077 568.462 L32.9077 580.525 L52.2594 580.525 Q56.6199 580.525 57.8613 579.348 Q59.1026 578.138 59.1026 574.478 L59.1026 568.462 L64.0042 568.462 L64.0042 574.478 Q64.0042 581.257 61.4897 583.835 Q58.9434 586.414 52.2594 586.414 L32.9077 586.414 L32.9077 590.71 L28.3562 590.71 L28.3562 586.414 L18.2347 586.414 L18.2347 580.525 Z\" fill=\"#000000\" fill-rule=\"nonzero\" fill-opacity=\"1\" /></svg>\n"
      ]
     },
     "execution_count": 42,
     "metadata": {},
     "output_type": "execute_result"
    }
   ],
   "source": [
    "# Create bar plot indicating the amount of different seq per structure\n",
    "#plot(Stem_ranges, x=keys(my_dict), seriestype=:histogram)\n",
    "plot(bar(Loop_ranges), \n",
    "    legend = false,\n",
    "    xlabel = \"Loop_Length\",\n",
    "    ylabel = \"Seq_count\",)"
   ]
  },
  {
   "cell_type": "code",
   "execution_count": 43,
   "id": "a56d6549-ded8-4e82-aa29-01867d96241c",
   "metadata": {},
   "outputs": [
    {
     "data": {
      "text/html": [
       "<div><div style = \"float: left;\"><span>866×12 DataFrame</span></div><div style = \"float: right;\"><span style = \"font-style: italic;\">841 rows omitted</span></div><div style = \"clear: both;\"></div></div><div class = \"data-frame\" style = \"overflow-x: scroll;\"><table class = \"data-frame\" style = \"margin-bottom: 6px;\"><thead><tr class = \"header\"><th class = \"rowNumber\" style = \"font-weight: bold; text-align: right;\">Row</th><th style = \"text-align: left;\">Sequence_number</th><th style = \"text-align: left;\">Loop1_description</th><th style = \"text-align: left;\">MFE_SUBstructure</th><th style = \"text-align: left;\">LoopI</th><th style = \"text-align: left;\">Loop_length</th><th style = \"text-align: left;\">Count</th><th style = \"text-align: left;\">WT</th><th style = \"text-align: left;\">MFE_structure</th><th style = \"text-align: left;\">MFE_energy</th><th style = \"text-align: left;\">Mbp_dist</th><th style = \"text-align: left;\">Seq_Cluster</th><th style = \"text-align: left;\">Str_Cluster</th></tr><tr class = \"subheader headerLastRow\"><th class = \"rowNumber\" style = \"font-weight: bold; text-align: right;\"></th><th title = \"Int64\" style = \"text-align: left;\">Int64</th><th title = \"String\" style = \"text-align: left;\">String</th><th title = \"String\" style = \"text-align: left;\">String</th><th title = \"String\" style = \"text-align: left;\">String</th><th title = \"Int64\" style = \"text-align: left;\">Int64</th><th title = \"Int64\" style = \"text-align: left;\">Int64</th><th title = \"String7\" style = \"text-align: left;\">String7</th><th title = \"String\" style = \"text-align: left;\">String</th><th title = \"Float64\" style = \"text-align: left;\">Float64</th><th title = \"Float64\" style = \"text-align: left;\">Float64</th><th title = \"Int64\" style = \"text-align: left;\">Int64</th><th title = \"Int64\" style = \"text-align: left;\">Int64</th></tr></thead><tbody><tr><td class = \"rowNumber\" style = \"font-weight: bold; text-align: right;\">1</td><td style = \"text-align: right;\">32146</td><td style = \"text-align: left;\">1-4-1-10-6-10-1-4-1</td><td style = \"text-align: left;\">.((((.((((((((((......)))))))))).)))).</td><td style = \"text-align: left;\">ACAAAAAAACCAGCGGCACTAACCGCTGGTTTGTTTGCC</td><td style = \"text-align: right;\">39</td><td style = \"text-align: right;\">1</td><td style = \"text-align: left;\">false</td><td style = \"text-align: left;\">.((((.((((((((((......)))))))))).)))).((((..(((((.......)))))..))))..((((.(((((((.....)))).))).)))).........</td><td style = \"text-align: right;\">-41.1</td><td style = \"text-align: right;\">4.92077</td><td style = \"text-align: right;\">0</td><td style = \"text-align: right;\">0</td></tr><tr><td class = \"rowNumber\" style = \"font-weight: bold; text-align: right;\">2</td><td style = \"text-align: right;\">7520</td><td style = \"text-align: left;\">1-4-1-10-6-10-1-4-1</td><td style = \"text-align: left;\">.((((.((((((((((......)))))))))).)))).</td><td style = \"text-align: left;\">ACAAAAAAACCAGCCGAAGGTACGGCTGGTTTGTTTGCC</td><td style = \"text-align: right;\">39</td><td style = \"text-align: right;\">2</td><td style = \"text-align: left;\">false</td><td style = \"text-align: left;\">.((((.((((((((((......)))))))))).)))).((((..(((((.......)))))..))))..((((.(((((((.....)))).))).)))).........</td><td style = \"text-align: right;\">-41.1</td><td style = \"text-align: right;\">4.97542</td><td style = \"text-align: right;\">0</td><td style = \"text-align: right;\">0</td></tr><tr><td class = \"rowNumber\" style = \"font-weight: bold; text-align: right;\">3</td><td style = \"text-align: right;\">23411</td><td style = \"text-align: left;\">1-4-1-10-6-10-1-4-1</td><td style = \"text-align: left;\">.((((.((((((((((......)))))))))).)))).</td><td style = \"text-align: left;\">ACAAAAAAACCACTCCGCCTTAGGAGTGGTTTGTTTGCC</td><td style = \"text-align: right;\">39</td><td style = \"text-align: right;\">1</td><td style = \"text-align: left;\">false</td><td style = \"text-align: left;\">.((((.((((((((((......)))))))))).)))).((((..(((((.......)))))..))))..((((.(((((((.....)))).))).)))).........</td><td style = \"text-align: right;\">-40.9</td><td style = \"text-align: right;\">4.90256</td><td style = \"text-align: right;\">0</td><td style = \"text-align: right;\">0</td></tr><tr><td class = \"rowNumber\" style = \"font-weight: bold; text-align: right;\">4</td><td style = \"text-align: right;\">15824</td><td style = \"text-align: left;\">1-4-1-10-6-10-1-4-1</td><td style = \"text-align: left;\">.((((.((((((((((......)))))))))).)))).</td><td style = \"text-align: left;\">ACAAAAAAACCAGGCATACTGTTGCCTGGTTTGTTTGCC</td><td style = \"text-align: right;\">39</td><td style = \"text-align: right;\">1</td><td style = \"text-align: left;\">false</td><td style = \"text-align: left;\">.((((.((((((((((......)))))))))).)))).((((..(((((.......)))))..))))..((((.(((((((.....)))).))).)))).........</td><td style = \"text-align: right;\">-40.9</td><td style = \"text-align: right;\">5.00045</td><td style = \"text-align: right;\">0</td><td style = \"text-align: right;\">0</td></tr><tr><td class = \"rowNumber\" style = \"font-weight: bold; text-align: right;\">5</td><td style = \"text-align: right;\">9816</td><td style = \"text-align: left;\">1-4-1-10-6-10-1-4-1</td><td style = \"text-align: left;\">.((((.((((((((((......)))))))))).)))).</td><td style = \"text-align: left;\">ACAAAAAAACCACCGGTTTCTCCCGGTGGTTTGTTTGCC</td><td style = \"text-align: right;\">39</td><td style = \"text-align: right;\">1</td><td style = \"text-align: left;\">false</td><td style = \"text-align: left;\">.((((.((((((((((......)))))))))).)))).((((..(((((.......)))))..))))..((((.(((((((.....)))).))).)))).........</td><td style = \"text-align: right;\">-40.8</td><td style = \"text-align: right;\">4.95773</td><td style = \"text-align: right;\">0</td><td style = \"text-align: right;\">0</td></tr><tr><td class = \"rowNumber\" style = \"font-weight: bold; text-align: right;\">6</td><td style = \"text-align: right;\">14114</td><td style = \"text-align: left;\">1-4-1-10-6-10-1-4-1</td><td style = \"text-align: left;\">.((((.((((((((((......)))))))))).)))).</td><td style = \"text-align: left;\">ACAAAAAAACCACCCATACTGTTGGGTGGTTTGTTTGCC</td><td style = \"text-align: right;\">39</td><td style = \"text-align: right;\">1</td><td style = \"text-align: left;\">false</td><td style = \"text-align: left;\">.((((.((((((((((......)))))))))).)))).((((..(((((.......)))))..))))..((((.(((((((.....)))).))).)))).........</td><td style = \"text-align: right;\">-40.7</td><td style = \"text-align: right;\">5.00055</td><td style = \"text-align: right;\">0</td><td style = \"text-align: right;\">0</td></tr><tr><td class = \"rowNumber\" style = \"font-weight: bold; text-align: right;\">7</td><td style = \"text-align: right;\">4840</td><td style = \"text-align: left;\">1-4-1-10-6-10-1-4-1</td><td style = \"text-align: left;\">.((((.((((((((((......)))))))))).)))).</td><td style = \"text-align: left;\">ACAAAAAAACCAGCCTTAGAGTGGGCTGGTTTGTTTGCC</td><td style = \"text-align: right;\">39</td><td style = \"text-align: right;\">2</td><td style = \"text-align: left;\">false</td><td style = \"text-align: left;\">.((((.((((((((((......)))))))))).)))).((((..(((((.......)))))..))))..((((.(((((((.....)))).))).)))).........</td><td style = \"text-align: right;\">-40.6</td><td style = \"text-align: right;\">4.93715</td><td style = \"text-align: right;\">0</td><td style = \"text-align: right;\">0</td></tr><tr><td class = \"rowNumber\" style = \"font-weight: bold; text-align: right;\">8</td><td style = \"text-align: right;\">31076</td><td style = \"text-align: left;\">1-4-1-10-6-10-1-4-1</td><td style = \"text-align: left;\">.((((.((((((((((......)))))))))).)))).</td><td style = \"text-align: left;\">ACAAAAAAACCACACCTTGAGTGGTGTGGTTTGTTTGCC</td><td style = \"text-align: right;\">39</td><td style = \"text-align: right;\">1</td><td style = \"text-align: left;\">false</td><td style = \"text-align: left;\">.((((.((((((((((......)))))))))).)))).((((..(((((.......)))))..))))..((((.(((((((.....)))).))).)))).........</td><td style = \"text-align: right;\">-40.5</td><td style = \"text-align: right;\">4.90344</td><td style = \"text-align: right;\">0</td><td style = \"text-align: right;\">0</td></tr><tr><td class = \"rowNumber\" style = \"font-weight: bold; text-align: right;\">9</td><td style = \"text-align: right;\">21928</td><td style = \"text-align: left;\">1-4-1-10-6-10-1-4-1</td><td style = \"text-align: left;\">.((((.((((((((((......)))))))))).)))).</td><td style = \"text-align: left;\">ACAAAAAAACCACCCTTGCTTTGGGGTGGTTTGTTTGCC</td><td style = \"text-align: right;\">39</td><td style = \"text-align: right;\">1</td><td style = \"text-align: left;\">false</td><td style = \"text-align: left;\">.((((.((((((((((......)))))))))).)))).((((..(((((.......)))))..))))..((((.(((((((.....)))).))).)))).........</td><td style = \"text-align: right;\">-40.4</td><td style = \"text-align: right;\">4.94102</td><td style = \"text-align: right;\">0</td><td style = \"text-align: right;\">0</td></tr><tr><td class = \"rowNumber\" style = \"font-weight: bold; text-align: right;\">10</td><td style = \"text-align: right;\">16714</td><td style = \"text-align: left;\">1-4-1-10-6-10-1-4-1</td><td style = \"text-align: left;\">.((((.((((((((((......)))))))))).)))).</td><td style = \"text-align: left;\">ACAAAAAAACCACCCTGGTCAAGGGGTGGTTTGTTTGCC</td><td style = \"text-align: right;\">39</td><td style = \"text-align: right;\">1</td><td style = \"text-align: left;\">false</td><td style = \"text-align: left;\">.((((.((((((((((......)))))))))).)))).((((..(((((.......)))))..))))..((((.(((((((.....)))).))).)))).........</td><td style = \"text-align: right;\">-40.4</td><td style = \"text-align: right;\">5.05095</td><td style = \"text-align: right;\">0</td><td style = \"text-align: right;\">0</td></tr><tr><td class = \"rowNumber\" style = \"font-weight: bold; text-align: right;\">11</td><td style = \"text-align: right;\">9413</td><td style = \"text-align: left;\">1-4-1-10-6-10-1-4-1</td><td style = \"text-align: left;\">.((((.((((((((((......)))))))))).)))).</td><td style = \"text-align: left;\">ACAAAAAAACCAGAGCTACACCGCTCTGGTTTGTTTGCC</td><td style = \"text-align: right;\">39</td><td style = \"text-align: right;\">1</td><td style = \"text-align: left;\">false</td><td style = \"text-align: left;\">.((((.((((((((((......)))))))))).)))).((((..(((((.......)))))..))))..((((.(((((((.....)))).))).)))).........</td><td style = \"text-align: right;\">-40.2</td><td style = \"text-align: right;\">4.90337</td><td style = \"text-align: right;\">0</td><td style = \"text-align: right;\">0</td></tr><tr><td class = \"rowNumber\" style = \"font-weight: bold; text-align: right;\">12</td><td style = \"text-align: right;\">31788</td><td style = \"text-align: left;\">1-4-1-10-6-10-1-4-1</td><td style = \"text-align: left;\">.((((.((((((((((......)))))))))).)))).</td><td style = \"text-align: left;\">ACAAAAAAACCATCCCAGTAGAGGGATGGTTTGTTTGCC</td><td style = \"text-align: right;\">39</td><td style = \"text-align: right;\">1</td><td style = \"text-align: left;\">false</td><td style = \"text-align: left;\">.((((.((((((((((......)))))))))).)))).((((..(((((.......)))))..))))..((((.(((((((.....)))).))).)))).........</td><td style = \"text-align: right;\">-40.2</td><td style = \"text-align: right;\">4.90441</td><td style = \"text-align: right;\">0</td><td style = \"text-align: right;\">0</td></tr><tr><td class = \"rowNumber\" style = \"font-weight: bold; text-align: right;\">13</td><td style = \"text-align: right;\">40949</td><td style = \"text-align: left;\">1-4-1-10-6-10-1-4-1</td><td style = \"text-align: left;\">.((((.((((((((((......)))))))))).)))).</td><td style = \"text-align: left;\">ACAAAAAAACCACTCGGGGAAACGAGTGGTTTGTTTGCC</td><td style = \"text-align: right;\">39</td><td style = \"text-align: right;\">1</td><td style = \"text-align: left;\">false</td><td style = \"text-align: left;\">.((((.((((((((((......)))))))))).)))).((((..(((((.......)))))..))))..((((.(((((((.....)))).))).)))).........</td><td style = \"text-align: right;\">-40.2</td><td style = \"text-align: right;\">4.9153</td><td style = \"text-align: right;\">0</td><td style = \"text-align: right;\">0</td></tr><tr><td style = \"text-align: right;\">&vellip;</td><td style = \"text-align: right;\">&vellip;</td><td style = \"text-align: right;\">&vellip;</td><td style = \"text-align: right;\">&vellip;</td><td style = \"text-align: right;\">&vellip;</td><td style = \"text-align: right;\">&vellip;</td><td style = \"text-align: right;\">&vellip;</td><td style = \"text-align: right;\">&vellip;</td><td style = \"text-align: right;\">&vellip;</td><td style = \"text-align: right;\">&vellip;</td><td style = \"text-align: right;\">&vellip;</td><td style = \"text-align: right;\">&vellip;</td><td style = \"text-align: right;\">&vellip;</td></tr><tr><td class = \"rowNumber\" style = \"font-weight: bold; text-align: right;\">855</td><td style = \"text-align: right;\">41057</td><td style = \"text-align: left;\">1-4-1-10-6-10-1-4-1</td><td style = \"text-align: left;\">.((((.((((((((((......)))))))))).)))).</td><td style = \"text-align: left;\">ACAAAAAAACCGTTAGAGTGAGCTAATGGTTTGTTTGCC</td><td style = \"text-align: right;\">39</td><td style = \"text-align: right;\">1</td><td style = \"text-align: left;\">false</td><td style = \"text-align: left;\">.((((.((((((((((......)))))))))).)))).((((..(((((.......)))))..))))..((((.(((((((.....)))).))).)))).........</td><td style = \"text-align: right;\">-31.7</td><td style = \"text-align: right;\">5.30112</td><td style = \"text-align: right;\">0</td><td style = \"text-align: right;\">0</td></tr><tr><td class = \"rowNumber\" style = \"font-weight: bold; text-align: right;\">856</td><td style = \"text-align: right;\">7086</td><td style = \"text-align: left;\">1-4-1-10-6-10-1-4-1</td><td style = \"text-align: left;\">.((((.((((((((((......)))))))))).)))).</td><td style = \"text-align: left;\">ACAAAAAAACCGTTGCAAGGAGGTGATGGTTTGTTTGCC</td><td style = \"text-align: right;\">39</td><td style = \"text-align: right;\">2</td><td style = \"text-align: left;\">false</td><td style = \"text-align: left;\">.((((.((((((((((......)))))))))).)))).((((..(((((.......)))))..))))..((((.(((((((.....)))).))).)))).........</td><td style = \"text-align: right;\">-31.7</td><td style = \"text-align: right;\">5.42459</td><td style = \"text-align: right;\">0</td><td style = \"text-align: right;\">0</td></tr><tr><td class = \"rowNumber\" style = \"font-weight: bold; text-align: right;\">857</td><td style = \"text-align: right;\">41523</td><td style = \"text-align: left;\">1-4-1-10-6-10-1-4-1</td><td style = \"text-align: left;\">.((((.((((((((((......)))))))))).)))).</td><td style = \"text-align: left;\">ACAAAAAAACCGAAATGATTATATTTTGGTTTGTTTGCC</td><td style = \"text-align: right;\">39</td><td style = \"text-align: right;\">1</td><td style = \"text-align: left;\">false</td><td style = \"text-align: left;\">.((((.((((((((((......)))))))))).)))).((((..(((((.......)))))..))))..((((.(((((((.....)))).))).)))).........</td><td style = \"text-align: right;\">-31.5</td><td style = \"text-align: right;\">5.6918</td><td style = \"text-align: right;\">0</td><td style = \"text-align: right;\">0</td></tr><tr><td class = \"rowNumber\" style = \"font-weight: bold; text-align: right;\">858</td><td style = \"text-align: right;\">34162</td><td style = \"text-align: left;\">1-4-1-10-6-10-1-4-1</td><td style = \"text-align: left;\">.((((.((((((((((......)))))))))).)))).</td><td style = \"text-align: left;\">ACAAAAAAACCAGTAACTGCGTTTATTGGTTTGTTTGCC</td><td style = \"text-align: right;\">39</td><td style = \"text-align: right;\">1</td><td style = \"text-align: left;\">false</td><td style = \"text-align: left;\">.((((.((((((((((......)))))))))).)))).((((..(((((.......)))))..))))..((((.(((((((.....)))).))).)))).........</td><td style = \"text-align: right;\">-31.5</td><td style = \"text-align: right;\">5.93302</td><td style = \"text-align: right;\">0</td><td style = \"text-align: right;\">0</td></tr><tr><td class = \"rowNumber\" style = \"font-weight: bold; text-align: right;\">859</td><td style = \"text-align: right;\">43569</td><td style = \"text-align: left;\">1-4-1-10-6-10-1-4-1</td><td style = \"text-align: left;\">.((((.((((((((((......)))))))))).)))).</td><td style = \"text-align: left;\">ACAAAAAAACCGAAAATATTTGTTTTTGGTTTGTTTGCC</td><td style = \"text-align: right;\">39</td><td style = \"text-align: right;\">1</td><td style = \"text-align: left;\">false</td><td style = \"text-align: left;\">.((((.((((((((((......)))))))))).)))).((((..(((((.......)))))..))))..((((.(((((((.....)))).))).)))).........</td><td style = \"text-align: right;\">-31.4</td><td style = \"text-align: right;\">5.8657</td><td style = \"text-align: right;\">0</td><td style = \"text-align: right;\">0</td></tr><tr><td class = \"rowNumber\" style = \"font-weight: bold; text-align: right;\">860</td><td style = \"text-align: right;\">13456</td><td style = \"text-align: left;\">1-4-1-10-6-10-1-4-1</td><td style = \"text-align: left;\">.((((.((((((((((......)))))))))).)))).</td><td style = \"text-align: left;\">ACAAAAAAACCGTTCTATGGGGGGGATGGTTTGTTTGCC</td><td style = \"text-align: right;\">39</td><td style = \"text-align: right;\">1</td><td style = \"text-align: left;\">false</td><td style = \"text-align: left;\">.((((.((((((((((......)))))))))).)))).((((..(((((.......)))))..))))..((((.(((((((.....)))).))).)))).........</td><td style = \"text-align: right;\">-31.3</td><td style = \"text-align: right;\">5.34061</td><td style = \"text-align: right;\">0</td><td style = \"text-align: right;\">0</td></tr><tr><td class = \"rowNumber\" style = \"font-weight: bold; text-align: right;\">861</td><td style = \"text-align: right;\">26438</td><td style = \"text-align: left;\">1-4-1-10-6-10-1-4-1</td><td style = \"text-align: left;\">.((((.((((((((((......)))))))))).)))).</td><td style = \"text-align: left;\">ACAAAAAAACCATTTAAGGTGCTAGGTGGTTTGTTTGCC</td><td style = \"text-align: right;\">39</td><td style = \"text-align: right;\">1</td><td style = \"text-align: left;\">false</td><td style = \"text-align: left;\">.((((.((((((((((......)))))))))).)))).((((..(((((.......)))))..))))..((((.(((((((.....)))).))).)))).........</td><td style = \"text-align: right;\">-30.8</td><td style = \"text-align: right;\">6.60091</td><td style = \"text-align: right;\">0</td><td style = \"text-align: right;\">0</td></tr><tr><td class = \"rowNumber\" style = \"font-weight: bold; text-align: right;\">862</td><td style = \"text-align: right;\">33508</td><td style = \"text-align: left;\">1-4-1-10-6-10-1-4-1</td><td style = \"text-align: left;\">.((((.((((((((((......)))))))))).)))).</td><td style = \"text-align: left;\">ACAAAAAAACCATTTTAGAGCAGGGGTGGTTTGTTTGCC</td><td style = \"text-align: right;\">39</td><td style = \"text-align: right;\">1</td><td style = \"text-align: left;\">false</td><td style = \"text-align: left;\">.((((.((((((((((......)))))))))).)))).((((..(((((.......)))))..))))..((((.(((((((.....)))).))).)))).........</td><td style = \"text-align: right;\">-30.6</td><td style = \"text-align: right;\">7.08075</td><td style = \"text-align: right;\">0</td><td style = \"text-align: right;\">0</td></tr><tr><td class = \"rowNumber\" style = \"font-weight: bold; text-align: right;\">863</td><td style = \"text-align: right;\">3907</td><td style = \"text-align: left;\">1-4-1-10-6-10-1-4-1</td><td style = \"text-align: left;\">.((((.((((((((((......)))))))))).)))).</td><td style = \"text-align: left;\">ACAAAAAAACCAGTGTCAGTATACGTTGGTTTGTTTGCC</td><td style = \"text-align: right;\">39</td><td style = \"text-align: right;\">2</td><td style = \"text-align: left;\">false</td><td style = \"text-align: left;\">.((((.((((((((((......)))))))))).)))).((((..(((((.......)))))..))))..((((.(((((((.....)))).))).)))).........</td><td style = \"text-align: right;\">-30.5</td><td style = \"text-align: right;\">8.8843</td><td style = \"text-align: right;\">0</td><td style = \"text-align: right;\">0</td></tr><tr><td class = \"rowNumber\" style = \"font-weight: bold; text-align: right;\">864</td><td style = \"text-align: right;\">43283</td><td style = \"text-align: left;\">1-4-1-10-6-10-1-4-1</td><td style = \"text-align: left;\">.((((.((((((((((......)))))))))).)))).</td><td style = \"text-align: left;\">ACAAAAAAACCGAGGGGGGCAGTTTTTGGTTTGTTTGCC</td><td style = \"text-align: right;\">39</td><td style = \"text-align: right;\">1</td><td style = \"text-align: left;\">false</td><td style = \"text-align: left;\">.((((.((((((((((......)))))))))).)))).((((..(((((.......)))))..))))..((((.(((((((.....)))).))).)))).........</td><td style = \"text-align: right;\">-30.2</td><td style = \"text-align: right;\">23.2483</td><td style = \"text-align: right;\">0</td><td style = \"text-align: right;\">0</td></tr><tr><td class = \"rowNumber\" style = \"font-weight: bold; text-align: right;\">865</td><td style = \"text-align: right;\">5949</td><td style = \"text-align: left;\">1-4-1-10-6-10-1-4-1</td><td style = \"text-align: left;\">.((((.((((((((((......)))))))))).)))).</td><td style = \"text-align: left;\">ACAAAAAAACCGTCTTGGCCGGAAGGTGGTTTGTTTGCC</td><td style = \"text-align: right;\">39</td><td style = \"text-align: right;\">2</td><td style = \"text-align: left;\">false</td><td style = \"text-align: left;\">.((((.((((((((((......)))))))))).)))).((((..(((((.......)))))..))))..((((.(((((((.....)))).))).)))).........</td><td style = \"text-align: right;\">-29.6</td><td style = \"text-align: right;\">13.5294</td><td style = \"text-align: right;\">0</td><td style = \"text-align: right;\">0</td></tr><tr><td class = \"rowNumber\" style = \"font-weight: bold; text-align: right;\">866</td><td style = \"text-align: right;\">15118</td><td style = \"text-align: left;\">1-4-1-10-6-10-1-4-1</td><td style = \"text-align: left;\">.((((.((((((((((......)))))))))).)))).</td><td style = \"text-align: left;\">ACAAAAAAACCGGTGTGAGTATATATTGGTTTGTTTGCC</td><td style = \"text-align: right;\">39</td><td style = \"text-align: right;\">1</td><td style = \"text-align: left;\">false</td><td style = \"text-align: left;\">.((((.((((((((((......)))))))))).)))).((((..(((((.......)))))..))))..((((.(((((((.....)))).))).)))).........</td><td style = \"text-align: right;\">-28.3</td><td style = \"text-align: right;\">8.20695</td><td style = \"text-align: right;\">0</td><td style = \"text-align: right;\">0</td></tr></tbody></table></div>"
      ],
      "text/latex": [
       "\\begin{tabular}{r|ccccc}\n",
       "\t& Sequence\\_number & Loop1\\_description & MFE\\_SUBstructure & LoopI & \\\\\n",
       "\t\\hline\n",
       "\t& Int64 & String & String & String & \\\\\n",
       "\t\\hline\n",
       "\t1 & 32146 & 1-4-1-10-6-10-1-4-1 & .((((.((((((((((......)))))))))).)))). & ACAAAAAAACCAGCGGCACTAACCGCTGGTTTGTTTGCC & $\\dots$ \\\\\n",
       "\t2 & 7520 & 1-4-1-10-6-10-1-4-1 & .((((.((((((((((......)))))))))).)))). & ACAAAAAAACCAGCCGAAGGTACGGCTGGTTTGTTTGCC & $\\dots$ \\\\\n",
       "\t3 & 23411 & 1-4-1-10-6-10-1-4-1 & .((((.((((((((((......)))))))))).)))). & ACAAAAAAACCACTCCGCCTTAGGAGTGGTTTGTTTGCC & $\\dots$ \\\\\n",
       "\t4 & 15824 & 1-4-1-10-6-10-1-4-1 & .((((.((((((((((......)))))))))).)))). & ACAAAAAAACCAGGCATACTGTTGCCTGGTTTGTTTGCC & $\\dots$ \\\\\n",
       "\t5 & 9816 & 1-4-1-10-6-10-1-4-1 & .((((.((((((((((......)))))))))).)))). & ACAAAAAAACCACCGGTTTCTCCCGGTGGTTTGTTTGCC & $\\dots$ \\\\\n",
       "\t6 & 14114 & 1-4-1-10-6-10-1-4-1 & .((((.((((((((((......)))))))))).)))). & ACAAAAAAACCACCCATACTGTTGGGTGGTTTGTTTGCC & $\\dots$ \\\\\n",
       "\t7 & 4840 & 1-4-1-10-6-10-1-4-1 & .((((.((((((((((......)))))))))).)))). & ACAAAAAAACCAGCCTTAGAGTGGGCTGGTTTGTTTGCC & $\\dots$ \\\\\n",
       "\t8 & 31076 & 1-4-1-10-6-10-1-4-1 & .((((.((((((((((......)))))))))).)))). & ACAAAAAAACCACACCTTGAGTGGTGTGGTTTGTTTGCC & $\\dots$ \\\\\n",
       "\t9 & 21928 & 1-4-1-10-6-10-1-4-1 & .((((.((((((((((......)))))))))).)))). & ACAAAAAAACCACCCTTGCTTTGGGGTGGTTTGTTTGCC & $\\dots$ \\\\\n",
       "\t10 & 16714 & 1-4-1-10-6-10-1-4-1 & .((((.((((((((((......)))))))))).)))). & ACAAAAAAACCACCCTGGTCAAGGGGTGGTTTGTTTGCC & $\\dots$ \\\\\n",
       "\t11 & 9413 & 1-4-1-10-6-10-1-4-1 & .((((.((((((((((......)))))))))).)))). & ACAAAAAAACCAGAGCTACACCGCTCTGGTTTGTTTGCC & $\\dots$ \\\\\n",
       "\t12 & 31788 & 1-4-1-10-6-10-1-4-1 & .((((.((((((((((......)))))))))).)))). & ACAAAAAAACCATCCCAGTAGAGGGATGGTTTGTTTGCC & $\\dots$ \\\\\n",
       "\t13 & 40949 & 1-4-1-10-6-10-1-4-1 & .((((.((((((((((......)))))))))).)))). & ACAAAAAAACCACTCGGGGAAACGAGTGGTTTGTTTGCC & $\\dots$ \\\\\n",
       "\t14 & 14576 & 1-4-1-10-6-10-1-4-1 & .((((.((((((((((......)))))))))).)))). & ACAAAAAAACCACTCCAAACGAGGAGTGGTTTGTTTGCC & $\\dots$ \\\\\n",
       "\t15 & 716 & 1-4-1-10-6-10-1-4-1 & .((((.((((((((((......)))))))))).)))). & ACAAAAAAACCACCTCATTCAAGAGGTGGTTTGTTTGCC & $\\dots$ \\\\\n",
       "\t16 & 8341 & 1-4-1-10-6-10-1-4-1 & .((((.((((((((((......)))))))))).)))). & ACAAAAAAACCAGCACGGTCGTGTGCTGGTTTGTTTGCC & $\\dots$ \\\\\n",
       "\t17 & 19644 & 1-4-1-10-6-10-1-4-1 & .((((.((((((((((......)))))))))).)))). & ACAAAAAAACCAGGGTCAAGCAGCCCTGGTTTGTTTGCC & $\\dots$ \\\\\n",
       "\t18 & 14769 & 1-4-1-10-6-10-1-4-1 & .((((.((((((((((......)))))))))).)))). & ACAAAAAAACCACGTCTTTACTGACGTGGTTTGTTTGCC & $\\dots$ \\\\\n",
       "\t19 & 29097 & 1-4-1-10-6-10-1-4-1 & .((((.((((((((((......)))))))))).)))). & ACAAAAAAACCACCACAAAGTAGTGGTGGTTTGTTTGCC & $\\dots$ \\\\\n",
       "\t20 & 26254 & 1-4-1-10-6-10-1-4-1 & .((((.((((((((((......)))))))))).)))). & ACAAAAAAACCACCCAATTGTGTGGGTGGTTTGTTTGCC & $\\dots$ \\\\\n",
       "\t21 & 13871 & 1-4-1-10-6-10-1-4-1 & .((((.((((((((((......)))))))))).)))). & ACAAAAAAACCATCCCCCGGTCGGGATGGTTTGTTTGCC & $\\dots$ \\\\\n",
       "\t22 & 42670 & 1-4-1-10-6-10-1-4-1 & .((((.((((((((((......)))))))))).)))). & ACAAAAAAACCAGGCTTAAGGCGGCCTGGTTTGTTTGCC & $\\dots$ \\\\\n",
       "\t23 & 37431 & 1-4-1-10-6-10-1-4-1 & .((((.((((((((((......)))))))))).)))). & ACAAAAAAACCAGCCTTTTGTCAGGCTGGTTTGTTTGCC & $\\dots$ \\\\\n",
       "\t24 & 16736 & 1-4-1-10-6-10-1-4-1 & .((((.((((((((((......)))))))))).)))). & ACAAAAAAACCACCCATTGGCCTGGGTGGTTTGTTTGCC & $\\dots$ \\\\\n",
       "\t25 & 6422 & 1-4-1-10-6-10-1-4-1 & .((((.((((((((((......)))))))))).)))). & ACAAAAAAACCACCCATCCGTCTGGGTGGTTTGTTTGCC & $\\dots$ \\\\\n",
       "\t26 & 11497 & 1-4-1-10-6-10-1-4-1 & .((((.((((((((((......)))))))))).)))). & ACAAAAAAACCAACCCTTGGCCGGGTTGGTTTGTTTGCC & $\\dots$ \\\\\n",
       "\t27 & 18442 & 1-4-1-10-6-10-1-4-1 & .((((.((((((((((......)))))))))).)))). & ACAAAAAAACCACCCTTAGGGCAGGGTGGTTTGTTTGCC & $\\dots$ \\\\\n",
       "\t28 & 7331 & 1-4-1-10-6-10-1-4-1 & .((((.((((((((((......)))))))))).)))). & ACAAAAAAACCGCTGGGCCCGACCAGTGGTTTGTTTGCC & $\\dots$ \\\\\n",
       "\t29 & 21215 & 1-4-1-10-6-10-1-4-1 & .((((.((((((((((......)))))))))).)))). & ACAAAAAAACCACCGTATCCAAGCGGTGGTTTGTTTGCC & $\\dots$ \\\\\n",
       "\t30 & 2541 & 1-4-1-10-6-10-1-4-1 & .((((.((((((((((......)))))))))).)))). & ACAAAAAAACCAGCGAATTTTGTCGCTGGTTTGTTTGCC & $\\dots$ \\\\\n",
       "\t$\\dots$ & $\\dots$ & $\\dots$ & $\\dots$ & $\\dots$ &  \\\\\n",
       "\\end{tabular}\n"
      ],
      "text/plain": [
       "\u001b[1m866×12 DataFrame\u001b[0m\n",
       "\u001b[1m Row \u001b[0m│\u001b[1m Sequence_number \u001b[0m\u001b[1m Loop1_description   \u001b[0m\u001b[1m MFE_SUBstructure                 \u001b[0m ⋯\n",
       "     │\u001b[90m Int64           \u001b[0m\u001b[90m String              \u001b[0m\u001b[90m String                           \u001b[0m ⋯\n",
       "─────┼──────────────────────────────────────────────────────────────────────────\n",
       "   1 │           32146  1-4-1-10-6-10-1-4-1  .((((.((((((((((......))))))))))… ⋯\n",
       "   2 │            7520  1-4-1-10-6-10-1-4-1  .((((.((((((((((......))))))))))…\n",
       "   3 │           23411  1-4-1-10-6-10-1-4-1  .((((.((((((((((......))))))))))…\n",
       "   4 │           15824  1-4-1-10-6-10-1-4-1  .((((.((((((((((......))))))))))…\n",
       "   5 │            9816  1-4-1-10-6-10-1-4-1  .((((.((((((((((......))))))))))… ⋯\n",
       "   6 │           14114  1-4-1-10-6-10-1-4-1  .((((.((((((((((......))))))))))…\n",
       "   7 │            4840  1-4-1-10-6-10-1-4-1  .((((.((((((((((......))))))))))…\n",
       "   8 │           31076  1-4-1-10-6-10-1-4-1  .((((.((((((((((......))))))))))…\n",
       "   9 │           21928  1-4-1-10-6-10-1-4-1  .((((.((((((((((......))))))))))… ⋯\n",
       "  10 │           16714  1-4-1-10-6-10-1-4-1  .((((.((((((((((......))))))))))…\n",
       "  11 │            9413  1-4-1-10-6-10-1-4-1  .((((.((((((((((......))))))))))…\n",
       "  ⋮  │        ⋮                  ⋮                           ⋮                 ⋱\n",
       " 857 │           41523  1-4-1-10-6-10-1-4-1  .((((.((((((((((......))))))))))…\n",
       " 858 │           34162  1-4-1-10-6-10-1-4-1  .((((.((((((((((......))))))))))… ⋯\n",
       " 859 │           43569  1-4-1-10-6-10-1-4-1  .((((.((((((((((......))))))))))…\n",
       " 860 │           13456  1-4-1-10-6-10-1-4-1  .((((.((((((((((......))))))))))…\n",
       " 861 │           26438  1-4-1-10-6-10-1-4-1  .((((.((((((((((......))))))))))…\n",
       " 862 │           33508  1-4-1-10-6-10-1-4-1  .((((.((((((((((......))))))))))… ⋯\n",
       " 863 │            3907  1-4-1-10-6-10-1-4-1  .((((.((((((((((......))))))))))…\n",
       " 864 │           43283  1-4-1-10-6-10-1-4-1  .((((.((((((((((......))))))))))…\n",
       " 865 │            5949  1-4-1-10-6-10-1-4-1  .((((.((((((((((......))))))))))…\n",
       " 866 │           15118  1-4-1-10-6-10-1-4-1  .((((.((((((((((......))))))))))… ⋯\n",
       "\u001b[36m                                                  9 columns and 845 rows omitted\u001b[0m"
      ]
     },
     "execution_count": 43,
     "metadata": {},
     "output_type": "execute_result"
    }
   ],
   "source": [
    "LongestLoop = \"1-4-1-10-6-10-1-4-1\"\n",
    "LongestLoopAnalysis = filter(:Loop1_description => n -> n == LongestLoop, ForLoopAnalysis)\n",
    "sort!(LongestLoopAnalysis, [:MFE_energy, :Mbp_dist])"
   ]
  },
  {
   "cell_type": "code",
   "execution_count": 44,
   "id": "0dc81561-eda8-4cde-a27c-7b401ccc9789",
   "metadata": {},
   "outputs": [
    {
     "data": {
      "text/html": [
       "<div><div style = \"float: left;\"><span>3×12 DataFrame</span></div><div style = \"clear: both;\"></div></div><div class = \"data-frame\" style = \"overflow-x: scroll;\"><table class = \"data-frame\" style = \"margin-bottom: 6px;\"><thead><tr class = \"header\"><th class = \"rowNumber\" style = \"font-weight: bold; text-align: right;\">Row</th><th style = \"text-align: left;\">Sequence_number</th><th style = \"text-align: left;\">Loop1_description</th><th style = \"text-align: left;\">MFE_SUBstructure</th><th style = \"text-align: left;\">LoopI</th><th style = \"text-align: left;\">Loop_length</th><th style = \"text-align: left;\">Count</th><th style = \"text-align: left;\">WT</th><th style = \"text-align: left;\">MFE_structure</th><th style = \"text-align: left;\">MFE_energy</th><th style = \"text-align: left;\">Mbp_dist</th><th style = \"text-align: left;\">Seq_Cluster</th><th style = \"text-align: left;\">Str_Cluster</th></tr><tr class = \"subheader headerLastRow\"><th class = \"rowNumber\" style = \"font-weight: bold; text-align: right;\"></th><th title = \"Int64\" style = \"text-align: left;\">Int64</th><th title = \"String\" style = \"text-align: left;\">String</th><th title = \"String\" style = \"text-align: left;\">String</th><th title = \"String\" style = \"text-align: left;\">String</th><th title = \"Int64\" style = \"text-align: left;\">Int64</th><th title = \"Int64\" style = \"text-align: left;\">Int64</th><th title = \"String7\" style = \"text-align: left;\">String7</th><th title = \"String\" style = \"text-align: left;\">String</th><th title = \"Float64\" style = \"text-align: left;\">Float64</th><th title = \"Float64\" style = \"text-align: left;\">Float64</th><th title = \"Int64\" style = \"text-align: left;\">Int64</th><th title = \"Int64\" style = \"text-align: left;\">Int64</th></tr></thead><tbody><tr><td class = \"rowNumber\" style = \"font-weight: bold; text-align: right;\">1</td><td style = \"text-align: right;\">38404</td><td style = \"text-align: left;\">1-4-1-10-3-10-1-4-1</td><td style = \"text-align: left;\">.((((.((((((((((...)))))))))).)))).</td><td style = \"text-align: left;\">ACAAAAAAACCAGTAGCACCTACTGGTTTGTTTGCC</td><td style = \"text-align: right;\">36</td><td style = \"text-align: right;\">1</td><td style = \"text-align: left;\">false</td><td style = \"text-align: left;\">.((((.((((((((((...)))))))))).)))).((((..(((((.......)))))..))))..((((.(((((((.....)))).))).)))).........</td><td style = \"text-align: right;\">-35.4</td><td style = \"text-align: right;\">5.34033</td><td style = \"text-align: right;\">0</td><td style = \"text-align: right;\">0</td></tr><tr><td class = \"rowNumber\" style = \"font-weight: bold; text-align: right;\">2</td><td style = \"text-align: right;\">16293</td><td style = \"text-align: left;\">1-4-1-10-3-10-1-4-1</td><td style = \"text-align: left;\">.((((.((((((((((...)))))))))).)))).</td><td style = \"text-align: left;\">ACAAAAAAACCAAGTCTCTGACTTGGTTTGTTTGCC</td><td style = \"text-align: right;\">36</td><td style = \"text-align: right;\">1</td><td style = \"text-align: left;\">false</td><td style = \"text-align: left;\">.((((.((((((((((...)))))))))).)))).((((..(((((.......)))))..))))..((((.(((((((.....)))).))).)))).........</td><td style = \"text-align: right;\">-35.3</td><td style = \"text-align: right;\">5.19074</td><td style = \"text-align: right;\">0</td><td style = \"text-align: right;\">0</td></tr><tr><td class = \"rowNumber\" style = \"font-weight: bold; text-align: right;\">3</td><td style = \"text-align: right;\">43856</td><td style = \"text-align: left;\">1-4-1-10-3-10-1-4-1</td><td style = \"text-align: left;\">.((((.((((((((((...)))))))))).)))).</td><td style = \"text-align: left;\">ACAAAAAAACCAACACTGAGTGTTGGTTTGTTTGCC</td><td style = \"text-align: right;\">36</td><td style = \"text-align: right;\">1</td><td style = \"text-align: left;\">false</td><td style = \"text-align: left;\">.((((.((((((((((...)))))))))).)))).((((..(((((.......)))))..))))..((((.(((((((.....)))).))).)))).........</td><td style = \"text-align: right;\">-35.1</td><td style = \"text-align: right;\">5.31461</td><td style = \"text-align: right;\">0</td><td style = \"text-align: right;\">0</td></tr></tbody></table></div>"
      ],
      "text/latex": [
       "\\begin{tabular}{r|ccccc}\n",
       "\t& Sequence\\_number & Loop1\\_description & MFE\\_SUBstructure & LoopI & \\\\\n",
       "\t\\hline\n",
       "\t& Int64 & String & String & String & \\\\\n",
       "\t\\hline\n",
       "\t1 & 38404 & 1-4-1-10-3-10-1-4-1 & .((((.((((((((((...)))))))))).)))). & ACAAAAAAACCAGTAGCACCTACTGGTTTGTTTGCC & $\\dots$ \\\\\n",
       "\t2 & 16293 & 1-4-1-10-3-10-1-4-1 & .((((.((((((((((...)))))))))).)))). & ACAAAAAAACCAAGTCTCTGACTTGGTTTGTTTGCC & $\\dots$ \\\\\n",
       "\t3 & 43856 & 1-4-1-10-3-10-1-4-1 & .((((.((((((((((...)))))))))).)))). & ACAAAAAAACCAACACTGAGTGTTGGTTTGTTTGCC & $\\dots$ \\\\\n",
       "\\end{tabular}\n"
      ],
      "text/plain": [
       "\u001b[1m3×12 DataFrame\u001b[0m\n",
       "\u001b[1m Row \u001b[0m│\u001b[1m Sequence_number \u001b[0m\u001b[1m Loop1_description   \u001b[0m\u001b[1m MFE_SUBstructure                 \u001b[0m ⋯\n",
       "     │\u001b[90m Int64           \u001b[0m\u001b[90m String              \u001b[0m\u001b[90m String                           \u001b[0m ⋯\n",
       "─────┼──────────────────────────────────────────────────────────────────────────\n",
       "   1 │           38404  1-4-1-10-3-10-1-4-1  .((((.((((((((((...)))))))))).))… ⋯\n",
       "   2 │           16293  1-4-1-10-3-10-1-4-1  .((((.((((((((((...)))))))))).))…\n",
       "   3 │           43856  1-4-1-10-3-10-1-4-1  .((((.((((((((((...)))))))))).))…\n",
       "\u001b[36m                                                               9 columns omitted\u001b[0m"
      ]
     },
     "execution_count": 44,
     "metadata": {},
     "output_type": "execute_result"
    }
   ],
   "source": [
    "ShortestLoop = \"1-4-1-10-3-10-1-4-1\"\n",
    "ShortestLoopAnalysis = filter(:Loop1_description => n -> n == ShortestLoop, ForLoopAnalysis)\n",
    "sort!(ShortestLoopAnalysis, [:MFE_energy, :Mbp_dist])"
   ]
  },
  {
   "cell_type": "code",
   "execution_count": 46,
   "id": "9107caa0-aff6-4f35-8427-e4edf099b9ca",
   "metadata": {},
   "outputs": [
    {
     "name": "stdout",
     "output_type": "stream",
     "text": [
      "(866,)\n",
      "Any[\".((((.((((((((((......)))))))))).)))).\", \".((((.((((((((((.......)))))))))).)))).\", \".((((.((((((((((...)))))))))).)))).\", \".((((.((((((((((....)))))))))).)))).\", \".((((.((((((((((.....)))))))))).)))).\"]\n",
      "(3,)\n",
      "Any[\".((((.((((((((((......)))))))))).)))).\", \".((((.((((((((((.......)))))))))).)))).\", \".((((.((((((((((...)))))))))).)))).\", \".((((.((((((((((....)))))))))).)))).\", \".((((.((((((((((.....)))))))))).)))).\"]\n",
      "(3,)\n",
      "Any[\".((((.((((((((((......)))))))))).)))).\", \".((((.((((((((((.......)))))))))).)))).\", \".((((.((((((((((...)))))))))).)))).\", \".((((.((((((((((....)))))))))).)))).\", \".((((.((((((((((.....)))))))))).)))).\"]\n",
      "(8,)\n",
      "Any[\".((((.((((((((((......)))))))))).)))).\", \".((((.((((((((((.......)))))))))).)))).\", \".((((.((((((((((...)))))))))).)))).\", \".((((.((((((((((....)))))))))).)))).\", \".((((.((((((((((.....)))))))))).)))).\"]\n",
      "(28,)\n",
      "Any[\".((((.((((((((((......)))))))))).)))).\", \".((((.((((((((((.......)))))))))).)))).\", \".((((.((((((((((...)))))))))).)))).\", \".((((.((((((((((....)))))))))).)))).\", \".((((.((((((((((.....)))))))))).)))).\"]\n"
     ]
    }
   ],
   "source": [
    "## listing the seq_numbers with the same structure in a dictionary\n",
    "\n",
    "dict_LoopSame_structure = Dict()\n",
    "\n",
    "for substructure in LoopSame_structure\n",
    "    seqNO_substruc = []\n",
    "    entries_substruc = filter(:MFE_SUBstructure => n -> n == substructure, libStructureAnalysis)\n",
    "    for entry in entries_substruc.Sequence_number\n",
    "        push!(seqNO_substruc, entry)\n",
    "    end\n",
    "    \n",
    "    dict_LoopSame_structure[substructure] = seqNO_substruc\n",
    "end\n",
    "\n",
    "## print the seq_numbers to every substructure\n",
    "#for entry in dict_LoopSame_structure\n",
    " #   println(entry)\n",
    "  #  pritnln(\"------------------------\")\n",
    "#end\n",
    "\n",
    "## print the amount of seq per substructure\n",
    "for value in values(dict_LoopSame_structure)\n",
    "    println(size(value))\n",
    "    println(keys(dict_LoopSame_structure))\n",
    "end"
   ]
  },
  {
   "cell_type": "markdown",
   "id": "7f3945b9-ba23-4434-95f4-7ace20a3c8b7",
   "metadata": {},
   "source": [
    "#### Searching for Sequences with variable upper stem & Loop (1-4-1-x-y-x-1-4-1)"
   ]
  },
  {
   "cell_type": "markdown",
   "id": "b9126a7c-b564-41e4-a2a1-c50b6fb22d36",
   "metadata": {},
   "source": [
    "<a id='L1M2varStem_Loop'></a>"
   ]
  },
  {
   "cell_type": "code",
   "execution_count": 47,
   "id": "706552d9-36f0-4428-a501-41229cdb8f60",
   "metadata": {
    "tags": []
   },
   "outputs": [
    {
     "data": {
      "text/plain": [
       "700-element Vector{Any}:\n",
       " \"1-4-1-1-1-1-1-4-1\"\n",
       " \"1-4-1-1-2-1-1-4-1\"\n",
       " \"1-4-1-1-3-1-1-4-1\"\n",
       " \"1-4-1-1-4-1-1-4-1\"\n",
       " \"1-4-1-1-5-1-1-4-1\"\n",
       " \"1-4-1-1-6-1-1-4-1\"\n",
       " \"1-4-1-1-7-1-1-4-1\"\n",
       " \"1-4-1-1-8-1-1-4-1\"\n",
       " \"1-4-1-1-9-1-1-4-1\"\n",
       " \"1-4-1-1-10-1-1-4-1\"\n",
       " \"1-4-1-1-11-1-1-4-1\"\n",
       " \"1-4-1-1-12-1-1-4-1\"\n",
       " \"1-4-1-1-13-1-1-4-1\"\n",
       " ⋮\n",
       " \"1-4-1-20-24-20-1-4-1\"\n",
       " \"1-4-1-20-25-20-1-4-1\"\n",
       " \"1-4-1-20-26-20-1-4-1\"\n",
       " \"1-4-1-20-27-20-1-4-1\"\n",
       " \"1-4-1-20-28-20-1-4-1\"\n",
       " \"1-4-1-20-29-20-1-4-1\"\n",
       " \"1-4-1-20-30-20-1-4-1\"\n",
       " \"1-4-1-20-31-20-1-4-1\"\n",
       " \"1-4-1-20-32-20-1-4-1\"\n",
       " \"1-4-1-20-33-20-1-4-1\"\n",
       " \"1-4-1-20-34-20-1-4-1\"\n",
       " \"1-4-1-20-35-20-1-4-1\""
      ]
     },
     "execution_count": 47,
     "metadata": {},
     "output_type": "execute_result"
    }
   ],
   "source": [
    "## creating search set to filter sequences based on variable upper stem and loop\n",
    "## the ranges were determined by the maximum LoopI length of the L1L1 (== 47 bases) and the bases for the lower stem were substracted (minus 12 bases)\n",
    "## for the stem was considered that it has to be symmetric -> maximum of m is (half of LoopI length - 12 bases)\n",
    "\n",
    "search_set_uStemLoop = []\n",
    "for n = 1: 20\n",
    "    for m = 1:35\n",
    "        wt_pre = \"1-4-1-\"\n",
    "        wt_loop = \"-5-\"\n",
    "        wt_pos = \"-1-4-1\"\n",
    "\n",
    "        new_item = wt_pre * \"$(n)\" * \"-\" * \"$(m)\" * \"-\" * \"$(n)\" * wt_pos\n",
    "        push!(search_set_uStemLoop, new_item)\n",
    "    end   \n",
    "end\n",
    "search_set_uStemLoop"
   ]
  },
  {
   "cell_type": "code",
   "execution_count": 48,
   "id": "02ff3ca9-82be-48a2-8fe4-c19b5229c5af",
   "metadata": {
    "tags": []
   },
   "outputs": [
    {
     "ename": "LoadError",
     "evalue": "UndefVarError: `libStructureAnalysis` not defined",
     "output_type": "error",
     "traceback": [
      "UndefVarError: `libStructureAnalysis` not defined",
      "",
      "Stacktrace:",
      " [1] top-level scope",
      "   @ In[48]:1"
     ]
    }
   ],
   "source": [
    "ForuStemLoopAnalysis = filter(:Loop1_description => n -> n ∈ search_set_uStemLoop, libStructureAnalysis)"
   ]
  },
  {
   "cell_type": "code",
   "execution_count": 49,
   "id": "a159b346-65ed-4dd7-88d5-e0d6fc64defc",
   "metadata": {},
   "outputs": [
    {
     "ename": "LoadError",
     "evalue": "UndefVarError: `ForuStemLoopAnalysis` not defined",
     "output_type": "error",
     "traceback": [
      "UndefVarError: `ForuStemLoopAnalysis` not defined",
      "",
      "Stacktrace:",
      " [1] top-level scope",
      "   @ ./In[49]:3"
     ]
    }
   ],
   "source": [
    "## sorting the structures with relative similarity by their actual Loop1_description\n",
    "uStemLoopSame_structure = []\n",
    "for structure in ForuStemLoopAnalysis.MFE_SUBstructure\n",
    "    if structure ∉ uStemLoopSame_structure\n",
    "        push!(uStemLoopSame_structure, structure)\n",
    "    end\n",
    "end\n",
    "uStemLoopSame_structure"
   ]
  },
  {
   "cell_type": "code",
   "execution_count": 50,
   "id": "bba5285f-028a-45a6-bf93-908faac62bef",
   "metadata": {
    "tags": []
   },
   "outputs": [
    {
     "ename": "LoadError",
     "evalue": "UndefVarError: `libStructureAnalysis` not defined",
     "output_type": "error",
     "traceback": [
      "UndefVarError: `libStructureAnalysis` not defined",
      "",
      "Stacktrace:",
      " [1] top-level scope",
      "   @ In[50]:1"
     ]
    }
   ],
   "source": [
    "lib_uStemLoopAnalysis = filter(:MFE_SUBstructure => n -> n ∈ uStemLoopSame_structure, libStructureAnalysis)"
   ]
  },
  {
   "cell_type": "code",
   "execution_count": 63,
   "id": "696e7a8d-3ac8-415e-be06-6303cf1d55ba",
   "metadata": {},
   "outputs": [
    {
     "name": "stdout",
     "output_type": "stream",
     "text": [
      "2\n",
      "44\n",
      "2036\n",
      "1924\n",
      "50\n",
      "28\n",
      "1563\n",
      "1226\n",
      "47\n",
      "426\n",
      "15012\n",
      "3\n",
      "8\n",
      "866\n",
      "364\n",
      "72\n"
     ]
    },
    {
     "data": {
      "text/plain": [
       "23671"
      ]
     },
     "execution_count": 63,
     "metadata": {},
     "output_type": "execute_result"
    }
   ],
   "source": [
    "## listing the seq_numbers with the same structure in a dictionary\n",
    "\n",
    "dict_uStemLoopSame_structure = Dict()\n",
    "\n",
    "for substructure in uStemLoopSame_structure\n",
    "    seqNO_substruc = []\n",
    "    entries_substruc = filter(:MFE_SUBstructure => n -> n == substructure, libStructureAnalysis)\n",
    "    for entry in entries_substruc.Sequence_number\n",
    "        push!(seqNO_substruc, entry)\n",
    "    end\n",
    "    \n",
    "    dict_uStemLoopSame_structure[substructure] = seqNO_substruc\n",
    "end\n",
    "\n",
    "## print the seq_numbers to every substructure\n",
    "#for entry in dict_uStemLoopSame_structure\n",
    "    #println(entry)\n",
    "    #pritnln(\"------------------------\")\n",
    "#end\n",
    "\n",
    "## print the amount of seq per substructure\n",
    "sum = 0\n",
    "for value in values(dict_uStemLoopSame_structure)\n",
    "    println(size(value)[1])\n",
    "    sum += size(value)[1]\n",
    "    #println(keys(dict_uStemLoopSame_structure))\n",
    "end\n",
    "sum"
   ]
  },
  {
   "cell_type": "markdown",
   "id": "adbbb88d-ca74-471b-85cc-fbcb22ee81ea",
   "metadata": {},
   "source": [
    "#### Convenient point for saving partial results and for restarting later analysis"
   ]
  },
  {
   "cell_type": "code",
   "execution_count": 65,
   "id": "e8856014-66ee-4552-96c2-cce072e220c1",
   "metadata": {},
   "outputs": [],
   "source": [
    "save_name = \"varLoopStemAnalysis_\" * file_name[1:end-6] * \".csv\"\n",
    "\n",
    "\n",
    "## Saving results\n",
    "CSV.write(save_name, lib_uStemLoopAnalysis)\n",
    "\n",
    "## Opening saved results\n",
    "lib_uStemLoopAnalysis = CSV.read(save_name, DataFrame);"
   ]
  },
  {
   "cell_type": "code",
   "execution_count": 66,
   "id": "dc3f6e88-7de8-46df-beff-7324ce89ddde",
   "metadata": {},
   "outputs": [
    {
     "data": {
      "text/plain": [
       "find_y_range (generic function with 1 method)"
      ]
     },
     "execution_count": 66,
     "metadata": {},
     "output_type": "execute_result"
    }
   ],
   "source": [
    "function find_y_range(strings::Vector{String})\n",
    "    y_values = Set{Int}()\n",
    "\n",
    "    for str in strings\n",
    "        # Extract the y value from the string\n",
    "        match_result = match(r\"1-4-1-\\d+-(\\d+)-\\d+-1-4-1\", str)\n",
    "        \n",
    "        if match_result !== nothing\n",
    "            y_value = parse(Int, match_result.captures[1])\n",
    "            push!(y_values, y_value)\n",
    "        end\n",
    "    end\n",
    "\n",
    "    return y_values\n",
    "end\n"
   ]
  },
  {
   "cell_type": "code",
   "execution_count": 68,
   "id": "4bc6fe36-4ab5-44cd-8227-5dc52829dd2a",
   "metadata": {},
   "outputs": [
    {
     "name": "stdout",
     "output_type": "stream",
     "text": [
      "Range of y values:\n",
      "[3, 4, 5, 6, 7, 8, 9, 10, 11, 12, 13, 14, 15, 16, 17, 18]\n"
     ]
    }
   ],
   "source": [
    "## getting an overview on the loop sizes of the hairpin structures\n",
    "y_range = find_y_range(libStructureAnalysis.Loop1_description)\n",
    "\n",
    "println(\"Range of y values:\")\n",
    "println(sort!(collect(y_range)))"
   ]
  },
  {
   "cell_type": "code",
   "execution_count": 72,
   "id": "c6ebb89a-f1cf-4686-8dc7-881449a93bce",
   "metadata": {},
   "outputs": [
    {
     "data": {
      "text/html": [
       "<div><div style = \"float: left;\"><span>426×12 DataFrame</span></div><div style = \"float: right;\"><span style = \"font-style: italic;\">401 rows omitted</span></div><div style = \"clear: both;\"></div></div><div class = \"data-frame\" style = \"overflow-x: scroll;\"><table class = \"data-frame\" style = \"margin-bottom: 6px;\"><thead><tr class = \"header\"><th class = \"rowNumber\" style = \"font-weight: bold; text-align: right;\">Row</th><th style = \"text-align: left;\">Sequence_number</th><th style = \"text-align: left;\">Loop1_description</th><th style = \"text-align: left;\">MFE_SUBstructure</th><th style = \"text-align: left;\">LoopI</th><th style = \"text-align: left;\">Loop_length</th><th style = \"text-align: left;\">Count</th><th style = \"text-align: left;\">WT</th><th style = \"text-align: left;\">MFE_structure</th><th style = \"text-align: left;\">MFE_energy</th><th style = \"text-align: left;\">Mbp_dist</th><th style = \"text-align: left;\">Seq_Cluster</th><th style = \"text-align: left;\">Str_Cluster</th></tr><tr class = \"subheader headerLastRow\"><th class = \"rowNumber\" style = \"font-weight: bold; text-align: right;\"></th><th title = \"Int64\" style = \"text-align: left;\">Int64</th><th title = \"String\" style = \"text-align: left;\">String</th><th title = \"String\" style = \"text-align: left;\">String</th><th title = \"String\" style = \"text-align: left;\">String</th><th title = \"Int64\" style = \"text-align: left;\">Int64</th><th title = \"Int64\" style = \"text-align: left;\">Int64</th><th title = \"String7\" style = \"text-align: left;\">String7</th><th title = \"String\" style = \"text-align: left;\">String</th><th title = \"Float64\" style = \"text-align: left;\">Float64</th><th title = \"Float64\" style = \"text-align: left;\">Float64</th><th title = \"Int64\" style = \"text-align: left;\">Int64</th><th title = \"Int64\" style = \"text-align: left;\">Int64</th></tr></thead><tbody><tr><td class = \"rowNumber\" style = \"font-weight: bold; text-align: right;\">1</td><td style = \"text-align: right;\">18</td><td style = \"text-align: left;\">1-4-1-11-4-11-1-4-1</td><td style = \"text-align: left;\">.((((.(((((((((((....))))))))))).)))).</td><td style = \"text-align: left;\">ACAAAAAAACCACTTCCAATCGGAGGTGGTTTGTTTGCC</td><td style = \"text-align: right;\">39</td><td style = \"text-align: right;\">16</td><td style = \"text-align: left;\">false</td><td style = \"text-align: left;\">.((((.(((((((((((....))))))))))).)))).((((..(((((.......)))))..))))..((((.(((((((.....)))).))).)))).........</td><td style = \"text-align: right;\">-39.0</td><td style = \"text-align: right;\">4.92684</td><td style = \"text-align: right;\">0</td><td style = \"text-align: right;\">0</td></tr><tr><td class = \"rowNumber\" style = \"font-weight: bold; text-align: right;\">2</td><td style = \"text-align: right;\">287</td><td style = \"text-align: left;\">1-4-1-11-4-11-1-4-1</td><td style = \"text-align: left;\">.((((.(((((((((((....))))))))))).)))).</td><td style = \"text-align: left;\">ACAAAAAAACCACGTTTTCGCAGACGTGGTTTGTTTGCC</td><td style = \"text-align: right;\">39</td><td style = \"text-align: right;\">5</td><td style = \"text-align: left;\">false</td><td style = \"text-align: left;\">.((((.(((((((((((....))))))))))).)))).((((..(((((.......)))))..))))..((((.(((((((.....)))).))).)))).........</td><td style = \"text-align: right;\">-37.3</td><td style = \"text-align: right;\">5.50734</td><td style = \"text-align: right;\">0</td><td style = \"text-align: right;\">0</td></tr><tr><td class = \"rowNumber\" style = \"font-weight: bold; text-align: right;\">3</td><td style = \"text-align: right;\">357</td><td style = \"text-align: left;\">1-4-1-11-4-11-1-4-1</td><td style = \"text-align: left;\">.((((.(((((((((((....))))))))))).)))).</td><td style = \"text-align: left;\">ACAAAAAAACCAGTAATATCCATTACTGGTTTGTTTGCC</td><td style = \"text-align: right;\">39</td><td style = \"text-align: right;\">5</td><td style = \"text-align: left;\">false</td><td style = \"text-align: left;\">.((((.(((((((((((....))))))))))).)))).((((..(((((.......)))))..))))..((((.(((((((.....)))).))).)))).........</td><td style = \"text-align: right;\">-36.1</td><td style = \"text-align: right;\">5.46033</td><td style = \"text-align: right;\">0</td><td style = \"text-align: right;\">0</td></tr><tr><td class = \"rowNumber\" style = \"font-weight: bold; text-align: right;\">4</td><td style = \"text-align: right;\">380</td><td style = \"text-align: left;\">1-4-1-11-4-11-1-4-1</td><td style = \"text-align: left;\">.((((.(((((((((((....))))))))))).)))).</td><td style = \"text-align: left;\">ACAAAAAAACCACTCTTACCTAGGAGTGGTTTGTTTGCC</td><td style = \"text-align: right;\">39</td><td style = \"text-align: right;\">5</td><td style = \"text-align: left;\">false</td><td style = \"text-align: left;\">.((((.(((((((((((....))))))))))).)))).((((..(((((.......)))))..))))..((((.(((((((.....)))).))).)))).........</td><td style = \"text-align: right;\">-38.2</td><td style = \"text-align: right;\">5.34986</td><td style = \"text-align: right;\">0</td><td style = \"text-align: right;\">0</td></tr><tr><td class = \"rowNumber\" style = \"font-weight: bold; text-align: right;\">5</td><td style = \"text-align: right;\">781</td><td style = \"text-align: left;\">1-4-1-11-4-11-1-4-1</td><td style = \"text-align: left;\">.((((.(((((((((((....))))))))))).)))).</td><td style = \"text-align: left;\">ACAAAAAAACCAGCTGTATATATAGCTGGTTTGTTTGCC</td><td style = \"text-align: right;\">39</td><td style = \"text-align: right;\">4</td><td style = \"text-align: left;\">false</td><td style = \"text-align: left;\">.((((.(((((((((((....))))))))))).)))).((((..(((((.......)))))..))))..((((.(((((((.....)))).))).)))).........</td><td style = \"text-align: right;\">-37.2</td><td style = \"text-align: right;\">5.79305</td><td style = \"text-align: right;\">0</td><td style = \"text-align: right;\">0</td></tr><tr><td class = \"rowNumber\" style = \"font-weight: bold; text-align: right;\">6</td><td style = \"text-align: right;\">794</td><td style = \"text-align: left;\">1-4-1-11-4-11-1-4-1</td><td style = \"text-align: left;\">.((((.(((((((((((....))))))))))).)))).</td><td style = \"text-align: left;\">ACAAAAAAACCAAATTGCTCCCAATTTGGTTTGTTTGCC</td><td style = \"text-align: right;\">39</td><td style = \"text-align: right;\">4</td><td style = \"text-align: left;\">false</td><td style = \"text-align: left;\">.((((.(((((((((((....))))))))))).)))).((((..(((((.......)))))..))))..((((.(((((((.....)))).))).)))).........</td><td style = \"text-align: right;\">-35.2</td><td style = \"text-align: right;\">4.96752</td><td style = \"text-align: right;\">0</td><td style = \"text-align: right;\">0</td></tr><tr><td class = \"rowNumber\" style = \"font-weight: bold; text-align: right;\">7</td><td style = \"text-align: right;\">926</td><td style = \"text-align: left;\">1-4-1-11-4-11-1-4-1</td><td style = \"text-align: left;\">.((((.(((((((((((....))))))))))).)))).</td><td style = \"text-align: left;\">ACAAAAAAACCACTATTGTTAAGTAGTGGTTTGTTTGCC</td><td style = \"text-align: right;\">39</td><td style = \"text-align: right;\">4</td><td style = \"text-align: left;\">false</td><td style = \"text-align: left;\">.((((.(((((((((((....))))))))))).)))).((((..(((((.......)))))..))))..((((.(((((((.....)))).))).)))).........</td><td style = \"text-align: right;\">-36.2</td><td style = \"text-align: right;\">5.33948</td><td style = \"text-align: right;\">0</td><td style = \"text-align: right;\">0</td></tr><tr><td class = \"rowNumber\" style = \"font-weight: bold; text-align: right;\">8</td><td style = \"text-align: right;\">1012</td><td style = \"text-align: left;\">1-4-1-11-4-11-1-4-1</td><td style = \"text-align: left;\">.((((.(((((((((((....))))))))))).)))).</td><td style = \"text-align: left;\">ACAAAAAAACCACTAAGCTTATTTAGTGGTTTGTTTGCC</td><td style = \"text-align: right;\">39</td><td style = \"text-align: right;\">4</td><td style = \"text-align: left;\">false</td><td style = \"text-align: left;\">.((((.(((((((((((....))))))))))).)))).((((..(((((.......)))))..))))..((((.(((((((.....)))).))).)))).........</td><td style = \"text-align: right;\">-35.7</td><td style = \"text-align: right;\">5.63256</td><td style = \"text-align: right;\">0</td><td style = \"text-align: right;\">0</td></tr><tr><td class = \"rowNumber\" style = \"font-weight: bold; text-align: right;\">9</td><td style = \"text-align: right;\">1213</td><td style = \"text-align: left;\">1-4-1-11-4-11-1-4-1</td><td style = \"text-align: left;\">.((((.(((((((((((....))))))))))).)))).</td><td style = \"text-align: left;\">ACAAAAAAACCACTGATGATAATCAGTGGTTTGTTTGCC</td><td style = \"text-align: right;\">39</td><td style = \"text-align: right;\">3</td><td style = \"text-align: left;\">false</td><td style = \"text-align: left;\">.((((.(((((((((((....))))))))))).)))).((((..(((((.......)))))..))))..((((.(((((((.....)))).))).)))).........</td><td style = \"text-align: right;\">-40.0</td><td style = \"text-align: right;\">4.94916</td><td style = \"text-align: right;\">0</td><td style = \"text-align: right;\">0</td></tr><tr><td class = \"rowNumber\" style = \"font-weight: bold; text-align: right;\">10</td><td style = \"text-align: right;\">1263</td><td style = \"text-align: left;\">1-4-1-11-4-11-1-4-1</td><td style = \"text-align: left;\">.((((.(((((((((((....))))))))))).)))).</td><td style = \"text-align: left;\">ACAAAAAAACCATGCCTTTATAGGTATGGTTTGTTTGCC</td><td style = \"text-align: right;\">39</td><td style = \"text-align: right;\">3</td><td style = \"text-align: left;\">false</td><td style = \"text-align: left;\">.((((.(((((((((((....))))))))))).)))).((((..(((((.......)))))..))))..((((.(((((((.....)))).))).)))).........</td><td style = \"text-align: right;\">-39.0</td><td style = \"text-align: right;\">4.98186</td><td style = \"text-align: right;\">0</td><td style = \"text-align: right;\">0</td></tr><tr><td class = \"rowNumber\" style = \"font-weight: bold; text-align: right;\">11</td><td style = \"text-align: right;\">1333</td><td style = \"text-align: left;\">1-4-1-11-4-11-1-4-1</td><td style = \"text-align: left;\">.((((.(((((((((((....))))))))))).)))).</td><td style = \"text-align: left;\">ACAAAAAAACCATCCGTCGTAGCGGGTGGTTTGTTTGCC</td><td style = \"text-align: right;\">39</td><td style = \"text-align: right;\">3</td><td style = \"text-align: left;\">false</td><td style = \"text-align: left;\">.((((.(((((((((((....))))))))))).)))).((((..(((((.......)))))..))))..((((.(((((((.....)))).))).)))).........</td><td style = \"text-align: right;\">-37.5</td><td style = \"text-align: right;\">5.00586</td><td style = \"text-align: right;\">0</td><td style = \"text-align: right;\">0</td></tr><tr><td class = \"rowNumber\" style = \"font-weight: bold; text-align: right;\">12</td><td style = \"text-align: right;\">1484</td><td style = \"text-align: left;\">1-4-1-11-4-11-1-4-1</td><td style = \"text-align: left;\">.((((.(((((((((((....))))))))))).)))).</td><td style = \"text-align: left;\">ACAAAAAAACCATCCTGTTACTGGGATGGTTTGTTTGCC</td><td style = \"text-align: right;\">39</td><td style = \"text-align: right;\">3</td><td style = \"text-align: left;\">false</td><td style = \"text-align: left;\">.((((.(((((((((((....))))))))))).)))).((((..(((((.......)))))..))))..((((.(((((((.....)))).))).)))).........</td><td style = \"text-align: right;\">-38.3</td><td style = \"text-align: right;\">5.3649</td><td style = \"text-align: right;\">0</td><td style = \"text-align: right;\">0</td></tr><tr><td class = \"rowNumber\" style = \"font-weight: bold; text-align: right;\">13</td><td style = \"text-align: right;\">1614</td><td style = \"text-align: left;\">1-4-1-11-4-11-1-4-1</td><td style = \"text-align: left;\">.((((.(((((((((((....))))))))))).)))).</td><td style = \"text-align: left;\">ACAAAAAAACCAGATGGTTAGCCATCTGGTTTGTTTGCC</td><td style = \"text-align: right;\">39</td><td style = \"text-align: right;\">3</td><td style = \"text-align: left;\">false</td><td style = \"text-align: left;\">.((((.(((((((((((....))))))))))).)))).((((..(((((.......)))))..))))..((((.(((((((.....)))).))).)))).........</td><td style = \"text-align: right;\">-40.0</td><td style = \"text-align: right;\">4.95699</td><td style = \"text-align: right;\">0</td><td style = \"text-align: right;\">0</td></tr><tr><td style = \"text-align: right;\">&vellip;</td><td style = \"text-align: right;\">&vellip;</td><td style = \"text-align: right;\">&vellip;</td><td style = \"text-align: right;\">&vellip;</td><td style = \"text-align: right;\">&vellip;</td><td style = \"text-align: right;\">&vellip;</td><td style = \"text-align: right;\">&vellip;</td><td style = \"text-align: right;\">&vellip;</td><td style = \"text-align: right;\">&vellip;</td><td style = \"text-align: right;\">&vellip;</td><td style = \"text-align: right;\">&vellip;</td><td style = \"text-align: right;\">&vellip;</td><td style = \"text-align: right;\">&vellip;</td></tr><tr><td class = \"rowNumber\" style = \"font-weight: bold; text-align: right;\">415</td><td style = \"text-align: right;\">43648</td><td style = \"text-align: left;\">1-4-1-11-4-11-1-4-1</td><td style = \"text-align: left;\">.((((.(((((((((((....))))))))))).)))).</td><td style = \"text-align: left;\">ACAAAAAAACCATTATGTTCACATAATGGTTTGTTTGCC</td><td style = \"text-align: right;\">39</td><td style = \"text-align: right;\">1</td><td style = \"text-align: left;\">false</td><td style = \"text-align: left;\">.((((.(((((((((((....))))))))))).)))).((((..(((((.......)))))..))))..((((.(((((((.....)))).))).)))).........</td><td style = \"text-align: right;\">-36.2</td><td style = \"text-align: right;\">4.93436</td><td style = \"text-align: right;\">0</td><td style = \"text-align: right;\">0</td></tr><tr><td class = \"rowNumber\" style = \"font-weight: bold; text-align: right;\">416</td><td style = \"text-align: right;\">43814</td><td style = \"text-align: left;\">1-4-1-11-4-11-1-4-1</td><td style = \"text-align: left;\">.((((.(((((((((((....))))))))))).)))).</td><td style = \"text-align: left;\">ACAAAAAAACCATGTGTTCTCACGCATGGTTTGTTTGCC</td><td style = \"text-align: right;\">39</td><td style = \"text-align: right;\">1</td><td style = \"text-align: left;\">false</td><td style = \"text-align: left;\">.((((.(((((((((((....))))))))))).)))).((((..(((((.......)))))..))))..((((.(((((((.....)))).))).)))).........</td><td style = \"text-align: right;\">-37.1</td><td style = \"text-align: right;\">5.17826</td><td style = \"text-align: right;\">0</td><td style = \"text-align: right;\">0</td></tr><tr><td class = \"rowNumber\" style = \"font-weight: bold; text-align: right;\">417</td><td style = \"text-align: right;\">43944</td><td style = \"text-align: left;\">1-4-1-11-4-11-1-4-1</td><td style = \"text-align: left;\">.((((.(((((((((((....))))))))))).)))).</td><td style = \"text-align: left;\">ACAAAAAAACCACACTTCTAAAGGTGTGGTTTGTTTGCC</td><td style = \"text-align: right;\">39</td><td style = \"text-align: right;\">1</td><td style = \"text-align: left;\">false</td><td style = \"text-align: left;\">.((((.(((((((((((....))))))))))).)))).((((..(((((.......)))))..))))..((((.(((((((.....)))).))).)))).........</td><td style = \"text-align: right;\">-37.9</td><td style = \"text-align: right;\">5.37481</td><td style = \"text-align: right;\">0</td><td style = \"text-align: right;\">0</td></tr><tr><td class = \"rowNumber\" style = \"font-weight: bold; text-align: right;\">418</td><td style = \"text-align: right;\">44046</td><td style = \"text-align: left;\">1-4-1-11-4-11-1-4-1</td><td style = \"text-align: left;\">.((((.(((((((((((....))))))))))).)))).</td><td style = \"text-align: left;\">ACAAAAAAACCAAATCGAGGTCGATTTGGTTTGTTTGCC</td><td style = \"text-align: right;\">39</td><td style = \"text-align: right;\">1</td><td style = \"text-align: left;\">false</td><td style = \"text-align: left;\">.((((.(((((((((((....))))))))))).)))).((((..(((((.......)))))..))))..((((.(((((((.....)))).))).)))).........</td><td style = \"text-align: right;\">-37.8</td><td style = \"text-align: right;\">4.95081</td><td style = \"text-align: right;\">0</td><td style = \"text-align: right;\">0</td></tr><tr><td class = \"rowNumber\" style = \"font-weight: bold; text-align: right;\">419</td><td style = \"text-align: right;\">44101</td><td style = \"text-align: left;\">1-4-1-11-4-11-1-4-1</td><td style = \"text-align: left;\">.((((.(((((((((((....))))))))))).)))).</td><td style = \"text-align: left;\">ACAAAAAAACCACCATTGAGTGGTGGTGGTTTGTTTGCC</td><td style = \"text-align: right;\">39</td><td style = \"text-align: right;\">1</td><td style = \"text-align: left;\">false</td><td style = \"text-align: left;\">.((((.(((((((((((....))))))))))).)))).((((..(((((.......)))))..))))..((((.(((((((.....)))).))).)))).........</td><td style = \"text-align: right;\">-37.0</td><td style = \"text-align: right;\">8.6181</td><td style = \"text-align: right;\">0</td><td style = \"text-align: right;\">0</td></tr><tr><td class = \"rowNumber\" style = \"font-weight: bold; text-align: right;\">420</td><td style = \"text-align: right;\">44170</td><td style = \"text-align: left;\">1-4-1-11-4-11-1-4-1</td><td style = \"text-align: left;\">.((((.(((((((((((....))))))))))).)))).</td><td style = \"text-align: left;\">ACAAAAAAACCACTAAACATATTTAGTGGTTTGTTTGCC</td><td style = \"text-align: right;\">39</td><td style = \"text-align: right;\">1</td><td style = \"text-align: left;\">false</td><td style = \"text-align: left;\">.((((.(((((((((((....))))))))))).)))).((((..(((((.......)))))..))))..((((.(((((((.....)))).))).)))).........</td><td style = \"text-align: right;\">-36.1</td><td style = \"text-align: right;\">5.52111</td><td style = \"text-align: right;\">0</td><td style = \"text-align: right;\">0</td></tr><tr><td class = \"rowNumber\" style = \"font-weight: bold; text-align: right;\">421</td><td style = \"text-align: right;\">44362</td><td style = \"text-align: left;\">1-4-1-11-4-11-1-4-1</td><td style = \"text-align: left;\">.((((.(((((((((((....))))))))))).)))).</td><td style = \"text-align: left;\">ACAAAAAAACCATTTTCTAGTGAAAATGGTTTGTTTGCC</td><td style = \"text-align: right;\">39</td><td style = \"text-align: right;\">1</td><td style = \"text-align: left;\">false</td><td style = \"text-align: left;\">.((((.(((((((((((....))))))))))).)))).((((..(((((.......)))))..))))..((((.(((((((.....)))).))).)))).........</td><td style = \"text-align: right;\">-36.9</td><td style = \"text-align: right;\">4.92103</td><td style = \"text-align: right;\">0</td><td style = \"text-align: right;\">0</td></tr><tr><td class = \"rowNumber\" style = \"font-weight: bold; text-align: right;\">422</td><td style = \"text-align: right;\">44419</td><td style = \"text-align: left;\">1-4-1-11-4-11-1-4-1</td><td style = \"text-align: left;\">.((((.(((((((((((....))))))))))).)))).</td><td style = \"text-align: left;\">ACAAAAAAACCACCGGGGTGTTTTGGTGGTTTGTTTGCC</td><td style = \"text-align: right;\">39</td><td style = \"text-align: right;\">1</td><td style = \"text-align: left;\">false</td><td style = \"text-align: left;\">.((((.(((((((((((....))))))))))).)))).((((..(((((.......)))))..))))..((((.(((((((.....)))).))).)))).........</td><td style = \"text-align: right;\">-36.1</td><td style = \"text-align: right;\">6.18476</td><td style = \"text-align: right;\">0</td><td style = \"text-align: right;\">0</td></tr><tr><td class = \"rowNumber\" style = \"font-weight: bold; text-align: right;\">423</td><td style = \"text-align: right;\">44501</td><td style = \"text-align: left;\">1-4-1-11-4-11-1-4-1</td><td style = \"text-align: left;\">.((((.(((((((((((....))))))))))).)))).</td><td style = \"text-align: left;\">ACAAAAAAACCACTTTTGGATAAAAGTGGTTTGTTTGCC</td><td style = \"text-align: right;\">39</td><td style = \"text-align: right;\">1</td><td style = \"text-align: left;\">false</td><td style = \"text-align: left;\">.((((.(((((((((((....))))))))))).)))).((((..(((((.......)))))..))))..((((.(((((((.....)))).))).)))).........</td><td style = \"text-align: right;\">-35.9</td><td style = \"text-align: right;\">5.39738</td><td style = \"text-align: right;\">0</td><td style = \"text-align: right;\">0</td></tr><tr><td class = \"rowNumber\" style = \"font-weight: bold; text-align: right;\">424</td><td style = \"text-align: right;\">44737</td><td style = \"text-align: left;\">1-4-1-11-4-11-1-4-1</td><td style = \"text-align: left;\">.((((.(((((((((((....))))))))))).)))).</td><td style = \"text-align: left;\">ACAAAAAAACCATCTTTCTCCAAAGATGGTTTGTTTGCC</td><td style = \"text-align: right;\">39</td><td style = \"text-align: right;\">1</td><td style = \"text-align: left;\">false</td><td style = \"text-align: left;\">.((((.(((((((((((....))))))))))).)))).((((..(((((.......)))))..))))..((((.(((((((.....)))).))).)))).........</td><td style = \"text-align: right;\">-36.1</td><td style = \"text-align: right;\">5.40448</td><td style = \"text-align: right;\">0</td><td style = \"text-align: right;\">0</td></tr><tr><td class = \"rowNumber\" style = \"font-weight: bold; text-align: right;\">425</td><td style = \"text-align: right;\">44764</td><td style = \"text-align: left;\">1-4-1-11-4-11-1-4-1</td><td style = \"text-align: left;\">.((((.(((((((((((....))))))))))).)))).</td><td style = \"text-align: left;\">ACAAAAAAACCATCCTTCTTTAGGGATGGTTTGTTTGCC</td><td style = \"text-align: right;\">39</td><td style = \"text-align: right;\">1</td><td style = \"text-align: left;\">false</td><td style = \"text-align: left;\">.((((.(((((((((((....))))))))))).)))).((((..(((((.......)))))..))))..((((.(((((((.....)))).))).)))).........</td><td style = \"text-align: right;\">-38.0</td><td style = \"text-align: right;\">5.44917</td><td style = \"text-align: right;\">0</td><td style = \"text-align: right;\">0</td></tr><tr><td class = \"rowNumber\" style = \"font-weight: bold; text-align: right;\">426</td><td style = \"text-align: right;\">44938</td><td style = \"text-align: left;\">1-4-1-11-4-11-1-4-1</td><td style = \"text-align: left;\">.((((.(((((((((((....))))))))))).)))).</td><td style = \"text-align: left;\">ACAAAAAAACCATGAATACGAATTCATGGTTTGTTTGCC</td><td style = \"text-align: right;\">39</td><td style = \"text-align: right;\">1</td><td style = \"text-align: left;\">false</td><td style = \"text-align: left;\">.((((.(((((((((((....))))))))))).)))).((((..(((((.......)))))..))))..((((.(((((((.....)))).))).)))).........</td><td style = \"text-align: right;\">-36.7</td><td style = \"text-align: right;\">5.19161</td><td style = \"text-align: right;\">0</td><td style = \"text-align: right;\">0</td></tr></tbody></table></div>"
      ],
      "text/latex": [
       "\\begin{tabular}{r|ccccc}\n",
       "\t& Sequence\\_number & Loop1\\_description & MFE\\_SUBstructure & LoopI & \\\\\n",
       "\t\\hline\n",
       "\t& Int64 & String & String & String & \\\\\n",
       "\t\\hline\n",
       "\t1 & 18 & 1-4-1-11-4-11-1-4-1 & .((((.(((((((((((....))))))))))).)))). & ACAAAAAAACCACTTCCAATCGGAGGTGGTTTGTTTGCC & $\\dots$ \\\\\n",
       "\t2 & 287 & 1-4-1-11-4-11-1-4-1 & .((((.(((((((((((....))))))))))).)))). & ACAAAAAAACCACGTTTTCGCAGACGTGGTTTGTTTGCC & $\\dots$ \\\\\n",
       "\t3 & 357 & 1-4-1-11-4-11-1-4-1 & .((((.(((((((((((....))))))))))).)))). & ACAAAAAAACCAGTAATATCCATTACTGGTTTGTTTGCC & $\\dots$ \\\\\n",
       "\t4 & 380 & 1-4-1-11-4-11-1-4-1 & .((((.(((((((((((....))))))))))).)))). & ACAAAAAAACCACTCTTACCTAGGAGTGGTTTGTTTGCC & $\\dots$ \\\\\n",
       "\t5 & 781 & 1-4-1-11-4-11-1-4-1 & .((((.(((((((((((....))))))))))).)))). & ACAAAAAAACCAGCTGTATATATAGCTGGTTTGTTTGCC & $\\dots$ \\\\\n",
       "\t6 & 794 & 1-4-1-11-4-11-1-4-1 & .((((.(((((((((((....))))))))))).)))). & ACAAAAAAACCAAATTGCTCCCAATTTGGTTTGTTTGCC & $\\dots$ \\\\\n",
       "\t7 & 926 & 1-4-1-11-4-11-1-4-1 & .((((.(((((((((((....))))))))))).)))). & ACAAAAAAACCACTATTGTTAAGTAGTGGTTTGTTTGCC & $\\dots$ \\\\\n",
       "\t8 & 1012 & 1-4-1-11-4-11-1-4-1 & .((((.(((((((((((....))))))))))).)))). & ACAAAAAAACCACTAAGCTTATTTAGTGGTTTGTTTGCC & $\\dots$ \\\\\n",
       "\t9 & 1213 & 1-4-1-11-4-11-1-4-1 & .((((.(((((((((((....))))))))))).)))). & ACAAAAAAACCACTGATGATAATCAGTGGTTTGTTTGCC & $\\dots$ \\\\\n",
       "\t10 & 1263 & 1-4-1-11-4-11-1-4-1 & .((((.(((((((((((....))))))))))).)))). & ACAAAAAAACCATGCCTTTATAGGTATGGTTTGTTTGCC & $\\dots$ \\\\\n",
       "\t11 & 1333 & 1-4-1-11-4-11-1-4-1 & .((((.(((((((((((....))))))))))).)))). & ACAAAAAAACCATCCGTCGTAGCGGGTGGTTTGTTTGCC & $\\dots$ \\\\\n",
       "\t12 & 1484 & 1-4-1-11-4-11-1-4-1 & .((((.(((((((((((....))))))))))).)))). & ACAAAAAAACCATCCTGTTACTGGGATGGTTTGTTTGCC & $\\dots$ \\\\\n",
       "\t13 & 1614 & 1-4-1-11-4-11-1-4-1 & .((((.(((((((((((....))))))))))).)))). & ACAAAAAAACCAGATGGTTAGCCATCTGGTTTGTTTGCC & $\\dots$ \\\\\n",
       "\t14 & 1671 & 1-4-1-11-4-11-1-4-1 & .((((.(((((((((((....))))))))))).)))). & ACAAAAAAACCATACTTGTGGAGGTATGGTTTGTTTGCC & $\\dots$ \\\\\n",
       "\t15 & 1674 & 1-4-1-11-4-11-1-4-1 & .((((.(((((((((((....))))))))))).)))). & ACAAAAAAACCAAGGTTATCAGGCCTTGGTTTGTTTGCC & $\\dots$ \\\\\n",
       "\t16 & 1721 & 1-4-1-11-4-11-1-4-1 & .((((.(((((((((((....))))))))))).)))). & ACAAAAAAACCACTCTGAGACCAGGGTGGTTTGTTTGCC & $\\dots$ \\\\\n",
       "\t17 & 1736 & 1-4-1-11-4-11-1-4-1 & .((((.(((((((((((....))))))))))).)))). & ACAAAAAAACCACTCTTTAGCGGGAGTGGTTTGTTTGCC & $\\dots$ \\\\\n",
       "\t18 & 1915 & 1-4-1-11-4-11-1-4-1 & .((((.(((((((((((....))))))))))).)))). & ACAAAAAAACCACCTTTGAAAGGAGGTGGTTTGTTTGCC & $\\dots$ \\\\\n",
       "\t19 & 2136 & 1-4-1-11-4-11-1-4-1 & .((((.(((((((((((....))))))))))).)))). & ACAAAAAAACCGGCATGGGGATATGCTGGTTTGTTTGCC & $\\dots$ \\\\\n",
       "\t20 & 2427 & 1-4-1-11-4-11-1-4-1 & .((((.(((((((((((....))))))))))).)))). & ACAAAAAAACCATGGTCCCTCGATCATGGTTTGTTTGCC & $\\dots$ \\\\\n",
       "\t21 & 2591 & 1-4-1-11-4-11-1-4-1 & .((((.(((((((((((....))))))))))).)))). & ACAAAAAAACCAAACTCCAAGGGGTTTGGTTTGTTTGCC & $\\dots$ \\\\\n",
       "\t22 & 2906 & 1-4-1-11-4-11-1-4-1 & .((((.(((((((((((....))))))))))).)))). & ACAAAAAAACCAATTTGCGGGCGGGTTGGTTTGTTTGCC & $\\dots$ \\\\\n",
       "\t23 & 3120 & 1-4-1-11-4-11-1-4-1 & .((((.(((((((((((....))))))))))).)))). & ACAAAAAAACCACATTTTTATAGATGTGGTTTGTTTGCC & $\\dots$ \\\\\n",
       "\t24 & 3137 & 1-4-1-11-4-11-1-4-1 & .((((.(((((((((((....))))))))))).)))). & ACAAAAAAACCAGCTTTCGGTGAGGCTGGTTTGTTTGCC & $\\dots$ \\\\\n",
       "\t25 & 3269 & 1-4-1-11-4-11-1-4-1 & .((((.(((((((((((....))))))))))).)))). & ACAAAAAAACCAAGTCCGTTCGGATTTGGTTTGTTTGCC & $\\dots$ \\\\\n",
       "\t26 & 3519 & 1-4-1-11-4-11-1-4-1 & .((((.(((((((((((....))))))))))).)))). & ACAAAAAAACCAGCTTCTTGAGAGGCTGGTTTGTTTGCC & $\\dots$ \\\\\n",
       "\t27 & 3653 & 1-4-1-11-4-11-1-4-1 & .((((.(((((((((((....))))))))))).)))). & ACAAAAAAACCAAGGTTACCTAGCCTTGGTTTGTTTGCC & $\\dots$ \\\\\n",
       "\t28 & 3663 & 1-4-1-11-4-11-1-4-1 & .((((.(((((((((((....))))))))))).)))). & ACAAAAAAACCAGTTCTTCGCGGAACTGGTTTGTTTGCC & $\\dots$ \\\\\n",
       "\t29 & 3726 & 1-4-1-11-4-11-1-4-1 & .((((.(((((((((((....))))))))))).)))). & ACAAAAAAACCAGCTTGTGACTGAGCTGGTTTGTTTGCC & $\\dots$ \\\\\n",
       "\t30 & 3762 & 1-4-1-11-4-11-1-4-1 & .((((.(((((((((((....))))))))))).)))). & ACAAAAAAACCACTATCTTAGGGTAGTGGTTTGTTTGCC & $\\dots$ \\\\\n",
       "\t$\\dots$ & $\\dots$ & $\\dots$ & $\\dots$ & $\\dots$ &  \\\\\n",
       "\\end{tabular}\n"
      ],
      "text/plain": [
       "\u001b[1m426×12 DataFrame\u001b[0m\n",
       "\u001b[1m Row \u001b[0m│\u001b[1m Sequence_number \u001b[0m\u001b[1m Loop1_description   \u001b[0m\u001b[1m MFE_SUBstructure                 \u001b[0m ⋯\n",
       "     │\u001b[90m Int64           \u001b[0m\u001b[90m String              \u001b[0m\u001b[90m String                           \u001b[0m ⋯\n",
       "─────┼──────────────────────────────────────────────────────────────────────────\n",
       "   1 │              18  1-4-1-11-4-11-1-4-1  .((((.(((((((((((....)))))))))))… ⋯\n",
       "   2 │             287  1-4-1-11-4-11-1-4-1  .((((.(((((((((((....)))))))))))…\n",
       "   3 │             357  1-4-1-11-4-11-1-4-1  .((((.(((((((((((....)))))))))))…\n",
       "   4 │             380  1-4-1-11-4-11-1-4-1  .((((.(((((((((((....)))))))))))…\n",
       "   5 │             781  1-4-1-11-4-11-1-4-1  .((((.(((((((((((....)))))))))))… ⋯\n",
       "   6 │             794  1-4-1-11-4-11-1-4-1  .((((.(((((((((((....)))))))))))…\n",
       "   7 │             926  1-4-1-11-4-11-1-4-1  .((((.(((((((((((....)))))))))))…\n",
       "   8 │            1012  1-4-1-11-4-11-1-4-1  .((((.(((((((((((....)))))))))))…\n",
       "   9 │            1213  1-4-1-11-4-11-1-4-1  .((((.(((((((((((....)))))))))))… ⋯\n",
       "  10 │            1263  1-4-1-11-4-11-1-4-1  .((((.(((((((((((....)))))))))))…\n",
       "  11 │            1333  1-4-1-11-4-11-1-4-1  .((((.(((((((((((....)))))))))))…\n",
       "  ⋮  │        ⋮                  ⋮                           ⋮                 ⋱\n",
       " 417 │           43944  1-4-1-11-4-11-1-4-1  .((((.(((((((((((....)))))))))))…\n",
       " 418 │           44046  1-4-1-11-4-11-1-4-1  .((((.(((((((((((....)))))))))))… ⋯\n",
       " 419 │           44101  1-4-1-11-4-11-1-4-1  .((((.(((((((((((....)))))))))))…\n",
       " 420 │           44170  1-4-1-11-4-11-1-4-1  .((((.(((((((((((....)))))))))))…\n",
       " 421 │           44362  1-4-1-11-4-11-1-4-1  .((((.(((((((((((....)))))))))))…\n",
       " 422 │           44419  1-4-1-11-4-11-1-4-1  .((((.(((((((((((....)))))))))))… ⋯\n",
       " 423 │           44501  1-4-1-11-4-11-1-4-1  .((((.(((((((((((....)))))))))))…\n",
       " 424 │           44737  1-4-1-11-4-11-1-4-1  .((((.(((((((((((....)))))))))))…\n",
       " 425 │           44764  1-4-1-11-4-11-1-4-1  .((((.(((((((((((....)))))))))))…\n",
       " 426 │           44938  1-4-1-11-4-11-1-4-1  .((((.(((((((((((....)))))))))))… ⋯\n",
       "\u001b[36m                                                  9 columns and 405 rows omitted\u001b[0m"
      ]
     },
     "execution_count": 72,
     "metadata": {},
     "output_type": "execute_result"
    }
   ],
   "source": [
    "L1M2short4Loop = \".((((.(((((((((((....))))))))))).)))).\"\n",
    "lib_L1M2short4Loop = filter(:MFE_SUBstructure => n -> n == L1M2short4Loop, libStructureAnalysis)"
   ]
  },
  {
   "cell_type": "code",
   "execution_count": 70,
   "id": "655cf7f9-ecda-4eb3-b364-efdf7a42f679",
   "metadata": {},
   "outputs": [
    {
     "data": {
      "text/html": [
       "<div><div style = \"float: left;\"><span>47×12 DataFrame</span></div><div style = \"float: right;\"><span style = \"font-style: italic;\">22 rows omitted</span></div><div style = \"clear: both;\"></div></div><div class = \"data-frame\" style = \"overflow-x: scroll;\"><table class = \"data-frame\" style = \"margin-bottom: 6px;\"><thead><tr class = \"header\"><th class = \"rowNumber\" style = \"font-weight: bold; text-align: right;\">Row</th><th style = \"text-align: left;\">Sequence_number</th><th style = \"text-align: left;\">Loop1_description</th><th style = \"text-align: left;\">MFE_SUBstructure</th><th style = \"text-align: left;\">LoopI</th><th style = \"text-align: left;\">Loop_length</th><th style = \"text-align: left;\">Count</th><th style = \"text-align: left;\">WT</th><th style = \"text-align: left;\">MFE_structure</th><th style = \"text-align: left;\">MFE_energy</th><th style = \"text-align: left;\">Mbp_dist</th><th style = \"text-align: left;\">Seq_Cluster</th><th style = \"text-align: left;\">Str_Cluster</th></tr><tr class = \"subheader headerLastRow\"><th class = \"rowNumber\" style = \"font-weight: bold; text-align: right;\"></th><th title = \"Int64\" style = \"text-align: left;\">Int64</th><th title = \"String\" style = \"text-align: left;\">String</th><th title = \"String\" style = \"text-align: left;\">String</th><th title = \"String\" style = \"text-align: left;\">String</th><th title = \"Int64\" style = \"text-align: left;\">Int64</th><th title = \"Int64\" style = \"text-align: left;\">Int64</th><th title = \"String7\" style = \"text-align: left;\">String7</th><th title = \"String\" style = \"text-align: left;\">String</th><th title = \"Float64\" style = \"text-align: left;\">Float64</th><th title = \"Float64\" style = \"text-align: left;\">Float64</th><th title = \"Int64\" style = \"text-align: left;\">Int64</th><th title = \"Int64\" style = \"text-align: left;\">Int64</th></tr></thead><tbody><tr><td class = \"rowNumber\" style = \"font-weight: bold; text-align: right;\">1</td><td style = \"text-align: right;\">882</td><td style = \"text-align: left;\">1-4-1-9-7-9-1-4-1</td><td style = \"text-align: left;\">.((((.(((((((((.......))))))))).)))).</td><td style = \"text-align: left;\">ACAAAAAAACCAGACGATCTAGGTCTGGTTTGTTTGCC</td><td style = \"text-align: right;\">38</td><td style = \"text-align: right;\">4</td><td style = \"text-align: left;\">false</td><td style = \"text-align: left;\">.((((.(((((((((.......))))))))).)))).((((..(((((.......)))))..))))..((((.(((((((.....)))).))).)))).........</td><td style = \"text-align: right;\">-35.7</td><td style = \"text-align: right;\">5.06427</td><td style = \"text-align: right;\">0</td><td style = \"text-align: right;\">0</td></tr><tr><td class = \"rowNumber\" style = \"font-weight: bold; text-align: right;\">2</td><td style = \"text-align: right;\">2180</td><td style = \"text-align: left;\">1-4-1-9-7-9-1-4-1</td><td style = \"text-align: left;\">.((((.(((((((((.......))))))))).)))).</td><td style = \"text-align: left;\">ACAAAAAAACCCATTCGCTACAGATGGGTTTGTTTGCC</td><td style = \"text-align: right;\">38</td><td style = \"text-align: right;\">3</td><td style = \"text-align: left;\">false</td><td style = \"text-align: left;\">.((((.(((((((((.......))))))))).)))).((((..(((((.......)))))..))))..((((.(((((((.....)))).))).)))).........</td><td style = \"text-align: right;\">-34.5</td><td style = \"text-align: right;\">6.22241</td><td style = \"text-align: right;\">0</td><td style = \"text-align: right;\">0</td></tr><tr><td class = \"rowNumber\" style = \"font-weight: bold; text-align: right;\">3</td><td style = \"text-align: right;\">2909</td><td style = \"text-align: left;\">1-4-1-9-7-9-1-4-1</td><td style = \"text-align: left;\">.((((.(((((((((.......))))))))).)))).</td><td style = \"text-align: left;\">ACAAAAAAACCACCTATTATAGAGGTGGTTTGTTTGCC</td><td style = \"text-align: right;\">38</td><td style = \"text-align: right;\">2</td><td style = \"text-align: left;\">false</td><td style = \"text-align: left;\">.((((.(((((((((.......))))))))).)))).((((..(((((.......)))))..))))..((((.(((((((.....)))).))).)))).........</td><td style = \"text-align: right;\">-36.6</td><td style = \"text-align: right;\">5.07086</td><td style = \"text-align: right;\">0</td><td style = \"text-align: right;\">0</td></tr><tr><td class = \"rowNumber\" style = \"font-weight: bold; text-align: right;\">4</td><td style = \"text-align: right;\">3228</td><td style = \"text-align: left;\">1-4-1-9-7-9-1-4-1</td><td style = \"text-align: left;\">.((((.(((((((((.......))))))))).)))).</td><td style = \"text-align: left;\">ACAAAAAAACCAAGGCTTTCATCCTTGGTTTGTTTGCC</td><td style = \"text-align: right;\">38</td><td style = \"text-align: right;\">2</td><td style = \"text-align: left;\">false</td><td style = \"text-align: left;\">.((((.(((((((((.......))))))))).)))).((((..(((((.......)))))..))))..((((.(((((((.....)))).))).)))).........</td><td style = \"text-align: right;\">-35.4</td><td style = \"text-align: right;\">4.95235</td><td style = \"text-align: right;\">0</td><td style = \"text-align: right;\">0</td></tr><tr><td class = \"rowNumber\" style = \"font-weight: bold; text-align: right;\">5</td><td style = \"text-align: right;\">3794</td><td style = \"text-align: left;\">1-4-1-9-7-9-1-4-1</td><td style = \"text-align: left;\">.((((.(((((((((.......))))))))).)))).</td><td style = \"text-align: left;\">ACAAAAAAACCAGGGGCGTGCTCCCTGGTTTGTTTGCC</td><td style = \"text-align: right;\">38</td><td style = \"text-align: right;\">2</td><td style = \"text-align: left;\">false</td><td style = \"text-align: left;\">.((((.(((((((((.......))))))))).)))).((((..(((((.......)))))..))))..((((.(((((((.....)))).))).)))).........</td><td style = \"text-align: right;\">-38.8</td><td style = \"text-align: right;\">5.30118</td><td style = \"text-align: right;\">0</td><td style = \"text-align: right;\">0</td></tr><tr><td class = \"rowNumber\" style = \"font-weight: bold; text-align: right;\">6</td><td style = \"text-align: right;\">5046</td><td style = \"text-align: left;\">1-4-1-9-7-9-1-4-1</td><td style = \"text-align: left;\">.((((.(((((((((.......))))))))).)))).</td><td style = \"text-align: left;\">ACAAAAAAACCAAGGATCTTAACCTTGGTTTGTTTGCC</td><td style = \"text-align: right;\">38</td><td style = \"text-align: right;\">2</td><td style = \"text-align: left;\">false</td><td style = \"text-align: left;\">.((((.(((((((((.......))))))))).)))).((((..(((((.......)))))..))))..((((.(((((((.....)))).))).)))).........</td><td style = \"text-align: right;\">-36.0</td><td style = \"text-align: right;\">4.93994</td><td style = \"text-align: right;\">0</td><td style = \"text-align: right;\">0</td></tr><tr><td class = \"rowNumber\" style = \"font-weight: bold; text-align: right;\">7</td><td style = \"text-align: right;\">5674</td><td style = \"text-align: left;\">1-4-1-9-7-9-1-4-1</td><td style = \"text-align: left;\">.((((.(((((((((.......))))))))).)))).</td><td style = \"text-align: left;\">ACAAAAAAACCAGGCTTGGGATGCCTGGTTTGTTTGCC</td><td style = \"text-align: right;\">38</td><td style = \"text-align: right;\">2</td><td style = \"text-align: left;\">false</td><td style = \"text-align: left;\">.((((.(((((((((.......))))))))).)))).((((..(((((.......)))))..))))..((((.(((((((.....)))).))).)))).........</td><td style = \"text-align: right;\">-39.7</td><td style = \"text-align: right;\">4.90684</td><td style = \"text-align: right;\">0</td><td style = \"text-align: right;\">0</td></tr><tr><td class = \"rowNumber\" style = \"font-weight: bold; text-align: right;\">8</td><td style = \"text-align: right;\">9001</td><td style = \"text-align: left;\">1-4-1-9-7-9-1-4-1</td><td style = \"text-align: left;\">.((((.(((((((((.......))))))))).)))).</td><td style = \"text-align: left;\">ACAAAAAAACCACCTAGAGCTAAGGTGGTTTGTTTGCC</td><td style = \"text-align: right;\">38</td><td style = \"text-align: right;\">1</td><td style = \"text-align: left;\">false</td><td style = \"text-align: left;\">.((((.(((((((((.......))))))))).)))).((((..(((((.......)))))..))))..((((.(((((((.....)))).))).)))).........</td><td style = \"text-align: right;\">-36.7</td><td style = \"text-align: right;\">5.09842</td><td style = \"text-align: right;\">0</td><td style = \"text-align: right;\">0</td></tr><tr><td class = \"rowNumber\" style = \"font-weight: bold; text-align: right;\">9</td><td style = \"text-align: right;\">15928</td><td style = \"text-align: left;\">1-4-1-9-7-9-1-4-1</td><td style = \"text-align: left;\">.((((.(((((((((.......))))))))).)))).</td><td style = \"text-align: left;\">ACAAAAAAACCACAACTAGACATTGTGGTTTGTTTGCC</td><td style = \"text-align: right;\">38</td><td style = \"text-align: right;\">1</td><td style = \"text-align: left;\">false</td><td style = \"text-align: left;\">.((((.(((((((((.......))))))))).)))).((((..(((((.......)))))..))))..((((.(((((((.....)))).))).)))).........</td><td style = \"text-align: right;\">-33.9</td><td style = \"text-align: right;\">5.4553</td><td style = \"text-align: right;\">0</td><td style = \"text-align: right;\">0</td></tr><tr><td class = \"rowNumber\" style = \"font-weight: bold; text-align: right;\">10</td><td style = \"text-align: right;\">17299</td><td style = \"text-align: left;\">1-4-1-9-7-9-1-4-1</td><td style = \"text-align: left;\">.((((.(((((((((.......))))))))).)))).</td><td style = \"text-align: left;\">ACAAAAAAACCACATCGGTACAATGTGGTTTGTTTGCC</td><td style = \"text-align: right;\">38</td><td style = \"text-align: right;\">1</td><td style = \"text-align: left;\">false</td><td style = \"text-align: left;\">.((((.(((((((((.......))))))))).)))).((((..(((((.......)))))..))))..((((.(((((((.....)))).))).)))).........</td><td style = \"text-align: right;\">-34.2</td><td style = \"text-align: right;\">5.25951</td><td style = \"text-align: right;\">0</td><td style = \"text-align: right;\">0</td></tr><tr><td class = \"rowNumber\" style = \"font-weight: bold; text-align: right;\">11</td><td style = \"text-align: right;\">17937</td><td style = \"text-align: left;\">1-4-1-9-7-9-1-4-1</td><td style = \"text-align: left;\">.((((.(((((((((.......))))))))).)))).</td><td style = \"text-align: left;\">ACAAAAAAACCAGTGATCAAACCACTGGTTTGTTTGCC</td><td style = \"text-align: right;\">38</td><td style = \"text-align: right;\">1</td><td style = \"text-align: left;\">false</td><td style = \"text-align: left;\">.((((.(((((((((.......))))))))).)))).((((..(((((.......)))))..))))..((((.(((((((.....)))).))).)))).........</td><td style = \"text-align: right;\">-34.9</td><td style = \"text-align: right;\">5.09493</td><td style = \"text-align: right;\">0</td><td style = \"text-align: right;\">0</td></tr><tr><td class = \"rowNumber\" style = \"font-weight: bold; text-align: right;\">12</td><td style = \"text-align: right;\">18106</td><td style = \"text-align: left;\">1-4-1-9-7-9-1-4-1</td><td style = \"text-align: left;\">.((((.(((((((((.......))))))))).)))).</td><td style = \"text-align: left;\">ACAAAAAAACCGGTTGGGGGGAAATTGGTTTGTTTGCC</td><td style = \"text-align: right;\">38</td><td style = \"text-align: right;\">1</td><td style = \"text-align: left;\">false</td><td style = \"text-align: left;\">.((((.(((((((((.......))))))))).)))).((((..(((((.......)))))..))))..((((.(((((((.....)))).))).)))).........</td><td style = \"text-align: right;\">-29.9</td><td style = \"text-align: right;\">5.66184</td><td style = \"text-align: right;\">0</td><td style = \"text-align: right;\">0</td></tr><tr><td class = \"rowNumber\" style = \"font-weight: bold; text-align: right;\">13</td><td style = \"text-align: right;\">18678</td><td style = \"text-align: left;\">1-4-1-9-7-9-1-4-1</td><td style = \"text-align: left;\">.((((.(((((((((.......))))))))).)))).</td><td style = \"text-align: left;\">ACAAAAAAACCATGAAAAAGGATCATGGTTTGTTTGCC</td><td style = \"text-align: right;\">38</td><td style = \"text-align: right;\">1</td><td style = \"text-align: left;\">false</td><td style = \"text-align: left;\">.((((.(((((((((.......))))))))).)))).((((..(((((.......)))))..))))..((((.(((((((.....)))).))).)))).........</td><td style = \"text-align: right;\">-34.5</td><td style = \"text-align: right;\">5.1273</td><td style = \"text-align: right;\">0</td><td style = \"text-align: right;\">0</td></tr><tr><td style = \"text-align: right;\">&vellip;</td><td style = \"text-align: right;\">&vellip;</td><td style = \"text-align: right;\">&vellip;</td><td style = \"text-align: right;\">&vellip;</td><td style = \"text-align: right;\">&vellip;</td><td style = \"text-align: right;\">&vellip;</td><td style = \"text-align: right;\">&vellip;</td><td style = \"text-align: right;\">&vellip;</td><td style = \"text-align: right;\">&vellip;</td><td style = \"text-align: right;\">&vellip;</td><td style = \"text-align: right;\">&vellip;</td><td style = \"text-align: right;\">&vellip;</td><td style = \"text-align: right;\">&vellip;</td></tr><tr><td class = \"rowNumber\" style = \"font-weight: bold; text-align: right;\">36</td><td style = \"text-align: right;\">36476</td><td style = \"text-align: left;\">1-4-1-9-7-9-1-4-1</td><td style = \"text-align: left;\">.((((.(((((((((.......))))))))).)))).</td><td style = \"text-align: left;\">ACAAAAAAACCAACAAAGGATGTGTTGGTTTGTTTGCC</td><td style = \"text-align: right;\">38</td><td style = \"text-align: right;\">1</td><td style = \"text-align: left;\">false</td><td style = \"text-align: left;\">.((((.(((((((((.......))))))))).)))).((((..(((((.......)))))..))))..((((.(((((((.....)))).))).)))).........</td><td style = \"text-align: right;\">-34.2</td><td style = \"text-align: right;\">5.1993</td><td style = \"text-align: right;\">0</td><td style = \"text-align: right;\">0</td></tr><tr><td class = \"rowNumber\" style = \"font-weight: bold; text-align: right;\">37</td><td style = \"text-align: right;\">38216</td><td style = \"text-align: left;\">1-4-1-9-7-9-1-4-1</td><td style = \"text-align: left;\">.((((.(((((((((.......))))))))).)))).</td><td style = \"text-align: left;\">ACAAAAAAACCATGGTATAAATCCATGGTTTGTTTGCC</td><td style = \"text-align: right;\">38</td><td style = \"text-align: right;\">1</td><td style = \"text-align: left;\">false</td><td style = \"text-align: left;\">.((((.(((((((((.......))))))))).)))).((((..(((((.......)))))..))))..((((.(((((((.....)))).))).)))).........</td><td style = \"text-align: right;\">-36.7</td><td style = \"text-align: right;\">4.93307</td><td style = \"text-align: right;\">0</td><td style = \"text-align: right;\">0</td></tr><tr><td class = \"rowNumber\" style = \"font-weight: bold; text-align: right;\">38</td><td style = \"text-align: right;\">38931</td><td style = \"text-align: left;\">1-4-1-9-7-9-1-4-1</td><td style = \"text-align: left;\">.((((.(((((((((.......))))))))).)))).</td><td style = \"text-align: left;\">ACAAAAAAACCAGACCTGGATTGTCTGGTTTGTTTGCC</td><td style = \"text-align: right;\">38</td><td style = \"text-align: right;\">1</td><td style = \"text-align: left;\">false</td><td style = \"text-align: left;\">.((((.(((((((((.......))))))))).)))).((((..(((((.......)))))..))))..((((.(((((((.....)))).))).)))).........</td><td style = \"text-align: right;\">-36.1</td><td style = \"text-align: right;\">4.97512</td><td style = \"text-align: right;\">0</td><td style = \"text-align: right;\">0</td></tr><tr><td class = \"rowNumber\" style = \"font-weight: bold; text-align: right;\">39</td><td style = \"text-align: right;\">38995</td><td style = \"text-align: left;\">1-4-1-9-7-9-1-4-1</td><td style = \"text-align: left;\">.((((.(((((((((.......))))))))).)))).</td><td style = \"text-align: left;\">ACAAAAAAACCAGGTCCTTTACGCCTGGTTTGTTTGCC</td><td style = \"text-align: right;\">38</td><td style = \"text-align: right;\">1</td><td style = \"text-align: left;\">false</td><td style = \"text-align: left;\">.((((.(((((((((.......))))))))).)))).((((..(((((.......)))))..))))..((((.(((((((.....)))).))).)))).........</td><td style = \"text-align: right;\">-36.6</td><td style = \"text-align: right;\">5.07708</td><td style = \"text-align: right;\">0</td><td style = \"text-align: right;\">0</td></tr><tr><td class = \"rowNumber\" style = \"font-weight: bold; text-align: right;\">40</td><td style = \"text-align: right;\">39414</td><td style = \"text-align: left;\">1-4-1-9-7-9-1-4-1</td><td style = \"text-align: left;\">.((((.(((((((((.......))))))))).)))).</td><td style = \"text-align: left;\">ACAAAAAAACCACCTGATGGCGGGGTGGTTTGTTTGCC</td><td style = \"text-align: right;\">38</td><td style = \"text-align: right;\">1</td><td style = \"text-align: left;\">false</td><td style = \"text-align: left;\">.((((.(((((((((.......))))))))).)))).((((..(((((.......)))))..))))..((((.(((((((.....)))).))).)))).........</td><td style = \"text-align: right;\">-36.6</td><td style = \"text-align: right;\">5.08325</td><td style = \"text-align: right;\">0</td><td style = \"text-align: right;\">0</td></tr><tr><td class = \"rowNumber\" style = \"font-weight: bold; text-align: right;\">41</td><td style = \"text-align: right;\">40507</td><td style = \"text-align: left;\">1-4-1-9-7-9-1-4-1</td><td style = \"text-align: left;\">.((((.(((((((((.......))))))))).)))).</td><td style = \"text-align: left;\">ACAAAAAAACCATCCCTGTTTCGGATGGTTTGTTTGCC</td><td style = \"text-align: right;\">38</td><td style = \"text-align: right;\">1</td><td style = \"text-align: left;\">false</td><td style = \"text-align: left;\">.((((.(((((((((.......))))))))).)))).((((..(((((.......)))))..))))..((((.(((((((.....)))).))).)))).........</td><td style = \"text-align: right;\">-36.5</td><td style = \"text-align: right;\">4.92805</td><td style = \"text-align: right;\">0</td><td style = \"text-align: right;\">0</td></tr><tr><td class = \"rowNumber\" style = \"font-weight: bold; text-align: right;\">42</td><td style = \"text-align: right;\">40996</td><td style = \"text-align: left;\">1-4-1-9-7-9-1-4-1</td><td style = \"text-align: left;\">.((((.(((((((((.......))))))))).)))).</td><td style = \"text-align: left;\">ACAAAAAAACCATGGTAGTTCTCCATGGTTTGTTTGCC</td><td style = \"text-align: right;\">38</td><td style = \"text-align: right;\">1</td><td style = \"text-align: left;\">false</td><td style = \"text-align: left;\">.((((.(((((((((.......))))))))).)))).((((..(((((.......)))))..))))..((((.(((((((.....)))).))).)))).........</td><td style = \"text-align: right;\">-36.7</td><td style = \"text-align: right;\">4.92905</td><td style = \"text-align: right;\">0</td><td style = \"text-align: right;\">0</td></tr><tr><td class = \"rowNumber\" style = \"font-weight: bold; text-align: right;\">43</td><td style = \"text-align: right;\">41826</td><td style = \"text-align: left;\">1-4-1-9-7-9-1-4-1</td><td style = \"text-align: left;\">.((((.(((((((((.......))))))))).)))).</td><td style = \"text-align: left;\">ACAAAAAAACCACTTTCTAAGCAAGTGGTTTGTTTGCC</td><td style = \"text-align: right;\">38</td><td style = \"text-align: right;\">1</td><td style = \"text-align: left;\">false</td><td style = \"text-align: left;\">.((((.(((((((((.......))))))))).)))).((((..(((((.......)))))..))))..((((.(((((((.....)))).))).)))).........</td><td style = \"text-align: right;\">-33.9</td><td style = \"text-align: right;\">5.44176</td><td style = \"text-align: right;\">0</td><td style = \"text-align: right;\">0</td></tr><tr><td class = \"rowNumber\" style = \"font-weight: bold; text-align: right;\">44</td><td style = \"text-align: right;\">42328</td><td style = \"text-align: left;\">1-4-1-9-7-9-1-4-1</td><td style = \"text-align: left;\">.((((.(((((((((.......))))))))).)))).</td><td style = \"text-align: left;\">ACAAAAAAACCGGGCTCGACGCGCCTGGTTTGTTTGCC</td><td style = \"text-align: right;\">38</td><td style = \"text-align: right;\">1</td><td style = \"text-align: left;\">false</td><td style = \"text-align: left;\">.((((.(((((((((.......))))))))).)))).((((..(((((.......)))))..))))..((((.(((((((.....)))).))).)))).........</td><td style = \"text-align: right;\">-37.4</td><td style = \"text-align: right;\">4.91817</td><td style = \"text-align: right;\">0</td><td style = \"text-align: right;\">0</td></tr><tr><td class = \"rowNumber\" style = \"font-weight: bold; text-align: right;\">45</td><td style = \"text-align: right;\">43857</td><td style = \"text-align: left;\">1-4-1-9-7-9-1-4-1</td><td style = \"text-align: left;\">.((((.(((((((((.......))))))))).)))).</td><td style = \"text-align: left;\">ACAAAAAAACCAGACTTGGATTGTCTGGTTTGTTTGCC</td><td style = \"text-align: right;\">38</td><td style = \"text-align: right;\">1</td><td style = \"text-align: left;\">false</td><td style = \"text-align: left;\">.((((.(((((((((.......))))))))).)))).((((..(((((.......)))))..))))..((((.(((((((.....)))).))).)))).........</td><td style = \"text-align: right;\">-37.4</td><td style = \"text-align: right;\">4.90653</td><td style = \"text-align: right;\">0</td><td style = \"text-align: right;\">0</td></tr><tr><td class = \"rowNumber\" style = \"font-weight: bold; text-align: right;\">46</td><td style = \"text-align: right;\">44582</td><td style = \"text-align: left;\">1-4-1-9-7-9-1-4-1</td><td style = \"text-align: left;\">.((((.(((((((((.......))))))))).)))).</td><td style = \"text-align: left;\">ACAAAAAAACCACTGCCTGCAATAGTGGTTTGTTTGCC</td><td style = \"text-align: right;\">38</td><td style = \"text-align: right;\">1</td><td style = \"text-align: left;\">false</td><td style = \"text-align: left;\">.((((.(((((((((.......))))))))).)))).((((..(((((.......)))))..))))..((((.(((((((.....)))).))).)))).........</td><td style = \"text-align: right;\">-33.5</td><td style = \"text-align: right;\">5.46545</td><td style = \"text-align: right;\">0</td><td style = \"text-align: right;\">0</td></tr><tr><td class = \"rowNumber\" style = \"font-weight: bold; text-align: right;\">47</td><td style = \"text-align: right;\">44961</td><td style = \"text-align: left;\">1-4-1-9-7-9-1-4-1</td><td style = \"text-align: left;\">.((((.(((((((((.......))))))))).)))).</td><td style = \"text-align: left;\">ACAAAAAAACCAGGTATGTGTAACCTGGTTTGTTTGCC</td><td style = \"text-align: right;\">38</td><td style = \"text-align: right;\">1</td><td style = \"text-align: left;\">false</td><td style = \"text-align: left;\">.((((.(((((((((.......))))))))).)))).((((..(((((.......)))))..))))..((((.(((((((.....)))).))).)))).........</td><td style = \"text-align: right;\">-36.7</td><td style = \"text-align: right;\">5.09572</td><td style = \"text-align: right;\">0</td><td style = \"text-align: right;\">0</td></tr></tbody></table></div>"
      ],
      "text/latex": [
       "\\begin{tabular}{r|ccccc}\n",
       "\t& Sequence\\_number & Loop1\\_description & MFE\\_SUBstructure & LoopI & \\\\\n",
       "\t\\hline\n",
       "\t& Int64 & String & String & String & \\\\\n",
       "\t\\hline\n",
       "\t1 & 882 & 1-4-1-9-7-9-1-4-1 & .((((.(((((((((.......))))))))).)))). & ACAAAAAAACCAGACGATCTAGGTCTGGTTTGTTTGCC & $\\dots$ \\\\\n",
       "\t2 & 2180 & 1-4-1-9-7-9-1-4-1 & .((((.(((((((((.......))))))))).)))). & ACAAAAAAACCCATTCGCTACAGATGGGTTTGTTTGCC & $\\dots$ \\\\\n",
       "\t3 & 2909 & 1-4-1-9-7-9-1-4-1 & .((((.(((((((((.......))))))))).)))). & ACAAAAAAACCACCTATTATAGAGGTGGTTTGTTTGCC & $\\dots$ \\\\\n",
       "\t4 & 3228 & 1-4-1-9-7-9-1-4-1 & .((((.(((((((((.......))))))))).)))). & ACAAAAAAACCAAGGCTTTCATCCTTGGTTTGTTTGCC & $\\dots$ \\\\\n",
       "\t5 & 3794 & 1-4-1-9-7-9-1-4-1 & .((((.(((((((((.......))))))))).)))). & ACAAAAAAACCAGGGGCGTGCTCCCTGGTTTGTTTGCC & $\\dots$ \\\\\n",
       "\t6 & 5046 & 1-4-1-9-7-9-1-4-1 & .((((.(((((((((.......))))))))).)))). & ACAAAAAAACCAAGGATCTTAACCTTGGTTTGTTTGCC & $\\dots$ \\\\\n",
       "\t7 & 5674 & 1-4-1-9-7-9-1-4-1 & .((((.(((((((((.......))))))))).)))). & ACAAAAAAACCAGGCTTGGGATGCCTGGTTTGTTTGCC & $\\dots$ \\\\\n",
       "\t8 & 9001 & 1-4-1-9-7-9-1-4-1 & .((((.(((((((((.......))))))))).)))). & ACAAAAAAACCACCTAGAGCTAAGGTGGTTTGTTTGCC & $\\dots$ \\\\\n",
       "\t9 & 15928 & 1-4-1-9-7-9-1-4-1 & .((((.(((((((((.......))))))))).)))). & ACAAAAAAACCACAACTAGACATTGTGGTTTGTTTGCC & $\\dots$ \\\\\n",
       "\t10 & 17299 & 1-4-1-9-7-9-1-4-1 & .((((.(((((((((.......))))))))).)))). & ACAAAAAAACCACATCGGTACAATGTGGTTTGTTTGCC & $\\dots$ \\\\\n",
       "\t11 & 17937 & 1-4-1-9-7-9-1-4-1 & .((((.(((((((((.......))))))))).)))). & ACAAAAAAACCAGTGATCAAACCACTGGTTTGTTTGCC & $\\dots$ \\\\\n",
       "\t12 & 18106 & 1-4-1-9-7-9-1-4-1 & .((((.(((((((((.......))))))))).)))). & ACAAAAAAACCGGTTGGGGGGAAATTGGTTTGTTTGCC & $\\dots$ \\\\\n",
       "\t13 & 18678 & 1-4-1-9-7-9-1-4-1 & .((((.(((((((((.......))))))))).)))). & ACAAAAAAACCATGAAAAAGGATCATGGTTTGTTTGCC & $\\dots$ \\\\\n",
       "\t14 & 20186 & 1-4-1-9-7-9-1-4-1 & .((((.(((((((((.......))))))))).)))). & ACAAAAAAACCAGTTCATATCAAACTGGTTTGTTTGCC & $\\dots$ \\\\\n",
       "\t15 & 21426 & 1-4-1-9-7-9-1-4-1 & .((((.(((((((((.......))))))))).)))). & ACAAAAAAACCCACTTGATGTCAGTGGGTTTGTTTGCC & $\\dots$ \\\\\n",
       "\t16 & 22333 & 1-4-1-9-7-9-1-4-1 & .((((.(((((((((.......))))))))).)))). & ACAAAAAAACCAGTCAAGCTTGGACTGGTTTGTTTGCC & $\\dots$ \\\\\n",
       "\t17 & 22889 & 1-4-1-9-7-9-1-4-1 & .((((.(((((((((.......))))))))).)))). & ACAAAAAAACCACACATGGTTCGTGTGGTTTGTTTGCC & $\\dots$ \\\\\n",
       "\t18 & 23474 & 1-4-1-9-7-9-1-4-1 & .((((.(((((((((.......))))))))).)))). & ACAAAAAAACCAAGAAGCCTAGTCTTGGTTTGTTTGCC & $\\dots$ \\\\\n",
       "\t19 & 23986 & 1-4-1-9-7-9-1-4-1 & .((((.(((((((((.......))))))))).)))). & ACAAAAAAACCAGCCAGCATACGGCTGGTTTGTTTGCC & $\\dots$ \\\\\n",
       "\t20 & 25542 & 1-4-1-9-7-9-1-4-1 & .((((.(((((((((.......))))))))).)))). & ACAAAAAAACCAATGCTATCGACATTGGTTTGTTTGCC & $\\dots$ \\\\\n",
       "\t21 & 26517 & 1-4-1-9-7-9-1-4-1 & .((((.(((((((((.......))))))))).)))). & ACAAAAAAACCACCATGTACTTTGGTGGTTTGTTTGCC & $\\dots$ \\\\\n",
       "\t22 & 27049 & 1-4-1-9-7-9-1-4-1 & .((((.(((((((((.......))))))))).)))). & ACAAAAAAACCATTGATCGAGACAATGGTTTGTTTGCC & $\\dots$ \\\\\n",
       "\t23 & 27793 & 1-4-1-9-7-9-1-4-1 & .((((.(((((((((.......))))))))).)))). & ACAAAAAAACCATTCAATGTTCGAATGGTTTGTTTGCC & $\\dots$ \\\\\n",
       "\t24 & 28162 & 1-4-1-9-7-9-1-4-1 & .((((.(((((((((.......))))))))).)))). & ACAAAAAAACCAGCTGTATGTAAGCTGGTTTGTTTGCC & $\\dots$ \\\\\n",
       "\t25 & 28471 & 1-4-1-9-7-9-1-4-1 & .((((.(((((((((.......))))))))).)))). & ACAAAAAAACCAGTCTGAGAACGACTGGTTTGTTTGCC & $\\dots$ \\\\\n",
       "\t26 & 30045 & 1-4-1-9-7-9-1-4-1 & .((((.(((((((((.......))))))))).)))). & ACAAAAAAACCACACAGATAAGGTGTGGTTTGTTTGCC & $\\dots$ \\\\\n",
       "\t27 & 30226 & 1-4-1-9-7-9-1-4-1 & .((((.(((((((((.......))))))))).)))). & ACAAAAAAACCACACGACAGAAGTGTGGTTTGTTTGCC & $\\dots$ \\\\\n",
       "\t28 & 30248 & 1-4-1-9-7-9-1-4-1 & .((((.(((((((((.......))))))))).)))). & ACAAAAAAACCAAGTCTTACATACTTGGTTTGTTTGCC & $\\dots$ \\\\\n",
       "\t29 & 30339 & 1-4-1-9-7-9-1-4-1 & .((((.(((((((((.......))))))))).)))). & ACAAAAAAACCACAGTGAGACTCTGTGGTTTGTTTGCC & $\\dots$ \\\\\n",
       "\t30 & 32243 & 1-4-1-9-7-9-1-4-1 & .((((.(((((((((.......))))))))).)))). & ACAAAAAAACCACCTACAAAAAGGGTGGTTTGTTTGCC & $\\dots$ \\\\\n",
       "\t$\\dots$ & $\\dots$ & $\\dots$ & $\\dots$ & $\\dots$ &  \\\\\n",
       "\\end{tabular}\n"
      ],
      "text/plain": [
       "\u001b[1m47×12 DataFrame\u001b[0m\n",
       "\u001b[1m Row \u001b[0m│\u001b[1m Sequence_number \u001b[0m\u001b[1m Loop1_description \u001b[0m\u001b[1m MFE_SUBstructure                  \u001b[0m\u001b[1m \u001b[0m ⋯\n",
       "     │\u001b[90m Int64           \u001b[0m\u001b[90m String            \u001b[0m\u001b[90m String                            \u001b[0m\u001b[90m \u001b[0m ⋯\n",
       "─────┼──────────────────────────────────────────────────────────────────────────\n",
       "   1 │             882  1-4-1-9-7-9-1-4-1  .((((.(((((((((.......))))))))).…   ⋯\n",
       "   2 │            2180  1-4-1-9-7-9-1-4-1  .((((.(((((((((.......))))))))).…\n",
       "   3 │            2909  1-4-1-9-7-9-1-4-1  .((((.(((((((((.......))))))))).…\n",
       "   4 │            3228  1-4-1-9-7-9-1-4-1  .((((.(((((((((.......))))))))).…\n",
       "   5 │            3794  1-4-1-9-7-9-1-4-1  .((((.(((((((((.......))))))))).…   ⋯\n",
       "   6 │            5046  1-4-1-9-7-9-1-4-1  .((((.(((((((((.......))))))))).…\n",
       "   7 │            5674  1-4-1-9-7-9-1-4-1  .((((.(((((((((.......))))))))).…\n",
       "   8 │            9001  1-4-1-9-7-9-1-4-1  .((((.(((((((((.......))))))))).…\n",
       "   9 │           15928  1-4-1-9-7-9-1-4-1  .((((.(((((((((.......))))))))).…   ⋯\n",
       "  10 │           17299  1-4-1-9-7-9-1-4-1  .((((.(((((((((.......))))))))).…\n",
       "  11 │           17937  1-4-1-9-7-9-1-4-1  .((((.(((((((((.......))))))))).…\n",
       "  ⋮  │        ⋮                 ⋮                          ⋮                   ⋱\n",
       "  38 │           38931  1-4-1-9-7-9-1-4-1  .((((.(((((((((.......))))))))).…\n",
       "  39 │           38995  1-4-1-9-7-9-1-4-1  .((((.(((((((((.......))))))))).…   ⋯\n",
       "  40 │           39414  1-4-1-9-7-9-1-4-1  .((((.(((((((((.......))))))))).…\n",
       "  41 │           40507  1-4-1-9-7-9-1-4-1  .((((.(((((((((.......))))))))).…\n",
       "  42 │           40996  1-4-1-9-7-9-1-4-1  .((((.(((((((((.......))))))))).…\n",
       "  43 │           41826  1-4-1-9-7-9-1-4-1  .((((.(((((((((.......))))))))).…   ⋯\n",
       "  44 │           42328  1-4-1-9-7-9-1-4-1  .((((.(((((((((.......))))))))).…\n",
       "  45 │           43857  1-4-1-9-7-9-1-4-1  .((((.(((((((((.......))))))))).…\n",
       "  46 │           44582  1-4-1-9-7-9-1-4-1  .((((.(((((((((.......))))))))).…\n",
       "  47 │           44961  1-4-1-9-7-9-1-4-1  .((((.(((((((((.......))))))))).…   ⋯\n",
       "\u001b[36m                                                   9 columns and 26 rows omitted\u001b[0m"
      ]
     },
     "execution_count": 70,
     "metadata": {},
     "output_type": "execute_result"
    }
   ],
   "source": [
    "L1M2medium7Loop = \".((((.(((((((((.......))))))))).)))).\"\n",
    "lib_L1M2medium7Loop = filter(:MFE_SUBstructure => n -> n == L1M2medium7Loop, libStructureAnalysis)"
   ]
  },
  {
   "cell_type": "code",
   "execution_count": 69,
   "id": "70eb11a4-082e-4799-8795-cea813fb511f",
   "metadata": {},
   "outputs": [
    {
     "data": {
      "text/html": [
       "<div><div style = \"float: left;\"><span>2036×12 DataFrame</span></div><div style = \"float: right;\"><span style = \"font-style: italic;\">2011 rows omitted</span></div><div style = \"clear: both;\"></div></div><div class = \"data-frame\" style = \"overflow-x: scroll;\"><table class = \"data-frame\" style = \"margin-bottom: 6px;\"><thead><tr class = \"header\"><th class = \"rowNumber\" style = \"font-weight: bold; text-align: right;\">Row</th><th style = \"text-align: left;\">Sequence_number</th><th style = \"text-align: left;\">Loop1_description</th><th style = \"text-align: left;\">MFE_SUBstructure</th><th style = \"text-align: left;\">LoopI</th><th style = \"text-align: left;\">Loop_length</th><th style = \"text-align: left;\">Count</th><th style = \"text-align: left;\">WT</th><th style = \"text-align: left;\">MFE_structure</th><th style = \"text-align: left;\">MFE_energy</th><th style = \"text-align: left;\">Mbp_dist</th><th style = \"text-align: left;\">Seq_Cluster</th><th style = \"text-align: left;\">Str_Cluster</th></tr><tr class = \"subheader headerLastRow\"><th class = \"rowNumber\" style = \"font-weight: bold; text-align: right;\"></th><th title = \"Int64\" style = \"text-align: left;\">Int64</th><th title = \"String\" style = \"text-align: left;\">String</th><th title = \"String\" style = \"text-align: left;\">String</th><th title = \"String\" style = \"text-align: left;\">String</th><th title = \"Int64\" style = \"text-align: left;\">Int64</th><th title = \"Int64\" style = \"text-align: left;\">Int64</th><th title = \"String7\" style = \"text-align: left;\">String7</th><th title = \"String\" style = \"text-align: left;\">String</th><th title = \"Float64\" style = \"text-align: left;\">Float64</th><th title = \"Float64\" style = \"text-align: left;\">Float64</th><th title = \"Int64\" style = \"text-align: left;\">Int64</th><th title = \"Int64\" style = \"text-align: left;\">Int64</th></tr></thead><tbody><tr><td class = \"rowNumber\" style = \"font-weight: bold; text-align: right;\">1</td><td style = \"text-align: right;\">30</td><td style = \"text-align: left;\">1-4-1-8-10-8-1-4-1</td><td style = \"text-align: left;\">.((((.((((((((..........)))))))).)))).</td><td style = \"text-align: left;\">ACAAAAAAACCAGTGCTTTCTCAGACTGGTTTGTTTGCC</td><td style = \"text-align: right;\">39</td><td style = \"text-align: right;\">11</td><td style = \"text-align: left;\">false</td><td style = \"text-align: left;\">.((((.((((((((..........)))))))).)))).((((..(((((.......)))))..))))..((((.(((((((.....)))).))).)))).........</td><td style = \"text-align: right;\">-33.3</td><td style = \"text-align: right;\">6.05727</td><td style = \"text-align: right;\">0</td><td style = \"text-align: right;\">0</td></tr><tr><td class = \"rowNumber\" style = \"font-weight: bold; text-align: right;\">2</td><td style = \"text-align: right;\">33</td><td style = \"text-align: left;\">1-4-1-8-10-8-1-4-1</td><td style = \"text-align: left;\">.((((.((((((((..........)))))))).)))).</td><td style = \"text-align: left;\">ACAAAAAAACCACGACTTCTGCTCCGTGGTTTGTTTGCC</td><td style = \"text-align: right;\">39</td><td style = \"text-align: right;\">10</td><td style = \"text-align: left;\">false</td><td style = \"text-align: left;\">.((((.((((((((..........)))))))).)))).((((..(((((.......)))))..))))..((((.(((((((.....)))).))).)))).........</td><td style = \"text-align: right;\">-33.1</td><td style = \"text-align: right;\">6.05773</td><td style = \"text-align: right;\">0</td><td style = \"text-align: right;\">0</td></tr><tr><td class = \"rowNumber\" style = \"font-weight: bold; text-align: right;\">3</td><td style = \"text-align: right;\">38</td><td style = \"text-align: left;\">1-4-1-8-10-8-1-4-1</td><td style = \"text-align: left;\">.((((.((((((((..........)))))))).)))).</td><td style = \"text-align: left;\">ACAAAAAAACCACGCATTTACGAACGTGGTTTGTTTGCC</td><td style = \"text-align: right;\">39</td><td style = \"text-align: right;\">10</td><td style = \"text-align: left;\">false</td><td style = \"text-align: left;\">.((((.((((((((..........)))))))).)))).((((..(((((.......)))))..))))..((((.(((((((.....)))).))).)))).........</td><td style = \"text-align: right;\">-34.3</td><td style = \"text-align: right;\">5.00239</td><td style = \"text-align: right;\">0</td><td style = \"text-align: right;\">0</td></tr><tr><td class = \"rowNumber\" style = \"font-weight: bold; text-align: right;\">4</td><td style = \"text-align: right;\">51</td><td style = \"text-align: left;\">1-4-1-8-10-8-1-4-1</td><td style = \"text-align: left;\">.((((.((((((((..........)))))))).)))).</td><td style = \"text-align: left;\">ACAAAAAAACCAGTCTACTTTGAAACTGGTTTGTTTGCC</td><td style = \"text-align: right;\">39</td><td style = \"text-align: right;\">9</td><td style = \"text-align: left;\">false</td><td style = \"text-align: left;\">.((((.((((((((..........)))))))).)))).((((..(((((.......)))))..))))..((((.(((((((.....)))).))).)))).........</td><td style = \"text-align: right;\">-33.1</td><td style = \"text-align: right;\">5.4746</td><td style = \"text-align: right;\">0</td><td style = \"text-align: right;\">0</td></tr><tr><td class = \"rowNumber\" style = \"font-weight: bold; text-align: right;\">5</td><td style = \"text-align: right;\">54</td><td style = \"text-align: left;\">1-4-1-8-10-8-1-4-1</td><td style = \"text-align: left;\">.((((.((((((((..........)))))))).)))).</td><td style = \"text-align: left;\">ACAAAAAAACCACGTTCCTCTGGCCGTGGTTTGTTTGCC</td><td style = \"text-align: right;\">39</td><td style = \"text-align: right;\">9</td><td style = \"text-align: left;\">false</td><td style = \"text-align: left;\">.((((.((((((((..........)))))))).)))).((((..(((((.......)))))..))))..((((.(((((((.....)))).))).)))).........</td><td style = \"text-align: right;\">-34.2</td><td style = \"text-align: right;\">6.00131</td><td style = \"text-align: right;\">0</td><td style = \"text-align: right;\">0</td></tr><tr><td class = \"rowNumber\" style = \"font-weight: bold; text-align: right;\">6</td><td style = \"text-align: right;\">55</td><td style = \"text-align: left;\">1-4-1-8-10-8-1-4-1</td><td style = \"text-align: left;\">.((((.((((((((..........)))))))).)))).</td><td style = \"text-align: left;\">ACAAAAAAACCACCGTCGACAAAAGGTGGTTTGTTTGCC</td><td style = \"text-align: right;\">39</td><td style = \"text-align: right;\">9</td><td style = \"text-align: left;\">false</td><td style = \"text-align: left;\">.((((.((((((((..........)))))))).)))).((((..(((((.......)))))..))))..((((.(((((((.....)))).))).)))).........</td><td style = \"text-align: right;\">-36.4</td><td style = \"text-align: right;\">4.91108</td><td style = \"text-align: right;\">0</td><td style = \"text-align: right;\">0</td></tr><tr><td class = \"rowNumber\" style = \"font-weight: bold; text-align: right;\">7</td><td style = \"text-align: right;\">61</td><td style = \"text-align: left;\">1-4-1-8-10-8-1-4-1</td><td style = \"text-align: left;\">.((((.((((((((..........)))))))).)))).</td><td style = \"text-align: left;\">ACAAAAAAACCACCTTTATTTGTCGGTGGTTTGTTTGCC</td><td style = \"text-align: right;\">39</td><td style = \"text-align: right;\">9</td><td style = \"text-align: left;\">false</td><td style = \"text-align: left;\">.((((.((((((((..........)))))))).)))).((((..(((((.......)))))..))))..((((.(((((((.....)))).))).)))).........</td><td style = \"text-align: right;\">-35.5</td><td style = \"text-align: right;\">4.91468</td><td style = \"text-align: right;\">0</td><td style = \"text-align: right;\">0</td></tr><tr><td class = \"rowNumber\" style = \"font-weight: bold; text-align: right;\">8</td><td style = \"text-align: right;\">79</td><td style = \"text-align: left;\">1-4-1-8-10-8-1-4-1</td><td style = \"text-align: left;\">.((((.((((((((..........)))))))).)))).</td><td style = \"text-align: left;\">ACAAAAAAACCAAGCCACAGTCCACTTGGTTTGTTTGCC</td><td style = \"text-align: right;\">39</td><td style = \"text-align: right;\">8</td><td style = \"text-align: left;\">false</td><td style = \"text-align: left;\">.((((.((((((((..........)))))))).)))).((((..(((((.......)))))..))))..((((.(((((((.....)))).))).)))).........</td><td style = \"text-align: right;\">-32.7</td><td style = \"text-align: right;\">6.27544</td><td style = \"text-align: right;\">0</td><td style = \"text-align: right;\">0</td></tr><tr><td class = \"rowNumber\" style = \"font-weight: bold; text-align: right;\">9</td><td style = \"text-align: right;\">81</td><td style = \"text-align: left;\">1-4-1-8-10-8-1-4-1</td><td style = \"text-align: left;\">.((((.((((((((..........)))))))).)))).</td><td style = \"text-align: left;\">ACAAAAAAACCACCATTTTCACAAGGTGGTTTGTTTGCC</td><td style = \"text-align: right;\">39</td><td style = \"text-align: right;\">8</td><td style = \"text-align: left;\">false</td><td style = \"text-align: left;\">.((((.((((((((..........)))))))).)))).((((..(((((.......)))))..))))..((((.(((((((.....)))).))).)))).........</td><td style = \"text-align: right;\">-35.6</td><td style = \"text-align: right;\">4.98329</td><td style = \"text-align: right;\">0</td><td style = \"text-align: right;\">0</td></tr><tr><td class = \"rowNumber\" style = \"font-weight: bold; text-align: right;\">10</td><td style = \"text-align: right;\">95</td><td style = \"text-align: left;\">1-4-1-8-10-8-1-4-1</td><td style = \"text-align: left;\">.((((.((((((((..........)))))))).)))).</td><td style = \"text-align: left;\">ACAAAAAAACCACGCATATTTGGCCGTGGTTTGTTTGCC</td><td style = \"text-align: right;\">39</td><td style = \"text-align: right;\">7</td><td style = \"text-align: left;\">false</td><td style = \"text-align: left;\">.((((.((((((((..........)))))))).)))).((((..(((((.......)))))..))))..((((.(((((((.....)))).))).)))).........</td><td style = \"text-align: right;\">-33.9</td><td style = \"text-align: right;\">6.58836</td><td style = \"text-align: right;\">0</td><td style = \"text-align: right;\">0</td></tr><tr><td class = \"rowNumber\" style = \"font-weight: bold; text-align: right;\">11</td><td style = \"text-align: right;\">101</td><td style = \"text-align: left;\">1-4-1-8-10-8-1-4-1</td><td style = \"text-align: left;\">.((((.((((((((..........)))))))).)))).</td><td style = \"text-align: left;\">ACAAAAAAACCACCTGTATATCTTGGTGGTTTGTTTGCC</td><td style = \"text-align: right;\">39</td><td style = \"text-align: right;\">7</td><td style = \"text-align: left;\">false</td><td style = \"text-align: left;\">.((((.((((((((..........)))))))).)))).((((..(((((.......)))))..))))..((((.(((((((.....)))).))).)))).........</td><td style = \"text-align: right;\">-36.2</td><td style = \"text-align: right;\">4.98188</td><td style = \"text-align: right;\">0</td><td style = \"text-align: right;\">0</td></tr><tr><td class = \"rowNumber\" style = \"font-weight: bold; text-align: right;\">12</td><td style = \"text-align: right;\">104</td><td style = \"text-align: left;\">1-4-1-8-10-8-1-4-1</td><td style = \"text-align: left;\">.((((.((((((((..........)))))))).)))).</td><td style = \"text-align: left;\">ACAAAAAAACCACCGTTATTCGAAGGTGGTTTGTTTGCC</td><td style = \"text-align: right;\">39</td><td style = \"text-align: right;\">7</td><td style = \"text-align: left;\">false</td><td style = \"text-align: left;\">.((((.((((((((..........)))))))).)))).((((..(((((.......)))))..))))..((((.(((((((.....)))).))).)))).........</td><td style = \"text-align: right;\">-36.4</td><td style = \"text-align: right;\">4.975</td><td style = \"text-align: right;\">0</td><td style = \"text-align: right;\">0</td></tr><tr><td class = \"rowNumber\" style = \"font-weight: bold; text-align: right;\">13</td><td style = \"text-align: right;\">120</td><td style = \"text-align: left;\">1-4-1-8-10-8-1-4-1</td><td style = \"text-align: left;\">.((((.((((((((..........)))))))).)))).</td><td style = \"text-align: left;\">ACAAAAAAACCACGTCCAATCGATCGTGGTTTGTTTGCC</td><td style = \"text-align: right;\">39</td><td style = \"text-align: right;\">7</td><td style = \"text-align: left;\">false</td><td style = \"text-align: left;\">.((((.((((((((..........)))))))).)))).((((..(((((.......)))))..))))..((((.(((((((.....)))).))).)))).........</td><td style = \"text-align: right;\">-34.8</td><td style = \"text-align: right;\">5.96057</td><td style = \"text-align: right;\">0</td><td style = \"text-align: right;\">0</td></tr><tr><td style = \"text-align: right;\">&vellip;</td><td style = \"text-align: right;\">&vellip;</td><td style = \"text-align: right;\">&vellip;</td><td style = \"text-align: right;\">&vellip;</td><td style = \"text-align: right;\">&vellip;</td><td style = \"text-align: right;\">&vellip;</td><td style = \"text-align: right;\">&vellip;</td><td style = \"text-align: right;\">&vellip;</td><td style = \"text-align: right;\">&vellip;</td><td style = \"text-align: right;\">&vellip;</td><td style = \"text-align: right;\">&vellip;</td><td style = \"text-align: right;\">&vellip;</td><td style = \"text-align: right;\">&vellip;</td></tr><tr><td class = \"rowNumber\" style = \"font-weight: bold; text-align: right;\">2025</td><td style = \"text-align: right;\">44741</td><td style = \"text-align: left;\">1-4-1-8-10-8-1-4-1</td><td style = \"text-align: left;\">.((((.((((((((..........)))))))).)))).</td><td style = \"text-align: left;\">ACAAAAAAACCATGCTCGTCGTAACATGGTTTGTTTGCC</td><td style = \"text-align: right;\">39</td><td style = \"text-align: right;\">1</td><td style = \"text-align: left;\">false</td><td style = \"text-align: left;\">.((((.((((((((..........)))))))).)))).((((..(((((.......)))))..))))..((((.(((((((.....)))).))).)))).........</td><td style = \"text-align: right;\">-32.9</td><td style = \"text-align: right;\">4.98407</td><td style = \"text-align: right;\">0</td><td style = \"text-align: right;\">0</td></tr><tr><td class = \"rowNumber\" style = \"font-weight: bold; text-align: right;\">2026</td><td style = \"text-align: right;\">44782</td><td style = \"text-align: left;\">1-4-1-8-10-8-1-4-1</td><td style = \"text-align: left;\">.((((.((((((((..........)))))))).)))).</td><td style = \"text-align: left;\">ACAAAAAAACCACCATGTTTAAGGGGTGGTTTGTTTGCC</td><td style = \"text-align: right;\">39</td><td style = \"text-align: right;\">1</td><td style = \"text-align: left;\">false</td><td style = \"text-align: left;\">.((((.((((((((..........)))))))).)))).((((..(((((.......)))))..))))..((((.(((((((.....)))).))).)))).........</td><td style = \"text-align: right;\">-34.5</td><td style = \"text-align: right;\">5.54786</td><td style = \"text-align: right;\">0</td><td style = \"text-align: right;\">0</td></tr><tr><td class = \"rowNumber\" style = \"font-weight: bold; text-align: right;\">2027</td><td style = \"text-align: right;\">44809</td><td style = \"text-align: left;\">1-4-1-8-10-8-1-4-1</td><td style = \"text-align: left;\">.((((.((((((((..........)))))))).)))).</td><td style = \"text-align: left;\">ACAAAAAAACCATTTATGAAGGCGGGTGGTTTGTTTGCC</td><td style = \"text-align: right;\">39</td><td style = \"text-align: right;\">1</td><td style = \"text-align: left;\">false</td><td style = \"text-align: left;\">.((((.((((((((..........)))))))).)))).((((..(((((.......)))))..))))..((((.(((((((.....)))).))).)))).........</td><td style = \"text-align: right;\">-29.5</td><td style = \"text-align: right;\">6.6694</td><td style = \"text-align: right;\">0</td><td style = \"text-align: right;\">0</td></tr><tr><td class = \"rowNumber\" style = \"font-weight: bold; text-align: right;\">2028</td><td style = \"text-align: right;\">44817</td><td style = \"text-align: left;\">1-4-1-8-10-8-1-4-1</td><td style = \"text-align: left;\">.((((.((((((((..........)))))))).)))).</td><td style = \"text-align: left;\">ACAAAAAAACCACCAATTATGACAGGTGGTTTGTTTGCC</td><td style = \"text-align: right;\">39</td><td style = \"text-align: right;\">1</td><td style = \"text-align: left;\">false</td><td style = \"text-align: left;\">.((((.((((((((..........)))))))).)))).((((..(((((.......)))))..))))..((((.(((((((.....)))).))).)))).........</td><td style = \"text-align: right;\">-35.6</td><td style = \"text-align: right;\">4.92239</td><td style = \"text-align: right;\">0</td><td style = \"text-align: right;\">0</td></tr><tr><td class = \"rowNumber\" style = \"font-weight: bold; text-align: right;\">2029</td><td style = \"text-align: right;\">44831</td><td style = \"text-align: left;\">1-4-1-8-10-8-1-4-1</td><td style = \"text-align: left;\">.((((.((((((((..........)))))))).)))).</td><td style = \"text-align: left;\">ACAAAAAAACCAGGGTAGGGGTGTCTTGGTTTGTTTGCC</td><td style = \"text-align: right;\">39</td><td style = \"text-align: right;\">1</td><td style = \"text-align: left;\">false</td><td style = \"text-align: left;\">.((((.((((((((..........)))))))).)))).((((..(((((.......)))))..))))..((((.(((((((.....)))).))).)))).........</td><td style = \"text-align: right;\">-32.7</td><td style = \"text-align: right;\">5.79405</td><td style = \"text-align: right;\">0</td><td style = \"text-align: right;\">0</td></tr><tr><td class = \"rowNumber\" style = \"font-weight: bold; text-align: right;\">2030</td><td style = \"text-align: right;\">44853</td><td style = \"text-align: left;\">1-4-1-8-10-8-1-4-1</td><td style = \"text-align: left;\">.((((.((((((((..........)))))))).)))).</td><td style = \"text-align: left;\">ACAAAAAAACCAGGGGTGGTAGCACCTGGTTTGTTTGCC</td><td style = \"text-align: right;\">39</td><td style = \"text-align: right;\">1</td><td style = \"text-align: left;\">false</td><td style = \"text-align: left;\">.((((.((((((((..........)))))))).)))).((((..(((((.......)))))..))))..((((.(((((((.....)))).))).)))).........</td><td style = \"text-align: right;\">-36.5</td><td style = \"text-align: right;\">5.59387</td><td style = \"text-align: right;\">0</td><td style = \"text-align: right;\">0</td></tr><tr><td class = \"rowNumber\" style = \"font-weight: bold; text-align: right;\">2031</td><td style = \"text-align: right;\">44866</td><td style = \"text-align: left;\">1-4-1-8-10-8-1-4-1</td><td style = \"text-align: left;\">.((((.((((((((..........)))))))).)))).</td><td style = \"text-align: left;\">ACAAAAAAACCACCCTACTGCTACGGTGGTTTGTTTGCC</td><td style = \"text-align: right;\">39</td><td style = \"text-align: right;\">1</td><td style = \"text-align: left;\">false</td><td style = \"text-align: left;\">.((((.((((((((..........)))))))).)))).((((..(((((.......)))))..))))..((((.(((((((.....)))).))).)))).........</td><td style = \"text-align: right;\">-35.2</td><td style = \"text-align: right;\">5.21977</td><td style = \"text-align: right;\">0</td><td style = \"text-align: right;\">0</td></tr><tr><td class = \"rowNumber\" style = \"font-weight: bold; text-align: right;\">2032</td><td style = \"text-align: right;\">44872</td><td style = \"text-align: left;\">1-4-1-8-10-8-1-4-1</td><td style = \"text-align: left;\">.((((.((((((((..........)))))))).)))).</td><td style = \"text-align: left;\">ACAAAAAAACCAGGTTCCACGACTCCTGGTTTGTTTGCC</td><td style = \"text-align: right;\">39</td><td style = \"text-align: right;\">1</td><td style = \"text-align: left;\">false</td><td style = \"text-align: left;\">.((((.((((((((..........)))))))).)))).((((..(((((.......)))))..))))..((((.(((((((.....)))).))).)))).........</td><td style = \"text-align: right;\">-35.6</td><td style = \"text-align: right;\">4.92492</td><td style = \"text-align: right;\">0</td><td style = \"text-align: right;\">0</td></tr><tr><td class = \"rowNumber\" style = \"font-weight: bold; text-align: right;\">2033</td><td style = \"text-align: right;\">44882</td><td style = \"text-align: left;\">1-4-1-8-10-8-1-4-1</td><td style = \"text-align: left;\">.((((.((((((((..........)))))))).)))).</td><td style = \"text-align: left;\">ACAAAAAAACCGTTCGCTGGAAAAGATGGTTTGTTTGCC</td><td style = \"text-align: right;\">39</td><td style = \"text-align: right;\">1</td><td style = \"text-align: left;\">false</td><td style = \"text-align: left;\">.((((.((((((((..........)))))))).)))).((((..(((((.......)))))..))))..((((.(((((((.....)))).))).)))).........</td><td style = \"text-align: right;\">-28.5</td><td style = \"text-align: right;\">7.65239</td><td style = \"text-align: right;\">0</td><td style = \"text-align: right;\">0</td></tr><tr><td class = \"rowNumber\" style = \"font-weight: bold; text-align: right;\">2034</td><td style = \"text-align: right;\">44925</td><td style = \"text-align: left;\">1-4-1-8-10-8-1-4-1</td><td style = \"text-align: left;\">.((((.((((((((..........)))))))).)))).</td><td style = \"text-align: left;\">ACAAAAAAACCACCATGGACAAGAGGTGGTTTGTTTGCC</td><td style = \"text-align: right;\">39</td><td style = \"text-align: right;\">1</td><td style = \"text-align: left;\">false</td><td style = \"text-align: left;\">.((((.((((((((..........)))))))).)))).((((..(((((.......)))))..))))..((((.(((((((.....)))).))).)))).........</td><td style = \"text-align: right;\">-35.6</td><td style = \"text-align: right;\">5.02556</td><td style = \"text-align: right;\">0</td><td style = \"text-align: right;\">0</td></tr><tr><td class = \"rowNumber\" style = \"font-weight: bold; text-align: right;\">2035</td><td style = \"text-align: right;\">44927</td><td style = \"text-align: left;\">1-4-1-8-10-8-1-4-1</td><td style = \"text-align: left;\">.((((.((((((((..........)))))))).)))).</td><td style = \"text-align: left;\">ACAAAAAAACCAGGCGATTAGTACCCTGGTTTGTTTGCC</td><td style = \"text-align: right;\">39</td><td style = \"text-align: right;\">1</td><td style = \"text-align: left;\">false</td><td style = \"text-align: left;\">.((((.((((((((..........)))))))).)))).((((..(((((.......)))))..))))..((((.(((((((.....)))).))).)))).........</td><td style = \"text-align: right;\">-34.7</td><td style = \"text-align: right;\">5.5105</td><td style = \"text-align: right;\">0</td><td style = \"text-align: right;\">0</td></tr><tr><td class = \"rowNumber\" style = \"font-weight: bold; text-align: right;\">2036</td><td style = \"text-align: right;\">44950</td><td style = \"text-align: left;\">1-4-1-8-10-8-1-4-1</td><td style = \"text-align: left;\">.((((.((((((((..........)))))))).)))).</td><td style = \"text-align: left;\">ACAAAAAAACCATAGTGGCAGGGATATGGTTTGTTTGCC</td><td style = \"text-align: right;\">39</td><td style = \"text-align: right;\">1</td><td style = \"text-align: left;\">false</td><td style = \"text-align: left;\">.((((.((((((((..........)))))))).)))).((((..(((((.......)))))..))))..((((.(((((((.....)))).))).)))).........</td><td style = \"text-align: right;\">-32.2</td><td style = \"text-align: right;\">5.11509</td><td style = \"text-align: right;\">0</td><td style = \"text-align: right;\">0</td></tr></tbody></table></div>"
      ],
      "text/latex": [
       "\\begin{tabular}{r|ccccc}\n",
       "\t& Sequence\\_number & Loop1\\_description & MFE\\_SUBstructure & LoopI & \\\\\n",
       "\t\\hline\n",
       "\t& Int64 & String & String & String & \\\\\n",
       "\t\\hline\n",
       "\t1 & 30 & 1-4-1-8-10-8-1-4-1 & .((((.((((((((..........)))))))).)))). & ACAAAAAAACCAGTGCTTTCTCAGACTGGTTTGTTTGCC & $\\dots$ \\\\\n",
       "\t2 & 33 & 1-4-1-8-10-8-1-4-1 & .((((.((((((((..........)))))))).)))). & ACAAAAAAACCACGACTTCTGCTCCGTGGTTTGTTTGCC & $\\dots$ \\\\\n",
       "\t3 & 38 & 1-4-1-8-10-8-1-4-1 & .((((.((((((((..........)))))))).)))). & ACAAAAAAACCACGCATTTACGAACGTGGTTTGTTTGCC & $\\dots$ \\\\\n",
       "\t4 & 51 & 1-4-1-8-10-8-1-4-1 & .((((.((((((((..........)))))))).)))). & ACAAAAAAACCAGTCTACTTTGAAACTGGTTTGTTTGCC & $\\dots$ \\\\\n",
       "\t5 & 54 & 1-4-1-8-10-8-1-4-1 & .((((.((((((((..........)))))))).)))). & ACAAAAAAACCACGTTCCTCTGGCCGTGGTTTGTTTGCC & $\\dots$ \\\\\n",
       "\t6 & 55 & 1-4-1-8-10-8-1-4-1 & .((((.((((((((..........)))))))).)))). & ACAAAAAAACCACCGTCGACAAAAGGTGGTTTGTTTGCC & $\\dots$ \\\\\n",
       "\t7 & 61 & 1-4-1-8-10-8-1-4-1 & .((((.((((((((..........)))))))).)))). & ACAAAAAAACCACCTTTATTTGTCGGTGGTTTGTTTGCC & $\\dots$ \\\\\n",
       "\t8 & 79 & 1-4-1-8-10-8-1-4-1 & .((((.((((((((..........)))))))).)))). & ACAAAAAAACCAAGCCACAGTCCACTTGGTTTGTTTGCC & $\\dots$ \\\\\n",
       "\t9 & 81 & 1-4-1-8-10-8-1-4-1 & .((((.((((((((..........)))))))).)))). & ACAAAAAAACCACCATTTTCACAAGGTGGTTTGTTTGCC & $\\dots$ \\\\\n",
       "\t10 & 95 & 1-4-1-8-10-8-1-4-1 & .((((.((((((((..........)))))))).)))). & ACAAAAAAACCACGCATATTTGGCCGTGGTTTGTTTGCC & $\\dots$ \\\\\n",
       "\t11 & 101 & 1-4-1-8-10-8-1-4-1 & .((((.((((((((..........)))))))).)))). & ACAAAAAAACCACCTGTATATCTTGGTGGTTTGTTTGCC & $\\dots$ \\\\\n",
       "\t12 & 104 & 1-4-1-8-10-8-1-4-1 & .((((.((((((((..........)))))))).)))). & ACAAAAAAACCACCGTTATTCGAAGGTGGTTTGTTTGCC & $\\dots$ \\\\\n",
       "\t13 & 120 & 1-4-1-8-10-8-1-4-1 & .((((.((((((((..........)))))))).)))). & ACAAAAAAACCACGTCCAATCGATCGTGGTTTGTTTGCC & $\\dots$ \\\\\n",
       "\t14 & 121 & 1-4-1-8-10-8-1-4-1 & .((((.((((((((..........)))))))).)))). & ACAAAAAAACCACCTAGTAGTAGCGGTGGTTTGTTTGCC & $\\dots$ \\\\\n",
       "\t15 & 135 & 1-4-1-8-10-8-1-4-1 & .((((.((((((((..........)))))))).)))). & ACAAAAAAACCAGGCGAATTTGAACCTGGTTTGTTTGCC & $\\dots$ \\\\\n",
       "\t16 & 155 & 1-4-1-8-10-8-1-4-1 & .((((.((((((((..........)))))))).)))). & ACAAAAAAACCACTCATTGATGTAAGTGGTTTGTTTGCC & $\\dots$ \\\\\n",
       "\t17 & 161 & 1-4-1-8-10-8-1-4-1 & .((((.((((((((..........)))))))).)))). & ACAAAAAAACCACCGCAATAGTTTGGTGGTTTGTTTGCC & $\\dots$ \\\\\n",
       "\t18 & 187 & 1-4-1-8-10-8-1-4-1 & .((((.((((((((..........)))))))).)))). & ACAAAAAAACCACCATGATTGACAGGTGGTTTGTTTGCC & $\\dots$ \\\\\n",
       "\t19 & 188 & 1-4-1-8-10-8-1-4-1 & .((((.((((((((..........)))))))).)))). & ACAAAAAAACCATCCTGCCTGCGAGATGGTTTGTTTGCC & $\\dots$ \\\\\n",
       "\t20 & 196 & 1-4-1-8-10-8-1-4-1 & .((((.((((((((..........)))))))).)))). & ACAAAAAAACCACCTCAAGTCAACGGTGGTTTGTTTGCC & $\\dots$ \\\\\n",
       "\t21 & 235 & 1-4-1-8-10-8-1-4-1 & .((((.((((((((..........)))))))).)))). & ACAAAAAAACCACCGCTTAGACAAGGTGGTTTGTTTGCC & $\\dots$ \\\\\n",
       "\t22 & 251 & 1-4-1-8-10-8-1-4-1 & .((((.((((((((..........)))))))).)))). & ACAAAAAAACCAGCACTATCTCGAGCTGGTTTGTTTGCC & $\\dots$ \\\\\n",
       "\t23 & 255 & 1-4-1-8-10-8-1-4-1 & .((((.((((((((..........)))))))).)))). & ACAAAAAAACCACCCCTTGACTGTGGTGGTTTGTTTGCC & $\\dots$ \\\\\n",
       "\t24 & 258 & 1-4-1-8-10-8-1-4-1 & .((((.((((((((..........)))))))).)))). & ACAAAAAAACCACCTCAAGTCTGTGGTGGTTTGTTTGCC & $\\dots$ \\\\\n",
       "\t25 & 260 & 1-4-1-8-10-8-1-4-1 & .((((.((((((((..........)))))))).)))). & ACAAAAAAACCAGCATCTCCCTTAGCTGGTTTGTTTGCC & $\\dots$ \\\\\n",
       "\t26 & 263 & 1-4-1-8-10-8-1-4-1 & .((((.((((((((..........)))))))).)))). & ACAAAAAAACCACCTTTCTGTAGTGGTGGTTTGTTTGCC & $\\dots$ \\\\\n",
       "\t27 & 279 & 1-4-1-8-10-8-1-4-1 & .((((.((((((((..........)))))))).)))). & ACAAAAAAACCACACAACTTGCTATGTGGTTTGTTTGCC & $\\dots$ \\\\\n",
       "\t28 & 280 & 1-4-1-8-10-8-1-4-1 & .((((.((((((((..........)))))))).)))). & ACAAAAAAACCACCATTTTACTTAGGTGGTTTGTTTGCC & $\\dots$ \\\\\n",
       "\t29 & 298 & 1-4-1-8-10-8-1-4-1 & .((((.((((((((..........)))))))).)))). & ACAAAAAAACCATGCCACACTCCACATGGTTTGTTTGCC & $\\dots$ \\\\\n",
       "\t30 & 316 & 1-4-1-8-10-8-1-4-1 & .((((.((((((((..........)))))))).)))). & ACAAAAAAACCACCCATTGGTTTAGGTGGTTTGTTTGCC & $\\dots$ \\\\\n",
       "\t$\\dots$ & $\\dots$ & $\\dots$ & $\\dots$ & $\\dots$ &  \\\\\n",
       "\\end{tabular}\n"
      ],
      "text/plain": [
       "\u001b[1m2036×12 DataFrame\u001b[0m\n",
       "\u001b[1m  Row \u001b[0m│\u001b[1m Sequence_number \u001b[0m\u001b[1m Loop1_description  \u001b[0m\u001b[1m MFE_SUBstructure                 \u001b[0m ⋯\n",
       "      │\u001b[90m Int64           \u001b[0m\u001b[90m String             \u001b[0m\u001b[90m String                           \u001b[0m ⋯\n",
       "──────┼─────────────────────────────────────────────────────────────────────────\n",
       "    1 │              30  1-4-1-8-10-8-1-4-1  .((((.((((((((..........))))))))… ⋯\n",
       "    2 │              33  1-4-1-8-10-8-1-4-1  .((((.((((((((..........))))))))…\n",
       "    3 │              38  1-4-1-8-10-8-1-4-1  .((((.((((((((..........))))))))…\n",
       "    4 │              51  1-4-1-8-10-8-1-4-1  .((((.((((((((..........))))))))…\n",
       "    5 │              54  1-4-1-8-10-8-1-4-1  .((((.((((((((..........))))))))… ⋯\n",
       "    6 │              55  1-4-1-8-10-8-1-4-1  .((((.((((((((..........))))))))…\n",
       "    7 │              61  1-4-1-8-10-8-1-4-1  .((((.((((((((..........))))))))…\n",
       "    8 │              79  1-4-1-8-10-8-1-4-1  .((((.((((((((..........))))))))…\n",
       "    9 │              81  1-4-1-8-10-8-1-4-1  .((((.((((((((..........))))))))… ⋯\n",
       "   10 │              95  1-4-1-8-10-8-1-4-1  .((((.((((((((..........))))))))…\n",
       "   11 │             101  1-4-1-8-10-8-1-4-1  .((((.((((((((..........))))))))…\n",
       "  ⋮   │        ⋮                 ⋮                           ⋮                 ⋱\n",
       " 2027 │           44809  1-4-1-8-10-8-1-4-1  .((((.((((((((..........))))))))…\n",
       " 2028 │           44817  1-4-1-8-10-8-1-4-1  .((((.((((((((..........))))))))… ⋯\n",
       " 2029 │           44831  1-4-1-8-10-8-1-4-1  .((((.((((((((..........))))))))…\n",
       " 2030 │           44853  1-4-1-8-10-8-1-4-1  .((((.((((((((..........))))))))…\n",
       " 2031 │           44866  1-4-1-8-10-8-1-4-1  .((((.((((((((..........))))))))…\n",
       " 2032 │           44872  1-4-1-8-10-8-1-4-1  .((((.((((((((..........))))))))… ⋯\n",
       " 2033 │           44882  1-4-1-8-10-8-1-4-1  .((((.((((((((..........))))))))…\n",
       " 2034 │           44925  1-4-1-8-10-8-1-4-1  .((((.((((((((..........))))))))…\n",
       " 2035 │           44927  1-4-1-8-10-8-1-4-1  .((((.((((((((..........))))))))…\n",
       " 2036 │           44950  1-4-1-8-10-8-1-4-1  .((((.((((((((..........))))))))… ⋯\n",
       "\u001b[36m                                                 9 columns and 2015 rows omitted\u001b[0m"
      ]
     },
     "execution_count": 69,
     "metadata": {},
     "output_type": "execute_result"
    }
   ],
   "source": [
    "L1M2long10Loop = \".((((.((((((((..........)))))))).)))).\"\n",
    "lib_L1M2long10Loop = filter(:MFE_SUBstructure => n -> n == L1M2long10Loop, libStructureAnalysis)"
   ]
  },
  {
   "cell_type": "code",
   "execution_count": null,
   "id": "b0c70060-97b2-4c21-be6f-1d3bb664d352",
   "metadata": {},
   "outputs": [],
   "source": []
  },
  {
   "cell_type": "code",
   "execution_count": null,
   "id": "581ee851-bf9a-4b81-9e9f-e22190b18554",
   "metadata": {},
   "outputs": [],
   "source": []
  },
  {
   "cell_type": "code",
   "execution_count": null,
   "id": "e205e256-2e93-467d-afc4-1375f1e68801",
   "metadata": {},
   "outputs": [],
   "source": []
  },
  {
   "cell_type": "code",
   "execution_count": null,
   "id": "6cd77be9-38a6-4193-9632-f2e9efc5b5f3",
   "metadata": {},
   "outputs": [],
   "source": []
  },
  {
   "cell_type": "markdown",
   "id": "4edb1fdb-955c-45d3-a866-a6c91fccff0b",
   "metadata": {
    "tags": []
   },
   "source": [
    "### Analysis of Seq with similar relative Structure as WT\n",
    "\n",
    "Here I filtered for Sequences that look very similar to the WT-structure. So they have the same relative lengths as the WT. I found a few possible sequences which can be looked at in more detail at another point. There I can also look into the base variation of the sequences with the same structure, the MFE_energy, Mbp_dist, Counts of the sequences and whatever I come up with :)\n",
    "\n",
    "* [including the relative lengths of the structures in the dataframe](#relative_WTStructure)\n",
    "* [filtering seq with the same relative structure as WT](#relative_filterSimilar)\n",
    "* [mapping the diversity of the structures + assigning the seq_number to the structure accordingly](#relative_structAssign)"
   ]
  },
  {
   "cell_type": "markdown",
   "id": "b68f6c93-f81a-48be-b18d-0656d87507dc",
   "metadata": {},
   "source": [
    "<a id='relative_WTStructure'></a>"
   ]
  },
  {
   "cell_type": "code",
   "execution_count": 51,
   "id": "02875158-3e55-4b35-9b6f-435e6ae3a50c",
   "metadata": {
    "tags": []
   },
   "outputs": [
    {
     "ename": "LoadError",
     "evalue": "UndefVarError: `libStructureAnalysis` not defined",
     "output_type": "error",
     "traceback": [
      "UndefVarError: `libStructureAnalysis` not defined",
      "",
      "Stacktrace:",
      " [1] top-level scope",
      "   @ ./In[51]:6"
     ]
    }
   ],
   "source": [
    "## comparing relative lengths of the WT-hairpin structure\n",
    "\n",
    "## creating the relative LoopI structure-description of every sequence and including it into a dataframe\n",
    "rel_description = DataFrame([[],[]],[\"Sequence_number\", \"Rel_Loop1_description\"])\n",
    "\n",
    "for n = 1: size(libStructureAnalysis, 1)\n",
    "    sub_struc = libStructureAnalysis.MFE_SUBstructure[n]\n",
    "    seq_num = libStructureAnalysis.Sequence_number[n]\n",
    "\n",
    "    range_structure = vcat(loop_ranges(sub_struc, 1, '('), loop_ranges(sub_struc, 1, ')'), loop_ranges(sub_struc, 1, '.'))\n",
    "    sort!(range_structure)\n",
    "    \n",
    "    structure_sum = \"\"\n",
    "    for i in range_structure\n",
    "    rel_structure_sum = (length(i)) / length(sub_struc)\n",
    "    rel_structure_sum = round(rel_structure_sum, digits=1)\n",
    "        if structure_sum == \"\"\n",
    "            structure_sum = (structure_sum * \"$rel_structure_sum\")\n",
    "        else\n",
    "            structure_sum = structure_sum * \"-\" * \"$rel_structure_sum\"\n",
    "        end\n",
    "    end\n",
    "    push!(rel_description, (seq_num, structure_sum))\n",
    "\n",
    "end\n",
    "\n",
    "libStructureAnalysisClean = innerjoin(rel_description, libStructureAnalysis, on = :Sequence_number)\n",
    "        "
   ]
  },
  {
   "cell_type": "markdown",
   "id": "88c3f94e-0abc-445e-acaf-4cdcc3620dfb",
   "metadata": {},
   "source": [
    "#### Convenient point for saving partial results and for restarting later analysis"
   ]
  },
  {
   "cell_type": "code",
   "execution_count": 15,
   "id": "ad38e055-325a-44ee-967e-eb1de82c896a",
   "metadata": {},
   "outputs": [],
   "source": [
    "save_name = \"RelativeWTAnalysis_\" * file_name[1:end-6] * \".csv\"\n",
    "\n",
    "\n",
    "## Saving results\n",
    "CSV.write(save_name, libStructureAnalysisClean)\n",
    "\n",
    "## Opening saved results\n",
    "#save_name = \"StructureAnalysisReady_Old_large_Loop1_rc.csv\"\n",
    "libStructureAnalysisClean = CSV.read(save_name, DataFrame);\n"
   ]
  },
  {
   "cell_type": "markdown",
   "id": "379dad6e-1b7a-4e4a-bb3d-a560aa25def5",
   "metadata": {},
   "source": [
    "<a id='relative_filterSimilar'></a>"
   ]
  },
  {
   "cell_type": "code",
   "execution_count": 16,
   "id": "59056915-a3f9-4da8-81d7-9688f203c7a7",
   "metadata": {
    "collapsed": true,
    "jupyter": {
     "outputs_hidden": true
    },
    "tags": []
   },
   "outputs": [
    {
     "data": {
      "text/html": [
       "<div><div style = \"float: left;\"><span>456×13 DataFrame</span></div><div style = \"float: right;\"><span style = \"font-style: italic;\">431 rows omitted</span></div><div style = \"clear: both;\"></div></div><div class = \"data-frame\" style = \"overflow-x: scroll;\"><table class = \"data-frame\" style = \"margin-bottom: 6px;\"><thead><tr class = \"header\"><th class = \"rowNumber\" style = \"font-weight: bold; text-align: right;\">Row</th><th style = \"text-align: left;\">Sequence_number</th><th style = \"text-align: left;\">Rel_Loop1_description</th><th style = \"text-align: left;\">Loop1_description</th><th style = \"text-align: left;\">MFE_SUBstructure</th><th style = \"text-align: left;\">LoopI</th><th style = \"text-align: left;\">Loop_length</th><th style = \"text-align: left;\">Count</th><th style = \"text-align: left;\">WT</th><th style = \"text-align: left;\">MFE_structure</th><th style = \"text-align: left;\">MFE_energy</th><th style = \"text-align: left;\">Mbp_dist</th><th style = \"text-align: left;\">Seq_Cluster</th><th style = \"text-align: left;\">Str_Cluster</th></tr><tr class = \"subheader headerLastRow\"><th class = \"rowNumber\" style = \"font-weight: bold; text-align: right;\"></th><th title = \"Int64\" style = \"text-align: left;\">Int64</th><th title = \"String\" style = \"text-align: left;\">String</th><th title = \"String\" style = \"text-align: left;\">String</th><th title = \"String\" style = \"text-align: left;\">String</th><th title = \"String\" style = \"text-align: left;\">String</th><th title = \"Int64\" style = \"text-align: left;\">Int64</th><th title = \"Int64\" style = \"text-align: left;\">Int64</th><th title = \"String7\" style = \"text-align: left;\">String7</th><th title = \"String\" style = \"text-align: left;\">String</th><th title = \"Float64\" style = \"text-align: left;\">Float64</th><th title = \"Float64\" style = \"text-align: left;\">Float64</th><th title = \"Int64\" style = \"text-align: left;\">Int64</th><th title = \"Int64\" style = \"text-align: left;\">Int64</th></tr></thead><tbody><tr><td class = \"rowNumber\" style = \"font-weight: bold; text-align: right;\">1</td><td style = \"text-align: right;\">43398</td><td style = \"text-align: left;\">0.0-0.1-0.0-0.3-0.1-0.3-0.0-0.1-0.0</td><td style = \"text-align: left;\">1-4-1-11-4-11-1-4-1</td><td style = \"text-align: left;\">.((((.(((((((((((....))))))))))).)))).</td><td style = \"text-align: left;\">ACAAAAAAACCGGCCCTGTGAGGGGCTGGTTTGTTTGCC</td><td style = \"text-align: right;\">39</td><td style = \"text-align: right;\">1</td><td style = \"text-align: left;\">false</td><td style = \"text-align: left;\">.((((.(((((((((((....))))))))))).)))).((((..(((((.......)))))..))))..((((.(((((((.....)))).))).)))).........</td><td style = \"text-align: right;\">-42.3</td><td style = \"text-align: right;\">4.93401</td><td style = \"text-align: right;\">0</td><td style = \"text-align: right;\">0</td></tr><tr><td class = \"rowNumber\" style = \"font-weight: bold; text-align: right;\">2</td><td style = \"text-align: right;\">18049</td><td style = \"text-align: left;\">0.0-0.1-0.0-0.3-0.1-0.3-0.0-0.1-0.0</td><td style = \"text-align: left;\">1-4-1-11-4-11-1-4-1</td><td style = \"text-align: left;\">.((((.(((((((((((....))))))))))).)))).</td><td style = \"text-align: left;\">ACAAAAAAACCAGACTCTTCTGAGTCTGGTTTGTTTGCC</td><td style = \"text-align: right;\">39</td><td style = \"text-align: right;\">1</td><td style = \"text-align: left;\">false</td><td style = \"text-align: left;\">.((((.(((((((((((....))))))))))).)))).((((..(((((.......)))))..))))..((((.(((((((.....)))).))).)))).........</td><td style = \"text-align: right;\">-41.9</td><td style = \"text-align: right;\">4.90523</td><td style = \"text-align: right;\">0</td><td style = \"text-align: right;\">0</td></tr><tr><td class = \"rowNumber\" style = \"font-weight: bold; text-align: right;\">3</td><td style = \"text-align: right;\">35544</td><td style = \"text-align: left;\">0.0-0.1-0.0-0.3-0.1-0.3-0.0-0.1-0.0</td><td style = \"text-align: left;\">1-4-1-11-4-11-1-4-1</td><td style = \"text-align: left;\">.((((.(((((((((((....))))))))))).)))).</td><td style = \"text-align: left;\">ACAAAAAAACCGCCGCTTGTTAGCGGTGGTTTGTTTGCC</td><td style = \"text-align: right;\">39</td><td style = \"text-align: right;\">1</td><td style = \"text-align: left;\">false</td><td style = \"text-align: left;\">.((((.(((((((((((....))))))))))).)))).((((..(((((.......)))))..))))..((((.(((((((.....)))).))).)))).........</td><td style = \"text-align: right;\">-41.8</td><td style = \"text-align: right;\">4.97509</td><td style = \"text-align: right;\">0</td><td style = \"text-align: right;\">0</td></tr><tr><td class = \"rowNumber\" style = \"font-weight: bold; text-align: right;\">4</td><td style = \"text-align: right;\">41799</td><td style = \"text-align: left;\">0.0-0.1-0.0-0.3-0.1-0.3-0.0-0.1-0.0</td><td style = \"text-align: left;\">1-4-1-11-4-11-1-4-1</td><td style = \"text-align: left;\">.((((.(((((((((((....))))))))))).)))).</td><td style = \"text-align: left;\">ACAAAAAAACCATCTGCTTGCGCAGATGGTTTGTTTGCC</td><td style = \"text-align: right;\">39</td><td style = \"text-align: right;\">1</td><td style = \"text-align: left;\">false</td><td style = \"text-align: left;\">.((((.(((((((((((....))))))))))).)))).((((..(((((.......)))))..))))..((((.(((((((.....)))).))).)))).........</td><td style = \"text-align: right;\">-41.3</td><td style = \"text-align: right;\">4.90407</td><td style = \"text-align: right;\">0</td><td style = \"text-align: right;\">0</td></tr><tr><td class = \"rowNumber\" style = \"font-weight: bold; text-align: right;\">5</td><td style = \"text-align: right;\">12569</td><td style = \"text-align: left;\">0.0-0.1-0.0-0.3-0.1-0.3-0.0-0.1-0.0</td><td style = \"text-align: left;\">1-4-1-11-4-11-1-4-1</td><td style = \"text-align: left;\">.((((.(((((((((((....))))))))))).)))).</td><td style = \"text-align: left;\">ACAAAAAAACCAGTGGAGAGTTCCACTGGTTTGTTTGCC</td><td style = \"text-align: right;\">39</td><td style = \"text-align: right;\">1</td><td style = \"text-align: left;\">false</td><td style = \"text-align: left;\">.((((.(((((((((((....))))))))))).)))).((((..(((((.......)))))..))))..((((.(((((((.....)))).))).)))).........</td><td style = \"text-align: right;\">-41.2</td><td style = \"text-align: right;\">5.07345</td><td style = \"text-align: right;\">0</td><td style = \"text-align: right;\">0</td></tr><tr><td class = \"rowNumber\" style = \"font-weight: bold; text-align: right;\">6</td><td style = \"text-align: right;\">38434</td><td style = \"text-align: left;\">0.0-0.1-0.0-0.3-0.1-0.3-0.0-0.1-0.0</td><td style = \"text-align: left;\">1-4-1-11-4-11-1-4-1</td><td style = \"text-align: left;\">.((((.(((((((((((....))))))))))).)))).</td><td style = \"text-align: left;\">ACAAAAAAACCACCCTAGCAATGGGGTGGTTTGTTTGCC</td><td style = \"text-align: right;\">39</td><td style = \"text-align: right;\">1</td><td style = \"text-align: left;\">false</td><td style = \"text-align: left;\">.((((.(((((((((((....))))))))))).)))).((((..(((((.......)))))..))))..((((.(((((((.....)))).))).)))).........</td><td style = \"text-align: right;\">-41.2</td><td style = \"text-align: right;\">5.08755</td><td style = \"text-align: right;\">0</td><td style = \"text-align: right;\">0</td></tr><tr><td class = \"rowNumber\" style = \"font-weight: bold; text-align: right;\">7</td><td style = \"text-align: right;\">0</td><td style = \"text-align: left;\">0.0-0.1-0.0-0.3-0.1-0.3-0.0-0.1-0.0</td><td style = \"text-align: left;\">1-4-1-10-5-10-1-4-1</td><td style = \"text-align: left;\">.((((.((((((((((.....)))))))))).)))).</td><td style = \"text-align: left;\">ACAAAAAAACCACCGCTACCAGCGGTGGTTTGTTTGCC</td><td style = \"text-align: right;\">38</td><td style = \"text-align: right;\">47</td><td style = \"text-align: left;\">WT</td><td style = \"text-align: left;\">.((((.((((((((((.....)))))))))).)))).((((..(((((.......)))))..))))..((((.(((((((.....)))).))).)))).........</td><td style = \"text-align: right;\">-41.1</td><td style = \"text-align: right;\">5.30195</td><td style = \"text-align: right;\">0</td><td style = \"text-align: right;\">0</td></tr><tr><td class = \"rowNumber\" style = \"font-weight: bold; text-align: right;\">8</td><td style = \"text-align: right;\">13981</td><td style = \"text-align: left;\">0.0-0.1-0.0-0.3-0.1-0.3-0.0-0.1-0.0</td><td style = \"text-align: left;\">1-4-1-11-4-11-1-4-1</td><td style = \"text-align: left;\">.((((.(((((((((((....))))))))))).)))).</td><td style = \"text-align: left;\">ACAAAAAAACCACCTGGTCACCCGGGTGGTTTGTTTGCC</td><td style = \"text-align: right;\">39</td><td style = \"text-align: right;\">1</td><td style = \"text-align: left;\">false</td><td style = \"text-align: left;\">.((((.(((((((((((....))))))))))).)))).((((..(((((.......)))))..))))..((((.(((((((.....)))).))).)))).........</td><td style = \"text-align: right;\">-41.0</td><td style = \"text-align: right;\">4.92888</td><td style = \"text-align: right;\">0</td><td style = \"text-align: right;\">0</td></tr><tr><td class = \"rowNumber\" style = \"font-weight: bold; text-align: right;\">9</td><td style = \"text-align: right;\">30402</td><td style = \"text-align: left;\">0.0-0.1-0.0-0.3-0.1-0.3-0.0-0.1-0.0</td><td style = \"text-align: left;\">1-4-1-11-4-11-1-4-1</td><td style = \"text-align: left;\">.((((.(((((((((((....))))))))))).)))).</td><td style = \"text-align: left;\">ACAAAAAAACCACACAGTCATCTGTGTGGTTTGTTTGCC</td><td style = \"text-align: right;\">39</td><td style = \"text-align: right;\">1</td><td style = \"text-align: left;\">false</td><td style = \"text-align: left;\">.((((.(((((((((((....))))))))))).)))).((((..(((((.......)))))..))))..((((.(((((((.....)))).))).)))).........</td><td style = \"text-align: right;\">-40.9</td><td style = \"text-align: right;\">4.91736</td><td style = \"text-align: right;\">0</td><td style = \"text-align: right;\">0</td></tr><tr><td class = \"rowNumber\" style = \"font-weight: bold; text-align: right;\">10</td><td style = \"text-align: right;\">8773</td><td style = \"text-align: left;\">0.0-0.1-0.0-0.3-0.1-0.3-0.0-0.1-0.0</td><td style = \"text-align: left;\">1-4-1-11-4-11-1-4-1</td><td style = \"text-align: left;\">.((((.(((((((((((....))))))))))).)))).</td><td style = \"text-align: left;\">ACAAAAAAACCAGCTCGGGCTCGGGCTGGTTTGTTTGCC</td><td style = \"text-align: right;\">39</td><td style = \"text-align: right;\">1</td><td style = \"text-align: left;\">false</td><td style = \"text-align: left;\">.((((.(((((((((((....))))))))))).)))).((((..(((((.......)))))..))))..((((.(((((((.....)))).))).)))).........</td><td style = \"text-align: right;\">-40.8</td><td style = \"text-align: right;\">4.99124</td><td style = \"text-align: right;\">0</td><td style = \"text-align: right;\">0</td></tr><tr><td class = \"rowNumber\" style = \"font-weight: bold; text-align: right;\">11</td><td style = \"text-align: right;\">5807</td><td style = \"text-align: left;\">0.0-0.1-0.0-0.3-0.1-0.3-0.0-0.1-0.0</td><td style = \"text-align: left;\">1-4-1-11-4-11-1-4-1</td><td style = \"text-align: left;\">.((((.(((((((((((....))))))))))).)))).</td><td style = \"text-align: left;\">ACAAAAAAACCAAGCCTTAACAGGCTTGGTTTGTTTGCC</td><td style = \"text-align: right;\">39</td><td style = \"text-align: right;\">2</td><td style = \"text-align: left;\">false</td><td style = \"text-align: left;\">.((((.(((((((((((....))))))))))).)))).((((..(((((.......)))))..))))..((((.(((((((.....)))).))).)))).........</td><td style = \"text-align: right;\">-40.7</td><td style = \"text-align: right;\">5.12276</td><td style = \"text-align: right;\">0</td><td style = \"text-align: right;\">0</td></tr><tr><td class = \"rowNumber\" style = \"font-weight: bold; text-align: right;\">12</td><td style = \"text-align: right;\">26667</td><td style = \"text-align: left;\">0.0-0.1-0.0-0.3-0.1-0.3-0.0-0.1-0.0</td><td style = \"text-align: left;\">1-4-1-11-4-11-1-4-1</td><td style = \"text-align: left;\">.((((.(((((((((((....))))))))))).)))).</td><td style = \"text-align: left;\">ACAAAAAAACCACCTGCACAAGTAGGTGGTTTGTTTGCC</td><td style = \"text-align: right;\">39</td><td style = \"text-align: right;\">1</td><td style = \"text-align: left;\">false</td><td style = \"text-align: left;\">.((((.(((((((((((....))))))))))).)))).((((..(((((.......)))))..))))..((((.(((((((.....)))).))).)))).........</td><td style = \"text-align: right;\">-40.7</td><td style = \"text-align: right;\">4.9147</td><td style = \"text-align: right;\">0</td><td style = \"text-align: right;\">0</td></tr><tr><td class = \"rowNumber\" style = \"font-weight: bold; text-align: right;\">13</td><td style = \"text-align: right;\">28523</td><td style = \"text-align: left;\">0.0-0.1-0.0-0.3-0.1-0.3-0.0-0.1-0.0</td><td style = \"text-align: left;\">1-4-1-11-4-11-1-4-1</td><td style = \"text-align: left;\">.((((.(((((((((((....))))))))))).)))).</td><td style = \"text-align: left;\">ACAAAAAAACCACACCTCCAAGGGTGTGGTTTGTTTGCC</td><td style = \"text-align: right;\">39</td><td style = \"text-align: right;\">1</td><td style = \"text-align: left;\">false</td><td style = \"text-align: left;\">.((((.(((((((((((....))))))))))).)))).((((..(((((.......)))))..))))..((((.(((((((.....)))).))).)))).........</td><td style = \"text-align: right;\">-40.7</td><td style = \"text-align: right;\">4.99511</td><td style = \"text-align: right;\">0</td><td style = \"text-align: right;\">0</td></tr><tr><td style = \"text-align: right;\">&vellip;</td><td style = \"text-align: right;\">&vellip;</td><td style = \"text-align: right;\">&vellip;</td><td style = \"text-align: right;\">&vellip;</td><td style = \"text-align: right;\">&vellip;</td><td style = \"text-align: right;\">&vellip;</td><td style = \"text-align: right;\">&vellip;</td><td style = \"text-align: right;\">&vellip;</td><td style = \"text-align: right;\">&vellip;</td><td style = \"text-align: right;\">&vellip;</td><td style = \"text-align: right;\">&vellip;</td><td style = \"text-align: right;\">&vellip;</td><td style = \"text-align: right;\">&vellip;</td><td style = \"text-align: right;\">&vellip;</td></tr><tr><td class = \"rowNumber\" style = \"font-weight: bold; text-align: right;\">445</td><td style = \"text-align: right;\">25887</td><td style = \"text-align: left;\">0.0-0.1-0.0-0.3-0.1-0.3-0.0-0.1-0.0</td><td style = \"text-align: left;\">1-4-1-11-4-11-1-4-1</td><td style = \"text-align: left;\">.((((.(((((((((((....))))))))))).)))).</td><td style = \"text-align: left;\">ACAAAAAAACCATATAGTTGATTATATGGTTTGTTTGCC</td><td style = \"text-align: right;\">39</td><td style = \"text-align: right;\">1</td><td style = \"text-align: left;\">false</td><td style = \"text-align: left;\">.((((.(((((((((((....))))))))))).)))).((((..(((((.......)))))..))))..((((.(((((((.....)))).))).)))).........</td><td style = \"text-align: right;\">-34.0</td><td style = \"text-align: right;\">5.51504</td><td style = \"text-align: right;\">0</td><td style = \"text-align: right;\">0</td></tr><tr><td class = \"rowNumber\" style = \"font-weight: bold; text-align: right;\">446</td><td style = \"text-align: right;\">37918</td><td style = \"text-align: left;\">0.0-0.1-0.0-0.3-0.1-0.3-0.0-0.1-0.0</td><td style = \"text-align: left;\">1-4-1-11-4-11-1-4-1</td><td style = \"text-align: left;\">.((((.(((((((((((....))))))))))).)))).</td><td style = \"text-align: left;\">ACAAAAAAACCATAAATCGTCATTTATGGTTTGTTTGCC</td><td style = \"text-align: right;\">39</td><td style = \"text-align: right;\">1</td><td style = \"text-align: left;\">false</td><td style = \"text-align: left;\">.((((.(((((((((((....))))))))))).)))).((((..(((((.......)))))..))))..((((.(((((((.....)))).))).)))).........</td><td style = \"text-align: right;\">-34.0</td><td style = \"text-align: right;\">5.41672</td><td style = \"text-align: right;\">0</td><td style = \"text-align: right;\">0</td></tr><tr><td class = \"rowNumber\" style = \"font-weight: bold; text-align: right;\">447</td><td style = \"text-align: right;\">35580</td><td style = \"text-align: left;\">0.0-0.1-0.0-0.3-0.1-0.3-0.0-0.1-0.0</td><td style = \"text-align: left;\">1-4-1-11-4-11-1-4-1</td><td style = \"text-align: left;\">.((((.(((((((((((....))))))))))).)))).</td><td style = \"text-align: left;\">ACAAAAAAACCATAAAACTACTTTTATGGTTTGTTTGCC</td><td style = \"text-align: right;\">39</td><td style = \"text-align: right;\">1</td><td style = \"text-align: left;\">false</td><td style = \"text-align: left;\">.((((.(((((((((((....))))))))))).)))).((((..(((((.......)))))..))))..((((.(((((((.....)))).))).)))).........</td><td style = \"text-align: right;\">-33.9</td><td style = \"text-align: right;\">5.53422</td><td style = \"text-align: right;\">0</td><td style = \"text-align: right;\">0</td></tr><tr><td class = \"rowNumber\" style = \"font-weight: bold; text-align: right;\">448</td><td style = \"text-align: right;\">42182</td><td style = \"text-align: left;\">0.0-0.1-0.0-0.3-0.1-0.3-0.0-0.1-0.0</td><td style = \"text-align: left;\">1-4-1-11-4-11-1-4-1</td><td style = \"text-align: left;\">.((((.(((((((((((....))))))))))).)))).</td><td style = \"text-align: left;\">ACAAAAAAACCATCTTTGTGAGGAGGTGGTTTGTTTGCC</td><td style = \"text-align: right;\">39</td><td style = \"text-align: right;\">1</td><td style = \"text-align: left;\">false</td><td style = \"text-align: left;\">.((((.(((((((((((....))))))))))).)))).((((..(((((.......)))))..))))..((((.(((((((.....)))).))).)))).........</td><td style = \"text-align: right;\">-33.9</td><td style = \"text-align: right;\">5.46292</td><td style = \"text-align: right;\">0</td><td style = \"text-align: right;\">0</td></tr><tr><td class = \"rowNumber\" style = \"font-weight: bold; text-align: right;\">449</td><td style = \"text-align: right;\">13367</td><td style = \"text-align: left;\">0.0-0.1-0.0-0.3-0.1-0.3-0.0-0.1-0.0</td><td style = \"text-align: left;\">1-4-1-11-4-11-1-4-1</td><td style = \"text-align: left;\">.((((.(((((((((((....))))))))))).)))).</td><td style = \"text-align: left;\">ACAAAAAAACCAATTTATAGATAAATTGGTTTGTTTGCC</td><td style = \"text-align: right;\">39</td><td style = \"text-align: right;\">1</td><td style = \"text-align: left;\">false</td><td style = \"text-align: left;\">.((((.(((((((((((....))))))))))).)))).((((..(((((.......)))))..))))..((((.(((((((.....)))).))).)))).........</td><td style = \"text-align: right;\">-33.8</td><td style = \"text-align: right;\">5.29323</td><td style = \"text-align: right;\">0</td><td style = \"text-align: right;\">0</td></tr><tr><td class = \"rowNumber\" style = \"font-weight: bold; text-align: right;\">450</td><td style = \"text-align: right;\">13576</td><td style = \"text-align: left;\">0.0-0.1-0.0-0.3-0.1-0.3-0.0-0.1-0.0</td><td style = \"text-align: left;\">1-4-1-11-4-11-1-4-1</td><td style = \"text-align: left;\">.((((.(((((((((((....))))))))))).)))).</td><td style = \"text-align: left;\">ACAAAAAAACCATATTTATACAAATATGGTTTGTTTGCC</td><td style = \"text-align: right;\">39</td><td style = \"text-align: right;\">1</td><td style = \"text-align: left;\">false</td><td style = \"text-align: left;\">.((((.(((((((((((....))))))))))).)))).((((..(((((.......)))))..))))..((((.(((((((.....)))).))).)))).........</td><td style = \"text-align: right;\">-33.8</td><td style = \"text-align: right;\">5.51708</td><td style = \"text-align: right;\">0</td><td style = \"text-align: right;\">0</td></tr><tr><td class = \"rowNumber\" style = \"font-weight: bold; text-align: right;\">451</td><td style = \"text-align: right;\">36017</td><td style = \"text-align: left;\">0.0-0.1-0.0-0.3-0.1-0.3-0.0-0.1-0.0</td><td style = \"text-align: left;\">1-4-1-11-4-11-1-4-1</td><td style = \"text-align: left;\">.((((.(((((((((((....))))))))))).)))).</td><td style = \"text-align: left;\">ACAAAAAAACCATTAATAAGCATTAATGGTTTGTTTGCC</td><td style = \"text-align: right;\">39</td><td style = \"text-align: right;\">1</td><td style = \"text-align: left;\">false</td><td style = \"text-align: left;\">.((((.(((((((((((....))))))))))).)))).((((..(((((.......)))))..))))..((((.(((((((.....)))).))).)))).........</td><td style = \"text-align: right;\">-33.8</td><td style = \"text-align: right;\">5.47309</td><td style = \"text-align: right;\">0</td><td style = \"text-align: right;\">0</td></tr><tr><td class = \"rowNumber\" style = \"font-weight: bold; text-align: right;\">452</td><td style = \"text-align: right;\">33487</td><td style = \"text-align: left;\">0.0-0.1-0.0-0.3-0.1-0.3-0.0-0.1-0.0</td><td style = \"text-align: left;\">1-4-1-11-4-11-1-4-1</td><td style = \"text-align: left;\">.((((.(((((((((((....))))))))))).)))).</td><td style = \"text-align: left;\">ACAAAAAAACCAAATTTGTATAAATTTGGTTTGTTTGCC</td><td style = \"text-align: right;\">39</td><td style = \"text-align: right;\">1</td><td style = \"text-align: left;\">false</td><td style = \"text-align: left;\">.((((.(((((((((((....))))))))))).)))).((((..(((((.......)))))..))))..((((.(((((((.....)))).))).)))).........</td><td style = \"text-align: right;\">-33.6</td><td style = \"text-align: right;\">5.38409</td><td style = \"text-align: right;\">0</td><td style = \"text-align: right;\">0</td></tr><tr><td class = \"rowNumber\" style = \"font-weight: bold; text-align: right;\">453</td><td style = \"text-align: right;\">23518</td><td style = \"text-align: left;\">0.0-0.1-0.0-0.3-0.1-0.3-0.0-0.1-0.0</td><td style = \"text-align: left;\">1-4-1-11-4-11-1-4-1</td><td style = \"text-align: left;\">.((((.(((((((((((....))))))))))).)))).</td><td style = \"text-align: left;\">ACAAAAAAACCGTTCTTGGGGGGGGATGGTTTGTTTGCC</td><td style = \"text-align: right;\">39</td><td style = \"text-align: right;\">1</td><td style = \"text-align: left;\">false</td><td style = \"text-align: left;\">.((((.(((((((((((....))))))))))).)))).((((..(((((.......)))))..))))..((((.(((((((.....)))).))).)))).........</td><td style = \"text-align: right;\">-31.8</td><td style = \"text-align: right;\">5.60211</td><td style = \"text-align: right;\">0</td><td style = \"text-align: right;\">0</td></tr><tr><td class = \"rowNumber\" style = \"font-weight: bold; text-align: right;\">454</td><td style = \"text-align: right;\">40077</td><td style = \"text-align: left;\">0.0-0.1-0.0-0.3-0.1-0.3-0.0-0.1-0.0</td><td style = \"text-align: left;\">1-4-1-11-4-11-1-4-1</td><td style = \"text-align: left;\">.((((.(((((((((((....))))))))))).)))).</td><td style = \"text-align: left;\">ACAAAAAAACCGGGTTTGGGGGGATCTGGTTTGTTTGCC</td><td style = \"text-align: right;\">39</td><td style = \"text-align: right;\">1</td><td style = \"text-align: left;\">false</td><td style = \"text-align: left;\">.((((.(((((((((((....))))))))))).)))).((((..(((((.......)))))..))))..((((.(((((((.....)))).))).)))).........</td><td style = \"text-align: right;\">-31.8</td><td style = \"text-align: right;\">6.56471</td><td style = \"text-align: right;\">0</td><td style = \"text-align: right;\">0</td></tr><tr><td class = \"rowNumber\" style = \"font-weight: bold; text-align: right;\">455</td><td style = \"text-align: right;\">2906</td><td style = \"text-align: left;\">0.0-0.1-0.0-0.3-0.1-0.3-0.0-0.1-0.0</td><td style = \"text-align: left;\">1-4-1-11-4-11-1-4-1</td><td style = \"text-align: left;\">.((((.(((((((((((....))))))))))).)))).</td><td style = \"text-align: left;\">ACAAAAAAACCAATTTGCGGGCGGGTTGGTTTGTTTGCC</td><td style = \"text-align: right;\">39</td><td style = \"text-align: right;\">2</td><td style = \"text-align: left;\">false</td><td style = \"text-align: left;\">.((((.(((((((((((....))))))))))).)))).((((..(((((.......)))))..))))..((((.(((((((.....)))).))).)))).........</td><td style = \"text-align: right;\">-31.4</td><td style = \"text-align: right;\">6.69569</td><td style = \"text-align: right;\">0</td><td style = \"text-align: right;\">0</td></tr><tr><td class = \"rowNumber\" style = \"font-weight: bold; text-align: right;\">456</td><td style = \"text-align: right;\">34594</td><td style = \"text-align: left;\">0.0-0.1-0.0-0.3-0.1-0.3-0.0-0.1-0.0</td><td style = \"text-align: left;\">1-4-1-11-4-11-1-4-1</td><td style = \"text-align: left;\">.((((.(((((((((((....))))))))))).)))).</td><td style = \"text-align: left;\">ACAAAAAAACCATATGTGGGGATGTGTGGTTTGTTTGCC</td><td style = \"text-align: right;\">39</td><td style = \"text-align: right;\">1</td><td style = \"text-align: left;\">false</td><td style = \"text-align: left;\">.((((.(((((((((((....))))))))))).)))).((((..(((((.......)))))..))))..((((.(((((((.....)))).))).)))).........</td><td style = \"text-align: right;\">-30.0</td><td style = \"text-align: right;\">7.22301</td><td style = \"text-align: right;\">0</td><td style = \"text-align: right;\">0</td></tr></tbody></table></div>"
      ],
      "text/latex": [
       "\\begin{tabular}{r|ccccc}\n",
       "\t& Sequence\\_number & Rel\\_Loop1\\_description & Loop1\\_description & MFE\\_SUBstructure & \\\\\n",
       "\t\\hline\n",
       "\t& Int64 & String & String & String & \\\\\n",
       "\t\\hline\n",
       "\t1 & 43398 & 0.0-0.1-0.0-0.3-0.1-0.3-0.0-0.1-0.0 & 1-4-1-11-4-11-1-4-1 & .((((.(((((((((((....))))))))))).)))). & $\\dots$ \\\\\n",
       "\t2 & 18049 & 0.0-0.1-0.0-0.3-0.1-0.3-0.0-0.1-0.0 & 1-4-1-11-4-11-1-4-1 & .((((.(((((((((((....))))))))))).)))). & $\\dots$ \\\\\n",
       "\t3 & 35544 & 0.0-0.1-0.0-0.3-0.1-0.3-0.0-0.1-0.0 & 1-4-1-11-4-11-1-4-1 & .((((.(((((((((((....))))))))))).)))). & $\\dots$ \\\\\n",
       "\t4 & 41799 & 0.0-0.1-0.0-0.3-0.1-0.3-0.0-0.1-0.0 & 1-4-1-11-4-11-1-4-1 & .((((.(((((((((((....))))))))))).)))). & $\\dots$ \\\\\n",
       "\t5 & 12569 & 0.0-0.1-0.0-0.3-0.1-0.3-0.0-0.1-0.0 & 1-4-1-11-4-11-1-4-1 & .((((.(((((((((((....))))))))))).)))). & $\\dots$ \\\\\n",
       "\t6 & 38434 & 0.0-0.1-0.0-0.3-0.1-0.3-0.0-0.1-0.0 & 1-4-1-11-4-11-1-4-1 & .((((.(((((((((((....))))))))))).)))). & $\\dots$ \\\\\n",
       "\t7 & 0 & 0.0-0.1-0.0-0.3-0.1-0.3-0.0-0.1-0.0 & 1-4-1-10-5-10-1-4-1 & .((((.((((((((((.....)))))))))).)))). & $\\dots$ \\\\\n",
       "\t8 & 13981 & 0.0-0.1-0.0-0.3-0.1-0.3-0.0-0.1-0.0 & 1-4-1-11-4-11-1-4-1 & .((((.(((((((((((....))))))))))).)))). & $\\dots$ \\\\\n",
       "\t9 & 30402 & 0.0-0.1-0.0-0.3-0.1-0.3-0.0-0.1-0.0 & 1-4-1-11-4-11-1-4-1 & .((((.(((((((((((....))))))))))).)))). & $\\dots$ \\\\\n",
       "\t10 & 8773 & 0.0-0.1-0.0-0.3-0.1-0.3-0.0-0.1-0.0 & 1-4-1-11-4-11-1-4-1 & .((((.(((((((((((....))))))))))).)))). & $\\dots$ \\\\\n",
       "\t11 & 5807 & 0.0-0.1-0.0-0.3-0.1-0.3-0.0-0.1-0.0 & 1-4-1-11-4-11-1-4-1 & .((((.(((((((((((....))))))))))).)))). & $\\dots$ \\\\\n",
       "\t12 & 26667 & 0.0-0.1-0.0-0.3-0.1-0.3-0.0-0.1-0.0 & 1-4-1-11-4-11-1-4-1 & .((((.(((((((((((....))))))))))).)))). & $\\dots$ \\\\\n",
       "\t13 & 28523 & 0.0-0.1-0.0-0.3-0.1-0.3-0.0-0.1-0.0 & 1-4-1-11-4-11-1-4-1 & .((((.(((((((((((....))))))))))).)))). & $\\dots$ \\\\\n",
       "\t14 & 38277 & 0.0-0.1-0.0-0.3-0.1-0.3-0.0-0.1-0.0 & 1-4-1-11-4-11-1-4-1 & .((((.(((((((((((....))))))))))).)))). & $\\dots$ \\\\\n",
       "\t15 & 43317 & 0.0-0.1-0.0-0.3-0.1-0.3-0.0-0.1-0.0 & 1-4-1-11-4-11-1-4-1 & .((((.(((((((((((....))))))))))).)))). & $\\dots$ \\\\\n",
       "\t16 & 20849 & 0.0-0.1-0.0-0.3-0.1-0.3-0.0-0.1-0.0 & 1-4-1-11-4-11-1-4-1 & .((((.(((((((((((....))))))))))).)))). & $\\dots$ \\\\\n",
       "\t17 & 35831 & 0.0-0.1-0.0-0.3-0.1-0.3-0.0-0.1-0.0 & 1-4-1-11-4-11-1-4-1 & .((((.(((((((((((....))))))))))).)))). & $\\dots$ \\\\\n",
       "\t18 & 23260 & 0.0-0.1-0.0-0.3-0.1-0.3-0.0-0.1-0.0 & 1-4-1-11-4-11-1-4-1 & .((((.(((((((((((....))))))))))).)))). & $\\dots$ \\\\\n",
       "\t19 & 43043 & 0.0-0.1-0.0-0.3-0.1-0.3-0.0-0.1-0.0 & 1-4-1-11-4-11-1-4-1 & .((((.(((((((((((....))))))))))).)))). & $\\dots$ \\\\\n",
       "\t20 & 7506 & 0.0-0.1-0.0-0.3-0.1-0.3-0.0-0.1-0.0 & 1-4-1-11-4-11-1-4-1 & .((((.(((((((((((....))))))))))).)))). & $\\dots$ \\\\\n",
       "\t21 & 29629 & 0.0-0.1-0.0-0.3-0.1-0.3-0.0-0.1-0.0 & 1-4-1-11-4-11-1-4-1 & .((((.(((((((((((....))))))))))).)))). & $\\dots$ \\\\\n",
       "\t22 & 30510 & 0.0-0.1-0.0-0.3-0.1-0.3-0.0-0.1-0.0 & 1-4-1-11-4-11-1-4-1 & .((((.(((((((((((....))))))))))).)))). & $\\dots$ \\\\\n",
       "\t23 & 34610 & 0.0-0.1-0.0-0.3-0.1-0.3-0.0-0.1-0.0 & 1-4-1-11-4-11-1-4-1 & .((((.(((((((((((....))))))))))).)))). & $\\dots$ \\\\\n",
       "\t24 & 3519 & 0.0-0.1-0.0-0.3-0.1-0.3-0.0-0.1-0.0 & 1-4-1-11-4-11-1-4-1 & .((((.(((((((((((....))))))))))).)))). & $\\dots$ \\\\\n",
       "\t25 & 28713 & 0.0-0.1-0.0-0.3-0.1-0.3-0.0-0.1-0.0 & 1-4-1-11-4-11-1-4-1 & .((((.(((((((((((....))))))))))).)))). & $\\dots$ \\\\\n",
       "\t26 & 42249 & 0.0-0.1-0.0-0.3-0.1-0.3-0.0-0.1-0.0 & 1-4-1-11-4-11-1-4-1 & .((((.(((((((((((....))))))))))).)))). & $\\dots$ \\\\\n",
       "\t27 & 13707 & 0.0-0.1-0.0-0.3-0.1-0.3-0.0-0.1-0.0 & 1-4-1-11-4-11-1-4-1 & .((((.(((((((((((....))))))))))).)))). & $\\dots$ \\\\\n",
       "\t28 & 14185 & 0.0-0.1-0.0-0.3-0.1-0.3-0.0-0.1-0.0 & 1-4-1-11-4-11-1-4-1 & .((((.(((((((((((....))))))))))).)))). & $\\dots$ \\\\\n",
       "\t29 & 20574 & 0.0-0.1-0.0-0.3-0.1-0.3-0.0-0.1-0.0 & 1-4-1-11-4-11-1-4-1 & .((((.(((((((((((....))))))))))).)))). & $\\dots$ \\\\\n",
       "\t30 & 24867 & 0.0-0.1-0.0-0.3-0.1-0.3-0.0-0.1-0.0 & 1-4-1-11-4-11-1-4-1 & .((((.(((((((((((....))))))))))).)))). & $\\dots$ \\\\\n",
       "\t$\\dots$ & $\\dots$ & $\\dots$ & $\\dots$ & $\\dots$ &  \\\\\n",
       "\\end{tabular}\n"
      ],
      "text/plain": [
       "\u001b[1m456×13 DataFrame\u001b[0m\n",
       "\u001b[1m Row \u001b[0m│\u001b[1m Sequence_number \u001b[0m\u001b[1m Rel_Loop1_description             \u001b[0m\u001b[1m Loop1_description  \u001b[0m ⋯\n",
       "     │\u001b[90m Int64           \u001b[0m\u001b[90m String                            \u001b[0m\u001b[90m String             \u001b[0m ⋯\n",
       "─────┼──────────────────────────────────────────────────────────────────────────\n",
       "   1 │           43398  0.0-0.1-0.0-0.3-0.1-0.3-0.0-0.1-…  1-4-1-11-4-11-1-4-1 ⋯\n",
       "   2 │           18049  0.0-0.1-0.0-0.3-0.1-0.3-0.0-0.1-…  1-4-1-11-4-11-1-4-1\n",
       "   3 │           35544  0.0-0.1-0.0-0.3-0.1-0.3-0.0-0.1-…  1-4-1-11-4-11-1-4-1\n",
       "   4 │           41799  0.0-0.1-0.0-0.3-0.1-0.3-0.0-0.1-…  1-4-1-11-4-11-1-4-1\n",
       "   5 │           12569  0.0-0.1-0.0-0.3-0.1-0.3-0.0-0.1-…  1-4-1-11-4-11-1-4-1 ⋯\n",
       "   6 │           38434  0.0-0.1-0.0-0.3-0.1-0.3-0.0-0.1-…  1-4-1-11-4-11-1-4-1\n",
       "   7 │               0  0.0-0.1-0.0-0.3-0.1-0.3-0.0-0.1-…  1-4-1-10-5-10-1-4-1\n",
       "   8 │           13981  0.0-0.1-0.0-0.3-0.1-0.3-0.0-0.1-…  1-4-1-11-4-11-1-4-1\n",
       "   9 │           30402  0.0-0.1-0.0-0.3-0.1-0.3-0.0-0.1-…  1-4-1-11-4-11-1-4-1 ⋯\n",
       "  10 │            8773  0.0-0.1-0.0-0.3-0.1-0.3-0.0-0.1-…  1-4-1-11-4-11-1-4-1\n",
       "  11 │            5807  0.0-0.1-0.0-0.3-0.1-0.3-0.0-0.1-…  1-4-1-11-4-11-1-4-1\n",
       "  ⋮  │        ⋮                         ⋮                           ⋮          ⋱\n",
       " 447 │           35580  0.0-0.1-0.0-0.3-0.1-0.3-0.0-0.1-…  1-4-1-11-4-11-1-4-1\n",
       " 448 │           42182  0.0-0.1-0.0-0.3-0.1-0.3-0.0-0.1-…  1-4-1-11-4-11-1-4-1 ⋯\n",
       " 449 │           13367  0.0-0.1-0.0-0.3-0.1-0.3-0.0-0.1-…  1-4-1-11-4-11-1-4-1\n",
       " 450 │           13576  0.0-0.1-0.0-0.3-0.1-0.3-0.0-0.1-…  1-4-1-11-4-11-1-4-1\n",
       " 451 │           36017  0.0-0.1-0.0-0.3-0.1-0.3-0.0-0.1-…  1-4-1-11-4-11-1-4-1\n",
       " 452 │           33487  0.0-0.1-0.0-0.3-0.1-0.3-0.0-0.1-…  1-4-1-11-4-11-1-4-1 ⋯\n",
       " 453 │           23518  0.0-0.1-0.0-0.3-0.1-0.3-0.0-0.1-…  1-4-1-11-4-11-1-4-1\n",
       " 454 │           40077  0.0-0.1-0.0-0.3-0.1-0.3-0.0-0.1-…  1-4-1-11-4-11-1-4-1\n",
       " 455 │            2906  0.0-0.1-0.0-0.3-0.1-0.3-0.0-0.1-…  1-4-1-11-4-11-1-4-1\n",
       " 456 │           34594  0.0-0.1-0.0-0.3-0.1-0.3-0.0-0.1-…  1-4-1-11-4-11-1-4-1 ⋯\n",
       "\u001b[36m                                                 10 columns and 435 rows omitted\u001b[0m"
      ]
     },
     "execution_count": 16,
     "metadata": {},
     "output_type": "execute_result"
    }
   ],
   "source": [
    "## filter the sequences with the same Rel_Loop1_description as the WT sequence\n",
    "\n",
    "search_rel_WT = libStructureAnalysisClean[42147, :Rel_Loop1_description]\n",
    "ForRelAnalysis = filter(:Rel_Loop1_description => n -> n == search_rel_WT, libStructureAnalysisClean)\n",
    "sort!(ForRelAnalysis, :MFE_energy)"
   ]
  },
  {
   "cell_type": "markdown",
   "id": "3255f0d4-dead-46b0-8040-788d3979a8df",
   "metadata": {},
   "source": [
    "<a id='relative_structAssign'></a>"
   ]
  },
  {
   "cell_type": "code",
   "execution_count": 25,
   "id": "568ec891-25e9-477f-9cc1-99e2224940a5",
   "metadata": {},
   "outputs": [
    {
     "data": {
      "text/plain": [
       "3-element Vector{Any}:\n",
       " \".((((.(((((((((((....))))))))))).)))).\"\n",
       " \".((((.((((((((((.....)))))))))).)))).\"\n",
       " \".((((.(((((((((((...))))))))))).)))).\""
      ]
     },
     "execution_count": 25,
     "metadata": {},
     "output_type": "execute_result"
    }
   ],
   "source": [
    "## sorting the structures with relative similarity by their actual Loop1_description\n",
    "relSame_structure = []\n",
    "for structure in ForRelAnalysis.MFE_SUBstructure\n",
    "    if structure ∉ relSame_structure\n",
    "        push!(relSame_structure, structure)\n",
    "    end\n",
    "end\n",
    "relSame_structure"
   ]
  },
  {
   "cell_type": "code",
   "execution_count": 18,
   "id": "4b482035-3165-4406-8840-3622563d7c57",
   "metadata": {
    "tags": []
   },
   "outputs": [
    {
     "name": "stdout",
     "output_type": "stream",
     "text": [
      "Pair{Any, Any}(\".((((.(((((((((((....))))))))))).)))).\", Any[18, 287, 357, 380, 781, 794, 926, 1012, 1213, 1263, 1333, 1484, 1614, 1671, 1674, 1721, 1736, 1915, 2136, 2427, 2591, 2906, 3120, 3137, 3269, 3519, 3653, 3663, 3726, 3762, 4007, 4194, 4280, 4304, 4390, 4439, 4708, 4796, 4873, 4991, 5082, 5145, 5157, 5251, 5316, 5331, 5338, 5350, 5565, 5571, 5611, 5667, 5716, 5807, 6004, 6019, 6189, 6398, 6420, 6532, 6579, 6751, 6834, 6861, 7185, 7465, 7506, 7555, 7740, 7896, 8018, 8272, 8278, 8288, 8403, 8455, 8677, 8773, 8796, 8899, 9139, 9166, 9278, 9458, 9467, 9680, 9688, 9811, 9842, 9863, 9995, 9998, 10061, 10074, 10101, 10352, 10681, 10728, 10889, 11075, 11177, 11268, 11278, 11317, 11438, 11534, 11762, 11976, 11987, 12238, 12377, 12383, 12440, 12569, 12699, 12905, 12971, 13112, 13157, 13247, 13367, 13385, 13438, 13441, 13576, 13707, 13850, 13891, 13981, 14026, 14185, 14457, 14711, 14826, 14908, 15029, 15107, 15188, 15193, 15412, 15431, 15729, 15782, 15879, 15949, 15986, 16013, 16021, 16094, 16222, 16292, 16342, 16382, 16409, 16501, 16748, 16762, 16788, 16857, 16939, 16963, 17026, 17056, 17062, 17163, 17218, 17345, 17466, 17527, 17528, 17618, 17626, 17758, 17780, 17838, 18007, 18026, 18028, 18049, 18863, 19003, 19094, 19115, 19185, 19997, 20063, 20124, 20274, 20401, 20536, 20574, 20611, 20704, 20849, 20932, 21060, 21241, 21242, 21250, 21273, 21517, 21801, 21825, 22053, 22103, 22136, 22189, 22222, 22260, 22448, 22576, 22604, 22619, 22671, 22736, 22804, 22828, 22930, 23179, 23260, 23351, 23407, 23467, 23518, 23628, 23821, 23940, 24195, 24690, 24860, 24867, 25554, 25700, 25758, 25769, 25779, 25887, 26017, 26171, 26229, 26274, 26278, 26667, 26709, 26777, 26876, 26888, 26910, 26934, 27114, 27138, 27202, 27439, 27522, 27613, 27797, 28094, 28266, 28366, 28397, 28523, 28713, 28836, 28838, 28989, 29005, 29230, 29338, 29426, 29429, 29534, 29535, 29608, 29619, 29629, 29666, 29838, 29891, 30068, 30402, 30470, 30510, 30530, 30631, 30892, 31392, 31471, 31508, 31653, 31738, 31880, 32029, 32064, 32236, 32312, 32441, 32546, 32737, 32742, 32781, 32915, 33020, 33028, 33034, 33057, 33185, 33340, 33394, 33404, 33418, 33487, 33627, 33656, 33761, 34075, 34080, 34185, 34283, 34337, 34594, 34610, 34747, 34811, 35255, 35333, 35366, 35487, 35488, 35523, 35544, 35580, 35617, 35727, 35774, 35831, 36017, 36157, 36203, 36272, 36281, 36288, 36363, 36403, 36462, 36544, 36551, 36560, 36646, 36720, 36753, 36818, 36830, 36961, 36997, 37022, 37216, 37345, 37412, 37502, 37526, 37530, 37531, 37663, 37734, 37852, 37860, 37918, 37986, 38068, 38212, 38277, 38321, 38434, 38439, 38826, 39159, 39487, 39554, 39633, 40046, 40077, 40143, 40460, 40630, 40826, 41015, 41031, 41041, 41322, 41464, 41521, 41533, 41542, 41771, 41799, 41847, 41963, 41966, 42042, 42182, 42249, 42318, 42484, 42533, 42580, 42591, 42842, 42931, 43043, 43227, 43317, 43398, 43458, 43559, 43648, 43814, 43944, 44046, 44101, 44170, 44362, 44419, 44501, 44737, 44764, 44938])\n",
      "------------------------\n",
      "Pair{Any, Any}(\".((((.(((((((((((...))))))))))).)))).\", Any[1927, 41411])\n",
      "------------------------\n",
      "Pair{Any, Any}(\".((((.((((((((((.....)))))))))).)))).\", Any[116, 629, 814, 2076, 2481, 3439, 5049, 5158, 9179, 9306, 10026, 10517, 11873, 11910, 12431, 12536, 13982, 20387, 28047, 28509, 29074, 30247, 30620, 33773, 38504, 39052, 41970, 0])\n",
      "------------------------\n"
     ]
    }
   ],
   "source": [
    "## listing the seq_numbers with the same structure in a dictionary\n",
    "\n",
    "#substructure = \".((((.((((((((((((((......)))))))))))))).)))).\"\n",
    "dict_relSame_structure = Dict()\n",
    "\n",
    "for substructure in relSame_structure\n",
    "    seqNO_substruc = []\n",
    "    entries_substruc = filter(:MFE_SUBstructure => n -> n == substructure, libStructureAnalysisClean)\n",
    "    for entry in entries_substruc.Sequence_number\n",
    "        push!(seqNO_substruc, entry)\n",
    "    end\n",
    "    \n",
    "    dict_relSame_structure[substructure] = seqNO_substruc\n",
    "end\n",
    "#seqNO_substruc\n",
    "for entry in dict_relSame_structure\n",
    "    println(entry)\n",
    "    println(\"------------------------\")\n",
    "end"
   ]
  },
  {
   "cell_type": "code",
   "execution_count": 24,
   "id": "7b31b213-4831-4561-9610-94d00d473ea1",
   "metadata": {},
   "outputs": [
    {
     "name": "stdout",
     "output_type": "stream",
     "text": [
      "(426,)(2,)(28,)"
     ]
    }
   ],
   "source": [
    "## get the amount of seq assigned to every structure of the dict\n",
    "for value in values(dict_relSame_structure)\n",
    "   print(size(value))\n",
    "end"
   ]
  },
  {
   "cell_type": "code",
   "execution_count": 61,
   "id": "cd0b0cb9-0f85-4b0e-bf55-aed0ff5ab986",
   "metadata": {},
   "outputs": [
    {
     "data": {
      "text/html": [
       "<div><div style = \"float: left;\"><span>31×4 DataFrame</span></div><div style = \"float: right;\"><span style = \"font-style: italic;\">6 rows omitted</span></div><div style = \"clear: both;\"></div></div><div class = \"data-frame\" style = \"overflow-x: scroll;\"><table class = \"data-frame\" style = \"margin-bottom: 6px;\"><thead><tr class = \"header\"><th class = \"rowNumber\" style = \"font-weight: bold; text-align: right;\">Row</th><th style = \"text-align: left;\">LoopI_description</th><th style = \"text-align: left;\">Sequence</th><th style = \"text-align: left;\">Count</th><th style = \"text-align: left;\">Cluster</th></tr><tr class = \"subheader headerLastRow\"><th class = \"rowNumber\" style = \"font-weight: bold; text-align: right;\"></th><th title = \"String\" style = \"text-align: left;\">String</th><th title = \"String\" style = \"text-align: left;\">String</th><th title = \"Int64\" style = \"text-align: left;\">Int64</th><th title = \"Int64\" style = \"text-align: left;\">Int64</th></tr></thead><tbody><tr><td class = \"rowNumber\" style = \"font-weight: bold; text-align: right;\">1</td><td style = \"text-align: left;\">1-4-1-5-5-5-1-4-1</td><td style = \"text-align: left;\">ACAAAAAAACCCTGGTGGTTTGTTTGCC</td><td style = \"text-align: right;\">1</td><td style = \"text-align: right;\">1</td></tr><tr><td class = \"rowNumber\" style = \"font-weight: bold; text-align: right;\">2</td><td style = \"text-align: left;\">1-4-1-5-5-5-1-4-1</td><td style = \"text-align: left;\">ACAAAAAAACCAAAATGGTTTGTTTGCC</td><td style = \"text-align: right;\">1</td><td style = \"text-align: right;\">1</td></tr><tr><td class = \"rowNumber\" style = \"font-weight: bold; text-align: right;\">3</td><td style = \"text-align: left;\">1-4-1-5-5-5-1-4-1</td><td style = \"text-align: left;\">ACAAAAAAACCCCGTTGGTTTGTTTGCC</td><td style = \"text-align: right;\">1</td><td style = \"text-align: right;\">1</td></tr><tr><td class = \"rowNumber\" style = \"font-weight: bold; text-align: right;\">4</td><td style = \"text-align: left;\">1-4-1-5-5-5-1-4-1</td><td style = \"text-align: left;\">ACAAAAAAACCATCATGGTTTGTTTGCC</td><td style = \"text-align: right;\">1</td><td style = \"text-align: right;\">1</td></tr><tr><td class = \"rowNumber\" style = \"font-weight: bold; text-align: right;\">5</td><td style = \"text-align: left;\">1-4-1-5-5-5-1-4-1</td><td style = \"text-align: left;\">ACAAAAAAACCTGTGTGGTTTGTTTGCC</td><td style = \"text-align: right;\">1</td><td style = \"text-align: right;\">1</td></tr><tr><td class = \"rowNumber\" style = \"font-weight: bold; text-align: right;\">6</td><td style = \"text-align: left;\">1-4-1-5-5-5-1-4-1</td><td style = \"text-align: left;\">ACAAAAAAACCTCAATGGTTTGTTTGCC</td><td style = \"text-align: right;\">1</td><td style = \"text-align: right;\">1</td></tr><tr><td class = \"rowNumber\" style = \"font-weight: bold; text-align: right;\">7</td><td style = \"text-align: left;\">1-4-1-5-5-5-1-4-1</td><td style = \"text-align: left;\">ACAAAAAAACCCTCTTGGTTTGTTTGCC</td><td style = \"text-align: right;\">1</td><td style = \"text-align: right;\">1</td></tr><tr><td class = \"rowNumber\" style = \"font-weight: bold; text-align: right;\">8</td><td style = \"text-align: left;\">1-4-1-5-5-5-1-4-1</td><td style = \"text-align: left;\">ACAAAAAAACCTCATTGGTTTGTTTGCC</td><td style = \"text-align: right;\">1</td><td style = \"text-align: right;\">1</td></tr><tr><td class = \"rowNumber\" style = \"font-weight: bold; text-align: right;\">9</td><td style = \"text-align: left;\">1-4-1-5-5-5-1-4-1</td><td style = \"text-align: left;\">ACAAAAAAACCACCGTGGTTTGTTTGCC</td><td style = \"text-align: right;\">1</td><td style = \"text-align: right;\">1</td></tr><tr><td class = \"rowNumber\" style = \"font-weight: bold; text-align: right;\">10</td><td style = \"text-align: left;\">1-4-1-5-5-5-1-4-1</td><td style = \"text-align: left;\">ACAAAAAAACCCCATTGGTTTGTTTGCC</td><td style = \"text-align: right;\">1</td><td style = \"text-align: right;\">1</td></tr><tr><td class = \"rowNumber\" style = \"font-weight: bold; text-align: right;\">11</td><td style = \"text-align: left;\">1-4-1-5-5-5-1-4-1</td><td style = \"text-align: left;\">ACAAAAAAACCCCTCTGGTTTGTTTGCC</td><td style = \"text-align: right;\">1</td><td style = \"text-align: right;\">1</td></tr><tr><td class = \"rowNumber\" style = \"font-weight: bold; text-align: right;\">12</td><td style = \"text-align: left;\">1-4-1-5-5-5-1-4-1</td><td style = \"text-align: left;\">ACAAAAAAACCTAAATGGTTTGTTTGCC</td><td style = \"text-align: right;\">1</td><td style = \"text-align: right;\">1</td></tr><tr><td class = \"rowNumber\" style = \"font-weight: bold; text-align: right;\">13</td><td style = \"text-align: left;\">1-4-1-5-5-5-1-4-1</td><td style = \"text-align: left;\">ACAAAAAAACCCTGTTGGTTTGTTTGCC</td><td style = \"text-align: right;\">1</td><td style = \"text-align: right;\">1</td></tr><tr><td style = \"text-align: right;\">&vellip;</td><td style = \"text-align: right;\">&vellip;</td><td style = \"text-align: right;\">&vellip;</td><td style = \"text-align: right;\">&vellip;</td><td style = \"text-align: right;\">&vellip;</td></tr><tr><td class = \"rowNumber\" style = \"font-weight: bold; text-align: right;\">20</td><td style = \"text-align: left;\">1-4-1-5-5-5-1-4-1</td><td style = \"text-align: left;\">ACAAAAAAACCCCTTTGGTTTGTTTGCC</td><td style = \"text-align: right;\">1</td><td style = \"text-align: right;\">1</td></tr><tr><td class = \"rowNumber\" style = \"font-weight: bold; text-align: right;\">21</td><td style = \"text-align: left;\">1-4-1-5-5-5-1-4-1</td><td style = \"text-align: left;\">ACAAAAAAACCCGGTTGGTTTGTTTGCC</td><td style = \"text-align: right;\">2</td><td style = \"text-align: right;\">1</td></tr><tr><td class = \"rowNumber\" style = \"font-weight: bold; text-align: right;\">22</td><td style = \"text-align: left;\">1-4-1-5-5-5-1-4-1</td><td style = \"text-align: left;\">ACAAAAAAACCGACCTGGTTTGTTTGCC</td><td style = \"text-align: right;\">2</td><td style = \"text-align: right;\">1</td></tr><tr><td class = \"rowNumber\" style = \"font-weight: bold; text-align: right;\">23</td><td style = \"text-align: left;\">1-4-1-5-5-5-1-4-1</td><td style = \"text-align: left;\">ACAAAAAAACCGTTATGGTTTGTTTGCC</td><td style = \"text-align: right;\">2</td><td style = \"text-align: right;\">1</td></tr><tr><td class = \"rowNumber\" style = \"font-weight: bold; text-align: right;\">24</td><td style = \"text-align: left;\">1-4-1-5-5-5-1-4-1</td><td style = \"text-align: left;\">ACAAAAAAACCCCACTGGTTTGTTTGCC</td><td style = \"text-align: right;\">2</td><td style = \"text-align: right;\">1</td></tr><tr><td class = \"rowNumber\" style = \"font-weight: bold; text-align: right;\">25</td><td style = \"text-align: left;\">1-4-1-5-5-5-1-4-1</td><td style = \"text-align: left;\">ACAAAAAAACCAAGCTGGTTTGTTTGCC</td><td style = \"text-align: right;\">2</td><td style = \"text-align: right;\">1</td></tr><tr><td class = \"rowNumber\" style = \"font-weight: bold; text-align: right;\">26</td><td style = \"text-align: left;\">1-4-1-5-5-5-1-4-1</td><td style = \"text-align: left;\">ACAAAAAAACCCTAATGGTTTGTTTGCC</td><td style = \"text-align: right;\">2</td><td style = \"text-align: right;\">2</td></tr><tr><td class = \"rowNumber\" style = \"font-weight: bold; text-align: right;\">27</td><td style = \"text-align: left;\">1-4-1-5-5-5-1-4-1</td><td style = \"text-align: left;\">ACAAAAAAACCCCCCTGGTTTGTTTGCC</td><td style = \"text-align: right;\">4</td><td style = \"text-align: right;\">1</td></tr><tr><td class = \"rowNumber\" style = \"font-weight: bold; text-align: right;\">28</td><td style = \"text-align: left;\">1-4-1-5-5-5-1-4-1</td><td style = \"text-align: left;\">ACAAAAAAACCCCCTTGGTTTGTTTGCC</td><td style = \"text-align: right;\">5</td><td style = \"text-align: right;\">1</td></tr><tr><td class = \"rowNumber\" style = \"font-weight: bold; text-align: right;\">29</td><td style = \"text-align: left;\">1-4-1-5-5-5-1-4-1</td><td style = \"text-align: left;\">ACAAAAAAACCCCCGTGGTTTGTTTGCC</td><td style = \"text-align: right;\">37</td><td style = \"text-align: right;\">1</td></tr><tr><td class = \"rowNumber\" style = \"font-weight: bold; text-align: right;\">30</td><td style = \"text-align: left;\">1-4-1-5-5-5-1-4-1</td><td style = \"text-align: left;\">ACAAAAAAACCCGGGTGGTTTGTTTGCC</td><td style = \"text-align: right;\">61</td><td style = \"text-align: right;\">1</td></tr><tr><td class = \"rowNumber\" style = \"font-weight: bold; text-align: right;\">31</td><td style = \"text-align: left;\">1-4-1-5-5-5-1-4-1</td><td style = \"text-align: left;\">ACAAAAAAACCCGGATGGTTTGTTTGCC</td><td style = \"text-align: right;\">70</td><td style = \"text-align: right;\">1</td></tr></tbody></table></div>"
      ],
      "text/latex": [
       "\\begin{tabular}{r|cccc}\n",
       "\t& LoopI\\_description & Sequence & Count & Cluster\\\\\n",
       "\t\\hline\n",
       "\t& String & String & Int64 & Int64\\\\\n",
       "\t\\hline\n",
       "\t1 & 1-4-1-5-5-5-1-4-1 & ACAAAAAAACCCTGGTGGTTTGTTTGCC & 1 & 1 \\\\\n",
       "\t2 & 1-4-1-5-5-5-1-4-1 & ACAAAAAAACCAAAATGGTTTGTTTGCC & 1 & 1 \\\\\n",
       "\t3 & 1-4-1-5-5-5-1-4-1 & ACAAAAAAACCCCGTTGGTTTGTTTGCC & 1 & 1 \\\\\n",
       "\t4 & 1-4-1-5-5-5-1-4-1 & ACAAAAAAACCATCATGGTTTGTTTGCC & 1 & 1 \\\\\n",
       "\t5 & 1-4-1-5-5-5-1-4-1 & ACAAAAAAACCTGTGTGGTTTGTTTGCC & 1 & 1 \\\\\n",
       "\t6 & 1-4-1-5-5-5-1-4-1 & ACAAAAAAACCTCAATGGTTTGTTTGCC & 1 & 1 \\\\\n",
       "\t7 & 1-4-1-5-5-5-1-4-1 & ACAAAAAAACCCTCTTGGTTTGTTTGCC & 1 & 1 \\\\\n",
       "\t8 & 1-4-1-5-5-5-1-4-1 & ACAAAAAAACCTCATTGGTTTGTTTGCC & 1 & 1 \\\\\n",
       "\t9 & 1-4-1-5-5-5-1-4-1 & ACAAAAAAACCACCGTGGTTTGTTTGCC & 1 & 1 \\\\\n",
       "\t10 & 1-4-1-5-5-5-1-4-1 & ACAAAAAAACCCCATTGGTTTGTTTGCC & 1 & 1 \\\\\n",
       "\t11 & 1-4-1-5-5-5-1-4-1 & ACAAAAAAACCCCTCTGGTTTGTTTGCC & 1 & 1 \\\\\n",
       "\t12 & 1-4-1-5-5-5-1-4-1 & ACAAAAAAACCTAAATGGTTTGTTTGCC & 1 & 1 \\\\\n",
       "\t13 & 1-4-1-5-5-5-1-4-1 & ACAAAAAAACCCTGTTGGTTTGTTTGCC & 1 & 1 \\\\\n",
       "\t14 & 1-4-1-5-5-5-1-4-1 & ACAAAAAAACCCACATGGTTTGTTTGCC & 1 & 1 \\\\\n",
       "\t15 & 1-4-1-5-5-5-1-4-1 & ACAAAAAAACCATGGTGGTTTGTTTGCC & 1 & 1 \\\\\n",
       "\t16 & 1-4-1-5-5-5-1-4-1 & ACAAAAAAACCAGAGTGGTTTGTTTGCC & 1 & 1 \\\\\n",
       "\t17 & 1-4-1-5-5-5-1-4-1 & ACAAAAAAACCGGAATGGTTTGTTTGCC & 1 & 1 \\\\\n",
       "\t18 & 1-4-1-5-5-5-1-4-1 & ACAAAAAAACCTCTCTGGTTTGTTTGCC & 1 & 1 \\\\\n",
       "\t19 & 1-4-1-5-5-5-1-4-1 & ACAAAAAAACCACTCTGGTTTGTTTGCC & 1 & 1 \\\\\n",
       "\t20 & 1-4-1-5-5-5-1-4-1 & ACAAAAAAACCCCTTTGGTTTGTTTGCC & 1 & 1 \\\\\n",
       "\t21 & 1-4-1-5-5-5-1-4-1 & ACAAAAAAACCCGGTTGGTTTGTTTGCC & 2 & 1 \\\\\n",
       "\t22 & 1-4-1-5-5-5-1-4-1 & ACAAAAAAACCGACCTGGTTTGTTTGCC & 2 & 1 \\\\\n",
       "\t23 & 1-4-1-5-5-5-1-4-1 & ACAAAAAAACCGTTATGGTTTGTTTGCC & 2 & 1 \\\\\n",
       "\t24 & 1-4-1-5-5-5-1-4-1 & ACAAAAAAACCCCACTGGTTTGTTTGCC & 2 & 1 \\\\\n",
       "\t25 & 1-4-1-5-5-5-1-4-1 & ACAAAAAAACCAAGCTGGTTTGTTTGCC & 2 & 1 \\\\\n",
       "\t26 & 1-4-1-5-5-5-1-4-1 & ACAAAAAAACCCTAATGGTTTGTTTGCC & 2 & 2 \\\\\n",
       "\t27 & 1-4-1-5-5-5-1-4-1 & ACAAAAAAACCCCCCTGGTTTGTTTGCC & 4 & 1 \\\\\n",
       "\t28 & 1-4-1-5-5-5-1-4-1 & ACAAAAAAACCCCCTTGGTTTGTTTGCC & 5 & 1 \\\\\n",
       "\t29 & 1-4-1-5-5-5-1-4-1 & ACAAAAAAACCCCCGTGGTTTGTTTGCC & 37 & 1 \\\\\n",
       "\t30 & 1-4-1-5-5-5-1-4-1 & ACAAAAAAACCCGGGTGGTTTGTTTGCC & 61 & 1 \\\\\n",
       "\t$\\dots$ & $\\dots$ & $\\dots$ & $\\dots$ & $\\dots$ \\\\\n",
       "\\end{tabular}\n"
      ],
      "text/plain": [
       "\u001b[1m31×4 DataFrame\u001b[0m\n",
       "\u001b[1m Row \u001b[0m│\u001b[1m LoopI_description \u001b[0m\u001b[1m Sequence                     \u001b[0m\u001b[1m Count \u001b[0m\u001b[1m Cluster \u001b[0m\n",
       "     │\u001b[90m String            \u001b[0m\u001b[90m String                       \u001b[0m\u001b[90m Int64 \u001b[0m\u001b[90m Int64   \u001b[0m\n",
       "─────┼─────────────────────────────────────────────────────────────────\n",
       "   1 │ 1-4-1-5-5-5-1-4-1  ACAAAAAAACCCTGGTGGTTTGTTTGCC      1        1\n",
       "   2 │ 1-4-1-5-5-5-1-4-1  ACAAAAAAACCAAAATGGTTTGTTTGCC      1        1\n",
       "   3 │ 1-4-1-5-5-5-1-4-1  ACAAAAAAACCCCGTTGGTTTGTTTGCC      1        1\n",
       "   4 │ 1-4-1-5-5-5-1-4-1  ACAAAAAAACCATCATGGTTTGTTTGCC      1        1\n",
       "   5 │ 1-4-1-5-5-5-1-4-1  ACAAAAAAACCTGTGTGGTTTGTTTGCC      1        1\n",
       "   6 │ 1-4-1-5-5-5-1-4-1  ACAAAAAAACCTCAATGGTTTGTTTGCC      1        1\n",
       "   7 │ 1-4-1-5-5-5-1-4-1  ACAAAAAAACCCTCTTGGTTTGTTTGCC      1        1\n",
       "   8 │ 1-4-1-5-5-5-1-4-1  ACAAAAAAACCTCATTGGTTTGTTTGCC      1        1\n",
       "   9 │ 1-4-1-5-5-5-1-4-1  ACAAAAAAACCACCGTGGTTTGTTTGCC      1        1\n",
       "  10 │ 1-4-1-5-5-5-1-4-1  ACAAAAAAACCCCATTGGTTTGTTTGCC      1        1\n",
       "  11 │ 1-4-1-5-5-5-1-4-1  ACAAAAAAACCCCTCTGGTTTGTTTGCC      1        1\n",
       "  ⋮  │         ⋮                       ⋮                  ⋮       ⋮\n",
       "  22 │ 1-4-1-5-5-5-1-4-1  ACAAAAAAACCGACCTGGTTTGTTTGCC      2        1\n",
       "  23 │ 1-4-1-5-5-5-1-4-1  ACAAAAAAACCGTTATGGTTTGTTTGCC      2        1\n",
       "  24 │ 1-4-1-5-5-5-1-4-1  ACAAAAAAACCCCACTGGTTTGTTTGCC      2        1\n",
       "  25 │ 1-4-1-5-5-5-1-4-1  ACAAAAAAACCAAGCTGGTTTGTTTGCC      2        1\n",
       "  26 │ 1-4-1-5-5-5-1-4-1  ACAAAAAAACCCTAATGGTTTGTTTGCC      2        2\n",
       "  27 │ 1-4-1-5-5-5-1-4-1  ACAAAAAAACCCCCCTGGTTTGTTTGCC      4        1\n",
       "  28 │ 1-4-1-5-5-5-1-4-1  ACAAAAAAACCCCCTTGGTTTGTTTGCC      5        1\n",
       "  29 │ 1-4-1-5-5-5-1-4-1  ACAAAAAAACCCCCGTGGTTTGTTTGCC     37        1\n",
       "  30 │ 1-4-1-5-5-5-1-4-1  ACAAAAAAACCCGGGTGGTTTGTTTGCC     61        1\n",
       "  31 │ 1-4-1-5-5-5-1-4-1  ACAAAAAAACCCGGATGGTTTGTTTGCC     70        1\n",
       "\u001b[36m                                                        10 rows omitted\u001b[0m"
      ]
     },
     "metadata": {},
     "output_type": "display_data"
    },
    {
     "data": {
      "text/html": [
       "<div><div style = \"float: left;\"><span>31×3 DataFrame</span></div><div style = \"float: right;\"><span style = \"font-style: italic;\">6 rows omitted</span></div><div style = \"clear: both;\"></div></div><div class = \"data-frame\" style = \"overflow-x: scroll;\"><table class = \"data-frame\" style = \"margin-bottom: 6px;\"><thead><tr class = \"header\"><th class = \"rowNumber\" style = \"font-weight: bold; text-align: right;\">Row</th><th style = \"text-align: left;\">Cluster</th><th style = \"text-align: left;\">Sequence</th><th style = \"text-align: left;\">Count_sum</th></tr><tr class = \"subheader headerLastRow\"><th class = \"rowNumber\" style = \"font-weight: bold; text-align: right;\"></th><th title = \"Int64\" style = \"text-align: left;\">Int64</th><th title = \"String\" style = \"text-align: left;\">String</th><th title = \"Int64\" style = \"text-align: left;\">Int64</th></tr></thead><tbody><tr><td class = \"rowNumber\" style = \"font-weight: bold; text-align: right;\">1</td><td style = \"text-align: right;\">1</td><td style = \"text-align: left;\">ACAAAAAAACCCTGGTGGTTTGTTTGCC</td><td style = \"text-align: right;\">1</td></tr><tr><td class = \"rowNumber\" style = \"font-weight: bold; text-align: right;\">2</td><td style = \"text-align: right;\">1</td><td style = \"text-align: left;\">ACAAAAAAACCAAAATGGTTTGTTTGCC</td><td style = \"text-align: right;\">1</td></tr><tr><td class = \"rowNumber\" style = \"font-weight: bold; text-align: right;\">3</td><td style = \"text-align: right;\">1</td><td style = \"text-align: left;\">ACAAAAAAACCCCGTTGGTTTGTTTGCC</td><td style = \"text-align: right;\">1</td></tr><tr><td class = \"rowNumber\" style = \"font-weight: bold; text-align: right;\">4</td><td style = \"text-align: right;\">1</td><td style = \"text-align: left;\">ACAAAAAAACCATCATGGTTTGTTTGCC</td><td style = \"text-align: right;\">1</td></tr><tr><td class = \"rowNumber\" style = \"font-weight: bold; text-align: right;\">5</td><td style = \"text-align: right;\">1</td><td style = \"text-align: left;\">ACAAAAAAACCTGTGTGGTTTGTTTGCC</td><td style = \"text-align: right;\">1</td></tr><tr><td class = \"rowNumber\" style = \"font-weight: bold; text-align: right;\">6</td><td style = \"text-align: right;\">1</td><td style = \"text-align: left;\">ACAAAAAAACCTCAATGGTTTGTTTGCC</td><td style = \"text-align: right;\">1</td></tr><tr><td class = \"rowNumber\" style = \"font-weight: bold; text-align: right;\">7</td><td style = \"text-align: right;\">1</td><td style = \"text-align: left;\">ACAAAAAAACCCTCTTGGTTTGTTTGCC</td><td style = \"text-align: right;\">1</td></tr><tr><td class = \"rowNumber\" style = \"font-weight: bold; text-align: right;\">8</td><td style = \"text-align: right;\">1</td><td style = \"text-align: left;\">ACAAAAAAACCTCATTGGTTTGTTTGCC</td><td style = \"text-align: right;\">1</td></tr><tr><td class = \"rowNumber\" style = \"font-weight: bold; text-align: right;\">9</td><td style = \"text-align: right;\">1</td><td style = \"text-align: left;\">ACAAAAAAACCACCGTGGTTTGTTTGCC</td><td style = \"text-align: right;\">1</td></tr><tr><td class = \"rowNumber\" style = \"font-weight: bold; text-align: right;\">10</td><td style = \"text-align: right;\">1</td><td style = \"text-align: left;\">ACAAAAAAACCCCATTGGTTTGTTTGCC</td><td style = \"text-align: right;\">1</td></tr><tr><td class = \"rowNumber\" style = \"font-weight: bold; text-align: right;\">11</td><td style = \"text-align: right;\">1</td><td style = \"text-align: left;\">ACAAAAAAACCCCTCTGGTTTGTTTGCC</td><td style = \"text-align: right;\">1</td></tr><tr><td class = \"rowNumber\" style = \"font-weight: bold; text-align: right;\">12</td><td style = \"text-align: right;\">1</td><td style = \"text-align: left;\">ACAAAAAAACCTAAATGGTTTGTTTGCC</td><td style = \"text-align: right;\">1</td></tr><tr><td class = \"rowNumber\" style = \"font-weight: bold; text-align: right;\">13</td><td style = \"text-align: right;\">1</td><td style = \"text-align: left;\">ACAAAAAAACCCTGTTGGTTTGTTTGCC</td><td style = \"text-align: right;\">1</td></tr><tr><td style = \"text-align: right;\">&vellip;</td><td style = \"text-align: right;\">&vellip;</td><td style = \"text-align: right;\">&vellip;</td><td style = \"text-align: right;\">&vellip;</td></tr><tr><td class = \"rowNumber\" style = \"font-weight: bold; text-align: right;\">20</td><td style = \"text-align: right;\">1</td><td style = \"text-align: left;\">ACAAAAAAACCCCTTTGGTTTGTTTGCC</td><td style = \"text-align: right;\">1</td></tr><tr><td class = \"rowNumber\" style = \"font-weight: bold; text-align: right;\">21</td><td style = \"text-align: right;\">1</td><td style = \"text-align: left;\">ACAAAAAAACCCGGTTGGTTTGTTTGCC</td><td style = \"text-align: right;\">2</td></tr><tr><td class = \"rowNumber\" style = \"font-weight: bold; text-align: right;\">22</td><td style = \"text-align: right;\">1</td><td style = \"text-align: left;\">ACAAAAAAACCGACCTGGTTTGTTTGCC</td><td style = \"text-align: right;\">2</td></tr><tr><td class = \"rowNumber\" style = \"font-weight: bold; text-align: right;\">23</td><td style = \"text-align: right;\">1</td><td style = \"text-align: left;\">ACAAAAAAACCGTTATGGTTTGTTTGCC</td><td style = \"text-align: right;\">2</td></tr><tr><td class = \"rowNumber\" style = \"font-weight: bold; text-align: right;\">24</td><td style = \"text-align: right;\">1</td><td style = \"text-align: left;\">ACAAAAAAACCCCACTGGTTTGTTTGCC</td><td style = \"text-align: right;\">2</td></tr><tr><td class = \"rowNumber\" style = \"font-weight: bold; text-align: right;\">25</td><td style = \"text-align: right;\">1</td><td style = \"text-align: left;\">ACAAAAAAACCAAGCTGGTTTGTTTGCC</td><td style = \"text-align: right;\">2</td></tr><tr><td class = \"rowNumber\" style = \"font-weight: bold; text-align: right;\">26</td><td style = \"text-align: right;\">2</td><td style = \"text-align: left;\">ACAAAAAAACCCTAATGGTTTGTTTGCC</td><td style = \"text-align: right;\">2</td></tr><tr><td class = \"rowNumber\" style = \"font-weight: bold; text-align: right;\">27</td><td style = \"text-align: right;\">1</td><td style = \"text-align: left;\">ACAAAAAAACCCCCCTGGTTTGTTTGCC</td><td style = \"text-align: right;\">4</td></tr><tr><td class = \"rowNumber\" style = \"font-weight: bold; text-align: right;\">28</td><td style = \"text-align: right;\">1</td><td style = \"text-align: left;\">ACAAAAAAACCCCCTTGGTTTGTTTGCC</td><td style = \"text-align: right;\">5</td></tr><tr><td class = \"rowNumber\" style = \"font-weight: bold; text-align: right;\">29</td><td style = \"text-align: right;\">1</td><td style = \"text-align: left;\">ACAAAAAAACCCCCGTGGTTTGTTTGCC</td><td style = \"text-align: right;\">37</td></tr><tr><td class = \"rowNumber\" style = \"font-weight: bold; text-align: right;\">30</td><td style = \"text-align: right;\">1</td><td style = \"text-align: left;\">ACAAAAAAACCCGGGTGGTTTGTTTGCC</td><td style = \"text-align: right;\">61</td></tr><tr><td class = \"rowNumber\" style = \"font-weight: bold; text-align: right;\">31</td><td style = \"text-align: right;\">1</td><td style = \"text-align: left;\">ACAAAAAAACCCGGATGGTTTGTTTGCC</td><td style = \"text-align: right;\">70</td></tr></tbody></table></div>"
      ],
      "text/latex": [
       "\\begin{tabular}{r|ccc}\n",
       "\t& Cluster & Sequence & Count\\_sum\\\\\n",
       "\t\\hline\n",
       "\t& Int64 & String & Int64\\\\\n",
       "\t\\hline\n",
       "\t1 & 1 & ACAAAAAAACCCTGGTGGTTTGTTTGCC & 1 \\\\\n",
       "\t2 & 1 & ACAAAAAAACCAAAATGGTTTGTTTGCC & 1 \\\\\n",
       "\t3 & 1 & ACAAAAAAACCCCGTTGGTTTGTTTGCC & 1 \\\\\n",
       "\t4 & 1 & ACAAAAAAACCATCATGGTTTGTTTGCC & 1 \\\\\n",
       "\t5 & 1 & ACAAAAAAACCTGTGTGGTTTGTTTGCC & 1 \\\\\n",
       "\t6 & 1 & ACAAAAAAACCTCAATGGTTTGTTTGCC & 1 \\\\\n",
       "\t7 & 1 & ACAAAAAAACCCTCTTGGTTTGTTTGCC & 1 \\\\\n",
       "\t8 & 1 & ACAAAAAAACCTCATTGGTTTGTTTGCC & 1 \\\\\n",
       "\t9 & 1 & ACAAAAAAACCACCGTGGTTTGTTTGCC & 1 \\\\\n",
       "\t10 & 1 & ACAAAAAAACCCCATTGGTTTGTTTGCC & 1 \\\\\n",
       "\t11 & 1 & ACAAAAAAACCCCTCTGGTTTGTTTGCC & 1 \\\\\n",
       "\t12 & 1 & ACAAAAAAACCTAAATGGTTTGTTTGCC & 1 \\\\\n",
       "\t13 & 1 & ACAAAAAAACCCTGTTGGTTTGTTTGCC & 1 \\\\\n",
       "\t14 & 1 & ACAAAAAAACCCACATGGTTTGTTTGCC & 1 \\\\\n",
       "\t15 & 1 & ACAAAAAAACCATGGTGGTTTGTTTGCC & 1 \\\\\n",
       "\t16 & 1 & ACAAAAAAACCAGAGTGGTTTGTTTGCC & 1 \\\\\n",
       "\t17 & 1 & ACAAAAAAACCGGAATGGTTTGTTTGCC & 1 \\\\\n",
       "\t18 & 1 & ACAAAAAAACCTCTCTGGTTTGTTTGCC & 1 \\\\\n",
       "\t19 & 1 & ACAAAAAAACCACTCTGGTTTGTTTGCC & 1 \\\\\n",
       "\t20 & 1 & ACAAAAAAACCCCTTTGGTTTGTTTGCC & 1 \\\\\n",
       "\t21 & 1 & ACAAAAAAACCCGGTTGGTTTGTTTGCC & 2 \\\\\n",
       "\t22 & 1 & ACAAAAAAACCGACCTGGTTTGTTTGCC & 2 \\\\\n",
       "\t23 & 1 & ACAAAAAAACCGTTATGGTTTGTTTGCC & 2 \\\\\n",
       "\t24 & 1 & ACAAAAAAACCCCACTGGTTTGTTTGCC & 2 \\\\\n",
       "\t25 & 1 & ACAAAAAAACCAAGCTGGTTTGTTTGCC & 2 \\\\\n",
       "\t26 & 2 & ACAAAAAAACCCTAATGGTTTGTTTGCC & 2 \\\\\n",
       "\t27 & 1 & ACAAAAAAACCCCCCTGGTTTGTTTGCC & 4 \\\\\n",
       "\t28 & 1 & ACAAAAAAACCCCCTTGGTTTGTTTGCC & 5 \\\\\n",
       "\t29 & 1 & ACAAAAAAACCCCCGTGGTTTGTTTGCC & 37 \\\\\n",
       "\t30 & 1 & ACAAAAAAACCCGGGTGGTTTGTTTGCC & 61 \\\\\n",
       "\t$\\dots$ & $\\dots$ & $\\dots$ & $\\dots$ \\\\\n",
       "\\end{tabular}\n"
      ],
      "text/plain": [
       "\u001b[1m31×3 DataFrame\u001b[0m\n",
       "\u001b[1m Row \u001b[0m│\u001b[1m Cluster \u001b[0m\u001b[1m Sequence                     \u001b[0m\u001b[1m Count_sum \u001b[0m\n",
       "     │\u001b[90m Int64   \u001b[0m\u001b[90m String                       \u001b[0m\u001b[90m Int64     \u001b[0m\n",
       "─────┼──────────────────────────────────────────────────\n",
       "   1 │       1  ACAAAAAAACCCTGGTGGTTTGTTTGCC          1\n",
       "   2 │       1  ACAAAAAAACCAAAATGGTTTGTTTGCC          1\n",
       "   3 │       1  ACAAAAAAACCCCGTTGGTTTGTTTGCC          1\n",
       "   4 │       1  ACAAAAAAACCATCATGGTTTGTTTGCC          1\n",
       "   5 │       1  ACAAAAAAACCTGTGTGGTTTGTTTGCC          1\n",
       "   6 │       1  ACAAAAAAACCTCAATGGTTTGTTTGCC          1\n",
       "   7 │       1  ACAAAAAAACCCTCTTGGTTTGTTTGCC          1\n",
       "   8 │       1  ACAAAAAAACCTCATTGGTTTGTTTGCC          1\n",
       "   9 │       1  ACAAAAAAACCACCGTGGTTTGTTTGCC          1\n",
       "  10 │       1  ACAAAAAAACCCCATTGGTTTGTTTGCC          1\n",
       "  11 │       1  ACAAAAAAACCCCTCTGGTTTGTTTGCC          1\n",
       "  ⋮  │    ⋮                  ⋮                    ⋮\n",
       "  22 │       1  ACAAAAAAACCGACCTGGTTTGTTTGCC          2\n",
       "  23 │       1  ACAAAAAAACCGTTATGGTTTGTTTGCC          2\n",
       "  24 │       1  ACAAAAAAACCCCACTGGTTTGTTTGCC          2\n",
       "  25 │       1  ACAAAAAAACCAAGCTGGTTTGTTTGCC          2\n",
       "  26 │       2  ACAAAAAAACCCTAATGGTTTGTTTGCC          2\n",
       "  27 │       1  ACAAAAAAACCCCCCTGGTTTGTTTGCC          4\n",
       "  28 │       1  ACAAAAAAACCCCCTTGGTTTGTTTGCC          5\n",
       "  29 │       1  ACAAAAAAACCCCCGTGGTTTGTTTGCC         37\n",
       "  30 │       1  ACAAAAAAACCCGGGTGGTTTGTTTGCC         61\n",
       "  31 │       1  ACAAAAAAACCCGGATGGTTTGTTTGCC         70\n",
       "\u001b[36m                                         10 rows omitted\u001b[0m"
      ]
     },
     "metadata": {},
     "output_type": "display_data"
    }
   ],
   "source": [
    "using Clustering\n",
    "using Distances\n",
    "using DataFrames\n",
    "\n",
    "# Define the hamming distance function\n",
    "function my_hamming(sequence1::String, sequence2::String)\n",
    "    return sum(a != b for (a, b) in zip(sequence1, sequence2))\n",
    "end\n",
    "\n",
    "function cluster_sequences(sequences_df::DataFrame, distance_threshold::Int, structure::String)\n",
    "    # Extract sequences and counts from the input DataFrame\n",
    "    sequences = sequences_df.LoopI\n",
    "    counts = sequences_df.Count\n",
    "\n",
    "    n = length(sequences)\n",
    "\n",
    "    # Calculate pairwise Hamming distances and create a distance matrix\n",
    "    distance_matrix = pairwise(my_hamming, sequences, sequences)\n",
    "\n",
    "    # Convert the distance matrix to a dissimilarity matrix\n",
    "    dissimilarity_matrix = Distances.pairwise(Distances.Hamming(), sequences)\n",
    "\n",
    "    # Perform hierarchical clustering\n",
    "    result = hclust(dissimilarity_matrix)\n",
    "\n",
    "    # Cut the dendrogram to obtain clusters\n",
    "    clusters = cutree(result, k=distance_threshold + 1)  # +1 because cutree requires k ≥ 1\n",
    "\n",
    "    # Create a DataFrame to store the clustering result, including counts\n",
    "    df = DataFrame(LoopI_description = Structure, Sequence = sequences, Count = counts, Cluster = clusters)\n",
    "\n",
    "    # Create a count table\n",
    "    count_table = combine(groupby(df, [:Cluster, :Sequence]), :Count => sum)\n",
    "\n",
    "    # Write count table to CSV\n",
    "    # CSV.write(\"($structure)_count_table.csv\", count_table)\n",
    "\n",
    "    # Iterate over clusters and write sequences to FASTA files\n",
    "    # for cluster_id in 1:maximum(clusters)\n",
    "    #     cluster_sequences = df[df.Cluster .== cluster_id, [:Sequence, :Count]]\n",
    "    #     fasta_content = join(\">sequence_$i (Count: $count)\\n$s\\n\" for (i, (s, count)) in enumerate(eachrow(cluster_sequences)))\n",
    "    #     write(\"($structure)_cluster_$cluster_id.fasta\", fasta_content)\n",
    "    # end\n",
    "\n",
    "    return df, count_table\n",
    "end\n",
    "\n",
    "Structure = \"1-4-1-5-5-5-1-4-1\"\n",
    "LongestLoopAnalysis = filter(:Loop1_description => n -> n == Structure, lib_StructureAnalysis)\n",
    "sort!(LongestLoopAnalysis, [:Count])\n",
    "\n",
    "# Cluster the sequences, create FASTA files, and generate count table\n",
    "result_df, count_table = cluster_sequences(LongestLoopAnalysis, distance_threshold, Structure)\n",
    "\n",
    "# Display the DataFrame and count table\n",
    "display(result_df)\n",
    "display(count_table)\n"
   ]
  },
  {
   "cell_type": "code",
   "execution_count": 59,
   "id": "07e6f01f-3a31-4b6f-b36a-2aaa1bc96917",
   "metadata": {},
   "outputs": [
    {
     "data": {
      "text/html": [
       "<div><div style = \"float: left;\"><span>31×3 DataFrame</span></div><div style = \"float: right;\"><span style = \"font-style: italic;\">6 rows omitted</span></div><div style = \"clear: both;\"></div></div><div class = \"data-frame\" style = \"overflow-x: scroll;\"><table class = \"data-frame\" style = \"margin-bottom: 6px;\"><thead><tr class = \"header\"><th class = \"rowNumber\" style = \"font-weight: bold; text-align: right;\">Row</th><th style = \"text-align: left;\">LoopI_description</th><th style = \"text-align: left;\">Sequence</th><th style = \"text-align: left;\">Cluster</th></tr><tr class = \"subheader headerLastRow\"><th class = \"rowNumber\" style = \"font-weight: bold; text-align: right;\"></th><th title = \"String\" style = \"text-align: left;\">String</th><th title = \"String\" style = \"text-align: left;\">String</th><th title = \"Int64\" style = \"text-align: left;\">Int64</th></tr></thead><tbody><tr><td class = \"rowNumber\" style = \"font-weight: bold; text-align: right;\">1</td><td style = \"text-align: left;\">1-4-1-5-5-5-1-4-1</td><td style = \"text-align: left;\">ACAAAAAAACCCTGGTGGTTTGTTTGCC</td><td style = \"text-align: right;\">1</td></tr><tr><td class = \"rowNumber\" style = \"font-weight: bold; text-align: right;\">2</td><td style = \"text-align: left;\">1-4-1-5-5-5-1-4-1</td><td style = \"text-align: left;\">ACAAAAAAACCAAAATGGTTTGTTTGCC</td><td style = \"text-align: right;\">1</td></tr><tr><td class = \"rowNumber\" style = \"font-weight: bold; text-align: right;\">3</td><td style = \"text-align: left;\">1-4-1-5-5-5-1-4-1</td><td style = \"text-align: left;\">ACAAAAAAACCCCGTTGGTTTGTTTGCC</td><td style = \"text-align: right;\">1</td></tr><tr><td class = \"rowNumber\" style = \"font-weight: bold; text-align: right;\">4</td><td style = \"text-align: left;\">1-4-1-5-5-5-1-4-1</td><td style = \"text-align: left;\">ACAAAAAAACCATCATGGTTTGTTTGCC</td><td style = \"text-align: right;\">1</td></tr><tr><td class = \"rowNumber\" style = \"font-weight: bold; text-align: right;\">5</td><td style = \"text-align: left;\">1-4-1-5-5-5-1-4-1</td><td style = \"text-align: left;\">ACAAAAAAACCTGTGTGGTTTGTTTGCC</td><td style = \"text-align: right;\">1</td></tr><tr><td class = \"rowNumber\" style = \"font-weight: bold; text-align: right;\">6</td><td style = \"text-align: left;\">1-4-1-5-5-5-1-4-1</td><td style = \"text-align: left;\">ACAAAAAAACCTCAATGGTTTGTTTGCC</td><td style = \"text-align: right;\">1</td></tr><tr><td class = \"rowNumber\" style = \"font-weight: bold; text-align: right;\">7</td><td style = \"text-align: left;\">1-4-1-5-5-5-1-4-1</td><td style = \"text-align: left;\">ACAAAAAAACCCTCTTGGTTTGTTTGCC</td><td style = \"text-align: right;\">1</td></tr><tr><td class = \"rowNumber\" style = \"font-weight: bold; text-align: right;\">8</td><td style = \"text-align: left;\">1-4-1-5-5-5-1-4-1</td><td style = \"text-align: left;\">ACAAAAAAACCTCATTGGTTTGTTTGCC</td><td style = \"text-align: right;\">1</td></tr><tr><td class = \"rowNumber\" style = \"font-weight: bold; text-align: right;\">9</td><td style = \"text-align: left;\">1-4-1-5-5-5-1-4-1</td><td style = \"text-align: left;\">ACAAAAAAACCACCGTGGTTTGTTTGCC</td><td style = \"text-align: right;\">1</td></tr><tr><td class = \"rowNumber\" style = \"font-weight: bold; text-align: right;\">10</td><td style = \"text-align: left;\">1-4-1-5-5-5-1-4-1</td><td style = \"text-align: left;\">ACAAAAAAACCCCATTGGTTTGTTTGCC</td><td style = \"text-align: right;\">1</td></tr><tr><td class = \"rowNumber\" style = \"font-weight: bold; text-align: right;\">11</td><td style = \"text-align: left;\">1-4-1-5-5-5-1-4-1</td><td style = \"text-align: left;\">ACAAAAAAACCCCTCTGGTTTGTTTGCC</td><td style = \"text-align: right;\">1</td></tr><tr><td class = \"rowNumber\" style = \"font-weight: bold; text-align: right;\">12</td><td style = \"text-align: left;\">1-4-1-5-5-5-1-4-1</td><td style = \"text-align: left;\">ACAAAAAAACCTAAATGGTTTGTTTGCC</td><td style = \"text-align: right;\">1</td></tr><tr><td class = \"rowNumber\" style = \"font-weight: bold; text-align: right;\">13</td><td style = \"text-align: left;\">1-4-1-5-5-5-1-4-1</td><td style = \"text-align: left;\">ACAAAAAAACCCTGTTGGTTTGTTTGCC</td><td style = \"text-align: right;\">1</td></tr><tr><td style = \"text-align: right;\">&vellip;</td><td style = \"text-align: right;\">&vellip;</td><td style = \"text-align: right;\">&vellip;</td><td style = \"text-align: right;\">&vellip;</td></tr><tr><td class = \"rowNumber\" style = \"font-weight: bold; text-align: right;\">20</td><td style = \"text-align: left;\">1-4-1-5-5-5-1-4-1</td><td style = \"text-align: left;\">ACAAAAAAACCCCTTTGGTTTGTTTGCC</td><td style = \"text-align: right;\">1</td></tr><tr><td class = \"rowNumber\" style = \"font-weight: bold; text-align: right;\">21</td><td style = \"text-align: left;\">1-4-1-5-5-5-1-4-1</td><td style = \"text-align: left;\">ACAAAAAAACCCGGTTGGTTTGTTTGCC</td><td style = \"text-align: right;\">1</td></tr><tr><td class = \"rowNumber\" style = \"font-weight: bold; text-align: right;\">22</td><td style = \"text-align: left;\">1-4-1-5-5-5-1-4-1</td><td style = \"text-align: left;\">ACAAAAAAACCGACCTGGTTTGTTTGCC</td><td style = \"text-align: right;\">1</td></tr><tr><td class = \"rowNumber\" style = \"font-weight: bold; text-align: right;\">23</td><td style = \"text-align: left;\">1-4-1-5-5-5-1-4-1</td><td style = \"text-align: left;\">ACAAAAAAACCGTTATGGTTTGTTTGCC</td><td style = \"text-align: right;\">1</td></tr><tr><td class = \"rowNumber\" style = \"font-weight: bold; text-align: right;\">24</td><td style = \"text-align: left;\">1-4-1-5-5-5-1-4-1</td><td style = \"text-align: left;\">ACAAAAAAACCCCACTGGTTTGTTTGCC</td><td style = \"text-align: right;\">1</td></tr><tr><td class = \"rowNumber\" style = \"font-weight: bold; text-align: right;\">25</td><td style = \"text-align: left;\">1-4-1-5-5-5-1-4-1</td><td style = \"text-align: left;\">ACAAAAAAACCAAGCTGGTTTGTTTGCC</td><td style = \"text-align: right;\">1</td></tr><tr><td class = \"rowNumber\" style = \"font-weight: bold; text-align: right;\">26</td><td style = \"text-align: left;\">1-4-1-5-5-5-1-4-1</td><td style = \"text-align: left;\">ACAAAAAAACCCTAATGGTTTGTTTGCC</td><td style = \"text-align: right;\">2</td></tr><tr><td class = \"rowNumber\" style = \"font-weight: bold; text-align: right;\">27</td><td style = \"text-align: left;\">1-4-1-5-5-5-1-4-1</td><td style = \"text-align: left;\">ACAAAAAAACCCCCCTGGTTTGTTTGCC</td><td style = \"text-align: right;\">1</td></tr><tr><td class = \"rowNumber\" style = \"font-weight: bold; text-align: right;\">28</td><td style = \"text-align: left;\">1-4-1-5-5-5-1-4-1</td><td style = \"text-align: left;\">ACAAAAAAACCCCCTTGGTTTGTTTGCC</td><td style = \"text-align: right;\">1</td></tr><tr><td class = \"rowNumber\" style = \"font-weight: bold; text-align: right;\">29</td><td style = \"text-align: left;\">1-4-1-5-5-5-1-4-1</td><td style = \"text-align: left;\">ACAAAAAAACCCCCGTGGTTTGTTTGCC</td><td style = \"text-align: right;\">1</td></tr><tr><td class = \"rowNumber\" style = \"font-weight: bold; text-align: right;\">30</td><td style = \"text-align: left;\">1-4-1-5-5-5-1-4-1</td><td style = \"text-align: left;\">ACAAAAAAACCCGGGTGGTTTGTTTGCC</td><td style = \"text-align: right;\">1</td></tr><tr><td class = \"rowNumber\" style = \"font-weight: bold; text-align: right;\">31</td><td style = \"text-align: left;\">1-4-1-5-5-5-1-4-1</td><td style = \"text-align: left;\">ACAAAAAAACCCGGATGGTTTGTTTGCC</td><td style = \"text-align: right;\">1</td></tr></tbody></table></div>"
      ],
      "text/latex": [
       "\\begin{tabular}{r|ccc}\n",
       "\t& LoopI\\_description & Sequence & Cluster\\\\\n",
       "\t\\hline\n",
       "\t& String & String & Int64\\\\\n",
       "\t\\hline\n",
       "\t1 & 1-4-1-5-5-5-1-4-1 & ACAAAAAAACCCTGGTGGTTTGTTTGCC & 1 \\\\\n",
       "\t2 & 1-4-1-5-5-5-1-4-1 & ACAAAAAAACCAAAATGGTTTGTTTGCC & 1 \\\\\n",
       "\t3 & 1-4-1-5-5-5-1-4-1 & ACAAAAAAACCCCGTTGGTTTGTTTGCC & 1 \\\\\n",
       "\t4 & 1-4-1-5-5-5-1-4-1 & ACAAAAAAACCATCATGGTTTGTTTGCC & 1 \\\\\n",
       "\t5 & 1-4-1-5-5-5-1-4-1 & ACAAAAAAACCTGTGTGGTTTGTTTGCC & 1 \\\\\n",
       "\t6 & 1-4-1-5-5-5-1-4-1 & ACAAAAAAACCTCAATGGTTTGTTTGCC & 1 \\\\\n",
       "\t7 & 1-4-1-5-5-5-1-4-1 & ACAAAAAAACCCTCTTGGTTTGTTTGCC & 1 \\\\\n",
       "\t8 & 1-4-1-5-5-5-1-4-1 & ACAAAAAAACCTCATTGGTTTGTTTGCC & 1 \\\\\n",
       "\t9 & 1-4-1-5-5-5-1-4-1 & ACAAAAAAACCACCGTGGTTTGTTTGCC & 1 \\\\\n",
       "\t10 & 1-4-1-5-5-5-1-4-1 & ACAAAAAAACCCCATTGGTTTGTTTGCC & 1 \\\\\n",
       "\t11 & 1-4-1-5-5-5-1-4-1 & ACAAAAAAACCCCTCTGGTTTGTTTGCC & 1 \\\\\n",
       "\t12 & 1-4-1-5-5-5-1-4-1 & ACAAAAAAACCTAAATGGTTTGTTTGCC & 1 \\\\\n",
       "\t13 & 1-4-1-5-5-5-1-4-1 & ACAAAAAAACCCTGTTGGTTTGTTTGCC & 1 \\\\\n",
       "\t14 & 1-4-1-5-5-5-1-4-1 & ACAAAAAAACCCACATGGTTTGTTTGCC & 1 \\\\\n",
       "\t15 & 1-4-1-5-5-5-1-4-1 & ACAAAAAAACCATGGTGGTTTGTTTGCC & 1 \\\\\n",
       "\t16 & 1-4-1-5-5-5-1-4-1 & ACAAAAAAACCAGAGTGGTTTGTTTGCC & 1 \\\\\n",
       "\t17 & 1-4-1-5-5-5-1-4-1 & ACAAAAAAACCGGAATGGTTTGTTTGCC & 1 \\\\\n",
       "\t18 & 1-4-1-5-5-5-1-4-1 & ACAAAAAAACCTCTCTGGTTTGTTTGCC & 1 \\\\\n",
       "\t19 & 1-4-1-5-5-5-1-4-1 & ACAAAAAAACCACTCTGGTTTGTTTGCC & 1 \\\\\n",
       "\t20 & 1-4-1-5-5-5-1-4-1 & ACAAAAAAACCCCTTTGGTTTGTTTGCC & 1 \\\\\n",
       "\t21 & 1-4-1-5-5-5-1-4-1 & ACAAAAAAACCCGGTTGGTTTGTTTGCC & 1 \\\\\n",
       "\t22 & 1-4-1-5-5-5-1-4-1 & ACAAAAAAACCGACCTGGTTTGTTTGCC & 1 \\\\\n",
       "\t23 & 1-4-1-5-5-5-1-4-1 & ACAAAAAAACCGTTATGGTTTGTTTGCC & 1 \\\\\n",
       "\t24 & 1-4-1-5-5-5-1-4-1 & ACAAAAAAACCCCACTGGTTTGTTTGCC & 1 \\\\\n",
       "\t25 & 1-4-1-5-5-5-1-4-1 & ACAAAAAAACCAAGCTGGTTTGTTTGCC & 1 \\\\\n",
       "\t26 & 1-4-1-5-5-5-1-4-1 & ACAAAAAAACCCTAATGGTTTGTTTGCC & 2 \\\\\n",
       "\t27 & 1-4-1-5-5-5-1-4-1 & ACAAAAAAACCCCCCTGGTTTGTTTGCC & 1 \\\\\n",
       "\t28 & 1-4-1-5-5-5-1-4-1 & ACAAAAAAACCCCCTTGGTTTGTTTGCC & 1 \\\\\n",
       "\t29 & 1-4-1-5-5-5-1-4-1 & ACAAAAAAACCCCCGTGGTTTGTTTGCC & 1 \\\\\n",
       "\t30 & 1-4-1-5-5-5-1-4-1 & ACAAAAAAACCCGGGTGGTTTGTTTGCC & 1 \\\\\n",
       "\t$\\dots$ & $\\dots$ & $\\dots$ & $\\dots$ \\\\\n",
       "\\end{tabular}\n"
      ],
      "text/plain": [
       "\u001b[1m31×3 DataFrame\u001b[0m\n",
       "\u001b[1m Row \u001b[0m│\u001b[1m LoopI_description \u001b[0m\u001b[1m Sequence                     \u001b[0m\u001b[1m Cluster \u001b[0m\n",
       "     │\u001b[90m String            \u001b[0m\u001b[90m String                       \u001b[0m\u001b[90m Int64   \u001b[0m\n",
       "─────┼──────────────────────────────────────────────────────────\n",
       "   1 │ 1-4-1-5-5-5-1-4-1  ACAAAAAAACCCTGGTGGTTTGTTTGCC        1\n",
       "   2 │ 1-4-1-5-5-5-1-4-1  ACAAAAAAACCAAAATGGTTTGTTTGCC        1\n",
       "   3 │ 1-4-1-5-5-5-1-4-1  ACAAAAAAACCCCGTTGGTTTGTTTGCC        1\n",
       "   4 │ 1-4-1-5-5-5-1-4-1  ACAAAAAAACCATCATGGTTTGTTTGCC        1\n",
       "   5 │ 1-4-1-5-5-5-1-4-1  ACAAAAAAACCTGTGTGGTTTGTTTGCC        1\n",
       "   6 │ 1-4-1-5-5-5-1-4-1  ACAAAAAAACCTCAATGGTTTGTTTGCC        1\n",
       "   7 │ 1-4-1-5-5-5-1-4-1  ACAAAAAAACCCTCTTGGTTTGTTTGCC        1\n",
       "   8 │ 1-4-1-5-5-5-1-4-1  ACAAAAAAACCTCATTGGTTTGTTTGCC        1\n",
       "   9 │ 1-4-1-5-5-5-1-4-1  ACAAAAAAACCACCGTGGTTTGTTTGCC        1\n",
       "  10 │ 1-4-1-5-5-5-1-4-1  ACAAAAAAACCCCATTGGTTTGTTTGCC        1\n",
       "  11 │ 1-4-1-5-5-5-1-4-1  ACAAAAAAACCCCTCTGGTTTGTTTGCC        1\n",
       "  ⋮  │         ⋮                       ⋮                   ⋮\n",
       "  22 │ 1-4-1-5-5-5-1-4-1  ACAAAAAAACCGACCTGGTTTGTTTGCC        1\n",
       "  23 │ 1-4-1-5-5-5-1-4-1  ACAAAAAAACCGTTATGGTTTGTTTGCC        1\n",
       "  24 │ 1-4-1-5-5-5-1-4-1  ACAAAAAAACCCCACTGGTTTGTTTGCC        1\n",
       "  25 │ 1-4-1-5-5-5-1-4-1  ACAAAAAAACCAAGCTGGTTTGTTTGCC        1\n",
       "  26 │ 1-4-1-5-5-5-1-4-1  ACAAAAAAACCCTAATGGTTTGTTTGCC        2\n",
       "  27 │ 1-4-1-5-5-5-1-4-1  ACAAAAAAACCCCCCTGGTTTGTTTGCC        1\n",
       "  28 │ 1-4-1-5-5-5-1-4-1  ACAAAAAAACCCCCTTGGTTTGTTTGCC        1\n",
       "  29 │ 1-4-1-5-5-5-1-4-1  ACAAAAAAACCCCCGTGGTTTGTTTGCC        1\n",
       "  30 │ 1-4-1-5-5-5-1-4-1  ACAAAAAAACCCGGGTGGTTTGTTTGCC        1\n",
       "  31 │ 1-4-1-5-5-5-1-4-1  ACAAAAAAACCCGGATGGTTTGTTTGCC        1\n",
       "\u001b[36m                                                 10 rows omitted\u001b[0m"
      ]
     },
     "metadata": {},
     "output_type": "display_data"
    },
    {
     "data": {
      "text/html": [
       "<div><div style = \"float: left;\"><span>31×3 DataFrame</span></div><div style = \"float: right;\"><span style = \"font-style: italic;\">6 rows omitted</span></div><div style = \"clear: both;\"></div></div><div class = \"data-frame\" style = \"overflow-x: scroll;\"><table class = \"data-frame\" style = \"margin-bottom: 6px;\"><thead><tr class = \"header\"><th class = \"rowNumber\" style = \"font-weight: bold; text-align: right;\">Row</th><th style = \"text-align: left;\">Cluster</th><th style = \"text-align: left;\">Sequence</th><th style = \"text-align: left;\">nrow</th></tr><tr class = \"subheader headerLastRow\"><th class = \"rowNumber\" style = \"font-weight: bold; text-align: right;\"></th><th title = \"Int64\" style = \"text-align: left;\">Int64</th><th title = \"String\" style = \"text-align: left;\">String</th><th title = \"Int64\" style = \"text-align: left;\">Int64</th></tr></thead><tbody><tr><td class = \"rowNumber\" style = \"font-weight: bold; text-align: right;\">1</td><td style = \"text-align: right;\">1</td><td style = \"text-align: left;\">ACAAAAAAACCCTGGTGGTTTGTTTGCC</td><td style = \"text-align: right;\">1</td></tr><tr><td class = \"rowNumber\" style = \"font-weight: bold; text-align: right;\">2</td><td style = \"text-align: right;\">1</td><td style = \"text-align: left;\">ACAAAAAAACCAAAATGGTTTGTTTGCC</td><td style = \"text-align: right;\">1</td></tr><tr><td class = \"rowNumber\" style = \"font-weight: bold; text-align: right;\">3</td><td style = \"text-align: right;\">1</td><td style = \"text-align: left;\">ACAAAAAAACCCCGTTGGTTTGTTTGCC</td><td style = \"text-align: right;\">1</td></tr><tr><td class = \"rowNumber\" style = \"font-weight: bold; text-align: right;\">4</td><td style = \"text-align: right;\">1</td><td style = \"text-align: left;\">ACAAAAAAACCATCATGGTTTGTTTGCC</td><td style = \"text-align: right;\">1</td></tr><tr><td class = \"rowNumber\" style = \"font-weight: bold; text-align: right;\">5</td><td style = \"text-align: right;\">1</td><td style = \"text-align: left;\">ACAAAAAAACCTGTGTGGTTTGTTTGCC</td><td style = \"text-align: right;\">1</td></tr><tr><td class = \"rowNumber\" style = \"font-weight: bold; text-align: right;\">6</td><td style = \"text-align: right;\">1</td><td style = \"text-align: left;\">ACAAAAAAACCTCAATGGTTTGTTTGCC</td><td style = \"text-align: right;\">1</td></tr><tr><td class = \"rowNumber\" style = \"font-weight: bold; text-align: right;\">7</td><td style = \"text-align: right;\">1</td><td style = \"text-align: left;\">ACAAAAAAACCCTCTTGGTTTGTTTGCC</td><td style = \"text-align: right;\">1</td></tr><tr><td class = \"rowNumber\" style = \"font-weight: bold; text-align: right;\">8</td><td style = \"text-align: right;\">1</td><td style = \"text-align: left;\">ACAAAAAAACCTCATTGGTTTGTTTGCC</td><td style = \"text-align: right;\">1</td></tr><tr><td class = \"rowNumber\" style = \"font-weight: bold; text-align: right;\">9</td><td style = \"text-align: right;\">1</td><td style = \"text-align: left;\">ACAAAAAAACCACCGTGGTTTGTTTGCC</td><td style = \"text-align: right;\">1</td></tr><tr><td class = \"rowNumber\" style = \"font-weight: bold; text-align: right;\">10</td><td style = \"text-align: right;\">1</td><td style = \"text-align: left;\">ACAAAAAAACCCCATTGGTTTGTTTGCC</td><td style = \"text-align: right;\">1</td></tr><tr><td class = \"rowNumber\" style = \"font-weight: bold; text-align: right;\">11</td><td style = \"text-align: right;\">1</td><td style = \"text-align: left;\">ACAAAAAAACCCCTCTGGTTTGTTTGCC</td><td style = \"text-align: right;\">1</td></tr><tr><td class = \"rowNumber\" style = \"font-weight: bold; text-align: right;\">12</td><td style = \"text-align: right;\">1</td><td style = \"text-align: left;\">ACAAAAAAACCTAAATGGTTTGTTTGCC</td><td style = \"text-align: right;\">1</td></tr><tr><td class = \"rowNumber\" style = \"font-weight: bold; text-align: right;\">13</td><td style = \"text-align: right;\">1</td><td style = \"text-align: left;\">ACAAAAAAACCCTGTTGGTTTGTTTGCC</td><td style = \"text-align: right;\">1</td></tr><tr><td style = \"text-align: right;\">&vellip;</td><td style = \"text-align: right;\">&vellip;</td><td style = \"text-align: right;\">&vellip;</td><td style = \"text-align: right;\">&vellip;</td></tr><tr><td class = \"rowNumber\" style = \"font-weight: bold; text-align: right;\">20</td><td style = \"text-align: right;\">1</td><td style = \"text-align: left;\">ACAAAAAAACCCCTTTGGTTTGTTTGCC</td><td style = \"text-align: right;\">1</td></tr><tr><td class = \"rowNumber\" style = \"font-weight: bold; text-align: right;\">21</td><td style = \"text-align: right;\">1</td><td style = \"text-align: left;\">ACAAAAAAACCCGGTTGGTTTGTTTGCC</td><td style = \"text-align: right;\">1</td></tr><tr><td class = \"rowNumber\" style = \"font-weight: bold; text-align: right;\">22</td><td style = \"text-align: right;\">1</td><td style = \"text-align: left;\">ACAAAAAAACCGACCTGGTTTGTTTGCC</td><td style = \"text-align: right;\">1</td></tr><tr><td class = \"rowNumber\" style = \"font-weight: bold; text-align: right;\">23</td><td style = \"text-align: right;\">1</td><td style = \"text-align: left;\">ACAAAAAAACCGTTATGGTTTGTTTGCC</td><td style = \"text-align: right;\">1</td></tr><tr><td class = \"rowNumber\" style = \"font-weight: bold; text-align: right;\">24</td><td style = \"text-align: right;\">1</td><td style = \"text-align: left;\">ACAAAAAAACCCCACTGGTTTGTTTGCC</td><td style = \"text-align: right;\">1</td></tr><tr><td class = \"rowNumber\" style = \"font-weight: bold; text-align: right;\">25</td><td style = \"text-align: right;\">1</td><td style = \"text-align: left;\">ACAAAAAAACCAAGCTGGTTTGTTTGCC</td><td style = \"text-align: right;\">1</td></tr><tr><td class = \"rowNumber\" style = \"font-weight: bold; text-align: right;\">26</td><td style = \"text-align: right;\">2</td><td style = \"text-align: left;\">ACAAAAAAACCCTAATGGTTTGTTTGCC</td><td style = \"text-align: right;\">1</td></tr><tr><td class = \"rowNumber\" style = \"font-weight: bold; text-align: right;\">27</td><td style = \"text-align: right;\">1</td><td style = \"text-align: left;\">ACAAAAAAACCCCCCTGGTTTGTTTGCC</td><td style = \"text-align: right;\">1</td></tr><tr><td class = \"rowNumber\" style = \"font-weight: bold; text-align: right;\">28</td><td style = \"text-align: right;\">1</td><td style = \"text-align: left;\">ACAAAAAAACCCCCTTGGTTTGTTTGCC</td><td style = \"text-align: right;\">1</td></tr><tr><td class = \"rowNumber\" style = \"font-weight: bold; text-align: right;\">29</td><td style = \"text-align: right;\">1</td><td style = \"text-align: left;\">ACAAAAAAACCCCCGTGGTTTGTTTGCC</td><td style = \"text-align: right;\">1</td></tr><tr><td class = \"rowNumber\" style = \"font-weight: bold; text-align: right;\">30</td><td style = \"text-align: right;\">1</td><td style = \"text-align: left;\">ACAAAAAAACCCGGGTGGTTTGTTTGCC</td><td style = \"text-align: right;\">1</td></tr><tr><td class = \"rowNumber\" style = \"font-weight: bold; text-align: right;\">31</td><td style = \"text-align: right;\">1</td><td style = \"text-align: left;\">ACAAAAAAACCCGGATGGTTTGTTTGCC</td><td style = \"text-align: right;\">1</td></tr></tbody></table></div>"
      ],
      "text/latex": [
       "\\begin{tabular}{r|ccc}\n",
       "\t& Cluster & Sequence & nrow\\\\\n",
       "\t\\hline\n",
       "\t& Int64 & String & Int64\\\\\n",
       "\t\\hline\n",
       "\t1 & 1 & ACAAAAAAACCCTGGTGGTTTGTTTGCC & 1 \\\\\n",
       "\t2 & 1 & ACAAAAAAACCAAAATGGTTTGTTTGCC & 1 \\\\\n",
       "\t3 & 1 & ACAAAAAAACCCCGTTGGTTTGTTTGCC & 1 \\\\\n",
       "\t4 & 1 & ACAAAAAAACCATCATGGTTTGTTTGCC & 1 \\\\\n",
       "\t5 & 1 & ACAAAAAAACCTGTGTGGTTTGTTTGCC & 1 \\\\\n",
       "\t6 & 1 & ACAAAAAAACCTCAATGGTTTGTTTGCC & 1 \\\\\n",
       "\t7 & 1 & ACAAAAAAACCCTCTTGGTTTGTTTGCC & 1 \\\\\n",
       "\t8 & 1 & ACAAAAAAACCTCATTGGTTTGTTTGCC & 1 \\\\\n",
       "\t9 & 1 & ACAAAAAAACCACCGTGGTTTGTTTGCC & 1 \\\\\n",
       "\t10 & 1 & ACAAAAAAACCCCATTGGTTTGTTTGCC & 1 \\\\\n",
       "\t11 & 1 & ACAAAAAAACCCCTCTGGTTTGTTTGCC & 1 \\\\\n",
       "\t12 & 1 & ACAAAAAAACCTAAATGGTTTGTTTGCC & 1 \\\\\n",
       "\t13 & 1 & ACAAAAAAACCCTGTTGGTTTGTTTGCC & 1 \\\\\n",
       "\t14 & 1 & ACAAAAAAACCCACATGGTTTGTTTGCC & 1 \\\\\n",
       "\t15 & 1 & ACAAAAAAACCATGGTGGTTTGTTTGCC & 1 \\\\\n",
       "\t16 & 1 & ACAAAAAAACCAGAGTGGTTTGTTTGCC & 1 \\\\\n",
       "\t17 & 1 & ACAAAAAAACCGGAATGGTTTGTTTGCC & 1 \\\\\n",
       "\t18 & 1 & ACAAAAAAACCTCTCTGGTTTGTTTGCC & 1 \\\\\n",
       "\t19 & 1 & ACAAAAAAACCACTCTGGTTTGTTTGCC & 1 \\\\\n",
       "\t20 & 1 & ACAAAAAAACCCCTTTGGTTTGTTTGCC & 1 \\\\\n",
       "\t21 & 1 & ACAAAAAAACCCGGTTGGTTTGTTTGCC & 1 \\\\\n",
       "\t22 & 1 & ACAAAAAAACCGACCTGGTTTGTTTGCC & 1 \\\\\n",
       "\t23 & 1 & ACAAAAAAACCGTTATGGTTTGTTTGCC & 1 \\\\\n",
       "\t24 & 1 & ACAAAAAAACCCCACTGGTTTGTTTGCC & 1 \\\\\n",
       "\t25 & 1 & ACAAAAAAACCAAGCTGGTTTGTTTGCC & 1 \\\\\n",
       "\t26 & 2 & ACAAAAAAACCCTAATGGTTTGTTTGCC & 1 \\\\\n",
       "\t27 & 1 & ACAAAAAAACCCCCCTGGTTTGTTTGCC & 1 \\\\\n",
       "\t28 & 1 & ACAAAAAAACCCCCTTGGTTTGTTTGCC & 1 \\\\\n",
       "\t29 & 1 & ACAAAAAAACCCCCGTGGTTTGTTTGCC & 1 \\\\\n",
       "\t30 & 1 & ACAAAAAAACCCGGGTGGTTTGTTTGCC & 1 \\\\\n",
       "\t$\\dots$ & $\\dots$ & $\\dots$ & $\\dots$ \\\\\n",
       "\\end{tabular}\n"
      ],
      "text/plain": [
       "\u001b[1m31×3 DataFrame\u001b[0m\n",
       "\u001b[1m Row \u001b[0m│\u001b[1m Cluster \u001b[0m\u001b[1m Sequence                     \u001b[0m\u001b[1m nrow  \u001b[0m\n",
       "     │\u001b[90m Int64   \u001b[0m\u001b[90m String                       \u001b[0m\u001b[90m Int64 \u001b[0m\n",
       "─────┼──────────────────────────────────────────────\n",
       "   1 │       1  ACAAAAAAACCCTGGTGGTTTGTTTGCC      1\n",
       "   2 │       1  ACAAAAAAACCAAAATGGTTTGTTTGCC      1\n",
       "   3 │       1  ACAAAAAAACCCCGTTGGTTTGTTTGCC      1\n",
       "   4 │       1  ACAAAAAAACCATCATGGTTTGTTTGCC      1\n",
       "   5 │       1  ACAAAAAAACCTGTGTGGTTTGTTTGCC      1\n",
       "   6 │       1  ACAAAAAAACCTCAATGGTTTGTTTGCC      1\n",
       "   7 │       1  ACAAAAAAACCCTCTTGGTTTGTTTGCC      1\n",
       "   8 │       1  ACAAAAAAACCTCATTGGTTTGTTTGCC      1\n",
       "   9 │       1  ACAAAAAAACCACCGTGGTTTGTTTGCC      1\n",
       "  10 │       1  ACAAAAAAACCCCATTGGTTTGTTTGCC      1\n",
       "  11 │       1  ACAAAAAAACCCCTCTGGTTTGTTTGCC      1\n",
       "  ⋮  │    ⋮                  ⋮                  ⋮\n",
       "  22 │       1  ACAAAAAAACCGACCTGGTTTGTTTGCC      1\n",
       "  23 │       1  ACAAAAAAACCGTTATGGTTTGTTTGCC      1\n",
       "  24 │       1  ACAAAAAAACCCCACTGGTTTGTTTGCC      1\n",
       "  25 │       1  ACAAAAAAACCAAGCTGGTTTGTTTGCC      1\n",
       "  26 │       2  ACAAAAAAACCCTAATGGTTTGTTTGCC      1\n",
       "  27 │       1  ACAAAAAAACCCCCCTGGTTTGTTTGCC      1\n",
       "  28 │       1  ACAAAAAAACCCCCTTGGTTTGTTTGCC      1\n",
       "  29 │       1  ACAAAAAAACCCCCGTGGTTTGTTTGCC      1\n",
       "  30 │       1  ACAAAAAAACCCGGGTGGTTTGTTTGCC      1\n",
       "  31 │       1  ACAAAAAAACCCGGATGGTTTGTTTGCC      1\n",
       "\u001b[36m                                     10 rows omitted\u001b[0m"
      ]
     },
     "metadata": {},
     "output_type": "display_data"
    }
   ],
   "source": [
    "using Clustering\n",
    "using Distances\n",
    "using DataFrames\n",
    "\n",
    "# Define the hamming distance function\n",
    "function my_hamming(sequence1::String, sequence2::String)\n",
    "    return sum(a != b for (a, b) in zip(sequence1, sequence2))\n",
    "end\n",
    "\n",
    "function cluster_sequences(sequences::Vector{String}, distance_threshold::Int, structure::String)\n",
    "    n = length(sequences)\n",
    "\n",
    "    # Calculate pairwise Hamming distances and create a distance matrix\n",
    "    distance_matrix = pairwise(my_hamming, sequences, sequences)\n",
    "\n",
    "    # Convert the distance matrix to a dissimilarity matrix\n",
    "    dissimilarity_matrix = Distances.pairwise(Distances.Hamming(), sequences)\n",
    "\n",
    "    # Perform hierarchical clustering\n",
    "    result = hclust(dissimilarity_matrix)\n",
    "\n",
    "    # Cut the dendrogram to obtain clusters\n",
    "    clusters = cutree(result, k=distance_threshold + 1)  # +1 because cutree requires k ≥ 1\n",
    "\n",
    "    # Create a DataFrame to store the clustering result\n",
    "    df = DataFrame(LoopI_description = Structure, Sequence = sequences, Cluster = clusters)\n",
    "\n",
    "    # Create a count table\n",
    "    count_table = combine(groupby(df, [:Cluster, :Sequence]), nrow)\n",
    "\n",
    "    # Write count table to CSV\n",
    "    #CSV.write(\"($structure)_count_table.csv\", count_table)\n",
    "\n",
    "    # Iterate over clusters and write sequences to FASTA files\n",
    "    #for cluster_id in 1:maximum(clusters)\n",
    "     #   cluster_sequences = df[df.Cluster .== cluster_id, :].Sequence\n",
    "      #  fasta_content = join(\">sequence_$i\\n$s\\n\" for (i, s) in enumerate(cluster_sequences))\n",
    "       # write(\"($structure)_cluster_$cluster_id.fasta\", fasta_content)\n",
    "    #end\n",
    "\n",
    "    return df, count_table\n",
    "end\n",
    "\n",
    "Structure = \"1-4-1-5-5-5-1-4-1\"\n",
    "LongestLoopAnalysis = filter(:Loop1_description => n -> n == Structure, lib_StructureAnalysis)\n",
    "sort!(LongestLoopAnalysis, [:Count])\n",
    "\n",
    "# Replace this with your actual sequence data\n",
    "sequences = LongestLoopAnalysis.LoopI\n",
    "\n",
    "# Set a threshold for clustering\n",
    "distance_threshold = 1\n",
    "\n",
    "# Cluster the sequences, create FASTA files, and generate count table\n",
    "result_df, count_table = cluster_sequences(sequences, distance_threshold, Structure)\n",
    "\n",
    "# Display the DataFrame and count table\n",
    "display(result_df)\n",
    "display(count_table)\n"
   ]
  },
  {
   "cell_type": "code",
   "execution_count": null,
   "id": "817a9b0a-086b-4236-85b8-0d4313545918",
   "metadata": {},
   "outputs": [],
   "source": []
  },
  {
   "cell_type": "code",
   "execution_count": null,
   "id": "5daf3bd9-53e2-4dde-9568-ed54db2444cb",
   "metadata": {},
   "outputs": [],
   "source": []
  }
 ],
 "metadata": {
  "kernelspec": {
   "display_name": "Julia 1.10.2",
   "language": "julia",
   "name": "julia-1.10"
  },
  "language_info": {
   "file_extension": ".jl",
   "mimetype": "application/julia",
   "name": "julia",
   "version": "1.10.2"
  }
 },
 "nbformat": 4,
 "nbformat_minor": 5
}
